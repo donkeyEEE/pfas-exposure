{
 "cells": [
  {
   "cell_type": "code",
   "execution_count": 16,
   "metadata": {},
   "outputs": [],
   "source": [
    "import pandas as pd\n",
    "import numpy as np\n",
    "from tqdm import tqdm\n",
    "import warnings\n",
    "# 禁用所有警告\n",
    "warnings.filterwarnings(\"ignore\")"
   ]
  },
  {
   "cell_type": "code",
   "execution_count": 17,
   "metadata": {},
   "outputs": [
    {
     "name": "stdout",
     "output_type": "stream",
     "text": [
      "(33, 212)\n"
     ]
    },
    {
     "data": {
      "application/vnd.microsoft.datawrangler.viewer.v0+json": {
       "columns": [
        {
         "name": "index",
         "rawType": "int64",
         "type": "integer"
        },
        {
         "name": "Anchovies",
         "rawType": "float64",
         "type": "float"
        },
        {
         "name": "Cod-likes",
         "rawType": "float64",
         "type": "float"
        },
        {
         "name": "Flatfishes",
         "rawType": "float64",
         "type": "float"
        },
        {
         "name": "Herring-likes",
         "rawType": "float64",
         "type": "float"
        },
        {
         "name": "Perch-likes",
         "rawType": "float64",
         "type": "float"
        },
        {
         "name": "Salmon, smelts, etc",
         "rawType": "float64",
         "type": "float"
        },
        {
         "name": "Scorpionfishes",
         "rawType": "float64",
         "type": "float"
        },
        {
         "name": "Sharks & rays",
         "rawType": "float64",
         "type": "float"
        },
        {
         "name": "Tuna & billfishes",
         "rawType": "int64",
         "type": "integer"
        },
        {
         "name": "Other fishes & inverts",
         "rawType": "float64",
         "type": "float"
        }
       ],
       "ref": "ab4b0fe1-c484-405f-8736-c8bcf1866e0e",
       "rows": [
        [
         "0",
         "30242.0",
         "30250.0",
         "30221.0",
         "30240.0",
         "30244.0",
         "30212.0",
         null,
         "30265.0",
         "30194",
         null
        ],
        [
         "1",
         null,
         "30251.0",
         "30222.0",
         "30241.0",
         "30245.0",
         "30213.0",
         null,
         "30281.0",
         "30195",
         null
        ],
        [
         "2",
         null,
         "30252.0",
         "30223.0",
         "30243.0",
         "30246.0",
         "30214.0",
         null,
         "30282.0",
         "30231",
         null
        ],
        [
         "3",
         null,
         "30253.0",
         "30224.0",
         "30261.0",
         "30264.0",
         "30219.0",
         null,
         "30375.0",
         "30232",
         null
        ],
        [
         "4",
         null,
         "30254.0",
         "30229.0",
         "30350.0",
         "30284.0",
         "30310.0",
         null,
         "30381.0",
         "30233",
         null
        ]
       ],
       "shape": {
        "columns": 10,
        "rows": 5
       }
      },
      "text/html": [
       "<div>\n",
       "<style scoped>\n",
       "    .dataframe tbody tr th:only-of-type {\n",
       "        vertical-align: middle;\n",
       "    }\n",
       "\n",
       "    .dataframe tbody tr th {\n",
       "        vertical-align: top;\n",
       "    }\n",
       "\n",
       "    .dataframe thead th {\n",
       "        text-align: right;\n",
       "    }\n",
       "</style>\n",
       "<table border=\"1\" class=\"dataframe\">\n",
       "  <thead>\n",
       "    <tr style=\"text-align: right;\">\n",
       "      <th></th>\n",
       "      <th>Anchovies</th>\n",
       "      <th>Cod-likes</th>\n",
       "      <th>Flatfishes</th>\n",
       "      <th>Herring-likes</th>\n",
       "      <th>Perch-likes</th>\n",
       "      <th>Salmon, smelts, etc</th>\n",
       "      <th>Scorpionfishes</th>\n",
       "      <th>Sharks &amp; rays</th>\n",
       "      <th>Tuna &amp; billfishes</th>\n",
       "      <th>Other fishes &amp; inverts</th>\n",
       "    </tr>\n",
       "  </thead>\n",
       "  <tbody>\n",
       "    <tr>\n",
       "      <th>0</th>\n",
       "      <td>30242.0</td>\n",
       "      <td>30250.0</td>\n",
       "      <td>30221.0</td>\n",
       "      <td>30240.0</td>\n",
       "      <td>30244.0</td>\n",
       "      <td>30212.0</td>\n",
       "      <td>NaN</td>\n",
       "      <td>30265.0</td>\n",
       "      <td>30194</td>\n",
       "      <td>NaN</td>\n",
       "    </tr>\n",
       "    <tr>\n",
       "      <th>1</th>\n",
       "      <td>NaN</td>\n",
       "      <td>30251.0</td>\n",
       "      <td>30222.0</td>\n",
       "      <td>30241.0</td>\n",
       "      <td>30245.0</td>\n",
       "      <td>30213.0</td>\n",
       "      <td>NaN</td>\n",
       "      <td>30281.0</td>\n",
       "      <td>30195</td>\n",
       "      <td>NaN</td>\n",
       "    </tr>\n",
       "    <tr>\n",
       "      <th>2</th>\n",
       "      <td>NaN</td>\n",
       "      <td>30252.0</td>\n",
       "      <td>30223.0</td>\n",
       "      <td>30243.0</td>\n",
       "      <td>30246.0</td>\n",
       "      <td>30214.0</td>\n",
       "      <td>NaN</td>\n",
       "      <td>30282.0</td>\n",
       "      <td>30231</td>\n",
       "      <td>NaN</td>\n",
       "    </tr>\n",
       "    <tr>\n",
       "      <th>3</th>\n",
       "      <td>NaN</td>\n",
       "      <td>30253.0</td>\n",
       "      <td>30224.0</td>\n",
       "      <td>30261.0</td>\n",
       "      <td>30264.0</td>\n",
       "      <td>30219.0</td>\n",
       "      <td>NaN</td>\n",
       "      <td>30375.0</td>\n",
       "      <td>30232</td>\n",
       "      <td>NaN</td>\n",
       "    </tr>\n",
       "    <tr>\n",
       "      <th>4</th>\n",
       "      <td>NaN</td>\n",
       "      <td>30254.0</td>\n",
       "      <td>30229.0</td>\n",
       "      <td>30350.0</td>\n",
       "      <td>30284.0</td>\n",
       "      <td>30310.0</td>\n",
       "      <td>NaN</td>\n",
       "      <td>30381.0</td>\n",
       "      <td>30233</td>\n",
       "      <td>NaN</td>\n",
       "    </tr>\n",
       "  </tbody>\n",
       "</table>\n",
       "</div>"
      ],
      "text/plain": [
       "   Anchovies  Cod-likes  Flatfishes  Herring-likes  Perch-likes  \\\n",
       "0    30242.0    30250.0     30221.0        30240.0      30244.0   \n",
       "1        NaN    30251.0     30222.0        30241.0      30245.0   \n",
       "2        NaN    30252.0     30223.0        30243.0      30246.0   \n",
       "3        NaN    30253.0     30224.0        30261.0      30264.0   \n",
       "4        NaN    30254.0     30229.0        30350.0      30284.0   \n",
       "\n",
       "   Salmon, smelts, etc  Scorpionfishes  Sharks & rays  Tuna & billfishes  \\\n",
       "0              30212.0             NaN        30265.0              30194   \n",
       "1              30213.0             NaN        30281.0              30195   \n",
       "2              30214.0             NaN        30282.0              30231   \n",
       "3              30219.0             NaN        30375.0              30232   \n",
       "4              30310.0             NaN        30381.0              30233   \n",
       "\n",
       "   Other fishes & inverts  \n",
       "0                     NaN  \n",
       "1                     NaN  \n",
       "2                     NaN  \n",
       "3                     NaN  \n",
       "4                     NaN  "
      ]
     },
     "execution_count": 17,
     "metadata": {},
     "output_type": "execute_result"
    }
   ],
   "source": [
    "df = pd.read_excel('EDI-Family.xlsx',index_col = 0)\n",
    "C_df = pd.read_excel(\"data\\Concentration in Biota.xlsx\")\n",
    "P_df =pd.read_excel(\"data\\Production.xlsx\",index_col=0).fillna(0) # 无对应鱼种的捕捞数据，视为0\n",
    "print(P_df.shape)\n",
    "P_df.head()\n",
    "# P_df.isna().sum()\n",
    "code_df =  pd.read_excel(\"data\\Meaning of Code.xlsx\")\n",
    "W_c_df =pd.read_excel('Country-Family-Weight.xlsx',index_col=0,header=[0,1])\n",
    "W_c_E_code_df = pd.read_excel('Export-Weight.xlsx',index_col=0,header=[0,1])\n",
    "pop_df = pd.read_excel(\"data\\Population.xlsx\",index_col=0,names=['pop'])\n",
    "code_family = pd.read_excel(\"data\\Code-Family.xlsx\")\n",
    "code_family.head()"
   ]
  },
  {
   "cell_type": "code",
   "execution_count": 18,
   "metadata": {},
   "outputs": [
    {
     "name": "stdout",
     "output_type": "stream",
     "text": [
      "Index([30194, 30195, 30212, 30213, 30214, 30219, 30221, 30222, 30223, 30224,\n",
      "       ...\n",
      "       30481, 30483, 30484, 30486, 30487, 30488, 30491, 30495, 30496, 30497],\n",
      "      dtype='int64', length=111)\n",
      "['PFBS' 'PFDA' 'PFHpA' 'PFHxA' 'PFHxS' 'PFNA' 'PFOA' 'PFOS' 'PFUnDA']\n",
      "9\n",
      "33\n"
     ]
    }
   ],
   "source": [
    "# 变量初始化\n",
    "chem_df_lis = []\n",
    "\n",
    "code_lis = code_df.columns\n",
    "print(code_lis)\n",
    "C_fami = ['mean','p025','p975']\n",
    "chem_lis = np.unique(C_df.Chemical)\n",
    "\n",
    "pop_df = pd.read_excel(\"data\\Population.xlsx\",index_col=0,names=['pop'])\n",
    "#country_lis = np.unique(C_df.Country.to_list())\n",
    "country_lis = pop_df.index.to_list()\n",
    "family_lis = np.unique(W_c_df.columns.get_level_values(0).to_list())\n",
    "print(chem_lis)\n",
    "print(chem_lis.size)\n",
    "print(len(country_lis))"
   ]
  },
  {
   "cell_type": "code",
   "execution_count": 19,
   "metadata": {},
   "outputs": [],
   "source": [
    "def init_data():\n",
    "    dic ={}\n",
    "    for _c in country_lis:\n",
    "        dic[_c] =[]\n",
    "    return dic"
   ]
  },
  {
   "cell_type": "code",
   "execution_count": 20,
   "metadata": {},
   "outputs": [
    {
     "name": "stderr",
     "output_type": "stream",
     "text": [
      "100%|██████████| 33/33 [00:20<00:00,  1.59it/s]\n",
      "100%|██████████| 33/33 [00:42<00:00,  1.27s/it]\n",
      "100%|██████████| 33/33 [00:39<00:00,  1.21s/it]\n",
      "100%|██████████| 33/33 [00:40<00:00,  1.23s/it]\n",
      "100%|██████████| 33/33 [00:41<00:00,  1.26s/it]\n",
      "100%|██████████| 33/33 [00:38<00:00,  1.17s/it]\n",
      "100%|██████████| 33/33 [00:31<00:00,  1.04it/s]\n",
      "100%|██████████| 33/33 [00:37<00:00,  1.15s/it]\n",
      "100%|██████████| 33/33 [00:39<00:00,  1.21s/it]\n"
     ]
    }
   ],
   "source": [
    "from tqdm import tqdm\n",
    "for _chem in chem_lis:\n",
    "    W_c_df =pd.read_excel('Country-Family-Weight.xlsx',\n",
    "                        index_col=0,header=[0,1],sheet_name=_chem)\n",
    "    W_c_E_code_df = pd.read_excel('Export-Weight.xlsx',\n",
    "                                index_col=0,header=[0,1],sheet_name=_chem)\n",
    "\n",
    "    excel_writer = pd.ExcelWriter(f'EDI-corresponding-to-the-trade_{_chem}.xlsx', engine='xlsxwriter')\n",
    "\n",
    "    pop_df = pd.read_excel(\"data\\Population.xlsx\",index_col=0,names=['pop'])\n",
    "    dic_mean = init_data()\n",
    "    dic_p025 = init_data()\n",
    "    dic_p975 = init_data()\n",
    "    for _c in tqdm(country_lis):\n",
    "        _pop = pop_df.loc[_c,'pop']\n",
    "        W_c_A_Import_df = pd.read_excel(f'Import-Weight-{_chem}.xlsx',\n",
    "                                    index_col=0,header=[0,1],sheet_name=_c)\n",
    "        \n",
    "        for _c_2 in country_lis:\n",
    "            if _c == _c_2:\n",
    "                _mean = 0\n",
    "                _p025 = 0\n",
    "                _p975 = 0\n",
    "                for i in range(len(family_lis)):\n",
    "                    _mean += W_c_df.loc[_c,(family_lis[i],C_fami[0])]\n",
    "                    _p025 += W_c_df.loc[_c,(family_lis[i],C_fami[1])]\n",
    "                    _p975 += W_c_df.loc[_c,(family_lis[i],C_fami[2])]  \n",
    "                for i in range(len(code_lis)):\n",
    "                    _mean -= W_c_E_code_df.loc[_c,(code_lis[i],C_fami[0])]\n",
    "                    _p025 -= W_c_E_code_df.loc[_c,(code_lis[i],C_fami[1])]\n",
    "                    _p975 -= W_c_E_code_df.loc[_c,(code_lis[i],C_fami[2])]\n",
    "                dic_mean[_c].append(_mean/(365*65*_pop))\n",
    "                dic_p025[_c].append(_p025/(365*65*_pop))\n",
    "                dic_p975[_c].append(_p975/(365*65*_pop))\n",
    "            else:\n",
    "                _mean = 0\n",
    "                _p025 = 0\n",
    "                _p975 = 0\n",
    "                for i in range(len(code_lis)):\n",
    "                    #if _c == 'Canada' and _c_2 == 'United States of America' and W_c_A_Import_df.loc[_c_2,(code_lis[i],C_fami[0])] != 0 :\n",
    "                    #    print(f'mean{_mean} + {W_c_A_Import_df.loc[_c_2,(code_lis[i],C_fami[0])]} = {W_c_A_Import_df.loc[_c_2,(code_lis[i],C_fami[0])]+_mean} ')\n",
    "                    _mean += W_c_A_Import_df.loc[_c_2,(code_lis[i],C_fami[0])]\n",
    "                    _p025 += W_c_A_Import_df.loc[_c_2,(code_lis[i],C_fami[1])]\n",
    "                    _p975 += W_c_A_Import_df.loc[_c_2,(code_lis[i],C_fami[2])]\n",
    "                dic_mean[_c].append(_mean/(365*65*_pop))\n",
    "                dic_p025[_c].append(_p025/(365*65*_pop))\n",
    "                dic_p975[_c].append(_p975/(365*65*_pop))\n",
    "                #if _c == 'Canada' and _c_2 == 'United States of America' :\n",
    "                #        print(f'{_mean/(365*65*_pop)}')\n",
    "    df_mean = pd.DataFrame(dic_mean,columns=country_lis,index=country_lis).T\n",
    "    df_p025 = pd.DataFrame(dic_p025,columns=country_lis,index=country_lis).T\n",
    "    df_p975 = pd.DataFrame(dic_p975,columns=country_lis,index=country_lis).T\n",
    "\n",
    "    df_mean.to_excel(excel_writer,sheet_name='MEAN',index=True)\n",
    "    df_p025.to_excel(excel_writer,sheet_name='p025',index=True)\n",
    "    df_p975.to_excel(excel_writer,sheet_name='p975',index=True)\n",
    "\n",
    "    excel_writer.close()"
   ]
  },
  {
   "cell_type": "code",
   "execution_count": 21,
   "metadata": {},
   "outputs": [],
   "source": [
    "###############################\n",
    "###############################"
   ]
  },
  {
   "cell_type": "code",
   "execution_count": 22,
   "metadata": {},
   "outputs": [],
   "source": [
    "excel_writer = pd.ExcelWriter(f'EDI-Family-NO Trade.xlsx', engine='xlsxwriter')\n",
    "\n",
    "for _chem in chem_lis:\n",
    "    W_c_f_df = pd.read_excel(\"Country-Family-Weight.xlsx\",index_col=0,header=[0,1],sheet_name=_chem)\n",
    "    pop_df = pd.read_excel(\"data\\\\Population.xlsx\",index_col=0,names=['pop'])\n",
    "    _df = W_c_f_df.copy()\n",
    "\n",
    "    for _family in np.unique(W_c_f_df.columns.get_level_values(0).tolist()):\n",
    "        for c_type in C_fami:\n",
    "            _lis =[]\n",
    "            W_c_arr = W_c_f_df[(_family,c_type)]\n",
    "            \n",
    "            for i in range(len(W_c_arr)):\n",
    "                _pop = pop_df.loc[W_c_f_df.index[i],'pop']\n",
    "                _lis.append(W_c_arr[i]/(365*65*_pop))\n",
    "            _df[(_family,c_type)] = _lis\n",
    "    _df.to_excel(excel_writer,sheet_name=_chem,index=True)\n",
    "excel_writer.close()"
   ]
  },
  {
   "cell_type": "code",
   "execution_count": 23,
   "metadata": {},
   "outputs": [],
   "source": [
    "####################################"
   ]
  },
  {
   "cell_type": "code",
   "execution_count": 24,
   "metadata": {},
   "outputs": [],
   "source": [
    "##################################"
   ]
  },
  {
   "cell_type": "code",
   "execution_count": 25,
   "metadata": {},
   "outputs": [],
   "source": [
    "###############################"
   ]
  },
  {
   "cell_type": "code",
   "execution_count": 26,
   "metadata": {},
   "outputs": [
    {
     "name": "stderr",
     "output_type": "stream",
     "text": [
      "100%|██████████| 10/10 [05:05<00:00, 30.57s/it]\n",
      "100%|██████████| 10/10 [04:51<00:00, 29.13s/it]\n",
      "100%|██████████| 10/10 [04:49<00:00, 28.90s/it]\n",
      "100%|██████████| 10/10 [04:53<00:00, 29.32s/it]\n",
      "100%|██████████| 10/10 [04:40<00:00, 28.09s/it]\n",
      "100%|██████████| 10/10 [04:47<00:00, 28.80s/it]\n",
      "100%|██████████| 10/10 [04:56<00:00, 29.65s/it]\n",
      "100%|██████████| 10/10 [05:20<00:00, 32.02s/it]\n",
      "100%|██████████| 10/10 [05:19<00:00, 31.94s/it]\n"
     ]
    }
   ],
   "source": [
    "excel_writer = pd.ExcelWriter('EDI-Family-Negative-Process.xlsx', engine='xlsxwriter')\n",
    "for _chem in chem_lis: \n",
    "    code_family = pd.read_excel(\"data\\Code-Family.xlsx\")\n",
    "    W_c_df =pd.read_excel('Country-Family-Weight.xlsx',index_col=0,header=[0,1],\n",
    "                        sheet_name=_chem)\n",
    "    W_c_E_code_df = pd.read_excel('Export-Weight.xlsx',index_col=0,header=[0,1],\n",
    "                                sheet_name=_chem)\n",
    "    pop_df = pd.read_excel(\"data\\Population.xlsx\",index_col=0,names=['pop'])\n",
    "\n",
    "    _df = W_c_df.copy()\n",
    "    for _family in tqdm(np.unique(W_c_df.columns.get_level_values(0).to_list())):\n",
    "        code_in_family = code_family[_family]\n",
    "        for _c_type in C_fami:\n",
    "            _W_c_arr = W_c_df[(_family,_c_type)]\n",
    "            _lis = []\n",
    "            \n",
    "            for i in range(len(_df.index)):\n",
    "                _W_c = _W_c_arr[i]\n",
    "                \n",
    "                #if _family =='Salmonidae 鲑科' and _df.index[i] =='Canada' and _chem =='PFOA':\n",
    "                #    print(f'W_C_{_c_type} = {_W_c}')\n",
    "                    \n",
    "                for _code in code_in_family:\n",
    "                    if np.isnan(_code):\n",
    "                        continue\n",
    "                    #_code = '0'+str(int(_code))\n",
    "                    _we = W_c_E_code_df.loc[(_df.index[i],(_code,_c_type))]\n",
    "                    _W_c -= _we\n",
    "                    #if _family =='Salmonidae 鲑科' and _df.index[i] =='Canada' \\\n",
    "                    #    and _chem =='PFOS' and _we!=0 and _c_type == C_fami[2]:\n",
    "                    #    print(_code)\n",
    "                    #    print(f'W_C_{_c_type}- {_we}  ={_W_c}')\n",
    "                if _W_c < 0 :\n",
    "                    _W_c = 0\n",
    "                W_c_A_Import_df = pd.read_excel(f'Import-Weight-{_chem}.xlsx',\n",
    "                        index_col=0,header=[0,1],\n",
    "                        sheet_name=_df.index[i])\n",
    "                \n",
    "                for _code in code_in_family:\n",
    "                    if np.isnan(_code):\n",
    "                        continue\n",
    "                    for _x in W_c_A_Import_df[(_code,_c_type)]:\n",
    "                        _W_c+=_x\n",
    "                        \n",
    "                _pop= pop_df.loc[_df.index[i],'pop']\n",
    "                Weight = 65 # 成年人体重kg                    \n",
    "                _lis.append((_W_c)/(365*_pop*Weight))\n",
    "                \n",
    "            _df[(_family,_c_type)] = _lis\n",
    "    \n",
    "    _df.to_excel(excel_writer,sheet_name=_chem,index=True)\n",
    "excel_writer.close()"
   ]
  },
  {
   "cell_type": "code",
   "execution_count": 31,
   "metadata": {},
   "outputs": [
    {
     "data": {
      "text/plain": [
       "10"
      ]
     },
     "execution_count": 31,
     "metadata": {},
     "output_type": "execute_result"
    }
   ],
   "source": [
    "code_family.columns.__len__()"
   ]
  },
  {
   "cell_type": "code",
   "execution_count": 28,
   "metadata": {},
   "outputs": [],
   "source": [
    "###########\n",
    "###########\n",
    "###########"
   ]
  },
  {
   "cell_type": "code",
   "execution_count": 29,
   "metadata": {},
   "outputs": [
    {
     "name": "stderr",
     "output_type": "stream",
     "text": [
      "100%|██████████| 33/33 [00:43<00:00,  1.33s/it]\n",
      "100%|██████████| 33/33 [00:43<00:00,  1.33s/it]\n",
      "100%|██████████| 33/33 [00:44<00:00,  1.33s/it]\n",
      "100%|██████████| 33/33 [00:40<00:00,  1.22s/it]\n",
      "100%|██████████| 33/33 [00:37<00:00,  1.13s/it]\n",
      "100%|██████████| 33/33 [00:37<00:00,  1.12s/it]\n",
      "100%|██████████| 33/33 [00:36<00:00,  1.12s/it]\n",
      "100%|██████████| 33/33 [00:36<00:00,  1.12s/it]\n",
      "100%|██████████| 33/33 [00:36<00:00,  1.11s/it]\n"
     ]
    }
   ],
   "source": [
    "from tqdm import tqdm\n",
    "code_family = pd.read_excel(\"data\\Code-Family.xlsx\")\n",
    "def relu(a):\n",
    "    if a <0 :\n",
    "        return 0\n",
    "    else:\n",
    "        return a\n",
    "for _chem in chem_lis:\n",
    "    W_c_df =pd.read_excel('Country-Family-Weight.xlsx',\n",
    "                        index_col=0,header=[0,1],sheet_name=_chem)\n",
    "    W_c_E_code_df = pd.read_excel('Export-Weight.xlsx',\n",
    "                                index_col=0,header=[0,1],sheet_name=_chem)\n",
    "\n",
    "    excel_writer = pd.ExcelWriter(f'EDI-corresponding-to-the-trade_{_chem}_Negative-Process.xlsx', engine='xlsxwriter')\n",
    "    dic_mean = init_data()\n",
    "    dic_p025 = init_data()\n",
    "    dic_p975 = init_data()\n",
    "    for _c in tqdm(country_lis):\n",
    "        _pop = pop_df.loc[_c,'pop']\n",
    "        W_c_A_Import_df = pd.read_excel(f'Import-Weight-{_chem}.xlsx',\n",
    "                                    index_col=0,header=[0,1],sheet_name=_c)\n",
    "        \n",
    "        for _c_2 in country_lis:\n",
    "            if _c == _c_2:\n",
    "                _mean = 0\n",
    "                _p025 = 0\n",
    "                _p975 = 0\n",
    "                for i in range(len(family_lis)):\n",
    "                    _mean_ = 0\n",
    "                    _p025_ = 0\n",
    "                    _p975_ = 0\n",
    "                    code_in_family = code_family[family_lis[i]]\n",
    "                    _mean_ += W_c_df.loc[_c,(family_lis[i],C_fami[0])]\n",
    "                    _p025_ += W_c_df.loc[_c,(family_lis[i],C_fami[1])]\n",
    "                    _p975_ += W_c_df.loc[_c,(family_lis[i],C_fami[2])]  \n",
    "                    \n",
    "                    for _code in code_in_family:\n",
    "                        if np.isnan(_code):\n",
    "                            continue\n",
    "                        #_code = '0'+str(int(_code))\n",
    "                        _mean_ -= W_c_E_code_df.loc[(_c,(_code,C_fami[0]))]\n",
    "                        _p025_ -= W_c_E_code_df.loc[(_c,(_code,C_fami[1]))]\n",
    "                        _p975_ -= W_c_E_code_df.loc[(_c,(_code,C_fami[2]))]\n",
    "                    \n",
    "                    _mean += relu(_mean_)    \n",
    "                    _p025 += relu(_p025_)    \n",
    "                    _p975 += relu(_p975_)    \n",
    "                dic_mean[_c].append(_mean/(365*65*_pop))\n",
    "                dic_p025[_c].append(_p025/(365*65*_pop))\n",
    "                dic_p975[_c].append(_p975/(365*65*_pop))\n",
    "            else:\n",
    "                _mean = 0\n",
    "                _p025 = 0\n",
    "                _p975 = 0\n",
    "                for i in range(len(code_lis)):\n",
    "                    _mean += W_c_A_Import_df.loc[_c_2,(code_lis[i],C_fami[0])]\n",
    "                    _p025 += W_c_A_Import_df.loc[_c_2,(code_lis[i],C_fami[1])]\n",
    "                    _p975 += W_c_A_Import_df.loc[_c_2,(code_lis[i],C_fami[2])]\n",
    "                dic_mean[_c].append(_mean/(365*65*_pop))\n",
    "                dic_p025[_c].append(_p025/(365*65*_pop))\n",
    "                dic_p975[_c].append(_p975/(365*65*_pop))\n",
    "\n",
    "    df_mean = pd.DataFrame(dic_mean,columns=country_lis,index=country_lis).T\n",
    "    df_p025 = pd.DataFrame(dic_p025,columns=country_lis,index=country_lis).T\n",
    "    df_p975 = pd.DataFrame(dic_p975,columns=country_lis,index=country_lis).T\n",
    "\n",
    "    df_mean.to_excel(excel_writer,sheet_name='MEAN',index=True)\n",
    "    df_p025.to_excel(excel_writer,sheet_name='p025',index=True)\n",
    "    df_p975.to_excel(excel_writer,sheet_name='p975',index=True)\n",
    "\n",
    "    excel_writer.close()"
   ]
  },
  {
   "cell_type": "code",
   "execution_count": 30,
   "metadata": {},
   "outputs": [
    {
     "data": {
      "text/plain": [
       "array(['PFBS', 'PFDA', 'PFHpA', 'PFHxA', 'PFHxS', 'PFNA', 'PFOA', 'PFOS',\n",
       "       'PFUnDA'], dtype=object)"
      ]
     },
     "execution_count": 30,
     "metadata": {},
     "output_type": "execute_result"
    }
   ],
   "source": [
    "chem_lis"
   ]
  },
  {
   "cell_type": "code",
   "execution_count": null,
   "metadata": {},
   "outputs": [],
   "source": []
  },
  {
   "cell_type": "code",
   "execution_count": null,
   "metadata": {},
   "outputs": [],
   "source": []
  }
 ],
 "metadata": {
  "kernelspec": {
   "display_name": "Python 3",
   "language": "python",
   "name": "python3"
  },
  "language_info": {
   "codemirror_mode": {
    "name": "ipython",
    "version": 3
   },
   "file_extension": ".py",
   "mimetype": "text/x-python",
   "name": "python",
   "nbconvert_exporter": "python",
   "pygments_lexer": "ipython3",
   "version": "3.12.4"
  },
  "orig_nbformat": 4
 },
 "nbformat": 4,
 "nbformat_minor": 2
}
