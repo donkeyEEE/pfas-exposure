{
 "cells": [
  {
   "cell_type": "code",
   "execution_count": 5,
   "metadata": {},
   "outputs": [
    {
     "name": "stdout",
     "output_type": "stream",
     "text": [
      "(33, 212)\n",
      "Index([30194, 30195, 30212, 30213, 30214, 30219, 30221, 30222, 30223, 30224,\n",
      "       ...\n",
      "       30481, 30483, 30484, 30486, 30487, 30488, 30491, 30495, 30496, 30497],\n",
      "      dtype='int64', length=111)\n",
      "['PFBS' 'PFDA' 'PFHpA' 'PFHxA' 'PFHxS' 'PFNA' 'PFOA' 'PFOS' 'PFUnDA']\n",
      "9\n",
      "33\n"
     ]
    }
   ],
   "source": [
    "import pandas as pd\n",
    "import numpy as np\n",
    "# 数据加载\n",
    "C_df = pd.read_excel(\"data\\\\Concentration in Biota.xlsx\") # 各国家各鱼体内PFOS浓度\n",
    "P_df =pd.read_excel(\"data\\\\Production.xlsx\",index_col=0).fillna(0) # 各国家各鱼类的产量\n",
    "print(P_df.shape)\n",
    "P_df.head()\n",
    "# P_df.isna().sum()\n",
    "code_df =  pd.read_excel(\"data\\\\Meaning of Code.xlsx\") # 每个代码包含的具体鱼种\n",
    "code_df.head()\n",
    "\n",
    "# 变量初始化\n",
    "chem_df_lis = []\n",
    "\n",
    "code_lis = code_df.columns\n",
    "print(code_lis)\n",
    "C_fami = ['mean','p025','p975']\n",
    "chem_lis = np.unique(C_df.Chemical)\n",
    "\n",
    "pop_df = pd.read_excel(\"data\\\\Population.xlsx\",index_col=0,names=['pop'])\n",
    "#country_lis = np.unique(C_df.Country.to_list())\n",
    "country_lis = pop_df.index.to_list()\n",
    "print(chem_lis)\n",
    "print(chem_lis.size)\n",
    "print(len(country_lis))"
   ]
  },
  {
   "cell_type": "code",
   "execution_count": 6,
   "metadata": {},
   "outputs": [],
   "source": [
    "## 工具函数\n",
    "### 格式初始化\n",
    "\n",
    "def init_data(code_lis=code_lis):\n",
    "    \"\"\"\n",
    "    初始化数据字典，格式为{(鱼类代码, 浓度类型): [国家浓度列表]}。\n",
    "    用于存储每个鱼类和浓度类型对应的各国浓度数据。\n",
    "    \"\"\"\n",
    "    dic = {}\n",
    "    for code in code_lis:\n",
    "        for C_fam in C_fami:\n",
    "            dic[(code,C_fam)] = list([])\n",
    "    return dic\n"
   ]
  },
  {
   "cell_type": "code",
   "execution_count": 7,
   "metadata": {},
   "outputs": [],
   "source": [
    "from tqdm import tqdm\n",
    "import warnings\n",
    "# 禁用所有警告\n",
    "warnings.filterwarnings(\"ignore\")\n",
    "\n",
    "def check_data_integrity(_country, _fish, p_df,_code):\n",
    "    \"\"\"\n",
    "    检查数据完整性，确保查询的浓度数据和产量数据是有效的。\n",
    "    若发现问题，打印警告信息。\n",
    "    \n",
    "    Args:\n",
    "        _country (str): 国家名称\n",
    "        _fish (str): 鱼种名称\n",
    "        p_df (DataFrame): 产量数据\n",
    "    \n",
    "    Returns:\n",
    "        bool: 如果数据有效则返回True，若有问题返回False\n",
    "    \"\"\"\n",
    "    # 检查产量数据是否存在\n",
    "    try:\n",
    "        _p = p_df.loc[_country, _fish]  # 获取产量数据\n",
    "    except KeyError:\n",
    "        raise KeyError(f\"警告: {_country}的{_fish}在产量数据Production中不存在!  该鱼类属于code{_code}\")\n",
    "              \n",
    "\n",
    "def get_chem_country(_chem) -> list:\n",
    "    \"\"\"\n",
    "    根据化学物质名称计算每个国家每个代码对应的浓度。\n",
    "\n",
    "    Args:\n",
    "        _chem (str): 化学物质的名称，用于查找相关数据。\n",
    "\n",
    "    Returns:\n",
    "        dict: 返回一个字典，格式为{(鱼类代码, 浓度类型): [国家浓度列表]}。\n",
    "    \"\"\"\n",
    "    data_dic = init_data()\n",
    "    # 先预处理：设置索引和过滤相关的化学物质数据，避免在循环中重复操作\n",
    "    _c_df = C_df.set_index(['Country', 'Species', 'Chemical'])  # 统一设置索引\n",
    "    \n",
    "    for _code in tqdm(code_lis):\n",
    "        fish_in_code = list(code_df[_code].dropna())\n",
    "        \n",
    "        # 遍历浓度类型\n",
    "        for c_type in C_fami:\n",
    "            # country_lis = []\n",
    "            _lis=[]\n",
    "            for _country in country_lis:\n",
    "                c_country_lis = []\n",
    "                p_country_lis = []\n",
    "                \n",
    "                # 获取该国家的所有鱼类浓度数据\n",
    "                _c_df_c = _c_df.loc[(_country)]\n",
    "                \n",
    "                for _fish in fish_in_code:\n",
    "                    check_data_integrity(_country, _fish, P_df,_code)\n",
    "                    \n",
    "                    _p = P_df.loc[_country]\n",
    "                    _p = _p[_fish] # 产量数据\n",
    "                    \n",
    "                    _flag = True\n",
    "                    \n",
    "                    # 如果该鱼种在该化学物质下没有浓度数据\n",
    "                    if (_fish,_chem) not in _c_df_c.index:\n",
    "                        _c= 0\n",
    "                        _flag = False\n",
    "                    else:\n",
    "                        _c=float(_c_df.loc[(_country,_fish,_chem)][c_type])\n",
    "                    c_country_lis.append(_c)\n",
    "                    p_country_lis.append(_p)\n",
    "                    \n",
    "                    if _c ==0 and _p !=0 and _flag:\n",
    "                        print(f\"{_country}的{_fish}捕捞量为{_p},但是{_chem}浓度c为{_c}\")\n",
    "                # 计算加权平均浓度\n",
    "                c_country_arr = np.array(c_country_lis)  # 浓度值数组\n",
    "                p_country_arr = np.array(p_country_lis)  # 产量值数组\n",
    "                _cp = np.sum(c_country_arr * p_country_arr)\n",
    "                _p_sum = np.sum(p_country_arr)  # 产量总和\n",
    "\n",
    "                # 计算加权平均浓度，若总产量为0则返回0\n",
    "                if _p_sum != 0:\n",
    "                    _lis.append(_cp / _p_sum)\n",
    "                else:\n",
    "                    _lis.append(0)\n",
    "            \n",
    "            data_dic[(_code,c_type)] = _lis\n",
    "    return data_dic\n",
    "#dic = get_chem_country(_chem)\n",
    "# print(dic)"
   ]
  },
  {
   "cell_type": "code",
   "execution_count": 8,
   "metadata": {},
   "outputs": [
    {
     "name": "stderr",
     "output_type": "stream",
     "text": [
      "100%|██████████| 111/111 [00:02<00:00, 41.46it/s]\n",
      "100%|██████████| 111/111 [00:02<00:00, 46.55it/s]\n",
      "100%|██████████| 111/111 [00:02<00:00, 44.15it/s]\n",
      "100%|██████████| 111/111 [00:02<00:00, 46.03it/s]\n",
      "100%|██████████| 111/111 [00:02<00:00, 45.93it/s]\n",
      "100%|██████████| 111/111 [00:02<00:00, 45.67it/s]\n",
      "100%|██████████| 111/111 [00:02<00:00, 45.77it/s]\n",
      "100%|██████████| 111/111 [00:02<00:00, 43.57it/s]\n",
      "100%|██████████| 111/111 [00:02<00:00, 46.86it/s]\n"
     ]
    }
   ],
   "source": [
    "# 创建一个ExcelWriter对象，指定文件名\n",
    "excel_writer = pd.ExcelWriter('Concentration_corresponding_to_the_code.xlsx')\n",
    "\n",
    "# 将DataFrame写入Excel文件的不同工作表\n",
    "for _chem in chem_lis:\n",
    "    dic = get_chem_country(_chem)\n",
    "    df = pd.DataFrame(dic,index=country_lis)\n",
    "    df.to_excel(excel_writer,sheet_name=_chem,index=True)\n",
    "\n",
    "excel_writer.close()"
   ]
  },
  {
   "cell_type": "code",
   "execution_count": 9,
   "metadata": {},
   "outputs": [],
   "source": [
    "family_df = pd.read_excel(\"data\\Family-Species.xlsx\") # 每科对应的鱼种类\n",
    "\n",
    "def get_chem_country_family(_chem)->dict:\n",
    "    \"\"\"\n",
    "    计算每个国家每个鱼类科在给定化学物质（_chem）下的浓度，加权后生成数据。\n",
    "    Args:\n",
    "        _chem (str): 需要计算的化学物质名称。\n",
    "    Returns:\n",
    "        dict: {(鱼类代码, 浓度类型): [国家浓度列表]}。\n",
    "    \"\"\"\n",
    "    data_dic = init_data(code_lis=family_df.columns)\n",
    "    for _code in tqdm(family_df.columns):\n",
    "        fish_in_code = list(family_df[_code].dropna())\n",
    "        for c_type in C_fami:\n",
    "            _lis=[]\n",
    "            for _country in country_lis:\n",
    "                c_country_lis = []\n",
    "                p_country_lis = []\n",
    "                \n",
    "                _c_df = C_df.copy()\n",
    "                _c_df.set_index([ 'Country','Species','Chemical'],inplace=True)\n",
    "                _c_df_c = _c_df.loc[(_country)]\n",
    "                for _fish in fish_in_code:\n",
    "                    _c = 0\n",
    "                    _p = P_df.loc[_country][_fish]\n",
    "                    _flag = True\n",
    "                    \n",
    "                    if (_fish,_chem) not in _c_df_c.index:\n",
    "                        _c= 0\n",
    "                        _flag = False\n",
    "                    else:\n",
    "                        _c=float(_c_df.loc[(_country,_fish,_chem)][c_type])\n",
    "                    \n",
    "                    c_country_lis.append(_c)\n",
    "                    p_country_lis.append(_p)\n",
    "                    \n",
    "                    if _c ==0 and _p !=0 and _flag:\n",
    "                        print(f\"{_country}的{_fish}捕捞量为{_p},但是{_chem}浓度c为{_c}\")\n",
    "                \n",
    "                _cp=0\n",
    "                _p_sum =0\n",
    "                for i in range(len(c_country_lis)):\n",
    "                    _cp += c_country_lis[i]*p_country_lis[i]\n",
    "                    if _cp !=0:\n",
    "                        _p_sum += p_country_lis[i]\n",
    "                    \n",
    "                if _p_sum !=0:\n",
    "                    _lis.append(_cp)\n",
    "                else:\n",
    "                    _lis.append(0)\n",
    "            \n",
    "            data_dic[(_code,c_type)] = _lis\n",
    "    return data_dic"
   ]
  },
  {
   "cell_type": "code",
   "execution_count": 10,
   "metadata": {},
   "outputs": [
    {
     "name": "stderr",
     "output_type": "stream",
     "text": [
      "100%|██████████| 10/10 [00:02<00:00,  4.91it/s]\n",
      "100%|██████████| 10/10 [00:02<00:00,  4.87it/s]\n",
      "100%|██████████| 10/10 [00:02<00:00,  4.86it/s]\n",
      "100%|██████████| 10/10 [00:02<00:00,  4.92it/s]\n",
      "100%|██████████| 10/10 [00:02<00:00,  4.91it/s]\n",
      "100%|██████████| 10/10 [00:02<00:00,  4.90it/s]\n",
      "100%|██████████| 10/10 [00:02<00:00,  4.86it/s]\n",
      "100%|██████████| 10/10 [00:02<00:00,  4.86it/s]\n",
      "100%|██████████| 10/10 [00:02<00:00,  4.98it/s]\n"
     ]
    }
   ],
   "source": [
    "# 创建一个ExcelWriter对象，指定文件名\n",
    "excel_writer = pd.ExcelWriter('Country-Family-Weight.xlsx', engine='xlsxwriter')\n",
    "\n",
    "# 将DataFrame写入Excel文件的不同工作表\n",
    "for _chem in chem_lis:\n",
    "    dic = get_chem_country_family(_chem)\n",
    "    df = pd.DataFrame(dic,index=country_lis)\n",
    "    df.to_excel(excel_writer,sheet_name=_chem,index=True)\n",
    "\n",
    "excel_writer.close()\n"
   ]
  },
  {
   "cell_type": "code",
   "execution_count": 11,
   "metadata": {},
   "outputs": [
    {
     "name": "stderr",
     "output_type": "stream",
     "text": [
      "100%|██████████| 10/10 [00:02<00:00,  4.95it/s]\n"
     ]
    },
    {
     "data": {
      "text/plain": [
       "dict_keys([('Anchovies', 'mean'), ('Anchovies', 'p025'), ('Anchovies', 'p975'), ('Cod-likes', 'mean'), ('Cod-likes', 'p025'), ('Cod-likes', 'p975'), ('Flatfishes', 'mean'), ('Flatfishes', 'p025'), ('Flatfishes', 'p975'), ('Herring-likes', 'mean'), ('Herring-likes', 'p025'), ('Herring-likes', 'p975'), ('Perch-likes', 'mean'), ('Perch-likes', 'p025'), ('Perch-likes', 'p975'), ('Salmon, smelts, etc', 'mean'), ('Salmon, smelts, etc', 'p025'), ('Salmon, smelts, etc', 'p975'), ('Scorpionfishes', 'mean'), ('Scorpionfishes', 'p025'), ('Scorpionfishes', 'p975'), ('Sharks & rays', 'mean'), ('Sharks & rays', 'p025'), ('Sharks & rays', 'p975'), ('Tuna & billfishes', 'mean'), ('Tuna & billfishes', 'p025'), ('Tuna & billfishes', 'p975'), ('Other fishes & inverts', 'mean'), ('Other fishes & inverts', 'p025'), ('Other fishes & inverts', 'p975')])"
      ]
     },
     "execution_count": 11,
     "metadata": {},
     "output_type": "execute_result"
    }
   ],
   "source": [
    "dic = get_chem_country_family(_chem)\n",
    "dic.keys()"
   ]
  },
  {
   "cell_type": "code",
   "execution_count": 12,
   "metadata": {},
   "outputs": [
    {
     "data": {
      "text/plain": [
       "Index(['Anchovies', 'Cod-likes', 'Flatfishes', 'Herring-likes', 'Perch-likes',\n",
       "       'Salmon, smelts, etc', 'Scorpionfishes', 'Sharks & rays',\n",
       "       'Tuna & billfishes', 'Other fishes & inverts'],\n",
       "      dtype='object')"
      ]
     },
     "execution_count": 12,
     "metadata": {},
     "output_type": "execute_result"
    }
   ],
   "source": [
    "family_df = pd.read_excel(\"data\\Family-Species.xlsx\")\n",
    "family_df.columns"
   ]
  },
  {
   "cell_type": "code",
   "execution_count": 13,
   "metadata": {},
   "outputs": [],
   "source": [
    "################################"
   ]
  },
  {
   "cell_type": "code",
   "execution_count": 14,
   "metadata": {},
   "outputs": [],
   "source": [
    "##############################"
   ]
  },
  {
   "cell_type": "code",
   "execution_count": 15,
   "metadata": {},
   "outputs": [],
   "source": [
    "#################################"
   ]
  },
  {
   "cell_type": "code",
   "execution_count": 16,
   "metadata": {},
   "outputs": [
    {
     "name": "stdout",
     "output_type": "stream",
     "text": [
      "(33, 333)\n"
     ]
    },
    {
     "data": {
      "application/vnd.microsoft.datawrangler.viewer.v0+json": {
       "columns": [
        {
         "name": "index",
         "rawType": "object",
         "type": "string"
        },
        {
         "name": "(30194, 'mean')",
         "rawType": "float64",
         "type": "float"
        },
        {
         "name": "(30194, 'p025')",
         "rawType": "float64",
         "type": "float"
        },
        {
         "name": "(30194, 'p975')",
         "rawType": "float64",
         "type": "float"
        },
        {
         "name": "(30195, 'mean')",
         "rawType": "float64",
         "type": "float"
        },
        {
         "name": "(30195, 'p025')",
         "rawType": "float64",
         "type": "float"
        },
        {
         "name": "(30195, 'p975')",
         "rawType": "float64",
         "type": "float"
        },
        {
         "name": "(30212, 'mean')",
         "rawType": "float64",
         "type": "float"
        },
        {
         "name": "(30212, 'p025')",
         "rawType": "float64",
         "type": "float"
        },
        {
         "name": "(30212, 'p975')",
         "rawType": "float64",
         "type": "float"
        },
        {
         "name": "(30213, 'mean')",
         "rawType": "float64",
         "type": "float"
        },
        {
         "name": "(30213, 'p025')",
         "rawType": "float64",
         "type": "float"
        },
        {
         "name": "(30213, 'p975')",
         "rawType": "float64",
         "type": "float"
        },
        {
         "name": "(30214, 'mean')",
         "rawType": "float64",
         "type": "float"
        },
        {
         "name": "(30214, 'p025')",
         "rawType": "float64",
         "type": "float"
        },
        {
         "name": "(30214, 'p975')",
         "rawType": "float64",
         "type": "float"
        },
        {
         "name": "(30219, 'mean')",
         "rawType": "float64",
         "type": "float"
        },
        {
         "name": "(30219, 'p025')",
         "rawType": "float64",
         "type": "float"
        },
        {
         "name": "(30219, 'p975')",
         "rawType": "float64",
         "type": "float"
        },
        {
         "name": "(30221, 'mean')",
         "rawType": "float64",
         "type": "float"
        },
        {
         "name": "(30221, 'p025')",
         "rawType": "float64",
         "type": "float"
        },
        {
         "name": "(30221, 'p975')",
         "rawType": "float64",
         "type": "float"
        },
        {
         "name": "(30222, 'mean')",
         "rawType": "float64",
         "type": "float"
        },
        {
         "name": "(30222, 'p025')",
         "rawType": "float64",
         "type": "float"
        },
        {
         "name": "(30222, 'p975')",
         "rawType": "float64",
         "type": "float"
        },
        {
         "name": "(30223, 'mean')",
         "rawType": "float64",
         "type": "float"
        },
        {
         "name": "(30223, 'p025')",
         "rawType": "float64",
         "type": "float"
        },
        {
         "name": "(30223, 'p975')",
         "rawType": "float64",
         "type": "float"
        },
        {
         "name": "(30224, 'mean')",
         "rawType": "float64",
         "type": "float"
        },
        {
         "name": "(30224, 'p025')",
         "rawType": "float64",
         "type": "float"
        },
        {
         "name": "(30224, 'p975')",
         "rawType": "float64",
         "type": "float"
        },
        {
         "name": "(30229, 'mean')",
         "rawType": "float64",
         "type": "float"
        },
        {
         "name": "(30229, 'p025')",
         "rawType": "float64",
         "type": "float"
        },
        {
         "name": "(30229, 'p975')",
         "rawType": "float64",
         "type": "float"
        },
        {
         "name": "(30231, 'mean')",
         "rawType": "float64",
         "type": "float"
        },
        {
         "name": "(30231, 'p025')",
         "rawType": "float64",
         "type": "float"
        },
        {
         "name": "(30231, 'p975')",
         "rawType": "float64",
         "type": "float"
        },
        {
         "name": "(30232, 'mean')",
         "rawType": "float64",
         "type": "float"
        },
        {
         "name": "(30232, 'p025')",
         "rawType": "float64",
         "type": "float"
        },
        {
         "name": "(30232, 'p975')",
         "rawType": "float64",
         "type": "float"
        },
        {
         "name": "(30233, 'mean')",
         "rawType": "float64",
         "type": "float"
        },
        {
         "name": "(30233, 'p025')",
         "rawType": "float64",
         "type": "float"
        },
        {
         "name": "(30233, 'p975')",
         "rawType": "float64",
         "type": "float"
        },
        {
         "name": "(30234, 'mean')",
         "rawType": "float64",
         "type": "float"
        },
        {
         "name": "(30234, 'p025')",
         "rawType": "float64",
         "type": "float"
        },
        {
         "name": "(30234, 'p975')",
         "rawType": "float64",
         "type": "float"
        },
        {
         "name": "(30235, 'mean')",
         "rawType": "float64",
         "type": "float"
        },
        {
         "name": "(30235, 'p025')",
         "rawType": "float64",
         "type": "float"
        },
        {
         "name": "(30235, 'p975')",
         "rawType": "float64",
         "type": "float"
        },
        {
         "name": "(30236, 'mean')",
         "rawType": "float64",
         "type": "float"
        },
        {
         "name": "(30236, 'p025')",
         "rawType": "float64",
         "type": "float"
        },
        {
         "name": "(30236, 'p975')",
         "rawType": "float64",
         "type": "float"
        },
        {
         "name": "(30239, 'mean')",
         "rawType": "float64",
         "type": "float"
        },
        {
         "name": "(30239, 'p025')",
         "rawType": "float64",
         "type": "float"
        },
        {
         "name": "(30239, 'p975')",
         "rawType": "float64",
         "type": "float"
        },
        {
         "name": "(30240, 'mean')",
         "rawType": "float64",
         "type": "float"
        },
        {
         "name": "(30240, 'p025')",
         "rawType": "float64",
         "type": "float"
        },
        {
         "name": "(30240, 'p975')",
         "rawType": "float64",
         "type": "float"
        },
        {
         "name": "(30241, 'mean')",
         "rawType": "float64",
         "type": "float"
        },
        {
         "name": "(30241, 'p025')",
         "rawType": "float64",
         "type": "float"
        },
        {
         "name": "(30241, 'p975')",
         "rawType": "float64",
         "type": "float"
        },
        {
         "name": "(30242, 'mean')",
         "rawType": "float64",
         "type": "float"
        },
        {
         "name": "(30242, 'p025')",
         "rawType": "float64",
         "type": "float"
        },
        {
         "name": "(30242, 'p975')",
         "rawType": "float64",
         "type": "float"
        },
        {
         "name": "(30243, 'mean')",
         "rawType": "float64",
         "type": "float"
        },
        {
         "name": "(30243, 'p025')",
         "rawType": "float64",
         "type": "float"
        },
        {
         "name": "(30243, 'p975')",
         "rawType": "float64",
         "type": "float"
        },
        {
         "name": "(30244, 'mean')",
         "rawType": "float64",
         "type": "float"
        },
        {
         "name": "(30244, 'p025')",
         "rawType": "float64",
         "type": "float"
        },
        {
         "name": "(30244, 'p975')",
         "rawType": "float64",
         "type": "float"
        },
        {
         "name": "(30245, 'mean')",
         "rawType": "float64",
         "type": "float"
        },
        {
         "name": "(30245, 'p025')",
         "rawType": "float64",
         "type": "float"
        },
        {
         "name": "(30245, 'p975')",
         "rawType": "float64",
         "type": "float"
        },
        {
         "name": "(30246, 'mean')",
         "rawType": "float64",
         "type": "float"
        },
        {
         "name": "(30246, 'p025')",
         "rawType": "float64",
         "type": "float"
        },
        {
         "name": "(30246, 'p975')",
         "rawType": "float64",
         "type": "float"
        },
        {
         "name": "(30247, 'mean')",
         "rawType": "float64",
         "type": "float"
        },
        {
         "name": "(30247, 'p025')",
         "rawType": "float64",
         "type": "float"
        },
        {
         "name": "(30247, 'p975')",
         "rawType": "float64",
         "type": "float"
        },
        {
         "name": "(30250, 'mean')",
         "rawType": "float64",
         "type": "float"
        },
        {
         "name": "(30250, 'p025')",
         "rawType": "float64",
         "type": "float"
        },
        {
         "name": "(30250, 'p975')",
         "rawType": "float64",
         "type": "float"
        },
        {
         "name": "(30251, 'mean')",
         "rawType": "float64",
         "type": "float"
        },
        {
         "name": "(30251, 'p025')",
         "rawType": "float64",
         "type": "float"
        },
        {
         "name": "(30251, 'p975')",
         "rawType": "float64",
         "type": "float"
        },
        {
         "name": "(30252, 'mean')",
         "rawType": "float64",
         "type": "float"
        },
        {
         "name": "(30252, 'p025')",
         "rawType": "float64",
         "type": "float"
        },
        {
         "name": "(30252, 'p975')",
         "rawType": "float64",
         "type": "float"
        },
        {
         "name": "(30253, 'mean')",
         "rawType": "float64",
         "type": "float"
        },
        {
         "name": "(30253, 'p025')",
         "rawType": "float64",
         "type": "float"
        },
        {
         "name": "(30253, 'p975')",
         "rawType": "float64",
         "type": "float"
        },
        {
         "name": "(30254, 'mean')",
         "rawType": "float64",
         "type": "float"
        },
        {
         "name": "(30254, 'p025')",
         "rawType": "float64",
         "type": "float"
        },
        {
         "name": "(30254, 'p975')",
         "rawType": "float64",
         "type": "float"
        },
        {
         "name": "(30256, 'mean')",
         "rawType": "float64",
         "type": "float"
        },
        {
         "name": "(30256, 'p025')",
         "rawType": "float64",
         "type": "float"
        },
        {
         "name": "(30256, 'p975')",
         "rawType": "float64",
         "type": "float"
        },
        {
         "name": "(30261, 'mean')",
         "rawType": "float64",
         "type": "float"
        },
        {
         "name": "(30261, 'p025')",
         "rawType": "float64",
         "type": "float"
        },
        {
         "name": "(30261, 'p975')",
         "rawType": "float64",
         "type": "float"
        },
        {
         "name": "(30263, 'mean')",
         "rawType": "float64",
         "type": "float"
        },
        {
         "name": "(30263, 'p025')",
         "rawType": "float64",
         "type": "float"
        },
        {
         "name": "(30263, 'p975')",
         "rawType": "float64",
         "type": "float"
        },
        {
         "name": "(30264, 'mean')",
         "rawType": "float64",
         "type": "float"
        },
        {
         "name": "(30264, 'p025')",
         "rawType": "float64",
         "type": "float"
        },
        {
         "name": "(30264, 'p975')",
         "rawType": "float64",
         "type": "float"
        },
        {
         "name": "(30265, 'mean')",
         "rawType": "float64",
         "type": "float"
        },
        {
         "name": "(30265, 'p025')",
         "rawType": "float64",
         "type": "float"
        },
        {
         "name": "(30265, 'p975')",
         "rawType": "float64",
         "type": "float"
        },
        {
         "name": "(30267, 'mean')",
         "rawType": "float64",
         "type": "float"
        },
        {
         "name": "(30267, 'p025')",
         "rawType": "float64",
         "type": "float"
        },
        {
         "name": "(30267, 'p975')",
         "rawType": "float64",
         "type": "float"
        },
        {
         "name": "(30281, 'mean')",
         "rawType": "float64",
         "type": "float"
        },
        {
         "name": "(30281, 'p025')",
         "rawType": "float64",
         "type": "float"
        },
        {
         "name": "(30281, 'p975')",
         "rawType": "float64",
         "type": "float"
        },
        {
         "name": "(30282, 'mean')",
         "rawType": "float64",
         "type": "float"
        },
        {
         "name": "(30282, 'p025')",
         "rawType": "float64",
         "type": "float"
        },
        {
         "name": "(30282, 'p975')",
         "rawType": "float64",
         "type": "float"
        },
        {
         "name": "(30284, 'mean')",
         "rawType": "float64",
         "type": "float"
        },
        {
         "name": "(30284, 'p025')",
         "rawType": "float64",
         "type": "float"
        },
        {
         "name": "(30284, 'p975')",
         "rawType": "float64",
         "type": "float"
        },
        {
         "name": "(30285, 'mean')",
         "rawType": "float64",
         "type": "float"
        },
        {
         "name": "(30285, 'p025')",
         "rawType": "float64",
         "type": "float"
        },
        {
         "name": "(30285, 'p975')",
         "rawType": "float64",
         "type": "float"
        },
        {
         "name": "(30310, 'mean')",
         "rawType": "float64",
         "type": "float"
        },
        {
         "name": "(30310, 'p025')",
         "rawType": "float64",
         "type": "float"
        },
        {
         "name": "(30310, 'p975')",
         "rawType": "float64",
         "type": "float"
        },
        {
         "name": "(30311, 'mean')",
         "rawType": "float64",
         "type": "float"
        },
        {
         "name": "(30311, 'p025')",
         "rawType": "float64",
         "type": "float"
        },
        {
         "name": "(30311, 'p975')",
         "rawType": "float64",
         "type": "float"
        },
        {
         "name": "(30312, 'mean')",
         "rawType": "float64",
         "type": "float"
        },
        {
         "name": "(30312, 'p025')",
         "rawType": "float64",
         "type": "float"
        },
        {
         "name": "(30312, 'p975')",
         "rawType": "float64",
         "type": "float"
        },
        {
         "name": "(30313, 'mean')",
         "rawType": "float64",
         "type": "float"
        },
        {
         "name": "(30313, 'p025')",
         "rawType": "float64",
         "type": "float"
        },
        {
         "name": "(30313, 'p975')",
         "rawType": "float64",
         "type": "float"
        },
        {
         "name": "(30319, 'mean')",
         "rawType": "float64",
         "type": "float"
        },
        {
         "name": "(30319, 'p025')",
         "rawType": "float64",
         "type": "float"
        },
        {
         "name": "(30319, 'p975')",
         "rawType": "float64",
         "type": "float"
        },
        {
         "name": "(30322, 'mean')",
         "rawType": "float64",
         "type": "float"
        },
        {
         "name": "(30322, 'p025')",
         "rawType": "float64",
         "type": "float"
        },
        {
         "name": "(30322, 'p975')",
         "rawType": "float64",
         "type": "float"
        },
        {
         "name": "(30331, 'mean')",
         "rawType": "float64",
         "type": "float"
        },
        {
         "name": "(30331, 'p025')",
         "rawType": "float64",
         "type": "float"
        },
        {
         "name": "(30331, 'p975')",
         "rawType": "float64",
         "type": "float"
        },
        {
         "name": "(30332, 'mean')",
         "rawType": "float64",
         "type": "float"
        },
        {
         "name": "(30332, 'p025')",
         "rawType": "float64",
         "type": "float"
        },
        {
         "name": "(30332, 'p975')",
         "rawType": "float64",
         "type": "float"
        },
        {
         "name": "(30333, 'mean')",
         "rawType": "float64",
         "type": "float"
        },
        {
         "name": "(30333, 'p025')",
         "rawType": "float64",
         "type": "float"
        },
        {
         "name": "(30333, 'p975')",
         "rawType": "float64",
         "type": "float"
        },
        {
         "name": "(30334, 'mean')",
         "rawType": "float64",
         "type": "float"
        },
        {
         "name": "(30334, 'p025')",
         "rawType": "float64",
         "type": "float"
        },
        {
         "name": "(30334, 'p975')",
         "rawType": "float64",
         "type": "float"
        },
        {
         "name": "(30339, 'mean')",
         "rawType": "float64",
         "type": "float"
        },
        {
         "name": "(30339, 'p025')",
         "rawType": "float64",
         "type": "float"
        },
        {
         "name": "(30339, 'p975')",
         "rawType": "float64",
         "type": "float"
        },
        {
         "name": "(30341, 'mean')",
         "rawType": "float64",
         "type": "float"
        },
        {
         "name": "(30341, 'p025')",
         "rawType": "float64",
         "type": "float"
        },
        {
         "name": "(30341, 'p975')",
         "rawType": "float64",
         "type": "float"
        },
        {
         "name": "(30342, 'mean')",
         "rawType": "float64",
         "type": "float"
        },
        {
         "name": "(30342, 'p025')",
         "rawType": "float64",
         "type": "float"
        },
        {
         "name": "(30342, 'p975')",
         "rawType": "float64",
         "type": "float"
        },
        {
         "name": "(30343, 'mean')",
         "rawType": "float64",
         "type": "float"
        },
        {
         "name": "(30343, 'p025')",
         "rawType": "float64",
         "type": "float"
        },
        {
         "name": "(30343, 'p975')",
         "rawType": "float64",
         "type": "float"
        },
        {
         "name": "(30344, 'mean')",
         "rawType": "float64",
         "type": "float"
        },
        {
         "name": "(30344, 'p025')",
         "rawType": "float64",
         "type": "float"
        },
        {
         "name": "(30344, 'p975')",
         "rawType": "float64",
         "type": "float"
        },
        {
         "name": "(30345, 'mean')",
         "rawType": "float64",
         "type": "float"
        },
        {
         "name": "(30345, 'p025')",
         "rawType": "float64",
         "type": "float"
        },
        {
         "name": "(30345, 'p975')",
         "rawType": "float64",
         "type": "float"
        },
        {
         "name": "(30346, 'mean')",
         "rawType": "float64",
         "type": "float"
        },
        {
         "name": "(30346, 'p025')",
         "rawType": "float64",
         "type": "float"
        },
        {
         "name": "(30346, 'p975')",
         "rawType": "float64",
         "type": "float"
        },
        {
         "name": "(30349, 'mean')",
         "rawType": "float64",
         "type": "float"
        },
        {
         "name": "(30349, 'p025')",
         "rawType": "float64",
         "type": "float"
        },
        {
         "name": "(30349, 'p975')",
         "rawType": "float64",
         "type": "float"
        },
        {
         "name": "(30350, 'mean')",
         "rawType": "float64",
         "type": "float"
        },
        {
         "name": "(30350, 'p025')",
         "rawType": "float64",
         "type": "float"
        },
        {
         "name": "(30350, 'p975')",
         "rawType": "float64",
         "type": "float"
        },
        {
         "name": "(30351, 'mean')",
         "rawType": "float64",
         "type": "float"
        },
        {
         "name": "(30351, 'p025')",
         "rawType": "float64",
         "type": "float"
        },
        {
         "name": "(30351, 'p975')",
         "rawType": "float64",
         "type": "float"
        },
        {
         "name": "(30352, 'mean')",
         "rawType": "float64",
         "type": "float"
        },
        {
         "name": "(30352, 'p025')",
         "rawType": "float64",
         "type": "float"
        },
        {
         "name": "(30352, 'p975')",
         "rawType": "float64",
         "type": "float"
        },
        {
         "name": "(30353, 'mean')",
         "rawType": "float64",
         "type": "float"
        },
        {
         "name": "(30353, 'p025')",
         "rawType": "float64",
         "type": "float"
        },
        {
         "name": "(30353, 'p975')",
         "rawType": "float64",
         "type": "float"
        },
        {
         "name": "(30354, 'mean')",
         "rawType": "float64",
         "type": "float"
        },
        {
         "name": "(30354, 'p025')",
         "rawType": "float64",
         "type": "float"
        },
        {
         "name": "(30354, 'p975')",
         "rawType": "float64",
         "type": "float"
        },
        {
         "name": "(30355, 'mean')",
         "rawType": "float64",
         "type": "float"
        },
        {
         "name": "(30355, 'p025')",
         "rawType": "float64",
         "type": "float"
        },
        {
         "name": "(30355, 'p975')",
         "rawType": "float64",
         "type": "float"
        },
        {
         "name": "(30356, 'mean')",
         "rawType": "float64",
         "type": "float"
        },
        {
         "name": "(30356, 'p025')",
         "rawType": "float64",
         "type": "float"
        },
        {
         "name": "(30356, 'p975')",
         "rawType": "float64",
         "type": "float"
        },
        {
         "name": "(30357, 'mean')",
         "rawType": "float64",
         "type": "float"
        },
        {
         "name": "(30357, 'p025')",
         "rawType": "float64",
         "type": "float"
        },
        {
         "name": "(30357, 'p975')",
         "rawType": "float64",
         "type": "float"
        },
        {
         "name": "(30360, 'mean')",
         "rawType": "float64",
         "type": "float"
        },
        {
         "name": "(30360, 'p025')",
         "rawType": "float64",
         "type": "float"
        },
        {
         "name": "(30360, 'p975')",
         "rawType": "float64",
         "type": "float"
        },
        {
         "name": "(30361, 'mean')",
         "rawType": "float64",
         "type": "float"
        },
        {
         "name": "(30361, 'p025')",
         "rawType": "float64",
         "type": "float"
        },
        {
         "name": "(30361, 'p975')",
         "rawType": "float64",
         "type": "float"
        },
        {
         "name": "(30363, 'mean')",
         "rawType": "float64",
         "type": "float"
        },
        {
         "name": "(30363, 'p025')",
         "rawType": "float64",
         "type": "float"
        },
        {
         "name": "(30363, 'p975')",
         "rawType": "float64",
         "type": "float"
        },
        {
         "name": "(30365, 'mean')",
         "rawType": "float64",
         "type": "float"
        },
        {
         "name": "(30365, 'p025')",
         "rawType": "float64",
         "type": "float"
        },
        {
         "name": "(30365, 'p975')",
         "rawType": "float64",
         "type": "float"
        },
        {
         "name": "(30366, 'mean')",
         "rawType": "float64",
         "type": "float"
        },
        {
         "name": "(30366, 'p025')",
         "rawType": "float64",
         "type": "float"
        },
        {
         "name": "(30366, 'p975')",
         "rawType": "float64",
         "type": "float"
        },
        {
         "name": "(30368, 'mean')",
         "rawType": "float64",
         "type": "float"
        },
        {
         "name": "(30368, 'p025')",
         "rawType": "float64",
         "type": "float"
        },
        {
         "name": "(30368, 'p975')",
         "rawType": "float64",
         "type": "float"
        },
        {
         "name": "(30369, 'mean')",
         "rawType": "float64",
         "type": "float"
        },
        {
         "name": "(30369, 'p025')",
         "rawType": "float64",
         "type": "float"
        },
        {
         "name": "(30369, 'p975')",
         "rawType": "float64",
         "type": "float"
        },
        {
         "name": "(30371, 'mean')",
         "rawType": "float64",
         "type": "float"
        },
        {
         "name": "(30371, 'p025')",
         "rawType": "float64",
         "type": "float"
        },
        {
         "name": "(30371, 'p975')",
         "rawType": "float64",
         "type": "float"
        },
        {
         "name": "(30373, 'mean')",
         "rawType": "float64",
         "type": "float"
        },
        {
         "name": "(30373, 'p025')",
         "rawType": "float64",
         "type": "float"
        },
        {
         "name": "(30373, 'p975')",
         "rawType": "float64",
         "type": "float"
        },
        {
         "name": "(30374, 'mean')",
         "rawType": "float64",
         "type": "float"
        },
        {
         "name": "(30374, 'p025')",
         "rawType": "float64",
         "type": "float"
        },
        {
         "name": "(30374, 'p975')",
         "rawType": "float64",
         "type": "float"
        },
        {
         "name": "(30375, 'mean')",
         "rawType": "float64",
         "type": "float"
        },
        {
         "name": "(30375, 'p025')",
         "rawType": "float64",
         "type": "float"
        },
        {
         "name": "(30375, 'p975')",
         "rawType": "float64",
         "type": "float"
        },
        {
         "name": "(30377, 'mean')",
         "rawType": "float64",
         "type": "float"
        },
        {
         "name": "(30377, 'p025')",
         "rawType": "float64",
         "type": "float"
        },
        {
         "name": "(30377, 'p975')",
         "rawType": "float64",
         "type": "float"
        },
        {
         "name": "(30378, 'mean')",
         "rawType": "float64",
         "type": "float"
        },
        {
         "name": "(30378, 'p025')",
         "rawType": "float64",
         "type": "float"
        },
        {
         "name": "(30378, 'p975')",
         "rawType": "float64",
         "type": "float"
        },
        {
         "name": "(30381, 'mean')",
         "rawType": "float64",
         "type": "float"
        },
        {
         "name": "(30381, 'p025')",
         "rawType": "float64",
         "type": "float"
        },
        {
         "name": "(30381, 'p975')",
         "rawType": "float64",
         "type": "float"
        },
        {
         "name": "(30382, 'mean')",
         "rawType": "float64",
         "type": "float"
        },
        {
         "name": "(30382, 'p025')",
         "rawType": "float64",
         "type": "float"
        },
        {
         "name": "(30382, 'p975')",
         "rawType": "float64",
         "type": "float"
        },
        {
         "name": "(30384, 'mean')",
         "rawType": "float64",
         "type": "float"
        },
        {
         "name": "(30384, 'p025')",
         "rawType": "float64",
         "type": "float"
        },
        {
         "name": "(30384, 'p975')",
         "rawType": "float64",
         "type": "float"
        },
        {
         "name": "(30410, 'mean')",
         "rawType": "float64",
         "type": "float"
        },
        {
         "name": "(30410, 'p025')",
         "rawType": "float64",
         "type": "float"
        },
        {
         "name": "(30410, 'p975')",
         "rawType": "float64",
         "type": "float"
        },
        {
         "name": "(30421, 'mean')",
         "rawType": "float64",
         "type": "float"
        },
        {
         "name": "(30421, 'p025')",
         "rawType": "float64",
         "type": "float"
        },
        {
         "name": "(30421, 'p975')",
         "rawType": "float64",
         "type": "float"
        },
        {
         "name": "(30441, 'mean')",
         "rawType": "float64",
         "type": "float"
        },
        {
         "name": "(30441, 'p025')",
         "rawType": "float64",
         "type": "float"
        },
        {
         "name": "(30441, 'p975')",
         "rawType": "float64",
         "type": "float"
        },
        {
         "name": "(30443, 'mean')",
         "rawType": "float64",
         "type": "float"
        },
        {
         "name": "(30443, 'p025')",
         "rawType": "float64",
         "type": "float"
        },
        {
         "name": "(30443, 'p975')",
         "rawType": "float64",
         "type": "float"
        },
        {
         "name": "(30444, 'mean')",
         "rawType": "float64",
         "type": "float"
        },
        {
         "name": "(30444, 'p025')",
         "rawType": "float64",
         "type": "float"
        },
        {
         "name": "(30444, 'p975')",
         "rawType": "float64",
         "type": "float"
        },
        {
         "name": "(30445, 'mean')",
         "rawType": "float64",
         "type": "float"
        },
        {
         "name": "(30445, 'p025')",
         "rawType": "float64",
         "type": "float"
        },
        {
         "name": "(30445, 'p975')",
         "rawType": "float64",
         "type": "float"
        },
        {
         "name": "(30447, 'mean')",
         "rawType": "float64",
         "type": "float"
        },
        {
         "name": "(30447, 'p025')",
         "rawType": "float64",
         "type": "float"
        },
        {
         "name": "(30447, 'p975')",
         "rawType": "float64",
         "type": "float"
        },
        {
         "name": "(30448, 'mean')",
         "rawType": "float64",
         "type": "float"
        },
        {
         "name": "(30448, 'p025')",
         "rawType": "float64",
         "type": "float"
        },
        {
         "name": "(30448, 'p975')",
         "rawType": "float64",
         "type": "float"
        },
        {
         "name": "(30452, 'mean')",
         "rawType": "float64",
         "type": "float"
        },
        {
         "name": "(30452, 'p025')",
         "rawType": "float64",
         "type": "float"
        },
        {
         "name": "(30452, 'p975')",
         "rawType": "float64",
         "type": "float"
        },
        {
         "name": "(30453, 'mean')",
         "rawType": "float64",
         "type": "float"
        },
        {
         "name": "(30453, 'p025')",
         "rawType": "float64",
         "type": "float"
        },
        {
         "name": "(30453, 'p975')",
         "rawType": "float64",
         "type": "float"
        },
        {
         "name": "(30454, 'mean')",
         "rawType": "float64",
         "type": "float"
        },
        {
         "name": "(30454, 'p025')",
         "rawType": "float64",
         "type": "float"
        },
        {
         "name": "(30454, 'p975')",
         "rawType": "float64",
         "type": "float"
        },
        {
         "name": "(30456, 'mean')",
         "rawType": "float64",
         "type": "float"
        },
        {
         "name": "(30456, 'p025')",
         "rawType": "float64",
         "type": "float"
        },
        {
         "name": "(30456, 'p975')",
         "rawType": "float64",
         "type": "float"
        },
        {
         "name": "(30457, 'mean')",
         "rawType": "float64",
         "type": "float"
        },
        {
         "name": "(30457, 'p025')",
         "rawType": "float64",
         "type": "float"
        },
        {
         "name": "(30457, 'p975')",
         "rawType": "float64",
         "type": "float"
        },
        {
         "name": "(30471, 'mean')",
         "rawType": "float64",
         "type": "float"
        },
        {
         "name": "(30471, 'p025')",
         "rawType": "float64",
         "type": "float"
        },
        {
         "name": "(30471, 'p975')",
         "rawType": "float64",
         "type": "float"
        },
        {
         "name": "(30472, 'mean')",
         "rawType": "float64",
         "type": "float"
        },
        {
         "name": "(30472, 'p025')",
         "rawType": "float64",
         "type": "float"
        },
        {
         "name": "(30472, 'p975')",
         "rawType": "float64",
         "type": "float"
        },
        {
         "name": "(30473, 'mean')",
         "rawType": "float64",
         "type": "float"
        },
        {
         "name": "(30473, 'p025')",
         "rawType": "float64",
         "type": "float"
        },
        {
         "name": "(30473, 'p975')",
         "rawType": "float64",
         "type": "float"
        },
        {
         "name": "(30474, 'mean')",
         "rawType": "float64",
         "type": "float"
        },
        {
         "name": "(30474, 'p025')",
         "rawType": "float64",
         "type": "float"
        },
        {
         "name": "(30474, 'p975')",
         "rawType": "float64",
         "type": "float"
        },
        {
         "name": "(30479, 'mean')",
         "rawType": "float64",
         "type": "float"
        },
        {
         "name": "(30479, 'p025')",
         "rawType": "float64",
         "type": "float"
        },
        {
         "name": "(30479, 'p975')",
         "rawType": "float64",
         "type": "float"
        },
        {
         "name": "(30481, 'mean')",
         "rawType": "float64",
         "type": "float"
        },
        {
         "name": "(30481, 'p025')",
         "rawType": "float64",
         "type": "float"
        },
        {
         "name": "(30481, 'p975')",
         "rawType": "float64",
         "type": "float"
        },
        {
         "name": "(30483, 'mean')",
         "rawType": "float64",
         "type": "float"
        },
        {
         "name": "(30483, 'p025')",
         "rawType": "float64",
         "type": "float"
        },
        {
         "name": "(30483, 'p975')",
         "rawType": "float64",
         "type": "float"
        },
        {
         "name": "(30484, 'mean')",
         "rawType": "float64",
         "type": "float"
        },
        {
         "name": "(30484, 'p025')",
         "rawType": "float64",
         "type": "float"
        },
        {
         "name": "(30484, 'p975')",
         "rawType": "float64",
         "type": "float"
        },
        {
         "name": "(30486, 'mean')",
         "rawType": "float64",
         "type": "float"
        },
        {
         "name": "(30486, 'p025')",
         "rawType": "float64",
         "type": "float"
        },
        {
         "name": "(30486, 'p975')",
         "rawType": "float64",
         "type": "float"
        },
        {
         "name": "(30487, 'mean')",
         "rawType": "float64",
         "type": "float"
        },
        {
         "name": "(30487, 'p025')",
         "rawType": "float64",
         "type": "float"
        },
        {
         "name": "(30487, 'p975')",
         "rawType": "float64",
         "type": "float"
        },
        {
         "name": "(30488, 'mean')",
         "rawType": "float64",
         "type": "float"
        },
        {
         "name": "(30488, 'p025')",
         "rawType": "float64",
         "type": "float"
        },
        {
         "name": "(30488, 'p975')",
         "rawType": "float64",
         "type": "float"
        },
        {
         "name": "(30491, 'mean')",
         "rawType": "float64",
         "type": "float"
        },
        {
         "name": "(30491, 'p025')",
         "rawType": "float64",
         "type": "float"
        },
        {
         "name": "(30491, 'p975')",
         "rawType": "float64",
         "type": "float"
        },
        {
         "name": "(30495, 'mean')",
         "rawType": "float64",
         "type": "float"
        },
        {
         "name": "(30495, 'p025')",
         "rawType": "float64",
         "type": "float"
        },
        {
         "name": "(30495, 'p975')",
         "rawType": "float64",
         "type": "float"
        },
        {
         "name": "(30496, 'mean')",
         "rawType": "float64",
         "type": "float"
        },
        {
         "name": "(30496, 'p025')",
         "rawType": "float64",
         "type": "float"
        },
        {
         "name": "(30496, 'p975')",
         "rawType": "float64",
         "type": "float"
        },
        {
         "name": "(30497, 'mean')",
         "rawType": "float64",
         "type": "float"
        },
        {
         "name": "(30497, 'p025')",
         "rawType": "float64",
         "type": "float"
        },
        {
         "name": "(30497, 'p975')",
         "rawType": "float64",
         "type": "float"
        }
       ],
       "ref": "0b1c3bd7-7fc1-42c8-9843-4a83c788ac44",
       "rows": [
        [
         "Australia",
         "38.94967546958173",
         "38.75973344969479",
         "39.13962431006939",
         "22.18899008111105",
         "22.00146923350705",
         "22.37998822154763",
         "0.0",
         "0.0",
         "0.0",
         "0.0",
         "0.0",
         "0.0",
         "0.0",
         "0.0",
         "0.0",
         "0.0",
         "0.0",
         "0.0",
         "0.0",
         "0.0",
         "0.0",
         "0.0",
         "0.0",
         "0.0",
         "0.0",
         "0.0",
         "0.0",
         "0.0",
         "0.0",
         "0.0",
         "38.94967546972891",
         "38.75973344984125",
         "39.13962431021729",
         "5.856317042495861",
         "5.827758122886452",
         "5.884876988796051",
         "15.29716362071719",
         "15.22256546053361",
         "15.37176446047417",
         "39.09454030258844",
         "38.90389183474426",
         "39.28519561641917",
         "7.720789072749157",
         "7.683137867208138",
         "7.758441631373566",
         "38.94967546958173",
         "38.75973344969479",
         "39.13962431006939",
         "22.18899008111105",
         "22.00146923350705",
         "22.37998822154763",
         "20.97339468832972",
         "20.80298056916354",
         "21.14679633507511",
         "0.0",
         "0.0",
         "0.0",
         "0.0",
         "0.0",
         "0.0",
         "0.0",
         "0.0",
         "0.0",
         "6.899515442664006",
         "6.800441263036494",
         "7.003728597033975",
         "38.94967547000009",
         "38.75973345011112",
         "39.13962431048979",
         "0.0",
         "0.0",
         "0.0",
         "38.94967546987154",
         "38.75973344998317",
         "39.1396243103606",
         "10.95088198241596",
         "10.89747890302733",
         "11.00428698044991",
         "0.0",
         "0.0",
         "0.0",
         "0.0",
         "0.0",
         "0.0",
         "0.0",
         "0.0",
         "0.0",
         "0.0",
         "0.0",
         "0.0",
         "0.0",
         "0.0",
         "0.0",
         "0.0",
         "0.0",
         "0.0",
         "6.899515442664006",
         "6.800441263036494",
         "7.003728597033975",
         "0.0",
         "0.0",
         "0.0",
         "38.94967547000009",
         "38.75973345011112",
         "39.13962431048979",
         "39.42431058486477",
         "39.23205395899266",
         "39.61657411448732",
         "10.95088198241596",
         "10.89747890302733",
         "11.00428698044991",
         "39.42431058486477",
         "39.23205395899266",
         "39.61657411448732",
         "0.0",
         "0.0",
         "0.0",
         "0.0",
         "0.0",
         "0.0",
         "24.38219431084066",
         "24.1793856475347",
         "24.58868176798526",
         "0.0",
         "0.0",
         "0.0",
         "0.0",
         "0.0",
         "0.0",
         "0.0",
         "0.0",
         "0.0",
         "0.0",
         "0.0",
         "0.0",
         "0.0",
         "0.0",
         "0.0",
         "0.0",
         "0.0",
         "0.0",
         "0.0",
         "0.0",
         "0.0",
         "0.0",
         "0.0",
         "0.0",
         "0.0",
         "0.0",
         "0.0",
         "0.0",
         "0.0",
         "0.0",
         "38.94967546972891",
         "38.75973344984125",
         "39.13962431021729",
         "5.856317042495861",
         "5.827758122886452",
         "5.884876988796051",
         "15.29716362071719",
         "15.22256546053361",
         "15.37176446047417",
         "39.09454030258844",
         "38.90389183474426",
         "39.28519561641917",
         "7.720789072749157",
         "7.683137867208138",
         "7.758441631373566",
         "38.94967546958173",
         "38.75973344969479",
         "39.13962431006939",
         "22.18899008111105",
         "22.00146923350705",
         "22.37998822154763",
         "20.97339468832972",
         "20.80298056916353",
         "21.14679633507511",
         "6.899516263968826",
         "6.800442082012771",
         "7.003729420535824",
         "0.0",
         "0.0",
         "0.0",
         "0.0",
         "0.0",
         "0.0",
         "6.899515442664006",
         "6.800441263036494",
         "7.003728597033975",
         "38.94967547000009",
         "38.75973345011112",
         "39.13962431048979",
         "0.0",
         "0.0",
         "0.0",
         "38.94967546987154",
         "38.75973344998317",
         "39.1396243103606",
         "10.95088198241596",
         "10.89747890302733",
         "11.00428698044991",
         "0.0",
         "0.0",
         "0.0",
         "10.95088198241596",
         "10.89747890302733",
         "11.00428698044991",
         "0.0",
         "0.0",
         "0.0",
         "0.0",
         "0.0",
         "0.0",
         "0.0",
         "0.0",
         "0.0",
         "0.0",
         "0.0",
         "0.0",
         "38.94967546965812",
         "38.75973344977079",
         "39.13962431014613",
         "6.899515442664006",
         "6.800441263036494",
         "7.003728597033975",
         "0.0",
         "0.0",
         "0.0",
         "38.94967547000009",
         "38.75973345011112",
         "39.13962431048979",
         "39.42431058486477",
         "39.23205395899266",
         "39.61657411448732",
         "0.0",
         "0.0",
         "0.0",
         "0.0",
         "0.0",
         "0.0",
         "39.42431058486477",
         "39.23205395899266",
         "39.61657411448732",
         "0.0",
         "0.0",
         "0.0",
         "0.0",
         "0.0",
         "0.0",
         "10.95088198241596",
         "10.89747890302733",
         "11.00428698044991",
         "10.95088198241596",
         "10.89747890302733",
         "11.00428698044991",
         "0.0",
         "0.0",
         "0.0",
         "0.0",
         "0.0",
         "0.0",
         "38.94967546965812",
         "38.75973344977079",
         "39.13962431014613",
         "10.95088198241596",
         "10.89747890302733",
         "11.00428698044991",
         "39.42431058486477",
         "39.23205395899266",
         "39.61657411448732",
         "0.0",
         "0.0",
         "0.0",
         "0.0",
         "0.0",
         "0.0",
         "38.94967546965812",
         "38.75973344977079",
         "39.13962431014613",
         "10.95088198241596",
         "10.89747890302733",
         "11.00428698044991",
         "39.42431058486477",
         "39.23205395899266",
         "39.61657411448732",
         "0.0",
         "0.0",
         "0.0",
         "0.0",
         "0.0",
         "0.0",
         "0.0",
         "0.0",
         "0.0",
         "0.0",
         "0.0",
         "0.0",
         "0.0",
         "0.0",
         "0.0",
         "38.94967546965812",
         "38.75973344977079",
         "39.13962431014613",
         "0.0",
         "0.0",
         "0.0",
         "0.0",
         "0.0",
         "0.0",
         "10.95088198241596",
         "10.89747890302733",
         "11.00428698044991",
         "0.0",
         "0.0",
         "0.0",
         "20.90252197711893",
         "20.73218484803124",
         "21.07585838542607",
         "0.0",
         "0.0",
         "0.0",
         "10.95088198241596",
         "10.89747890302733",
         "11.00428698044991",
         "38.94967546965812",
         "38.75973344977079",
         "39.13962431014613",
         "39.42431058486477",
         "39.23205395899266",
         "39.61657411448732",
         "0.0",
         "0.0",
         "0.0"
        ],
        [
         "Bangladesh",
         "0.0",
         "0.0",
         "0.0",
         "0.0",
         "0.0",
         "0.0",
         "0.0",
         "0.0",
         "0.0",
         "0.0",
         "0.0",
         "0.0",
         "0.0",
         "0.0",
         "0.0",
         "0.0",
         "0.0",
         "0.0",
         "0.0",
         "0.0",
         "0.0",
         "0.0",
         "0.0",
         "0.0",
         "0.0",
         "0.0",
         "0.0",
         "0.0",
         "0.0",
         "0.0",
         "37.26478371636694",
         "36.94985618752747",
         "37.58555110354057",
         "0.0",
         "0.0",
         "0.0",
         "0.0",
         "0.0",
         "0.0",
         "0.0",
         "0.0",
         "0.0",
         "0.0",
         "0.0",
         "0.0",
         "0.0",
         "0.0",
         "0.0",
         "0.0",
         "0.0",
         "0.0",
         "0.0",
         "0.0",
         "0.0",
         "0.0",
         "0.0",
         "0.0",
         "0.0",
         "0.0",
         "0.0",
         "0.0",
         "0.0",
         "0.0",
         "0.0",
         "0.0",
         "0.0",
         "0.0",
         "0.0",
         "0.0",
         "0.0",
         "0.0",
         "0.0",
         "0.0",
         "0.0",
         "0.0",
         "0.0",
         "0.0",
         "0.0",
         "0.0",
         "0.0",
         "0.0",
         "0.0",
         "0.0",
         "0.0",
         "0.0",
         "0.0",
         "0.0",
         "0.0",
         "0.0",
         "0.0",
         "0.0",
         "0.0",
         "0.0",
         "0.0",
         "0.0",
         "0.0",
         "0.0",
         "0.0",
         "0.0",
         "0.0",
         "0.0",
         "0.0",
         "0.0",
         "0.0",
         "0.0",
         "0.0",
         "0.0",
         "0.0",
         "0.0",
         "0.0",
         "0.0",
         "0.0",
         "0.0",
         "0.0",
         "0.0",
         "0.0",
         "0.0",
         "0.0",
         "0.0",
         "0.0",
         "0.0",
         "0.0",
         "0.0",
         "0.0",
         "0.0",
         "0.0",
         "0.0",
         "0.0",
         "0.0",
         "0.0",
         "0.0",
         "0.0",
         "0.0",
         "0.0",
         "0.0",
         "0.0",
         "0.0",
         "0.0",
         "0.0",
         "0.0",
         "0.0",
         "0.0",
         "0.0",
         "0.0",
         "0.0",
         "0.0",
         "0.0",
         "0.0",
         "0.0",
         "0.0",
         "0.0",
         "0.0",
         "0.0",
         "37.26478371636694",
         "36.94985618752747",
         "37.58555110354057",
         "0.0",
         "0.0",
         "0.0",
         "0.0",
         "0.0",
         "0.0",
         "0.0",
         "0.0",
         "0.0",
         "0.0",
         "0.0",
         "0.0",
         "0.0",
         "0.0",
         "0.0",
         "0.0",
         "0.0",
         "0.0",
         "0.0",
         "0.0",
         "0.0",
         "10.79086243336825",
         "10.63698523073509",
         "10.95269258622727",
         "0.0",
         "0.0",
         "0.0",
         "0.0",
         "0.0",
         "0.0",
         "0.0",
         "0.0",
         "0.0",
         "0.0",
         "0.0",
         "0.0",
         "0.0",
         "0.0",
         "0.0",
         "0.0",
         "0.0",
         "0.0",
         "0.0",
         "0.0",
         "0.0",
         "0.0",
         "0.0",
         "0.0",
         "0.0",
         "0.0",
         "0.0",
         "0.0",
         "0.0",
         "0.0",
         "0.0",
         "0.0",
         "0.0",
         "0.0",
         "0.0",
         "0.0",
         "0.0",
         "0.0",
         "0.0",
         "0.0",
         "0.0",
         "0.0",
         "0.0",
         "0.0",
         "0.0",
         "0.0",
         "0.0",
         "0.0",
         "0.0",
         "0.0",
         "0.0",
         "0.0",
         "0.0",
         "0.0",
         "0.0",
         "0.0",
         "0.0",
         "0.0",
         "0.0",
         "0.0",
         "0.0",
         "0.0",
         "0.0",
         "0.0",
         "0.0",
         "0.0",
         "0.0",
         "0.0",
         "0.0",
         "0.0",
         "0.0",
         "0.0",
         "0.0",
         "0.0",
         "0.0",
         "0.0",
         "0.0",
         "0.0",
         "37.26478371636694",
         "36.94985618752747",
         "37.58555110354057",
         "0.0",
         "0.0",
         "0.0",
         "0.0",
         "0.0",
         "0.0",
         "0.0",
         "0.0",
         "0.0",
         "0.0",
         "0.0",
         "0.0",
         "0.0",
         "0.0",
         "0.0",
         "0.0",
         "0.0",
         "0.0",
         "0.0",
         "0.0",
         "0.0",
         "0.0",
         "0.0",
         "0.0",
         "0.0",
         "0.0",
         "0.0",
         "0.0",
         "0.0",
         "0.0",
         "0.0",
         "0.0",
         "0.0",
         "0.0",
         "0.0",
         "0.0",
         "0.0",
         "0.0",
         "0.0",
         "0.0",
         "0.0",
         "0.0",
         "0.0",
         "0.0",
         "0.0",
         "37.26478371636694",
         "36.94985618752747",
         "37.58555110354057",
         "0.0",
         "0.0",
         "0.0",
         "0.0",
         "0.0",
         "0.0",
         "0.0",
         "0.0",
         "0.0",
         "0.0",
         "0.0",
         "0.0",
         "0.0",
         "0.0",
         "0.0",
         "0.0",
         "0.0",
         "0.0",
         "0.0",
         "0.0",
         "0.0",
         "0.0",
         "0.0",
         "0.0"
        ],
        [
         "Brazil",
         "0.0",
         "0.0",
         "0.0",
         "0.0",
         "0.0",
         "0.0",
         "0.0",
         "0.0",
         "0.0",
         "0.0",
         "0.0",
         "0.0",
         "0.0",
         "0.0",
         "0.0",
         "0.0",
         "0.0",
         "0.0",
         "0.0",
         "0.0",
         "0.0",
         "0.0",
         "0.0",
         "0.0",
         "0.0",
         "0.0",
         "0.0",
         "0.0",
         "0.0",
         "0.0",
         "0.0",
         "0.0",
         "0.0",
         "6.410800822687552",
         "6.379537907038485",
         "6.442064862617431",
         "3.409020589631278",
         "3.39239615802594",
         "3.425645619686397",
         "6.872156663794918",
         "6.838643899858361",
         "6.905670632830281",
         "3.543015658772517",
         "3.525737786698333",
         "3.560294152768162",
         "0.0",
         "0.0",
         "0.0",
         "0.0",
         "0.0",
         "0.0",
         "5.219947134404628",
         "5.194491536867346",
         "5.245403647617574",
         "0.0",
         "0.0",
         "0.0",
         "0.0",
         "0.0",
         "0.0",
         "1.295387504192193",
         "1.276786277148598",
         "1.314953576760043",
         "0.0",
         "0.0",
         "0.0",
         "0.0",
         "0.0",
         "0.0",
         "0.0",
         "0.0",
         "0.0",
         "7.312821215645438",
         "7.277159506579693",
         "7.348484207002639",
         "5.851691776197803",
         "5.823155412201089",
         "5.880229166533835",
         "0.0",
         "0.0",
         "0.0",
         "0.0",
         "0.0",
         "0.0",
         "0.0",
         "0.0",
         "0.0",
         "0.0",
         "0.0",
         "0.0",
         "7.312821215643313",
         "7.27715950657758",
         "7.348484207000506",
         "0.0",
         "0.0",
         "0.0",
         "0.0",
         "0.0",
         "0.0",
         "0.0",
         "0.0",
         "0.0",
         "0.0",
         "0.0",
         "0.0",
         "6.030648309034842",
         "6.00123924545767",
         "6.060058430299915",
         "5.851691776197803",
         "5.823155412201089",
         "5.880229166533835",
         "6.030648309034842",
         "6.00123924545767",
         "6.060058430299915",
         "0.0",
         "0.0",
         "0.0",
         "0.0",
         "0.0",
         "0.0",
         "4.512456703879569",
         "4.474321589117626",
         "4.55129897871139",
         "0.0",
         "0.0",
         "0.0",
         "0.0",
         "0.0",
         "0.0",
         "0.0",
         "0.0",
         "0.0",
         "0.0",
         "0.0",
         "0.0",
         "0.0",
         "0.0",
         "0.0",
         "0.0",
         "0.0",
         "0.0",
         "0.0",
         "0.0",
         "0.0",
         "0.0",
         "0.0",
         "0.0",
         "0.0",
         "0.0",
         "0.0",
         "0.0",
         "0.0",
         "0.0",
         "0.0",
         "0.0",
         "0.0",
         "6.410800822687552",
         "6.379537907038485",
         "6.442064862617431",
         "3.409020589631278",
         "3.39239615802594",
         "3.425645619686397",
         "6.872156663794918",
         "6.838643899858361",
         "6.905670632830281",
         "3.543015658772517",
         "3.525737786698333",
         "3.560294152768162",
         "0.0",
         "0.0",
         "0.0",
         "0.0",
         "0.0",
         "0.0",
         "5.219947134404626",
         "5.194491536867345",
         "5.245403647617573",
         "0.0",
         "0.0",
         "0.0",
         "0.0",
         "0.0",
         "0.0",
         "0.0",
         "0.0",
         "0.0",
         "0.0",
         "0.0",
         "0.0",
         "0.0",
         "0.0",
         "0.0",
         "0.0",
         "0.0",
         "0.0",
         "7.312821215645438",
         "7.277159506579693",
         "7.348484207002639",
         "5.851691776197803",
         "5.823155412201089",
         "5.880229166533835",
         "0.0",
         "0.0",
         "0.0",
         "5.851691776197803",
         "5.823155412201089",
         "5.880229166533835",
         "0.0",
         "0.0",
         "0.0",
         "0.0",
         "0.0",
         "0.0",
         "7.312821215643313",
         "7.27715950657758",
         "7.348484207000506",
         "0.0",
         "0.0",
         "0.0",
         "7.312821215643313",
         "7.27715950657758",
         "7.348484207000506",
         "0.0",
         "0.0",
         "0.0",
         "0.0",
         "0.0",
         "0.0",
         "0.0",
         "0.0",
         "0.0",
         "6.030648309034842",
         "6.00123924545767",
         "6.060058430299915",
         "0.0",
         "0.0",
         "0.0",
         "7.312821215643313",
         "7.27715950657758",
         "7.348484207000506",
         "6.030648309034842",
         "6.00123924545767",
         "6.060058430299915",
         "0.0",
         "0.0",
         "0.0",
         "0.0",
         "0.0",
         "0.0",
         "5.851691776197803",
         "5.823155412201089",
         "5.880229166533835",
         "5.851691776197803",
         "5.823155412201089",
         "5.880229166533835",
         "0.0",
         "0.0",
         "0.0",
         "0.0",
         "0.0",
         "0.0",
         "7.312821215643313",
         "7.27715950657758",
         "7.348484207000506",
         "5.851691776197803",
         "5.823155412201089",
         "5.880229166533835",
         "6.030648309034842",
         "6.00123924545767",
         "6.060058430299915",
         "0.0",
         "0.0",
         "0.0",
         "0.0",
         "0.0",
         "0.0",
         "7.312821215643313",
         "7.27715950657758",
         "7.348484207000506",
         "5.851691776197803",
         "5.823155412201089",
         "5.880229166533835",
         "6.030648309034842",
         "6.00123924545767",
         "6.060058430299915",
         "0.0",
         "0.0",
         "0.0",
         "0.0",
         "0.0",
         "0.0",
         "0.0",
         "0.0",
         "0.0",
         "0.0",
         "0.0",
         "0.0",
         "7.312821215643313",
         "7.27715950657758",
         "7.348484207000506",
         "7.312821215643313",
         "7.27715950657758",
         "7.348484207000506",
         "0.0",
         "0.0",
         "0.0",
         "0.0",
         "0.0",
         "0.0",
         "5.851691776197803",
         "5.823155412201089",
         "5.880229166533835",
         "0.0",
         "0.0",
         "0.0",
         "5.196893762762125",
         "5.171550587316645",
         "5.222237849844934",
         "0.0",
         "0.0",
         "0.0",
         "5.851691776197803",
         "5.823155412201089",
         "5.880229166533835",
         "7.312821215643313",
         "7.27715950657758",
         "7.348484207000506",
         "6.030648309034842",
         "6.00123924545767",
         "6.060058430299915",
         "0.0",
         "0.0",
         "0.0"
        ],
        [
         "Canada",
         "1.741967525336072",
         "1.733472645169285",
         "1.750462710752251",
         "0.0",
         "0.0",
         "0.0",
         "1.066936696884843",
         "1.061649336753994",
         "1.072227937328615",
         "0.3286703611451113",
         "0.3268942356458607",
         "0.330454135045495",
         "1.766547817441411",
         "1.757933068973548",
         "1.77516287542899",
         "1.066936696884843",
         "1.061649336753994",
         "1.072227937328615",
         "1.428011688816503",
         "1.421047845901678",
         "1.434975781960871",
         "0.0",
         "0.0",
         "0.0",
         "0.0",
         "0.0",
         "0.0",
         "0.0",
         "0.0",
         "0.0",
         "1.428011688816504",
         "1.421047845901678",
         "1.434975781960871",
         "0.6294612869249687",
         "0.6263916565697649",
         "0.6325310288061388",
         "1.411632894132584",
         "1.404748924387843",
         "1.418517111603688",
         "0.6169406506163864",
         "0.6139320784174876",
         "0.6199493321610152",
         "1.236162221854367",
         "1.230133952687528",
         "1.24219070819217",
         "1.741967525336072",
         "1.733472645169285",
         "1.750462710752251",
         "0.0",
         "0.0",
         "0.0",
         "0.9494008916752564",
         "0.944771043300006",
         "0.9540309072882202",
         "0.9323596819110831",
         "0.924480239236227",
         "0.9403852372003969",
         "0.9323596819110831",
         "0.924480239236227",
         "0.9403852372003969",
         "0.0",
         "0.0",
         "0.0",
         "0.0",
         "0.0",
         "0.0",
         "1.093524305390564",
         "1.084282848210961",
         "1.102937131710959",
         "0.0",
         "0.0",
         "0.0",
         "0.0",
         "0.0",
         "0.0",
         "1.347148995320282",
         "1.340579487865734",
         "1.353718739272418",
         "1.758252514325187",
         "1.749678218741175",
         "1.766827117980585",
         "1.758252514325187",
         "1.749678218741175",
         "1.766827117980585",
         "1.772149466505503",
         "1.763507401033358",
         "1.780791842482842",
         "1.746412729814162",
         "1.737896172150316",
         "1.754929593496752",
         "1.772149466509054",
         "1.763507401036891",
         "1.78079184248641",
         "0.0",
         "0.0",
         "0.0",
         "0.0",
         "0.0",
         "0.0",
         "1.746412729814162",
         "1.737896172150316",
         "1.754929593496752",
         "1.093524305390564",
         "1.084282848210961",
         "1.102937131710959",
         "1.620490620820916",
         "1.612588135132453",
         "1.628393390605367",
         "1.347148995320282",
         "1.340579487865734",
         "1.353718739272418",
         "1.620490620820916",
         "1.612588135132453",
         "1.628393390605367",
         "0.0",
         "0.0",
         "0.0",
         "0.0",
         "0.0",
         "0.0",
         "0.0",
         "0.0",
         "0.0",
         "0.3286703611451113",
         "0.3268942356458607",
         "0.330454135045495",
         "0.2213789125662805",
         "0.2195080225101325",
         "0.2232844955957921",
         "0.3390222345294329",
         "0.3372552522630058",
         "0.340794255837243",
         "1.766547817441411",
         "1.757933068973548",
         "1.77516287542899",
         "1.066936696884843",
         "1.061649336753994",
         "1.072227937328615",
         "1.766547817441411",
         "1.757933068973548",
         "1.77516287542899",
         "1.428011688816503",
         "1.421047845901678",
         "1.434975781960871",
         "0.0",
         "0.0",
         "0.0",
         "0.0",
         "0.0",
         "0.0",
         "0.0",
         "0.0",
         "0.0",
         "1.428011688816504",
         "1.421047845901678",
         "1.434975781960871",
         "0.6294612869249687",
         "0.6263916565697649",
         "0.6325310288061388",
         "1.411632894132584",
         "1.404748924387843",
         "1.418517111603688",
         "0.6169406506163864",
         "0.6139320784174876",
         "0.6199493321610152",
         "1.236162221854367",
         "1.230133952687528",
         "1.24219070819217",
         "1.741967525336072",
         "1.733472645169285",
         "1.750462710752251",
         "0.0",
         "0.0",
         "0.0",
         "0.9494008916752564",
         "0.944771043300006",
         "0.9540309072882204",
         "0.9323596819110831",
         "0.924480239236227",
         "0.9403852372003969",
         "0.9323596819110831",
         "0.924480239236227",
         "0.9403852372003969",
         "1.758252514325187",
         "1.749678218741175",
         "1.766827117980585",
         "0.0",
         "0.0",
         "0.0",
         "1.093524305390564",
         "1.084282848210961",
         "1.102937131710959",
         "0.0",
         "0.0",
         "0.0",
         "0.0",
         "0.0",
         "0.0",
         "1.347148995320282",
         "1.340579487865734",
         "1.353718739272418",
         "1.758252514325187",
         "1.749678218741175",
         "1.766827117980585",
         "1.347148995320282",
         "1.340579487865734",
         "1.353718739272418",
         "1.758252514325187",
         "1.749678218741175",
         "1.766827117980585",
         "1.746412729814162",
         "1.737896172150316",
         "1.754929593496752",
         "1.772149466509054",
         "1.763507401036891",
         "1.78079184248641",
         "0.0",
         "0.0",
         "0.0",
         "1.647703397720048",
         "1.639606731487355",
         "1.655803044824149",
         "0.0",
         "0.0",
         "0.0",
         "1.746412729814162",
         "1.737896172150316",
         "1.754929593496752",
         "1.093524305390564",
         "1.084282848210961",
         "1.102937131710959",
         "1.620490620820916",
         "1.612588135132453",
         "1.628393390605367",
         "0.0",
         "0.0",
         "0.0",
         "1.772149466509054",
         "1.763507401036891",
         "1.78079184248641",
         "1.620490620820916",
         "1.612588135132453",
         "1.628393390605367",
         "0.0",
         "0.0",
         "0.0",
         "0.0",
         "0.0",
         "0.0",
         "1.347148995320282",
         "1.340579487865734",
         "1.353718739272418",
         "1.347148995320282",
         "1.340579487865734",
         "1.353718739272418",
         "1.066936696884843",
         "1.061649336753994",
         "1.072227937328615",
         "1.428011688816503",
         "1.421047845901678",
         "1.434975781960871",
         "1.647703397720048",
         "1.639606731487355",
         "1.655803044824149",
         "1.347148995320282",
         "1.340579487865734",
         "1.353718739272418",
         "1.620490620820916",
         "1.612588135132453",
         "1.628393390605367",
         "0.0",
         "0.0",
         "0.0",
         "1.066936696884843",
         "1.061649336753994",
         "1.072227937328615",
         "1.647703397720048",
         "1.639606731487355",
         "1.655803044824149",
         "1.347148995320282",
         "1.340579487865734",
         "1.353718739272418",
         "1.620490620820916",
         "1.612588135132453",
         "1.628393390605367",
         "0.0",
         "0.0",
         "0.0",
         "1.758252514325187",
         "1.749678218741175",
         "1.766827117980585",
         "1.772149466505503",
         "1.763507401033358",
         "1.780791842482842",
         "1.746412729814162",
         "1.737896172150316",
         "1.754929593496752",
         "1.772149466509054",
         "1.763507401036891",
         "1.78079184248641",
         "1.647703397720048",
         "1.639606731487355",
         "1.655803044824149",
         "1.066936696884843",
         "1.061649336753994",
         "1.072227937328615",
         "1.428011688816503",
         "1.421047845901678",
         "1.434975781960871",
         "1.347148995320282",
         "1.340579487865734",
         "1.353718739272418",
         "0.9323596819110831",
         "0.924480239236227",
         "0.9403852372003969",
         "0.9494008916752564",
         "0.944771043300006",
         "0.9540309072882204",
         "0.0",
         "0.0",
         "0.0",
         "1.347148995320282",
         "1.340579487865734",
         "1.353718739272418",
         "1.647703397720048",
         "1.639606731487355",
         "1.655803044824149",
         "1.620490620820916",
         "1.612588135132453",
         "1.628393390605367",
         "0.0",
         "0.0",
         "0.0"
        ],
        [
         "China",
         "6.841738591951828",
         "6.808374164460624",
         "6.875104218306732",
         "0.0",
         "0.0",
         "0.0",
         "0.0",
         "0.0",
         "0.0",
         "0.0",
         "0.0",
         "0.0",
         "0.0",
         "0.0",
         "0.0",
         "0.0",
         "0.0",
         "0.0",
         "0.0",
         "0.0",
         "0.0",
         "0.0",
         "0.0",
         "0.0",
         "0.0",
         "0.0",
         "0.0",
         "0.0",
         "0.0",
         "0.0",
         "16.25063480090774",
         "16.17138694241559",
         "16.32988550620664",
         "0.6186222185489588",
         "0.6156054460143716",
         "0.6216391007236245",
         "0.6211999005568168",
         "0.6181705576949151",
         "0.6242293535086878",
         "0.6193011230712312",
         "0.6162810397895926",
         "0.6223213161108565",
         "0.617792521023191",
         "0.6147797945922782",
         "0.6208053569489146",
         "6.841738591951828",
         "6.808374164460624",
         "6.875104218306732",
         "0.0",
         "0.0",
         "0.0",
         "0.6190069667010134",
         "0.6159883179029677",
         "0.6220257252060781",
         "10.00550561304355",
         "9.920948322288217",
         "10.09163089192002",
         "10.00550561304355",
         "9.920948322288217",
         "10.09163089192002",
         "9.167100563004771",
         "9.089628697224333",
         "9.246009028262716",
         "2.656468264322624",
         "2.618322482895187",
         "2.696592668245422",
         "8.460045054256453",
         "8.388548568471387",
         "8.532867335006676",
         "3.7376820786778",
         "3.706094642370084",
         "3.769855256110298",
         "16.17774291814763",
         "16.09885052427568",
         "16.25663814606634",
         "0.6442039922785472",
         "0.6410624676453636",
         "0.6473456310327912",
         "16.25063480096585",
         "16.17138694247342",
         "16.32988550626504",
         "16.25063480096585",
         "16.17138694247342",
         "16.32988550626504",
         "0.0",
         "0.0",
         "0.0",
         "0.0",
         "0.0",
         "0.0",
         "0.0",
         "0.0",
         "0.0",
         "0.0",
         "0.0",
         "0.0",
         "2.656468264322624",
         "2.618322482895187",
         "2.696592668245422",
         "0.0",
         "0.0",
         "0.0",
         "8.460045054256453",
         "8.388548568471387",
         "8.532867335006676",
         "0.8443818927276316",
         "0.8402641803245304",
         "0.8484997542335591",
         "0.6442039922785472",
         "0.6410624676453636",
         "0.6473456310327912",
         "0.8443818927276316",
         "0.8402641803245304",
         "0.8484997542335591",
         "0.0",
         "0.0",
         "0.0",
         "0.0",
         "0.0",
         "0.0",
         "14.22443283790653",
         "14.14747253618401",
         "14.30172817089427",
         "0.0",
         "0.0",
         "0.0",
         "0.0",
         "0.0",
         "0.0",
         "0.0",
         "0.0",
         "0.0",
         "0.0",
         "0.0",
         "0.0",
         "0.0",
         "0.0",
         "0.0",
         "0.0",
         "0.0",
         "0.0",
         "0.0",
         "0.0",
         "0.0",
         "0.0",
         "0.0",
         "0.0",
         "0.0",
         "0.0",
         "0.0",
         "0.0",
         "0.0",
         "0.0",
         "16.25063480090774",
         "16.17138694241559",
         "16.32988550620664",
         "0.6186222185489588",
         "0.6156054460143716",
         "0.6216391007236245",
         "0.6211999005568168",
         "0.6181705576949151",
         "0.6242293535086878",
         "0.6193011230712312",
         "0.6162810397895926",
         "0.6223213161108565",
         "0.617792521023191",
         "0.6147797945922782",
         "0.6208053569489146",
         "6.841738591951828",
         "6.808374164460624",
         "6.875104218306732",
         "0.0",
         "0.0",
         "0.0",
         "0.6190069667010133",
         "0.6159883179029677",
         "0.6220257252060781",
         "3.340778896333226",
         "3.298312976498125",
         "3.385185063401474",
         "10.00550561304355",
         "9.920948322288217",
         "10.09163089192002",
         "16.25063480096585",
         "16.17138694247342",
         "16.32988550626504",
         "2.656468264322624",
         "2.618322482895187",
         "2.696592668245422",
         "8.460045054256453",
         "8.388548568471387",
         "8.532867335006676",
         "3.7376820786778",
         "3.706094642370084",
         "3.769855256110298",
         "16.17774291814763",
         "16.09885052427568",
         "16.25663814606634",
         "0.6442039922785472",
         "0.6410624676453636",
         "0.6473456310327912",
         "16.25063480096585",
         "16.17138694247342",
         "16.32988550626504",
         "0.6442039922785472",
         "0.6410624676453636",
         "0.6473456310327912",
         "16.25063480096585",
         "16.17138694247342",
         "16.32988550626504",
         "0.0",
         "0.0",
         "0.0",
         "0.0",
         "0.0",
         "0.0",
         "0.0",
         "0.0",
         "0.0",
         "16.25063480096585",
         "16.17138694247342",
         "16.32988550626504",
         "2.656468264322624",
         "2.618322482895187",
         "2.696592668245422",
         "0.0",
         "0.0",
         "0.0",
         "8.460045054256453",
         "8.388548568471387",
         "8.532867335006676",
         "0.8443818927276316",
         "0.8402641803245304",
         "0.8484997542335591",
         "0.0",
         "0.0",
         "0.0",
         "0.0",
         "0.0",
         "0.0",
         "0.8443818927276316",
         "0.8402641803245304",
         "0.8484997542335591",
         "0.0",
         "0.0",
         "0.0",
         "0.0",
         "0.0",
         "0.0",
         "0.6442039922785472",
         "0.6410624676453636",
         "0.6473456310327912",
         "0.6442039922785472",
         "0.6410624676453636",
         "0.6473456310327912",
         "0.0",
         "0.0",
         "0.0",
         "0.0",
         "0.0",
         "0.0",
         "16.25063480096585",
         "16.17138694247342",
         "16.32988550626504",
         "0.6442039922785472",
         "0.6410624676453636",
         "0.6473456310327912",
         "0.8443818927276316",
         "0.8402641803245304",
         "0.8484997542335591",
         "0.0",
         "0.0",
         "0.0",
         "0.0",
         "0.0",
         "0.0",
         "16.25063480096585",
         "16.17138694247342",
         "16.32988550626504",
         "0.6442039922785472",
         "0.6410624676453636",
         "0.6473456310327912",
         "0.8443818927276316",
         "0.8402641803245304",
         "0.8484997542335591",
         "0.0",
         "0.0",
         "0.0",
         "16.25063480096585",
         "16.17138694247342",
         "16.32988550626504",
         "0.0",
         "0.0",
         "0.0",
         "0.0",
         "0.0",
         "0.0",
         "0.0",
         "0.0",
         "0.0",
         "16.25063480096585",
         "16.17138694247342",
         "16.32988550626504",
         "0.0",
         "0.0",
         "0.0",
         "0.0",
         "0.0",
         "0.0",
         "0.6442039922785472",
         "0.6410624676453636",
         "0.6473456310327912",
         "10.00550561304355",
         "9.920948322288217",
         "10.09163089192002",
         "0.6189956455533584",
         "0.6159770519640977",
         "0.6220143488477657",
         "0.0",
         "0.0",
         "0.0",
         "0.6442039922785472",
         "0.6410624676453636",
         "0.6473456310327912",
         "16.25063480096585",
         "16.17138694247342",
         "16.32988550626504",
         "0.8443818927276316",
         "0.8402641803245304",
         "0.8484997542335591",
         "0.0",
         "0.0",
         "0.0"
        ]
       ],
       "shape": {
        "columns": 333,
        "rows": 5
       }
      },
      "text/html": [
       "<div>\n",
       "<style scoped>\n",
       "    .dataframe tbody tr th:only-of-type {\n",
       "        vertical-align: middle;\n",
       "    }\n",
       "\n",
       "    .dataframe tbody tr th {\n",
       "        vertical-align: top;\n",
       "    }\n",
       "\n",
       "    .dataframe thead tr th {\n",
       "        text-align: left;\n",
       "    }\n",
       "</style>\n",
       "<table border=\"1\" class=\"dataframe\">\n",
       "  <thead>\n",
       "    <tr>\n",
       "      <th></th>\n",
       "      <th colspan=\"3\" halign=\"left\">30194</th>\n",
       "      <th colspan=\"3\" halign=\"left\">30195</th>\n",
       "      <th colspan=\"3\" halign=\"left\">30212</th>\n",
       "      <th>30213</th>\n",
       "      <th>...</th>\n",
       "      <th>30491</th>\n",
       "      <th colspan=\"3\" halign=\"left\">30495</th>\n",
       "      <th colspan=\"3\" halign=\"left\">30496</th>\n",
       "      <th colspan=\"3\" halign=\"left\">30497</th>\n",
       "    </tr>\n",
       "    <tr>\n",
       "      <th></th>\n",
       "      <th>mean</th>\n",
       "      <th>p025</th>\n",
       "      <th>p975</th>\n",
       "      <th>mean</th>\n",
       "      <th>p025</th>\n",
       "      <th>p975</th>\n",
       "      <th>mean</th>\n",
       "      <th>p025</th>\n",
       "      <th>p975</th>\n",
       "      <th>mean</th>\n",
       "      <th>...</th>\n",
       "      <th>p975</th>\n",
       "      <th>mean</th>\n",
       "      <th>p025</th>\n",
       "      <th>p975</th>\n",
       "      <th>mean</th>\n",
       "      <th>p025</th>\n",
       "      <th>p975</th>\n",
       "      <th>mean</th>\n",
       "      <th>p025</th>\n",
       "      <th>p975</th>\n",
       "    </tr>\n",
       "  </thead>\n",
       "  <tbody>\n",
       "    <tr>\n",
       "      <th>Australia</th>\n",
       "      <td>38.949675</td>\n",
       "      <td>38.759733</td>\n",
       "      <td>39.139624</td>\n",
       "      <td>22.18899</td>\n",
       "      <td>22.001469</td>\n",
       "      <td>22.379988</td>\n",
       "      <td>0.000000</td>\n",
       "      <td>0.000000</td>\n",
       "      <td>0.000000</td>\n",
       "      <td>0.00000</td>\n",
       "      <td>...</td>\n",
       "      <td>11.004287</td>\n",
       "      <td>38.949675</td>\n",
       "      <td>38.759733</td>\n",
       "      <td>39.139624</td>\n",
       "      <td>39.424311</td>\n",
       "      <td>39.232054</td>\n",
       "      <td>39.616574</td>\n",
       "      <td>0.0</td>\n",
       "      <td>0.0</td>\n",
       "      <td>0.0</td>\n",
       "    </tr>\n",
       "    <tr>\n",
       "      <th>Bangladesh</th>\n",
       "      <td>0.000000</td>\n",
       "      <td>0.000000</td>\n",
       "      <td>0.000000</td>\n",
       "      <td>0.00000</td>\n",
       "      <td>0.000000</td>\n",
       "      <td>0.000000</td>\n",
       "      <td>0.000000</td>\n",
       "      <td>0.000000</td>\n",
       "      <td>0.000000</td>\n",
       "      <td>0.00000</td>\n",
       "      <td>...</td>\n",
       "      <td>0.000000</td>\n",
       "      <td>0.000000</td>\n",
       "      <td>0.000000</td>\n",
       "      <td>0.000000</td>\n",
       "      <td>0.000000</td>\n",
       "      <td>0.000000</td>\n",
       "      <td>0.000000</td>\n",
       "      <td>0.0</td>\n",
       "      <td>0.0</td>\n",
       "      <td>0.0</td>\n",
       "    </tr>\n",
       "    <tr>\n",
       "      <th>Brazil</th>\n",
       "      <td>0.000000</td>\n",
       "      <td>0.000000</td>\n",
       "      <td>0.000000</td>\n",
       "      <td>0.00000</td>\n",
       "      <td>0.000000</td>\n",
       "      <td>0.000000</td>\n",
       "      <td>0.000000</td>\n",
       "      <td>0.000000</td>\n",
       "      <td>0.000000</td>\n",
       "      <td>0.00000</td>\n",
       "      <td>...</td>\n",
       "      <td>5.880229</td>\n",
       "      <td>7.312821</td>\n",
       "      <td>7.277160</td>\n",
       "      <td>7.348484</td>\n",
       "      <td>6.030648</td>\n",
       "      <td>6.001239</td>\n",
       "      <td>6.060058</td>\n",
       "      <td>0.0</td>\n",
       "      <td>0.0</td>\n",
       "      <td>0.0</td>\n",
       "    </tr>\n",
       "    <tr>\n",
       "      <th>Canada</th>\n",
       "      <td>1.741968</td>\n",
       "      <td>1.733473</td>\n",
       "      <td>1.750463</td>\n",
       "      <td>0.00000</td>\n",
       "      <td>0.000000</td>\n",
       "      <td>0.000000</td>\n",
       "      <td>1.066937</td>\n",
       "      <td>1.061649</td>\n",
       "      <td>1.072228</td>\n",
       "      <td>0.32867</td>\n",
       "      <td>...</td>\n",
       "      <td>1.353719</td>\n",
       "      <td>1.647703</td>\n",
       "      <td>1.639607</td>\n",
       "      <td>1.655803</td>\n",
       "      <td>1.620491</td>\n",
       "      <td>1.612588</td>\n",
       "      <td>1.628393</td>\n",
       "      <td>0.0</td>\n",
       "      <td>0.0</td>\n",
       "      <td>0.0</td>\n",
       "    </tr>\n",
       "    <tr>\n",
       "      <th>China</th>\n",
       "      <td>6.841739</td>\n",
       "      <td>6.808374</td>\n",
       "      <td>6.875104</td>\n",
       "      <td>0.00000</td>\n",
       "      <td>0.000000</td>\n",
       "      <td>0.000000</td>\n",
       "      <td>0.000000</td>\n",
       "      <td>0.000000</td>\n",
       "      <td>0.000000</td>\n",
       "      <td>0.00000</td>\n",
       "      <td>...</td>\n",
       "      <td>0.647346</td>\n",
       "      <td>16.250635</td>\n",
       "      <td>16.171387</td>\n",
       "      <td>16.329886</td>\n",
       "      <td>0.844382</td>\n",
       "      <td>0.840264</td>\n",
       "      <td>0.848500</td>\n",
       "      <td>0.0</td>\n",
       "      <td>0.0</td>\n",
       "      <td>0.0</td>\n",
       "    </tr>\n",
       "  </tbody>\n",
       "</table>\n",
       "<p>5 rows × 333 columns</p>\n",
       "</div>"
      ],
      "text/plain": [
       "                30194                           30195                        \\\n",
       "                 mean       p025       p975      mean       p025       p975   \n",
       "Australia   38.949675  38.759733  39.139624  22.18899  22.001469  22.379988   \n",
       "Bangladesh   0.000000   0.000000   0.000000   0.00000   0.000000   0.000000   \n",
       "Brazil       0.000000   0.000000   0.000000   0.00000   0.000000   0.000000   \n",
       "Canada       1.741968   1.733473   1.750463   0.00000   0.000000   0.000000   \n",
       "China        6.841739   6.808374   6.875104   0.00000   0.000000   0.000000   \n",
       "\n",
       "               30212                        30213  ...      30491      30495  \\\n",
       "                mean      p025      p975     mean  ...       p975       mean   \n",
       "Australia   0.000000  0.000000  0.000000  0.00000  ...  11.004287  38.949675   \n",
       "Bangladesh  0.000000  0.000000  0.000000  0.00000  ...   0.000000   0.000000   \n",
       "Brazil      0.000000  0.000000  0.000000  0.00000  ...   5.880229   7.312821   \n",
       "Canada      1.066937  1.061649  1.072228  0.32867  ...   1.353719   1.647703   \n",
       "China       0.000000  0.000000  0.000000  0.00000  ...   0.647346  16.250635   \n",
       "\n",
       "                                      30496                       30497       \\\n",
       "                 p025       p975       mean       p025       p975  mean p025   \n",
       "Australia   38.759733  39.139624  39.424311  39.232054  39.616574   0.0  0.0   \n",
       "Bangladesh   0.000000   0.000000   0.000000   0.000000   0.000000   0.0  0.0   \n",
       "Brazil       7.277160   7.348484   6.030648   6.001239   6.060058   0.0  0.0   \n",
       "Canada       1.639607   1.655803   1.620491   1.612588   1.628393   0.0  0.0   \n",
       "China       16.171387  16.329886   0.844382   0.840264   0.848500   0.0  0.0   \n",
       "\n",
       "                 \n",
       "           p975  \n",
       "Australia   0.0  \n",
       "Bangladesh  0.0  \n",
       "Brazil      0.0  \n",
       "Canada      0.0  \n",
       "China       0.0  \n",
       "\n",
       "[5 rows x 333 columns]"
      ]
     },
     "execution_count": 16,
     "metadata": {},
     "output_type": "execute_result"
    }
   ],
   "source": [
    "C_c_code = pd.read_excel(\"Concentration_corresponding_to_the_code.xlsx\",index_col=0,header=[0,1])\n",
    "print(C_c_code.shape)\n",
    "C_c_code.head()"
   ]
  },
  {
   "cell_type": "code",
   "execution_count": 17,
   "metadata": {},
   "outputs": [
    {
     "name": "stdout",
     "output_type": "stream",
     "text": [
      "(33, 111)\n"
     ]
    },
    {
     "data": {
      "application/vnd.microsoft.datawrangler.viewer.v0+json": {
       "columns": [
        {
         "name": "index",
         "rawType": "object",
         "type": "string"
        },
        {
         "name": "30194",
         "rawType": "float64",
         "type": "float"
        },
        {
         "name": "30195",
         "rawType": "float64",
         "type": "float"
        },
        {
         "name": "30212",
         "rawType": "float64",
         "type": "float"
        },
        {
         "name": "30213",
         "rawType": "float64",
         "type": "float"
        },
        {
         "name": "30214",
         "rawType": "float64",
         "type": "float"
        },
        {
         "name": "30219",
         "rawType": "float64",
         "type": "float"
        },
        {
         "name": "30221",
         "rawType": "float64",
         "type": "float"
        },
        {
         "name": "30222",
         "rawType": "float64",
         "type": "float"
        },
        {
         "name": "30223",
         "rawType": "float64",
         "type": "float"
        },
        {
         "name": "30224",
         "rawType": "float64",
         "type": "float"
        },
        {
         "name": "30229",
         "rawType": "float64",
         "type": "float"
        },
        {
         "name": "30231",
         "rawType": "float64",
         "type": "float"
        },
        {
         "name": "30232",
         "rawType": "float64",
         "type": "float"
        },
        {
         "name": "30233",
         "rawType": "float64",
         "type": "float"
        },
        {
         "name": "30234",
         "rawType": "float64",
         "type": "float"
        },
        {
         "name": "30235",
         "rawType": "float64",
         "type": "float"
        },
        {
         "name": "30236",
         "rawType": "float64",
         "type": "float"
        },
        {
         "name": "30239",
         "rawType": "float64",
         "type": "float"
        },
        {
         "name": "30240",
         "rawType": "float64",
         "type": "float"
        },
        {
         "name": "30241",
         "rawType": "float64",
         "type": "float"
        },
        {
         "name": "30242",
         "rawType": "float64",
         "type": "float"
        },
        {
         "name": "30243",
         "rawType": "float64",
         "type": "float"
        },
        {
         "name": "30244",
         "rawType": "float64",
         "type": "float"
        },
        {
         "name": "30245",
         "rawType": "float64",
         "type": "float"
        },
        {
         "name": "30246",
         "rawType": "float64",
         "type": "float"
        },
        {
         "name": "30247",
         "rawType": "float64",
         "type": "float"
        },
        {
         "name": "30250",
         "rawType": "float64",
         "type": "float"
        },
        {
         "name": "30251",
         "rawType": "float64",
         "type": "float"
        },
        {
         "name": "30252",
         "rawType": "float64",
         "type": "float"
        },
        {
         "name": "30253",
         "rawType": "float64",
         "type": "float"
        },
        {
         "name": "30254",
         "rawType": "float64",
         "type": "float"
        },
        {
         "name": "30256",
         "rawType": "float64",
         "type": "float"
        },
        {
         "name": "30261",
         "rawType": "float64",
         "type": "float"
        },
        {
         "name": "30263",
         "rawType": "float64",
         "type": "float"
        },
        {
         "name": "30264",
         "rawType": "float64",
         "type": "float"
        },
        {
         "name": "30265",
         "rawType": "float64",
         "type": "float"
        },
        {
         "name": "30267",
         "rawType": "float64",
         "type": "float"
        },
        {
         "name": "30281",
         "rawType": "float64",
         "type": "float"
        },
        {
         "name": "30282",
         "rawType": "float64",
         "type": "float"
        },
        {
         "name": "30284",
         "rawType": "float64",
         "type": "float"
        },
        {
         "name": "30285",
         "rawType": "float64",
         "type": "float"
        },
        {
         "name": "30310",
         "rawType": "float64",
         "type": "float"
        },
        {
         "name": "30311",
         "rawType": "float64",
         "type": "float"
        },
        {
         "name": "30312",
         "rawType": "float64",
         "type": "float"
        },
        {
         "name": "30313",
         "rawType": "float64",
         "type": "float"
        },
        {
         "name": "30319",
         "rawType": "float64",
         "type": "float"
        },
        {
         "name": "30322",
         "rawType": "float64",
         "type": "float"
        },
        {
         "name": "30331",
         "rawType": "float64",
         "type": "float"
        },
        {
         "name": "30332",
         "rawType": "float64",
         "type": "float"
        },
        {
         "name": "30333",
         "rawType": "float64",
         "type": "float"
        },
        {
         "name": "30334",
         "rawType": "float64",
         "type": "float"
        },
        {
         "name": "30339",
         "rawType": "float64",
         "type": "float"
        },
        {
         "name": "30341",
         "rawType": "float64",
         "type": "float"
        },
        {
         "name": "30342",
         "rawType": "float64",
         "type": "float"
        },
        {
         "name": "30343",
         "rawType": "float64",
         "type": "float"
        },
        {
         "name": "30344",
         "rawType": "float64",
         "type": "float"
        },
        {
         "name": "30345",
         "rawType": "float64",
         "type": "float"
        },
        {
         "name": "30346",
         "rawType": "float64",
         "type": "float"
        },
        {
         "name": "30349",
         "rawType": "float64",
         "type": "float"
        },
        {
         "name": "30350",
         "rawType": "float64",
         "type": "float"
        },
        {
         "name": "30351",
         "rawType": "float64",
         "type": "float"
        },
        {
         "name": "30352",
         "rawType": "float64",
         "type": "float"
        },
        {
         "name": "30353",
         "rawType": "float64",
         "type": "float"
        },
        {
         "name": "30354",
         "rawType": "float64",
         "type": "float"
        },
        {
         "name": "30355",
         "rawType": "float64",
         "type": "float"
        },
        {
         "name": "30356",
         "rawType": "float64",
         "type": "float"
        },
        {
         "name": "30357",
         "rawType": "float64",
         "type": "float"
        },
        {
         "name": "30360",
         "rawType": "float64",
         "type": "float"
        },
        {
         "name": "30361",
         "rawType": "float64",
         "type": "float"
        },
        {
         "name": "30363",
         "rawType": "float64",
         "type": "float"
        },
        {
         "name": "30365",
         "rawType": "float64",
         "type": "float"
        },
        {
         "name": "30366",
         "rawType": "float64",
         "type": "float"
        },
        {
         "name": "30368",
         "rawType": "float64",
         "type": "float"
        },
        {
         "name": "30369",
         "rawType": "float64",
         "type": "float"
        },
        {
         "name": "30371",
         "rawType": "float64",
         "type": "float"
        },
        {
         "name": "30373",
         "rawType": "float64",
         "type": "float"
        },
        {
         "name": "30374",
         "rawType": "float64",
         "type": "float"
        },
        {
         "name": "30375",
         "rawType": "float64",
         "type": "float"
        },
        {
         "name": "30377",
         "rawType": "float64",
         "type": "float"
        },
        {
         "name": "30378",
         "rawType": "float64",
         "type": "float"
        },
        {
         "name": "30381",
         "rawType": "float64",
         "type": "float"
        },
        {
         "name": "30382",
         "rawType": "float64",
         "type": "float"
        },
        {
         "name": "30384",
         "rawType": "float64",
         "type": "float"
        },
        {
         "name": "30410",
         "rawType": "float64",
         "type": "float"
        },
        {
         "name": "30421",
         "rawType": "float64",
         "type": "float"
        },
        {
         "name": "30441",
         "rawType": "float64",
         "type": "float"
        },
        {
         "name": "30443",
         "rawType": "float64",
         "type": "float"
        },
        {
         "name": "30444",
         "rawType": "float64",
         "type": "float"
        },
        {
         "name": "30445",
         "rawType": "float64",
         "type": "float"
        },
        {
         "name": "30447",
         "rawType": "float64",
         "type": "float"
        },
        {
         "name": "30448",
         "rawType": "float64",
         "type": "float"
        },
        {
         "name": "30452",
         "rawType": "float64",
         "type": "float"
        },
        {
         "name": "30453",
         "rawType": "float64",
         "type": "float"
        },
        {
         "name": "30454",
         "rawType": "float64",
         "type": "float"
        },
        {
         "name": "30456",
         "rawType": "float64",
         "type": "float"
        },
        {
         "name": "30457",
         "rawType": "float64",
         "type": "float"
        },
        {
         "name": "30471",
         "rawType": "float64",
         "type": "float"
        },
        {
         "name": "30472",
         "rawType": "float64",
         "type": "float"
        },
        {
         "name": "30473",
         "rawType": "float64",
         "type": "float"
        },
        {
         "name": "30474",
         "rawType": "float64",
         "type": "float"
        },
        {
         "name": "30479",
         "rawType": "float64",
         "type": "float"
        },
        {
         "name": "30481",
         "rawType": "float64",
         "type": "float"
        },
        {
         "name": "30483",
         "rawType": "float64",
         "type": "float"
        },
        {
         "name": "30484",
         "rawType": "float64",
         "type": "float"
        },
        {
         "name": "30486",
         "rawType": "float64",
         "type": "float"
        },
        {
         "name": "30487",
         "rawType": "float64",
         "type": "float"
        },
        {
         "name": "30488",
         "rawType": "float64",
         "type": "float"
        },
        {
         "name": "30491",
         "rawType": "float64",
         "type": "float"
        },
        {
         "name": "30495",
         "rawType": "float64",
         "type": "float"
        },
        {
         "name": "30496",
         "rawType": "float64",
         "type": "float"
        },
        {
         "name": "30497",
         "rawType": "float64",
         "type": "float"
        }
       ],
       "ref": "8864856f-7994-4e96-841c-544e7cd242e5",
       "rows": [
        [
         "Australia",
         "70904.5",
         "0.0",
         "0.0",
         "191.4",
         "10218060.83",
         "11899.65",
         "0.0",
         "0.0",
         "0.0",
         "0.0",
         "5068.7",
         "79476.5",
         "795909.3",
         "0.0",
         "168192.0",
         "433.0",
         "829840.9",
         "30479.4",
         "0.0",
         "0.0",
         "0.0",
         "0.0",
         "336.7",
         "0.0",
         "0.0",
         "286374.5",
         "0.0",
         "5294.7",
         "0.0",
         "0.0",
         "0.0",
         "0.0",
         "0.0",
         "0.0",
         "0.0",
         "0.0",
         "0.0",
         "0.0",
         "0.0",
         "0.0",
         "0.0",
         "0.0",
         "30.0",
         "1983.37",
         "301457.1",
         "36426.87",
         "0.0",
         "0.0",
         "0.0",
         "0.0",
         "0.0",
         "1912.43",
         "516860.7",
         "27994.0",
         "3129.0",
         "51.0",
         "0.0",
         "8367379.76",
         "197.91",
         "0.0",
         "0.0",
         "0.0",
         "131449.0",
         "0.0",
         "0.0",
         "0.0",
         "0.0",
         "0.0",
         "0.0",
         "2510.0",
         "0.0",
         "0.0",
         "0.0",
         "837438.31",
         "0.0",
         "0.0",
         "0.0",
         "0.0",
         "0.0",
         "0.0",
         "0.0",
         "0.0",
         "0.0",
         "0.0",
         "0.0",
         "2122.4",
         "0.0",
         "0.0",
         "0.0",
         "0.0",
         "0.0",
         "0.0",
         "0.0",
         "0.0",
         "0.0",
         "0.0",
         "0.0",
         "0.0",
         "0.0",
         "28694.4",
         "4100.0",
         "49231.97",
         "50.0",
         "0.0",
         "0.0",
         "1189.98",
         "23000.0",
         "34.4",
         "1297.3",
         "0.0",
         "0.0"
        ],
        [
         "Bangladesh",
         "0.0",
         "0.0",
         "0.0",
         "0.0",
         "0.0",
         "0.0",
         "0.0",
         "0.0",
         "0.0",
         "0.0",
         "0.0",
         "0.0",
         "0.0",
         "0.0",
         "0.0",
         "0.0",
         "0.0",
         "0.0",
         "0.0",
         "0.0",
         "0.0",
         "0.0",
         "0.0",
         "0.0",
         "0.0",
         "0.0",
         "0.0",
         "0.0",
         "0.0",
         "0.0",
         "0.0",
         "0.0",
         "0.0",
         "0.0",
         "0.0",
         "0.0",
         "0.0",
         "0.0",
         "0.0",
         "0.0",
         "0.0",
         "0.0",
         "0.0",
         "0.0",
         "0.0",
         "0.0",
         "0.0",
         "0.0",
         "0.0",
         "0.0",
         "0.0",
         "0.0",
         "0.0",
         "0.0",
         "0.0",
         "0.0",
         "0.0",
         "0.0",
         "0.0",
         "0.0",
         "0.0",
         "0.0",
         "0.0",
         "0.0",
         "0.0",
         "0.0",
         "0.0",
         "0.0",
         "0.0",
         "0.0",
         "0.0",
         "0.0",
         "0.0",
         "0.0",
         "0.0",
         "0.0",
         "0.0",
         "0.0",
         "0.0",
         "0.0",
         "0.0",
         "0.0",
         "0.0",
         "0.0",
         "0.0",
         "0.0",
         "20.0",
         "0.0",
         "0.0",
         "0.0",
         "0.0",
         "0.0",
         "0.0",
         "0.0",
         "0.0",
         "0.0",
         "0.0",
         "0.0",
         "0.0",
         "0.0",
         "0.0",
         "0.0",
         "0.0",
         "0.0",
         "0.0",
         "0.0",
         "0.0",
         "0.0",
         "0.0",
         "0.0",
         "0.0"
        ],
        [
         "Brazil",
         "0.0",
         "41.0",
         "0.0",
         "528.0",
         "22056.0",
         "4251.0",
         "120.0",
         "0.0",
         "390.0",
         "20.0",
         "6374.0",
         "4423.0",
         "465645.0",
         "135047.0",
         "839327.0",
         "366.0",
         "266.0",
         "47968.0",
         "0.0",
         "0.0",
         "1130.0",
         "2998.0",
         "26633.0",
         "634.0",
         "297.0",
         "1501918.0",
         "0.0",
         "179.0",
         "0.0",
         "0.0",
         "190.0",
         "0.0",
         "0.0",
         "0.0",
         "0.0",
         "0.0",
         "0.0",
         "3803.0",
         "0.0",
         "0.0",
         "47792.0",
         "0.0",
         "6137.0",
         "110.0",
         "3453.0",
         "282490.0",
         "0.0",
         "328.0",
         "0.0",
         "2888.0",
         "0.0",
         "628526.0",
         "5285.0",
         "2385046.0",
         "3295062.0",
         "463596.0",
         "703.0",
         "3424.0",
         "61237.0",
         "0.0",
         "45.0",
         "0.0",
         "1872411.0",
         "27839.0",
         "463.0",
         "0.0",
         "126885.0",
         "0.0",
         "0.0",
         "9316.0",
         "5272.0",
         "1149.0",
         "0.0",
         "115083.0",
         "0.0",
         "0.0",
         "0.0",
         "0.0",
         "0.0",
         "0.0",
         "24861.0",
         "1185440.0",
         "736.0",
         "0.0",
         "0.0",
         "483.0",
         "301194.0",
         "0.0",
         "0.0",
         "0.0",
         "0.0",
         "8.0",
         "0.0",
         "0.0",
         "0.0",
         "0.0",
         "240.0",
         "0.0",
         "597.0",
         "219721.0",
         "46626.0",
         "12174.0",
         "1071.0",
         "0.0",
         "385.0",
         "172244.0",
         "12485.0",
         "10.0",
         "0.0",
         "0.0",
         "0.0"
        ],
        [
         "Canada",
         "207748.0",
         "0.0",
         "0.0",
         "2156815.0",
         "77381333.0",
         "10807.0",
         "5812510.0",
         "0.0",
         "34766.0",
         "15.0",
         "454306.0",
         "34999.0",
         "83888.0",
         "0.0",
         "146545.0",
         "281740.0",
         "67.0",
         "0.0",
         "0.0",
         "2121416.0",
         "72492.0",
         "0.0",
         "0.0",
         "6590.0",
         "433.0",
         "756871.0",
         "0.0",
         "464128.0",
         "1058011.0",
         "0.0",
         "3149502.0",
         "0.0",
         "0.0",
         "0.0",
         "0.0",
         "0.0",
         "0.0",
         "36650.0",
         "0.0",
         "703.0",
         "0.0",
         "0.0",
         "698913.0",
         "2414444.0",
         "9953.0",
         "133121.0",
         "0.0",
         "9773604.0",
         "406503.0",
         "2735693.0",
         "4494001.0",
         "5583478.0",
         "701230.0",
         "20416.0",
         "0.0",
         "0.0",
         "0.0",
         "0.0",
         "11839.0",
         "0.0",
         "12269352.0",
         "0.0",
         "0.0",
         "246866.0",
         "69031.0",
         "0.0",
         "0.0",
         "0.0",
         "0.0",
         "364459.0",
         "95198.0",
         "53988586.0",
         "78510.0",
         "17576.0",
         "0.0",
         "0.0",
         "0.0",
         "0.0",
         "0.0",
         "0.0",
         "0.0",
         "314392.0",
         "10022.0",
         "0.0",
         "0.0",
         "7961216.0",
         "0.0",
         "1104132.0",
         "0.0",
         "0.0",
         "23693.0",
         "342848.0",
         "2354.0",
         "0.0",
         "0.0",
         "0.0",
         "1568239.0",
         "855137.0",
         "0.0",
         "357083.357",
         "34370.0",
         "1983887.0",
         "5313476.0",
         "5783.0",
         "501218.0",
         "733752.0",
         "3275.0",
         "0.0",
         "1956667.0",
         "0.0",
         "22630.0"
        ],
        [
         "China",
         "0.0",
         "0.0",
         "0.0",
         "257525.0",
         "757590.0",
         "0.0",
         "984.0",
         "0.0",
         "278168.0",
         "60.0",
         "3784.0",
         "0.0",
         "0.0",
         "0.0",
         "0.0",
         "0.0",
         "0.0",
         "1785.0",
         "0.0",
         "0.0",
         "50000.0",
         "0.0",
         "920.0",
         "4350.0",
         "290199.0",
         "0.0",
         "0.0",
         "797501.0",
         "0.0",
         "0.0",
         "0.0",
         "0.0",
         "0.0",
         "0.0",
         "0.0",
         "0.0",
         "0.0",
         "20.0",
         "368313.0",
         "13538.0",
         "0.0",
         "0.0",
         "42333.0",
         "3622897.0",
         "389034.0",
         "473687.0",
         "0.0",
         "8411029.0",
         "259151.0",
         "1193915.0",
         "0.0",
         "18983249.0",
         "16829338.0",
         "24215448.0",
         "47692144.0",
         "8917449.0",
         "93703.0",
         "0.0",
         "674089.0",
         "0.0",
         "63263020.0",
         "0.0",
         "58944626.0",
         "285449073.0",
         "2169450.0",
         "34685.0",
         "3126797.0",
         "0.0",
         "0.0",
         "682128.0",
         "0.0",
         "1137170.0",
         "0.0",
         "226879.0",
         "0.0",
         "0.0",
         "0.0",
         "0.0",
         "0.0",
         "0.0",
         "923096.0",
         "243967.0",
         "504846.0",
         "0.0",
         "0.0",
         "3754.0",
         "0.0",
         "13626.0",
         "0.0",
         "0.0",
         "0.0",
         "0.0",
         "0.0",
         "0.0",
         "0.0",
         "0.0",
         "121853548.0",
         "26012512.0",
         "9907281.0",
         "15753038.0",
         "11916811.0",
         "85088293.0",
         "63923864.0",
         "42158.0",
         "584542.0",
         "12679669.0",
         "2156385.0",
         "682788.0",
         "9917287.0",
         "2050258.0",
         "0.0"
        ]
       ],
       "shape": {
        "columns": 111,
        "rows": 5
       }
      },
      "text/html": [
       "<div>\n",
       "<style scoped>\n",
       "    .dataframe tbody tr th:only-of-type {\n",
       "        vertical-align: middle;\n",
       "    }\n",
       "\n",
       "    .dataframe tbody tr th {\n",
       "        vertical-align: top;\n",
       "    }\n",
       "\n",
       "    .dataframe thead th {\n",
       "        text-align: right;\n",
       "    }\n",
       "</style>\n",
       "<table border=\"1\" class=\"dataframe\">\n",
       "  <thead>\n",
       "    <tr style=\"text-align: right;\">\n",
       "      <th></th>\n",
       "      <th>30194</th>\n",
       "      <th>30195</th>\n",
       "      <th>30212</th>\n",
       "      <th>30213</th>\n",
       "      <th>30214</th>\n",
       "      <th>30219</th>\n",
       "      <th>30221</th>\n",
       "      <th>30222</th>\n",
       "      <th>30223</th>\n",
       "      <th>30224</th>\n",
       "      <th>...</th>\n",
       "      <th>30481</th>\n",
       "      <th>30483</th>\n",
       "      <th>30484</th>\n",
       "      <th>30486</th>\n",
       "      <th>30487</th>\n",
       "      <th>30488</th>\n",
       "      <th>30491</th>\n",
       "      <th>30495</th>\n",
       "      <th>30496</th>\n",
       "      <th>30497</th>\n",
       "    </tr>\n",
       "  </thead>\n",
       "  <tbody>\n",
       "    <tr>\n",
       "      <th>Australia</th>\n",
       "      <td>70904.5</td>\n",
       "      <td>0.0</td>\n",
       "      <td>0.0</td>\n",
       "      <td>191.4</td>\n",
       "      <td>10218060.83</td>\n",
       "      <td>11899.65</td>\n",
       "      <td>0.0</td>\n",
       "      <td>0.0</td>\n",
       "      <td>0.0</td>\n",
       "      <td>0.0</td>\n",
       "      <td>...</td>\n",
       "      <td>49231.97</td>\n",
       "      <td>50.0</td>\n",
       "      <td>0.0</td>\n",
       "      <td>0.0</td>\n",
       "      <td>1189.98</td>\n",
       "      <td>23000.0</td>\n",
       "      <td>34.4</td>\n",
       "      <td>1297.3</td>\n",
       "      <td>0.0</td>\n",
       "      <td>0.0</td>\n",
       "    </tr>\n",
       "    <tr>\n",
       "      <th>Bangladesh</th>\n",
       "      <td>0.0</td>\n",
       "      <td>0.0</td>\n",
       "      <td>0.0</td>\n",
       "      <td>0.0</td>\n",
       "      <td>0.00</td>\n",
       "      <td>0.00</td>\n",
       "      <td>0.0</td>\n",
       "      <td>0.0</td>\n",
       "      <td>0.0</td>\n",
       "      <td>0.0</td>\n",
       "      <td>...</td>\n",
       "      <td>0.00</td>\n",
       "      <td>0.0</td>\n",
       "      <td>0.0</td>\n",
       "      <td>0.0</td>\n",
       "      <td>0.00</td>\n",
       "      <td>0.0</td>\n",
       "      <td>0.0</td>\n",
       "      <td>0.0</td>\n",
       "      <td>0.0</td>\n",
       "      <td>0.0</td>\n",
       "    </tr>\n",
       "    <tr>\n",
       "      <th>Brazil</th>\n",
       "      <td>0.0</td>\n",
       "      <td>41.0</td>\n",
       "      <td>0.0</td>\n",
       "      <td>528.0</td>\n",
       "      <td>22056.00</td>\n",
       "      <td>4251.00</td>\n",
       "      <td>120.0</td>\n",
       "      <td>0.0</td>\n",
       "      <td>390.0</td>\n",
       "      <td>20.0</td>\n",
       "      <td>...</td>\n",
       "      <td>12174.00</td>\n",
       "      <td>1071.0</td>\n",
       "      <td>0.0</td>\n",
       "      <td>385.0</td>\n",
       "      <td>172244.00</td>\n",
       "      <td>12485.0</td>\n",
       "      <td>10.0</td>\n",
       "      <td>0.0</td>\n",
       "      <td>0.0</td>\n",
       "      <td>0.0</td>\n",
       "    </tr>\n",
       "    <tr>\n",
       "      <th>Canada</th>\n",
       "      <td>207748.0</td>\n",
       "      <td>0.0</td>\n",
       "      <td>0.0</td>\n",
       "      <td>2156815.0</td>\n",
       "      <td>77381333.00</td>\n",
       "      <td>10807.00</td>\n",
       "      <td>5812510.0</td>\n",
       "      <td>0.0</td>\n",
       "      <td>34766.0</td>\n",
       "      <td>15.0</td>\n",
       "      <td>...</td>\n",
       "      <td>1983887.00</td>\n",
       "      <td>5313476.0</td>\n",
       "      <td>5783.0</td>\n",
       "      <td>501218.0</td>\n",
       "      <td>733752.00</td>\n",
       "      <td>3275.0</td>\n",
       "      <td>0.0</td>\n",
       "      <td>1956667.0</td>\n",
       "      <td>0.0</td>\n",
       "      <td>22630.0</td>\n",
       "    </tr>\n",
       "    <tr>\n",
       "      <th>China</th>\n",
       "      <td>0.0</td>\n",
       "      <td>0.0</td>\n",
       "      <td>0.0</td>\n",
       "      <td>257525.0</td>\n",
       "      <td>757590.00</td>\n",
       "      <td>0.00</td>\n",
       "      <td>984.0</td>\n",
       "      <td>0.0</td>\n",
       "      <td>278168.0</td>\n",
       "      <td>60.0</td>\n",
       "      <td>...</td>\n",
       "      <td>85088293.00</td>\n",
       "      <td>63923864.0</td>\n",
       "      <td>42158.0</td>\n",
       "      <td>584542.0</td>\n",
       "      <td>12679669.00</td>\n",
       "      <td>2156385.0</td>\n",
       "      <td>682788.0</td>\n",
       "      <td>9917287.0</td>\n",
       "      <td>2050258.0</td>\n",
       "      <td>0.0</td>\n",
       "    </tr>\n",
       "  </tbody>\n",
       "</table>\n",
       "<p>5 rows × 111 columns</p>\n",
       "</div>"
      ],
      "text/plain": [
       "               30194  30195  30212      30213        30214     30219  \\\n",
       "Australia    70904.5    0.0    0.0      191.4  10218060.83  11899.65   \n",
       "Bangladesh       0.0    0.0    0.0        0.0         0.00      0.00   \n",
       "Brazil           0.0   41.0    0.0      528.0     22056.00   4251.00   \n",
       "Canada      207748.0    0.0    0.0  2156815.0  77381333.00  10807.00   \n",
       "China            0.0    0.0    0.0   257525.0    757590.00      0.00   \n",
       "\n",
       "                30221  30222     30223  30224  ...        30481       30483  \\\n",
       "Australia         0.0    0.0       0.0    0.0  ...     49231.97        50.0   \n",
       "Bangladesh        0.0    0.0       0.0    0.0  ...         0.00         0.0   \n",
       "Brazil          120.0    0.0     390.0   20.0  ...     12174.00      1071.0   \n",
       "Canada      5812510.0    0.0   34766.0   15.0  ...   1983887.00   5313476.0   \n",
       "China           984.0    0.0  278168.0   60.0  ...  85088293.00  63923864.0   \n",
       "\n",
       "              30484     30486        30487      30488     30491      30495  \\\n",
       "Australia       0.0       0.0      1189.98    23000.0      34.4     1297.3   \n",
       "Bangladesh      0.0       0.0         0.00        0.0       0.0        0.0   \n",
       "Brazil          0.0     385.0    172244.00    12485.0      10.0        0.0   \n",
       "Canada       5783.0  501218.0    733752.00     3275.0       0.0  1956667.0   \n",
       "China       42158.0  584542.0  12679669.00  2156385.0  682788.0  9917287.0   \n",
       "\n",
       "                30496    30497  \n",
       "Australia         0.0      0.0  \n",
       "Bangladesh        0.0      0.0  \n",
       "Brazil            0.0      0.0  \n",
       "Canada            0.0  22630.0  \n",
       "China       2050258.0      0.0  \n",
       "\n",
       "[5 rows x 111 columns]"
      ]
     },
     "execution_count": 17,
     "metadata": {},
     "output_type": "execute_result"
    }
   ],
   "source": [
    "p_c_ex_code = pd.read_excel(\"data\\Export.xlsx\",index_col=0).fillna(0) # 出口数据\n",
    "print(p_c_ex_code.shape)\n",
    "p_c_ex_code.head()"
   ]
  },
  {
   "cell_type": "code",
   "execution_count": 18,
   "metadata": {},
   "outputs": [],
   "source": [
    "_p_lis = p_c_ex_code.index.to_list()\n",
    "_c_lis = C_c_code.index.to_list()\n",
    "for x in _p_lis:\n",
    "    if x not in _c_lis:\n",
    "        print(x)"
   ]
  },
  {
   "cell_type": "code",
   "execution_count": 19,
   "metadata": {},
   "outputs": [
    {
     "data": {
      "text/plain": [
       "['mean', 'p025', 'p975']"
      ]
     },
     "execution_count": 19,
     "metadata": {},
     "output_type": "execute_result"
    }
   ],
   "source": [
    "C_fami"
   ]
  },
  {
   "cell_type": "code",
   "execution_count": 20,
   "metadata": {},
   "outputs": [],
   "source": [
    "C_c_code = pd.read_excel(\"Concentration_corresponding_to_the_code.xlsx\",index_col=0,header=[0,1],\n",
    "                            sheet_name='PFOS')\n",
    "# C_c_code.loc[('Canada',('030213','mean'))]"
   ]
  },
  {
   "cell_type": "code",
   "execution_count": 21,
   "metadata": {},
   "outputs": [],
   "source": [
    "excel_writer = pd.ExcelWriter('Export-Weight.xlsx', engine='xlsxwriter')\n",
    "\n",
    "\n",
    "for _chem in chem_lis:\n",
    "    C_c_code = pd.read_excel(\"Concentration_corresponding_to_the_code.xlsx\",index_col=0,header=[0,1],\n",
    "                            sheet_name=_chem)\n",
    "    W_df = C_c_code.copy()\n",
    "    for _code in C_c_code.columns.get_level_values(0).to_list():\n",
    "        for _c_type in C_fami:\n",
    "            C_arr = C_c_code[(_code,_c_type)]\n",
    "            \n",
    "            _lis=[]\n",
    "            for i in range(len(C_arr)):\n",
    "                _lis.append(C_arr[i]*p_c_ex_code.loc[C_c_code.index[i] ,_code])\n",
    "            W_df[(_code,_c_type)] = _lis\n",
    "    W_df.to_excel(excel_writer,sheet_name=_chem,index=True)\n",
    "excel_writer.close()"
   ]
  },
  {
   "cell_type": "code",
   "execution_count": 22,
   "metadata": {},
   "outputs": [],
   "source": [
    "################################\n",
    "##############################\n",
    "#################################"
   ]
  },
  {
   "cell_type": "code",
   "execution_count": 23,
   "metadata": {},
   "outputs": [
    {
     "data": {
      "application/vnd.microsoft.datawrangler.viewer.v0+json": {
       "columns": [
        {
         "name": "index",
         "rawType": "object",
         "type": "string"
        },
        {
         "name": "30194",
         "rawType": "float64",
         "type": "float"
        },
        {
         "name": "30195",
         "rawType": "float64",
         "type": "float"
        },
        {
         "name": "30212",
         "rawType": "float64",
         "type": "float"
        },
        {
         "name": "30213",
         "rawType": "float64",
         "type": "float"
        },
        {
         "name": "30214",
         "rawType": "float64",
         "type": "float"
        },
        {
         "name": "30219",
         "rawType": "float64",
         "type": "float"
        },
        {
         "name": "30221",
         "rawType": "float64",
         "type": "float"
        },
        {
         "name": "30222",
         "rawType": "float64",
         "type": "float"
        },
        {
         "name": "30223",
         "rawType": "float64",
         "type": "float"
        },
        {
         "name": "30224",
         "rawType": "float64",
         "type": "float"
        },
        {
         "name": "30229",
         "rawType": "float64",
         "type": "float"
        },
        {
         "name": "30231",
         "rawType": "float64",
         "type": "float"
        },
        {
         "name": "30232",
         "rawType": "float64",
         "type": "float"
        },
        {
         "name": "30233",
         "rawType": "float64",
         "type": "float"
        },
        {
         "name": "30234",
         "rawType": "float64",
         "type": "float"
        },
        {
         "name": "30235",
         "rawType": "float64",
         "type": "float"
        },
        {
         "name": "30236",
         "rawType": "float64",
         "type": "float"
        },
        {
         "name": "30239",
         "rawType": "float64",
         "type": "float"
        },
        {
         "name": "30240",
         "rawType": "float64",
         "type": "float"
        },
        {
         "name": "30241",
         "rawType": "float64",
         "type": "float"
        },
        {
         "name": "30242",
         "rawType": "float64",
         "type": "float"
        },
        {
         "name": "30243",
         "rawType": "float64",
         "type": "float"
        },
        {
         "name": "30244",
         "rawType": "float64",
         "type": "float"
        },
        {
         "name": "30245",
         "rawType": "float64",
         "type": "float"
        },
        {
         "name": "30246",
         "rawType": "float64",
         "type": "float"
        },
        {
         "name": "30247",
         "rawType": "float64",
         "type": "float"
        },
        {
         "name": "30250",
         "rawType": "float64",
         "type": "float"
        },
        {
         "name": "30251",
         "rawType": "float64",
         "type": "float"
        },
        {
         "name": "30252",
         "rawType": "float64",
         "type": "float"
        },
        {
         "name": "30253",
         "rawType": "float64",
         "type": "float"
        },
        {
         "name": "30254",
         "rawType": "float64",
         "type": "float"
        },
        {
         "name": "30256",
         "rawType": "float64",
         "type": "float"
        },
        {
         "name": "30261",
         "rawType": "float64",
         "type": "float"
        },
        {
         "name": "30263",
         "rawType": "float64",
         "type": "float"
        },
        {
         "name": "30264",
         "rawType": "float64",
         "type": "float"
        },
        {
         "name": "30265",
         "rawType": "float64",
         "type": "float"
        },
        {
         "name": "30267",
         "rawType": "float64",
         "type": "float"
        },
        {
         "name": "30281",
         "rawType": "float64",
         "type": "float"
        },
        {
         "name": "30282",
         "rawType": "float64",
         "type": "float"
        },
        {
         "name": "30284",
         "rawType": "float64",
         "type": "float"
        },
        {
         "name": "30285",
         "rawType": "float64",
         "type": "float"
        },
        {
         "name": "30310",
         "rawType": "float64",
         "type": "float"
        },
        {
         "name": "30311",
         "rawType": "float64",
         "type": "float"
        },
        {
         "name": "30312",
         "rawType": "float64",
         "type": "float"
        },
        {
         "name": "30313",
         "rawType": "float64",
         "type": "float"
        },
        {
         "name": "30319",
         "rawType": "float64",
         "type": "float"
        },
        {
         "name": "30322",
         "rawType": "float64",
         "type": "float"
        },
        {
         "name": "30331",
         "rawType": "float64",
         "type": "float"
        },
        {
         "name": "30332",
         "rawType": "float64",
         "type": "float"
        },
        {
         "name": "30333",
         "rawType": "float64",
         "type": "float"
        },
        {
         "name": "30334",
         "rawType": "float64",
         "type": "float"
        },
        {
         "name": "30339",
         "rawType": "float64",
         "type": "float"
        },
        {
         "name": "30341",
         "rawType": "float64",
         "type": "float"
        },
        {
         "name": "30342",
         "rawType": "float64",
         "type": "float"
        },
        {
         "name": "30343",
         "rawType": "float64",
         "type": "float"
        },
        {
         "name": "30344",
         "rawType": "float64",
         "type": "float"
        },
        {
         "name": "30345",
         "rawType": "float64",
         "type": "float"
        },
        {
         "name": "30346",
         "rawType": "float64",
         "type": "float"
        },
        {
         "name": "30349",
         "rawType": "float64",
         "type": "float"
        },
        {
         "name": "30350",
         "rawType": "float64",
         "type": "float"
        },
        {
         "name": "30351",
         "rawType": "float64",
         "type": "float"
        },
        {
         "name": "30352",
         "rawType": "float64",
         "type": "float"
        },
        {
         "name": "30353",
         "rawType": "float64",
         "type": "float"
        },
        {
         "name": "30354",
         "rawType": "float64",
         "type": "float"
        },
        {
         "name": "30355",
         "rawType": "float64",
         "type": "float"
        },
        {
         "name": "30356",
         "rawType": "float64",
         "type": "float"
        },
        {
         "name": "30357",
         "rawType": "float64",
         "type": "float"
        },
        {
         "name": "30360",
         "rawType": "float64",
         "type": "float"
        },
        {
         "name": "30361",
         "rawType": "float64",
         "type": "float"
        },
        {
         "name": "30363",
         "rawType": "float64",
         "type": "float"
        },
        {
         "name": "30365",
         "rawType": "float64",
         "type": "float"
        },
        {
         "name": "30366",
         "rawType": "float64",
         "type": "float"
        },
        {
         "name": "30368",
         "rawType": "float64",
         "type": "float"
        },
        {
         "name": "30369",
         "rawType": "float64",
         "type": "float"
        },
        {
         "name": "30371",
         "rawType": "float64",
         "type": "float"
        },
        {
         "name": "30373",
         "rawType": "float64",
         "type": "float"
        },
        {
         "name": "30374",
         "rawType": "float64",
         "type": "float"
        },
        {
         "name": "30375",
         "rawType": "float64",
         "type": "float"
        },
        {
         "name": "30377",
         "rawType": "float64",
         "type": "float"
        },
        {
         "name": "30378",
         "rawType": "float64",
         "type": "float"
        },
        {
         "name": "30381",
         "rawType": "float64",
         "type": "float"
        },
        {
         "name": "30382",
         "rawType": "float64",
         "type": "float"
        },
        {
         "name": "30384",
         "rawType": "float64",
         "type": "float"
        },
        {
         "name": "30410",
         "rawType": "float64",
         "type": "float"
        },
        {
         "name": "30421",
         "rawType": "float64",
         "type": "float"
        },
        {
         "name": "30441",
         "rawType": "float64",
         "type": "float"
        },
        {
         "name": "30443",
         "rawType": "float64",
         "type": "float"
        },
        {
         "name": "30444",
         "rawType": "float64",
         "type": "float"
        },
        {
         "name": "30445",
         "rawType": "float64",
         "type": "float"
        },
        {
         "name": "30447",
         "rawType": "float64",
         "type": "float"
        },
        {
         "name": "30448",
         "rawType": "float64",
         "type": "float"
        },
        {
         "name": "30452",
         "rawType": "float64",
         "type": "float"
        },
        {
         "name": "30453",
         "rawType": "float64",
         "type": "float"
        },
        {
         "name": "30454",
         "rawType": "float64",
         "type": "float"
        },
        {
         "name": "30456",
         "rawType": "float64",
         "type": "float"
        },
        {
         "name": "30457",
         "rawType": "float64",
         "type": "float"
        },
        {
         "name": "30471",
         "rawType": "float64",
         "type": "float"
        },
        {
         "name": "30472",
         "rawType": "float64",
         "type": "float"
        },
        {
         "name": "30473",
         "rawType": "float64",
         "type": "float"
        },
        {
         "name": "30474",
         "rawType": "float64",
         "type": "float"
        },
        {
         "name": "30479",
         "rawType": "float64",
         "type": "float"
        },
        {
         "name": "30481",
         "rawType": "float64",
         "type": "float"
        },
        {
         "name": "30483",
         "rawType": "float64",
         "type": "float"
        },
        {
         "name": "30484",
         "rawType": "float64",
         "type": "float"
        },
        {
         "name": "30486",
         "rawType": "float64",
         "type": "float"
        },
        {
         "name": "30487",
         "rawType": "float64",
         "type": "float"
        },
        {
         "name": "30488",
         "rawType": "float64",
         "type": "float"
        },
        {
         "name": "30491",
         "rawType": "float64",
         "type": "float"
        },
        {
         "name": "30495",
         "rawType": "float64",
         "type": "float"
        },
        {
         "name": "30496",
         "rawType": "float64",
         "type": "float"
        },
        {
         "name": "30497",
         "rawType": "float64",
         "type": "float"
        }
       ],
       "ref": "28c5c85c-e6b7-428b-bb26-4fa0a1451ae4",
       "rows": [
        [
         "Australia",
         "0.0",
         "0.0",
         "0.0",
         "0.0",
         "0.0",
         "0.0",
         "0.0",
         "0.0",
         "0.0",
         "0.0",
         "0.0",
         "0.0",
         "97.0",
         "0.0",
         "0.0",
         "0.0",
         "0.0",
         "0.0",
         "0.0",
         "0.0",
         "0.0",
         "0.0",
         "0.0",
         "0.0",
         "0.0",
         "54.0",
         "0.0",
         "0.0",
         "0.0",
         "0.0",
         "0.0",
         "0.0",
         "0.0",
         "0.0",
         "0.0",
         "0.0",
         "0.0",
         "0.0",
         "0.0",
         "0.0",
         "0.0",
         "0.0",
         "0.0",
         "0.0",
         "0.0",
         "0.0",
         "0.0",
         "0.0",
         "0.0",
         "0.0",
         "0.0",
         "0.0",
         "0.0",
         "0.0",
         "0.0",
         "0.0",
         "0.0",
         "0.0",
         "1000.0",
         "0.0",
         "0.0",
         "0.0",
         "0.0",
         "0.0",
         "0.0",
         "0.0",
         "0.0",
         "0.0",
         "0.0",
         "0.0",
         "0.0",
         "0.0",
         "0.0",
         "0.0",
         "0.0",
         "0.0",
         "0.0",
         "0.0",
         "0.0",
         "0.0",
         "0.0",
         "0.0",
         "0.0",
         "0.0",
         "0.0",
         "0.0",
         "0.0",
         "7.0",
         "0.0",
         "0.0",
         "0.0",
         "0.0",
         "0.0",
         "15.0",
         "0.0",
         "0.0",
         "0.0",
         "0.0",
         "0.0",
         "0.0",
         "0.0",
         "0.0",
         "0.0",
         "0.0",
         "0.0",
         "0.0",
         "0.0",
         "0.0",
         "0.0",
         "0.0",
         "0.0"
        ]
       ],
       "shape": {
        "columns": 111,
        "rows": 1
       }
      },
      "text/html": [
       "<div>\n",
       "<style scoped>\n",
       "    .dataframe tbody tr th:only-of-type {\n",
       "        vertical-align: middle;\n",
       "    }\n",
       "\n",
       "    .dataframe tbody tr th {\n",
       "        vertical-align: top;\n",
       "    }\n",
       "\n",
       "    .dataframe thead th {\n",
       "        text-align: right;\n",
       "    }\n",
       "</style>\n",
       "<table border=\"1\" class=\"dataframe\">\n",
       "  <thead>\n",
       "    <tr style=\"text-align: right;\">\n",
       "      <th></th>\n",
       "      <th>30194</th>\n",
       "      <th>30195</th>\n",
       "      <th>30212</th>\n",
       "      <th>30213</th>\n",
       "      <th>30214</th>\n",
       "      <th>30219</th>\n",
       "      <th>30221</th>\n",
       "      <th>30222</th>\n",
       "      <th>30223</th>\n",
       "      <th>30224</th>\n",
       "      <th>...</th>\n",
       "      <th>30481</th>\n",
       "      <th>30483</th>\n",
       "      <th>30484</th>\n",
       "      <th>30486</th>\n",
       "      <th>30487</th>\n",
       "      <th>30488</th>\n",
       "      <th>30491</th>\n",
       "      <th>30495</th>\n",
       "      <th>30496</th>\n",
       "      <th>30497</th>\n",
       "    </tr>\n",
       "  </thead>\n",
       "  <tbody>\n",
       "    <tr>\n",
       "      <th>Australia</th>\n",
       "      <td>0.0</td>\n",
       "      <td>0.0</td>\n",
       "      <td>0.0</td>\n",
       "      <td>0.0</td>\n",
       "      <td>0.0</td>\n",
       "      <td>0.0</td>\n",
       "      <td>0.0</td>\n",
       "      <td>0.0</td>\n",
       "      <td>0.0</td>\n",
       "      <td>0.0</td>\n",
       "      <td>...</td>\n",
       "      <td>0.0</td>\n",
       "      <td>0.0</td>\n",
       "      <td>0.0</td>\n",
       "      <td>0.0</td>\n",
       "      <td>0.0</td>\n",
       "      <td>0.0</td>\n",
       "      <td>0.0</td>\n",
       "      <td>0.0</td>\n",
       "      <td>0.0</td>\n",
       "      <td>0.0</td>\n",
       "    </tr>\n",
       "  </tbody>\n",
       "</table>\n",
       "<p>1 rows × 111 columns</p>\n",
       "</div>"
      ],
      "text/plain": [
       "           30194  30195  30212  30213  30214  30219  30221  30222  30223  \\\n",
       "Australia    0.0    0.0    0.0    0.0    0.0    0.0    0.0    0.0    0.0   \n",
       "\n",
       "           30224  ...  30481  30483  30484  30486  30487  30488  30491  30495  \\\n",
       "Australia    0.0  ...    0.0    0.0    0.0    0.0    0.0    0.0    0.0    0.0   \n",
       "\n",
       "           30496  30497  \n",
       "Australia    0.0    0.0  \n",
       "\n",
       "[1 rows x 111 columns]"
      ]
     },
     "execution_count": 23,
     "metadata": {},
     "output_type": "execute_result"
    }
   ],
   "source": [
    "\n",
    "import_df = pd.read_excel('data\\Import.xlsx',index_col=0,sheet_name='Canada').fillna(0)\n",
    "import_df.head(1)"
   ]
  },
  {
   "cell_type": "code",
   "execution_count": 24,
   "metadata": {},
   "outputs": [
    {
     "data": {
      "application/vnd.microsoft.datawrangler.viewer.v0+json": {
       "columns": [
        {
         "name": "index",
         "rawType": "object",
         "type": "string"
        },
        {
         "name": "(30194, 'mean')",
         "rawType": "float64",
         "type": "float"
        },
        {
         "name": "(30194, 'p025')",
         "rawType": "float64",
         "type": "float"
        },
        {
         "name": "(30194, 'p975')",
         "rawType": "float64",
         "type": "float"
        },
        {
         "name": "(30195, 'mean')",
         "rawType": "float64",
         "type": "float"
        },
        {
         "name": "(30195, 'p025')",
         "rawType": "float64",
         "type": "float"
        },
        {
         "name": "(30195, 'p975')",
         "rawType": "float64",
         "type": "float"
        },
        {
         "name": "(30212, 'mean')",
         "rawType": "float64",
         "type": "float"
        },
        {
         "name": "(30212, 'p025')",
         "rawType": "float64",
         "type": "float"
        },
        {
         "name": "(30212, 'p975')",
         "rawType": "float64",
         "type": "float"
        },
        {
         "name": "(30213, 'mean')",
         "rawType": "float64",
         "type": "float"
        },
        {
         "name": "(30213, 'p025')",
         "rawType": "float64",
         "type": "float"
        },
        {
         "name": "(30213, 'p975')",
         "rawType": "float64",
         "type": "float"
        },
        {
         "name": "(30214, 'mean')",
         "rawType": "float64",
         "type": "float"
        },
        {
         "name": "(30214, 'p025')",
         "rawType": "float64",
         "type": "float"
        },
        {
         "name": "(30214, 'p975')",
         "rawType": "float64",
         "type": "float"
        },
        {
         "name": "(30219, 'mean')",
         "rawType": "float64",
         "type": "float"
        },
        {
         "name": "(30219, 'p025')",
         "rawType": "float64",
         "type": "float"
        },
        {
         "name": "(30219, 'p975')",
         "rawType": "float64",
         "type": "float"
        },
        {
         "name": "(30221, 'mean')",
         "rawType": "float64",
         "type": "float"
        },
        {
         "name": "(30221, 'p025')",
         "rawType": "float64",
         "type": "float"
        },
        {
         "name": "(30221, 'p975')",
         "rawType": "float64",
         "type": "float"
        },
        {
         "name": "(30222, 'mean')",
         "rawType": "float64",
         "type": "float"
        },
        {
         "name": "(30222, 'p025')",
         "rawType": "float64",
         "type": "float"
        },
        {
         "name": "(30222, 'p975')",
         "rawType": "float64",
         "type": "float"
        },
        {
         "name": "(30223, 'mean')",
         "rawType": "float64",
         "type": "float"
        },
        {
         "name": "(30223, 'p025')",
         "rawType": "float64",
         "type": "float"
        },
        {
         "name": "(30223, 'p975')",
         "rawType": "float64",
         "type": "float"
        },
        {
         "name": "(30224, 'mean')",
         "rawType": "float64",
         "type": "float"
        },
        {
         "name": "(30224, 'p025')",
         "rawType": "float64",
         "type": "float"
        },
        {
         "name": "(30224, 'p975')",
         "rawType": "float64",
         "type": "float"
        },
        {
         "name": "(30229, 'mean')",
         "rawType": "float64",
         "type": "float"
        },
        {
         "name": "(30229, 'p025')",
         "rawType": "float64",
         "type": "float"
        },
        {
         "name": "(30229, 'p975')",
         "rawType": "float64",
         "type": "float"
        },
        {
         "name": "(30231, 'mean')",
         "rawType": "float64",
         "type": "float"
        },
        {
         "name": "(30231, 'p025')",
         "rawType": "float64",
         "type": "float"
        },
        {
         "name": "(30231, 'p975')",
         "rawType": "float64",
         "type": "float"
        },
        {
         "name": "(30232, 'mean')",
         "rawType": "float64",
         "type": "float"
        },
        {
         "name": "(30232, 'p025')",
         "rawType": "float64",
         "type": "float"
        },
        {
         "name": "(30232, 'p975')",
         "rawType": "float64",
         "type": "float"
        },
        {
         "name": "(30233, 'mean')",
         "rawType": "float64",
         "type": "float"
        },
        {
         "name": "(30233, 'p025')",
         "rawType": "float64",
         "type": "float"
        },
        {
         "name": "(30233, 'p975')",
         "rawType": "float64",
         "type": "float"
        },
        {
         "name": "(30234, 'mean')",
         "rawType": "float64",
         "type": "float"
        },
        {
         "name": "(30234, 'p025')",
         "rawType": "float64",
         "type": "float"
        },
        {
         "name": "(30234, 'p975')",
         "rawType": "float64",
         "type": "float"
        },
        {
         "name": "(30235, 'mean')",
         "rawType": "float64",
         "type": "float"
        },
        {
         "name": "(30235, 'p025')",
         "rawType": "float64",
         "type": "float"
        },
        {
         "name": "(30235, 'p975')",
         "rawType": "float64",
         "type": "float"
        },
        {
         "name": "(30236, 'mean')",
         "rawType": "float64",
         "type": "float"
        },
        {
         "name": "(30236, 'p025')",
         "rawType": "float64",
         "type": "float"
        },
        {
         "name": "(30236, 'p975')",
         "rawType": "float64",
         "type": "float"
        },
        {
         "name": "(30239, 'mean')",
         "rawType": "float64",
         "type": "float"
        },
        {
         "name": "(30239, 'p025')",
         "rawType": "float64",
         "type": "float"
        },
        {
         "name": "(30239, 'p975')",
         "rawType": "float64",
         "type": "float"
        },
        {
         "name": "(30240, 'mean')",
         "rawType": "float64",
         "type": "float"
        },
        {
         "name": "(30240, 'p025')",
         "rawType": "float64",
         "type": "float"
        },
        {
         "name": "(30240, 'p975')",
         "rawType": "float64",
         "type": "float"
        },
        {
         "name": "(30241, 'mean')",
         "rawType": "float64",
         "type": "float"
        },
        {
         "name": "(30241, 'p025')",
         "rawType": "float64",
         "type": "float"
        },
        {
         "name": "(30241, 'p975')",
         "rawType": "float64",
         "type": "float"
        },
        {
         "name": "(30242, 'mean')",
         "rawType": "float64",
         "type": "float"
        },
        {
         "name": "(30242, 'p025')",
         "rawType": "float64",
         "type": "float"
        },
        {
         "name": "(30242, 'p975')",
         "rawType": "float64",
         "type": "float"
        },
        {
         "name": "(30243, 'mean')",
         "rawType": "float64",
         "type": "float"
        },
        {
         "name": "(30243, 'p025')",
         "rawType": "float64",
         "type": "float"
        },
        {
         "name": "(30243, 'p975')",
         "rawType": "float64",
         "type": "float"
        },
        {
         "name": "(30244, 'mean')",
         "rawType": "float64",
         "type": "float"
        },
        {
         "name": "(30244, 'p025')",
         "rawType": "float64",
         "type": "float"
        },
        {
         "name": "(30244, 'p975')",
         "rawType": "float64",
         "type": "float"
        },
        {
         "name": "(30245, 'mean')",
         "rawType": "float64",
         "type": "float"
        },
        {
         "name": "(30245, 'p025')",
         "rawType": "float64",
         "type": "float"
        },
        {
         "name": "(30245, 'p975')",
         "rawType": "float64",
         "type": "float"
        },
        {
         "name": "(30246, 'mean')",
         "rawType": "float64",
         "type": "float"
        },
        {
         "name": "(30246, 'p025')",
         "rawType": "float64",
         "type": "float"
        },
        {
         "name": "(30246, 'p975')",
         "rawType": "float64",
         "type": "float"
        },
        {
         "name": "(30247, 'mean')",
         "rawType": "float64",
         "type": "float"
        },
        {
         "name": "(30247, 'p025')",
         "rawType": "float64",
         "type": "float"
        },
        {
         "name": "(30247, 'p975')",
         "rawType": "float64",
         "type": "float"
        },
        {
         "name": "(30250, 'mean')",
         "rawType": "float64",
         "type": "float"
        },
        {
         "name": "(30250, 'p025')",
         "rawType": "float64",
         "type": "float"
        },
        {
         "name": "(30250, 'p975')",
         "rawType": "float64",
         "type": "float"
        },
        {
         "name": "(30251, 'mean')",
         "rawType": "float64",
         "type": "float"
        },
        {
         "name": "(30251, 'p025')",
         "rawType": "float64",
         "type": "float"
        },
        {
         "name": "(30251, 'p975')",
         "rawType": "float64",
         "type": "float"
        },
        {
         "name": "(30252, 'mean')",
         "rawType": "float64",
         "type": "float"
        },
        {
         "name": "(30252, 'p025')",
         "rawType": "float64",
         "type": "float"
        },
        {
         "name": "(30252, 'p975')",
         "rawType": "float64",
         "type": "float"
        },
        {
         "name": "(30253, 'mean')",
         "rawType": "float64",
         "type": "float"
        },
        {
         "name": "(30253, 'p025')",
         "rawType": "float64",
         "type": "float"
        },
        {
         "name": "(30253, 'p975')",
         "rawType": "float64",
         "type": "float"
        },
        {
         "name": "(30254, 'mean')",
         "rawType": "float64",
         "type": "float"
        },
        {
         "name": "(30254, 'p025')",
         "rawType": "float64",
         "type": "float"
        },
        {
         "name": "(30254, 'p975')",
         "rawType": "float64",
         "type": "float"
        },
        {
         "name": "(30256, 'mean')",
         "rawType": "float64",
         "type": "float"
        },
        {
         "name": "(30256, 'p025')",
         "rawType": "float64",
         "type": "float"
        },
        {
         "name": "(30256, 'p975')",
         "rawType": "float64",
         "type": "float"
        },
        {
         "name": "(30261, 'mean')",
         "rawType": "float64",
         "type": "float"
        },
        {
         "name": "(30261, 'p025')",
         "rawType": "float64",
         "type": "float"
        },
        {
         "name": "(30261, 'p975')",
         "rawType": "float64",
         "type": "float"
        },
        {
         "name": "(30263, 'mean')",
         "rawType": "float64",
         "type": "float"
        },
        {
         "name": "(30263, 'p025')",
         "rawType": "float64",
         "type": "float"
        },
        {
         "name": "(30263, 'p975')",
         "rawType": "float64",
         "type": "float"
        },
        {
         "name": "(30264, 'mean')",
         "rawType": "float64",
         "type": "float"
        },
        {
         "name": "(30264, 'p025')",
         "rawType": "float64",
         "type": "float"
        },
        {
         "name": "(30264, 'p975')",
         "rawType": "float64",
         "type": "float"
        },
        {
         "name": "(30265, 'mean')",
         "rawType": "float64",
         "type": "float"
        },
        {
         "name": "(30265, 'p025')",
         "rawType": "float64",
         "type": "float"
        },
        {
         "name": "(30265, 'p975')",
         "rawType": "float64",
         "type": "float"
        },
        {
         "name": "(30267, 'mean')",
         "rawType": "float64",
         "type": "float"
        },
        {
         "name": "(30267, 'p025')",
         "rawType": "float64",
         "type": "float"
        },
        {
         "name": "(30267, 'p975')",
         "rawType": "float64",
         "type": "float"
        },
        {
         "name": "(30281, 'mean')",
         "rawType": "float64",
         "type": "float"
        },
        {
         "name": "(30281, 'p025')",
         "rawType": "float64",
         "type": "float"
        },
        {
         "name": "(30281, 'p975')",
         "rawType": "float64",
         "type": "float"
        },
        {
         "name": "(30282, 'mean')",
         "rawType": "float64",
         "type": "float"
        },
        {
         "name": "(30282, 'p025')",
         "rawType": "float64",
         "type": "float"
        },
        {
         "name": "(30282, 'p975')",
         "rawType": "float64",
         "type": "float"
        },
        {
         "name": "(30284, 'mean')",
         "rawType": "float64",
         "type": "float"
        },
        {
         "name": "(30284, 'p025')",
         "rawType": "float64",
         "type": "float"
        },
        {
         "name": "(30284, 'p975')",
         "rawType": "float64",
         "type": "float"
        },
        {
         "name": "(30285, 'mean')",
         "rawType": "float64",
         "type": "float"
        },
        {
         "name": "(30285, 'p025')",
         "rawType": "float64",
         "type": "float"
        },
        {
         "name": "(30285, 'p975')",
         "rawType": "float64",
         "type": "float"
        },
        {
         "name": "(30310, 'mean')",
         "rawType": "float64",
         "type": "float"
        },
        {
         "name": "(30310, 'p025')",
         "rawType": "float64",
         "type": "float"
        },
        {
         "name": "(30310, 'p975')",
         "rawType": "float64",
         "type": "float"
        },
        {
         "name": "(30311, 'mean')",
         "rawType": "float64",
         "type": "float"
        },
        {
         "name": "(30311, 'p025')",
         "rawType": "float64",
         "type": "float"
        },
        {
         "name": "(30311, 'p975')",
         "rawType": "float64",
         "type": "float"
        },
        {
         "name": "(30312, 'mean')",
         "rawType": "float64",
         "type": "float"
        },
        {
         "name": "(30312, 'p025')",
         "rawType": "float64",
         "type": "float"
        },
        {
         "name": "(30312, 'p975')",
         "rawType": "float64",
         "type": "float"
        },
        {
         "name": "(30313, 'mean')",
         "rawType": "float64",
         "type": "float"
        },
        {
         "name": "(30313, 'p025')",
         "rawType": "float64",
         "type": "float"
        },
        {
         "name": "(30313, 'p975')",
         "rawType": "float64",
         "type": "float"
        },
        {
         "name": "(30319, 'mean')",
         "rawType": "float64",
         "type": "float"
        },
        {
         "name": "(30319, 'p025')",
         "rawType": "float64",
         "type": "float"
        },
        {
         "name": "(30319, 'p975')",
         "rawType": "float64",
         "type": "float"
        },
        {
         "name": "(30322, 'mean')",
         "rawType": "float64",
         "type": "float"
        },
        {
         "name": "(30322, 'p025')",
         "rawType": "float64",
         "type": "float"
        },
        {
         "name": "(30322, 'p975')",
         "rawType": "float64",
         "type": "float"
        },
        {
         "name": "(30331, 'mean')",
         "rawType": "float64",
         "type": "float"
        },
        {
         "name": "(30331, 'p025')",
         "rawType": "float64",
         "type": "float"
        },
        {
         "name": "(30331, 'p975')",
         "rawType": "float64",
         "type": "float"
        },
        {
         "name": "(30332, 'mean')",
         "rawType": "float64",
         "type": "float"
        },
        {
         "name": "(30332, 'p025')",
         "rawType": "float64",
         "type": "float"
        },
        {
         "name": "(30332, 'p975')",
         "rawType": "float64",
         "type": "float"
        },
        {
         "name": "(30333, 'mean')",
         "rawType": "float64",
         "type": "float"
        },
        {
         "name": "(30333, 'p025')",
         "rawType": "float64",
         "type": "float"
        },
        {
         "name": "(30333, 'p975')",
         "rawType": "float64",
         "type": "float"
        },
        {
         "name": "(30334, 'mean')",
         "rawType": "float64",
         "type": "float"
        },
        {
         "name": "(30334, 'p025')",
         "rawType": "float64",
         "type": "float"
        },
        {
         "name": "(30334, 'p975')",
         "rawType": "float64",
         "type": "float"
        },
        {
         "name": "(30339, 'mean')",
         "rawType": "float64",
         "type": "float"
        },
        {
         "name": "(30339, 'p025')",
         "rawType": "float64",
         "type": "float"
        },
        {
         "name": "(30339, 'p975')",
         "rawType": "float64",
         "type": "float"
        },
        {
         "name": "(30341, 'mean')",
         "rawType": "float64",
         "type": "float"
        },
        {
         "name": "(30341, 'p025')",
         "rawType": "float64",
         "type": "float"
        },
        {
         "name": "(30341, 'p975')",
         "rawType": "float64",
         "type": "float"
        },
        {
         "name": "(30342, 'mean')",
         "rawType": "float64",
         "type": "float"
        },
        {
         "name": "(30342, 'p025')",
         "rawType": "float64",
         "type": "float"
        },
        {
         "name": "(30342, 'p975')",
         "rawType": "float64",
         "type": "float"
        },
        {
         "name": "(30343, 'mean')",
         "rawType": "float64",
         "type": "float"
        },
        {
         "name": "(30343, 'p025')",
         "rawType": "float64",
         "type": "float"
        },
        {
         "name": "(30343, 'p975')",
         "rawType": "float64",
         "type": "float"
        },
        {
         "name": "(30344, 'mean')",
         "rawType": "float64",
         "type": "float"
        },
        {
         "name": "(30344, 'p025')",
         "rawType": "float64",
         "type": "float"
        },
        {
         "name": "(30344, 'p975')",
         "rawType": "float64",
         "type": "float"
        },
        {
         "name": "(30345, 'mean')",
         "rawType": "float64",
         "type": "float"
        },
        {
         "name": "(30345, 'p025')",
         "rawType": "float64",
         "type": "float"
        },
        {
         "name": "(30345, 'p975')",
         "rawType": "float64",
         "type": "float"
        },
        {
         "name": "(30346, 'mean')",
         "rawType": "float64",
         "type": "float"
        },
        {
         "name": "(30346, 'p025')",
         "rawType": "float64",
         "type": "float"
        },
        {
         "name": "(30346, 'p975')",
         "rawType": "float64",
         "type": "float"
        },
        {
         "name": "(30349, 'mean')",
         "rawType": "float64",
         "type": "float"
        },
        {
         "name": "(30349, 'p025')",
         "rawType": "float64",
         "type": "float"
        },
        {
         "name": "(30349, 'p975')",
         "rawType": "float64",
         "type": "float"
        },
        {
         "name": "(30350, 'mean')",
         "rawType": "float64",
         "type": "float"
        },
        {
         "name": "(30350, 'p025')",
         "rawType": "float64",
         "type": "float"
        },
        {
         "name": "(30350, 'p975')",
         "rawType": "float64",
         "type": "float"
        },
        {
         "name": "(30351, 'mean')",
         "rawType": "float64",
         "type": "float"
        },
        {
         "name": "(30351, 'p025')",
         "rawType": "float64",
         "type": "float"
        },
        {
         "name": "(30351, 'p975')",
         "rawType": "float64",
         "type": "float"
        },
        {
         "name": "(30352, 'mean')",
         "rawType": "float64",
         "type": "float"
        },
        {
         "name": "(30352, 'p025')",
         "rawType": "float64",
         "type": "float"
        },
        {
         "name": "(30352, 'p975')",
         "rawType": "float64",
         "type": "float"
        },
        {
         "name": "(30353, 'mean')",
         "rawType": "float64",
         "type": "float"
        },
        {
         "name": "(30353, 'p025')",
         "rawType": "float64",
         "type": "float"
        },
        {
         "name": "(30353, 'p975')",
         "rawType": "float64",
         "type": "float"
        },
        {
         "name": "(30354, 'mean')",
         "rawType": "float64",
         "type": "float"
        },
        {
         "name": "(30354, 'p025')",
         "rawType": "float64",
         "type": "float"
        },
        {
         "name": "(30354, 'p975')",
         "rawType": "float64",
         "type": "float"
        },
        {
         "name": "(30355, 'mean')",
         "rawType": "float64",
         "type": "float"
        },
        {
         "name": "(30355, 'p025')",
         "rawType": "float64",
         "type": "float"
        },
        {
         "name": "(30355, 'p975')",
         "rawType": "float64",
         "type": "float"
        },
        {
         "name": "(30356, 'mean')",
         "rawType": "float64",
         "type": "float"
        },
        {
         "name": "(30356, 'p025')",
         "rawType": "float64",
         "type": "float"
        },
        {
         "name": "(30356, 'p975')",
         "rawType": "float64",
         "type": "float"
        },
        {
         "name": "(30357, 'mean')",
         "rawType": "float64",
         "type": "float"
        },
        {
         "name": "(30357, 'p025')",
         "rawType": "float64",
         "type": "float"
        },
        {
         "name": "(30357, 'p975')",
         "rawType": "float64",
         "type": "float"
        },
        {
         "name": "(30360, 'mean')",
         "rawType": "float64",
         "type": "float"
        },
        {
         "name": "(30360, 'p025')",
         "rawType": "float64",
         "type": "float"
        },
        {
         "name": "(30360, 'p975')",
         "rawType": "float64",
         "type": "float"
        },
        {
         "name": "(30361, 'mean')",
         "rawType": "float64",
         "type": "float"
        },
        {
         "name": "(30361, 'p025')",
         "rawType": "float64",
         "type": "float"
        },
        {
         "name": "(30361, 'p975')",
         "rawType": "float64",
         "type": "float"
        },
        {
         "name": "(30363, 'mean')",
         "rawType": "float64",
         "type": "float"
        },
        {
         "name": "(30363, 'p025')",
         "rawType": "float64",
         "type": "float"
        },
        {
         "name": "(30363, 'p975')",
         "rawType": "float64",
         "type": "float"
        },
        {
         "name": "(30365, 'mean')",
         "rawType": "float64",
         "type": "float"
        },
        {
         "name": "(30365, 'p025')",
         "rawType": "float64",
         "type": "float"
        },
        {
         "name": "(30365, 'p975')",
         "rawType": "float64",
         "type": "float"
        },
        {
         "name": "(30366, 'mean')",
         "rawType": "float64",
         "type": "float"
        },
        {
         "name": "(30366, 'p025')",
         "rawType": "float64",
         "type": "float"
        },
        {
         "name": "(30366, 'p975')",
         "rawType": "float64",
         "type": "float"
        },
        {
         "name": "(30368, 'mean')",
         "rawType": "float64",
         "type": "float"
        },
        {
         "name": "(30368, 'p025')",
         "rawType": "float64",
         "type": "float"
        },
        {
         "name": "(30368, 'p975')",
         "rawType": "float64",
         "type": "float"
        },
        {
         "name": "(30369, 'mean')",
         "rawType": "float64",
         "type": "float"
        },
        {
         "name": "(30369, 'p025')",
         "rawType": "float64",
         "type": "float"
        },
        {
         "name": "(30369, 'p975')",
         "rawType": "float64",
         "type": "float"
        },
        {
         "name": "(30371, 'mean')",
         "rawType": "float64",
         "type": "float"
        },
        {
         "name": "(30371, 'p025')",
         "rawType": "float64",
         "type": "float"
        },
        {
         "name": "(30371, 'p975')",
         "rawType": "float64",
         "type": "float"
        },
        {
         "name": "(30373, 'mean')",
         "rawType": "float64",
         "type": "float"
        },
        {
         "name": "(30373, 'p025')",
         "rawType": "float64",
         "type": "float"
        },
        {
         "name": "(30373, 'p975')",
         "rawType": "float64",
         "type": "float"
        },
        {
         "name": "(30374, 'mean')",
         "rawType": "float64",
         "type": "float"
        },
        {
         "name": "(30374, 'p025')",
         "rawType": "float64",
         "type": "float"
        },
        {
         "name": "(30374, 'p975')",
         "rawType": "float64",
         "type": "float"
        },
        {
         "name": "(30375, 'mean')",
         "rawType": "float64",
         "type": "float"
        },
        {
         "name": "(30375, 'p025')",
         "rawType": "float64",
         "type": "float"
        },
        {
         "name": "(30375, 'p975')",
         "rawType": "float64",
         "type": "float"
        },
        {
         "name": "(30377, 'mean')",
         "rawType": "float64",
         "type": "float"
        },
        {
         "name": "(30377, 'p025')",
         "rawType": "float64",
         "type": "float"
        },
        {
         "name": "(30377, 'p975')",
         "rawType": "float64",
         "type": "float"
        },
        {
         "name": "(30378, 'mean')",
         "rawType": "float64",
         "type": "float"
        },
        {
         "name": "(30378, 'p025')",
         "rawType": "float64",
         "type": "float"
        },
        {
         "name": "(30378, 'p975')",
         "rawType": "float64",
         "type": "float"
        },
        {
         "name": "(30381, 'mean')",
         "rawType": "float64",
         "type": "float"
        },
        {
         "name": "(30381, 'p025')",
         "rawType": "float64",
         "type": "float"
        },
        {
         "name": "(30381, 'p975')",
         "rawType": "float64",
         "type": "float"
        },
        {
         "name": "(30382, 'mean')",
         "rawType": "float64",
         "type": "float"
        },
        {
         "name": "(30382, 'p025')",
         "rawType": "float64",
         "type": "float"
        },
        {
         "name": "(30382, 'p975')",
         "rawType": "float64",
         "type": "float"
        },
        {
         "name": "(30384, 'mean')",
         "rawType": "float64",
         "type": "float"
        },
        {
         "name": "(30384, 'p025')",
         "rawType": "float64",
         "type": "float"
        },
        {
         "name": "(30384, 'p975')",
         "rawType": "float64",
         "type": "float"
        },
        {
         "name": "(30410, 'mean')",
         "rawType": "float64",
         "type": "float"
        },
        {
         "name": "(30410, 'p025')",
         "rawType": "float64",
         "type": "float"
        },
        {
         "name": "(30410, 'p975')",
         "rawType": "float64",
         "type": "float"
        },
        {
         "name": "(30421, 'mean')",
         "rawType": "float64",
         "type": "float"
        },
        {
         "name": "(30421, 'p025')",
         "rawType": "float64",
         "type": "float"
        },
        {
         "name": "(30421, 'p975')",
         "rawType": "float64",
         "type": "float"
        },
        {
         "name": "(30441, 'mean')",
         "rawType": "float64",
         "type": "float"
        },
        {
         "name": "(30441, 'p025')",
         "rawType": "float64",
         "type": "float"
        },
        {
         "name": "(30441, 'p975')",
         "rawType": "float64",
         "type": "float"
        },
        {
         "name": "(30443, 'mean')",
         "rawType": "float64",
         "type": "float"
        },
        {
         "name": "(30443, 'p025')",
         "rawType": "float64",
         "type": "float"
        },
        {
         "name": "(30443, 'p975')",
         "rawType": "float64",
         "type": "float"
        },
        {
         "name": "(30444, 'mean')",
         "rawType": "float64",
         "type": "float"
        },
        {
         "name": "(30444, 'p025')",
         "rawType": "float64",
         "type": "float"
        },
        {
         "name": "(30444, 'p975')",
         "rawType": "float64",
         "type": "float"
        },
        {
         "name": "(30445, 'mean')",
         "rawType": "float64",
         "type": "float"
        },
        {
         "name": "(30445, 'p025')",
         "rawType": "float64",
         "type": "float"
        },
        {
         "name": "(30445, 'p975')",
         "rawType": "float64",
         "type": "float"
        },
        {
         "name": "(30447, 'mean')",
         "rawType": "float64",
         "type": "float"
        },
        {
         "name": "(30447, 'p025')",
         "rawType": "float64",
         "type": "float"
        },
        {
         "name": "(30447, 'p975')",
         "rawType": "float64",
         "type": "float"
        },
        {
         "name": "(30448, 'mean')",
         "rawType": "float64",
         "type": "float"
        },
        {
         "name": "(30448, 'p025')",
         "rawType": "float64",
         "type": "float"
        },
        {
         "name": "(30448, 'p975')",
         "rawType": "float64",
         "type": "float"
        },
        {
         "name": "(30452, 'mean')",
         "rawType": "float64",
         "type": "float"
        },
        {
         "name": "(30452, 'p025')",
         "rawType": "float64",
         "type": "float"
        },
        {
         "name": "(30452, 'p975')",
         "rawType": "float64",
         "type": "float"
        },
        {
         "name": "(30453, 'mean')",
         "rawType": "float64",
         "type": "float"
        },
        {
         "name": "(30453, 'p025')",
         "rawType": "float64",
         "type": "float"
        },
        {
         "name": "(30453, 'p975')",
         "rawType": "float64",
         "type": "float"
        },
        {
         "name": "(30454, 'mean')",
         "rawType": "float64",
         "type": "float"
        },
        {
         "name": "(30454, 'p025')",
         "rawType": "float64",
         "type": "float"
        },
        {
         "name": "(30454, 'p975')",
         "rawType": "float64",
         "type": "float"
        },
        {
         "name": "(30456, 'mean')",
         "rawType": "float64",
         "type": "float"
        },
        {
         "name": "(30456, 'p025')",
         "rawType": "float64",
         "type": "float"
        },
        {
         "name": "(30456, 'p975')",
         "rawType": "float64",
         "type": "float"
        },
        {
         "name": "(30457, 'mean')",
         "rawType": "float64",
         "type": "float"
        },
        {
         "name": "(30457, 'p025')",
         "rawType": "float64",
         "type": "float"
        },
        {
         "name": "(30457, 'p975')",
         "rawType": "float64",
         "type": "float"
        },
        {
         "name": "(30471, 'mean')",
         "rawType": "float64",
         "type": "float"
        },
        {
         "name": "(30471, 'p025')",
         "rawType": "float64",
         "type": "float"
        },
        {
         "name": "(30471, 'p975')",
         "rawType": "float64",
         "type": "float"
        },
        {
         "name": "(30472, 'mean')",
         "rawType": "float64",
         "type": "float"
        },
        {
         "name": "(30472, 'p025')",
         "rawType": "float64",
         "type": "float"
        },
        {
         "name": "(30472, 'p975')",
         "rawType": "float64",
         "type": "float"
        },
        {
         "name": "(30473, 'mean')",
         "rawType": "float64",
         "type": "float"
        },
        {
         "name": "(30473, 'p025')",
         "rawType": "float64",
         "type": "float"
        },
        {
         "name": "(30473, 'p975')",
         "rawType": "float64",
         "type": "float"
        },
        {
         "name": "(30474, 'mean')",
         "rawType": "float64",
         "type": "float"
        },
        {
         "name": "(30474, 'p025')",
         "rawType": "float64",
         "type": "float"
        },
        {
         "name": "(30474, 'p975')",
         "rawType": "float64",
         "type": "float"
        },
        {
         "name": "(30479, 'mean')",
         "rawType": "float64",
         "type": "float"
        },
        {
         "name": "(30479, 'p025')",
         "rawType": "float64",
         "type": "float"
        },
        {
         "name": "(30479, 'p975')",
         "rawType": "float64",
         "type": "float"
        },
        {
         "name": "(30481, 'mean')",
         "rawType": "float64",
         "type": "float"
        },
        {
         "name": "(30481, 'p025')",
         "rawType": "float64",
         "type": "float"
        },
        {
         "name": "(30481, 'p975')",
         "rawType": "float64",
         "type": "float"
        },
        {
         "name": "(30483, 'mean')",
         "rawType": "float64",
         "type": "float"
        },
        {
         "name": "(30483, 'p025')",
         "rawType": "float64",
         "type": "float"
        },
        {
         "name": "(30483, 'p975')",
         "rawType": "float64",
         "type": "float"
        },
        {
         "name": "(30484, 'mean')",
         "rawType": "float64",
         "type": "float"
        },
        {
         "name": "(30484, 'p025')",
         "rawType": "float64",
         "type": "float"
        },
        {
         "name": "(30484, 'p975')",
         "rawType": "float64",
         "type": "float"
        },
        {
         "name": "(30486, 'mean')",
         "rawType": "float64",
         "type": "float"
        },
        {
         "name": "(30486, 'p025')",
         "rawType": "float64",
         "type": "float"
        },
        {
         "name": "(30486, 'p975')",
         "rawType": "float64",
         "type": "float"
        },
        {
         "name": "(30487, 'mean')",
         "rawType": "float64",
         "type": "float"
        },
        {
         "name": "(30487, 'p025')",
         "rawType": "float64",
         "type": "float"
        },
        {
         "name": "(30487, 'p975')",
         "rawType": "float64",
         "type": "float"
        },
        {
         "name": "(30488, 'mean')",
         "rawType": "float64",
         "type": "float"
        },
        {
         "name": "(30488, 'p025')",
         "rawType": "float64",
         "type": "float"
        },
        {
         "name": "(30488, 'p975')",
         "rawType": "float64",
         "type": "float"
        },
        {
         "name": "(30491, 'mean')",
         "rawType": "float64",
         "type": "float"
        },
        {
         "name": "(30491, 'p025')",
         "rawType": "float64",
         "type": "float"
        },
        {
         "name": "(30491, 'p975')",
         "rawType": "float64",
         "type": "float"
        },
        {
         "name": "(30495, 'mean')",
         "rawType": "float64",
         "type": "float"
        },
        {
         "name": "(30495, 'p025')",
         "rawType": "float64",
         "type": "float"
        },
        {
         "name": "(30495, 'p975')",
         "rawType": "float64",
         "type": "float"
        },
        {
         "name": "(30496, 'mean')",
         "rawType": "float64",
         "type": "float"
        },
        {
         "name": "(30496, 'p025')",
         "rawType": "float64",
         "type": "float"
        },
        {
         "name": "(30496, 'p975')",
         "rawType": "float64",
         "type": "float"
        },
        {
         "name": "(30497, 'mean')",
         "rawType": "float64",
         "type": "float"
        },
        {
         "name": "(30497, 'p025')",
         "rawType": "float64",
         "type": "float"
        },
        {
         "name": "(30497, 'p975')",
         "rawType": "float64",
         "type": "float"
        }
       ],
       "ref": "585fe611-5c31-44c2-bfe6-08f7008e90bf",
       "rows": [
        [
         "Australia",
         "962.154366697692",
         "935.6869718882496",
         "988.1758851270752",
         "534.7790902732728",
         "509.1669932622384",
         "559.9118056132347",
         "0.0",
         "0.0",
         "0.0",
         "0.0",
         "0.0",
         "0.0",
         "0.0",
         "0.0",
         "0.0",
         "0.0",
         "0.0",
         "0.0",
         "0.0",
         "0.0",
         "0.0",
         "0.0",
         "0.0",
         "0.0",
         "0.0",
         "0.0",
         "0.0",
         "0.0",
         "0.0",
         "0.0",
         "962.1543666898516",
         "935.6869718806252",
         "988.1758851190235",
         "168.2322310267345",
         "163.6044196939072",
         "172.7820810799297",
         "394.8344545342244",
         "383.9731626698682",
         "405.5127743426382",
         "977.9311090937498",
         "951.0297202350279",
         "1004.379310399319",
         "193.9596823992652",
         "188.6241482348004",
         "199.2053328086285",
         "962.154366697692",
         "935.6869718882496",
         "988.1758851270752",
         "534.7790902732728",
         "509.1669932622384",
         "559.9118056132347",
         "508.9129881667405",
         "485.5488679909423",
         "531.8423497761322",
         "0.0",
         "0.0",
         "0.0",
         "0.0",
         "0.0",
         "0.0",
         "0.0",
         "0.0",
         "0.0",
         "170.7623161172637",
         "158.0972053297113",
         "183.6604895021864",
         "962.1543667005508",
         "935.6869718910298",
         "988.1758851300118",
         "0.0",
         "0.0",
         "0.0",
         "962.1543666941914",
         "935.6869718848452",
         "988.1758851234804",
         "295.7411947240184",
         "287.6058068524507",
         "303.7395318016682",
         "0.0",
         "0.0",
         "0.0",
         "0.0",
         "0.0",
         "0.0",
         "0.0",
         "0.0",
         "0.0",
         "0.0",
         "0.0",
         "0.0",
         "0.0",
         "0.0",
         "0.0",
         "0.0",
         "0.0",
         "0.0",
         "170.7623161172637",
         "158.0972053297113",
         "183.6604895021864",
         "0.0",
         "0.0",
         "0.0",
         "962.1543667005508",
         "935.6869718910298",
         "988.1758851300118",
         "1000.955931052477",
         "973.4211645632279",
         "1028.026839949545",
         "295.7411947240184",
         "287.6058068524507",
         "303.7395318016682",
         "1000.955931052477",
         "973.4211645632279",
         "1028.026839949545",
         "0.0",
         "0.0",
         "0.0",
         "0.0",
         "0.0",
         "0.0",
         "588.0397335151679",
         "560.3342622295419",
         "615.2277962471038",
         "0.0",
         "0.0",
         "0.0",
         "0.0",
         "0.0",
         "0.0",
         "0.0",
         "0.0",
         "0.0",
         "0.0",
         "0.0",
         "0.0",
         "0.0",
         "0.0",
         "0.0",
         "0.0",
         "0.0",
         "0.0",
         "0.0",
         "0.0",
         "0.0",
         "0.0",
         "0.0",
         "0.0",
         "0.0",
         "0.0",
         "0.0",
         "0.0",
         "0.0",
         "0.0",
         "962.1543666898516",
         "935.6869718806252",
         "988.1758851190235",
         "168.2322310267345",
         "163.6044196939072",
         "172.7820810799297",
         "394.8344545342244",
         "383.9731626698682",
         "405.5127743426382",
         "977.9311090937498",
         "951.0297202350279",
         "1004.379310399319",
         "193.9596823992652",
         "188.6241482348004",
         "199.2053328086285",
         "962.154366697692",
         "935.6869718882496",
         "988.1758851270752",
         "534.7790902732728",
         "509.1669932622384",
         "559.9118056132347",
         "508.9129881667407",
         "485.5488679909422",
         "531.8423497761322",
         "170.7623363971651",
         "158.0972252559208",
         "183.6605101183815",
         "0.0",
         "0.0",
         "0.0",
         "0.0",
         "0.0",
         "0.0",
         "170.7623161172637",
         "158.0972053297113",
         "183.6604895021864",
         "962.1543667005508",
         "935.6869718910298",
         "988.1758851300118",
         "0.0",
         "0.0",
         "0.0",
         "962.1543666941914",
         "935.6869718848452",
         "988.1758851234804",
         "295.7411947240184",
         "287.6058068524507",
         "303.7395318016682",
         "0.0",
         "0.0",
         "0.0",
         "295.7411947240184",
         "287.6058068524507",
         "303.7395318016682",
         "0.0",
         "0.0",
         "0.0",
         "0.0",
         "0.0",
         "0.0",
         "0.0",
         "0.0",
         "0.0",
         "0.0",
         "0.0",
         "0.0",
         "962.1543666916632",
         "935.686971882387",
         "988.175885120884",
         "170.7623161172637",
         "158.0972053297113",
         "183.6604895021864",
         "0.0",
         "0.0",
         "0.0",
         "962.1543667005508",
         "935.6869718910298",
         "988.1758851300118",
         "1000.955931052477",
         "973.4211645632279",
         "1028.026839949545",
         "0.0",
         "0.0",
         "0.0",
         "0.0",
         "0.0",
         "0.0",
         "1000.955931052477",
         "973.4211645632279",
         "1028.026839949545",
         "0.0",
         "0.0",
         "0.0",
         "0.0",
         "0.0",
         "0.0",
         "295.7411947240184",
         "287.6058068524507",
         "303.7395318016682",
         "295.7411947240184",
         "287.6058068524507",
         "303.7395318016682",
         "0.0",
         "0.0",
         "0.0",
         "0.0",
         "0.0",
         "0.0",
         "962.1543666916632",
         "935.686971882387",
         "988.175885120884",
         "295.7411947240184",
         "287.6058068524507",
         "303.7395318016682",
         "1000.955931052477",
         "973.4211645632279",
         "1028.026839949545",
         "0.0",
         "0.0",
         "0.0",
         "0.0",
         "0.0",
         "0.0",
         "962.1543666916632",
         "935.686971882387",
         "988.175885120884",
         "295.7411947240184",
         "287.6058068524507",
         "303.7395318016682",
         "1000.955931052477",
         "973.4211645632279",
         "1028.026839949545",
         "0.0",
         "0.0",
         "0.0",
         "0.0",
         "0.0",
         "0.0",
         "0.0",
         "0.0",
         "0.0",
         "0.0",
         "0.0",
         "0.0",
         "0.0",
         "0.0",
         "0.0",
         "962.1543666916632",
         "935.686971882387",
         "988.175885120884",
         "0.0",
         "0.0",
         "0.0",
         "0.0",
         "0.0",
         "0.0",
         "295.7411947240184",
         "287.6058068524507",
         "303.7395318016682",
         "0.0",
         "0.0",
         "0.0",
         "507.1260531650172",
         "483.7741678608025",
         "530.0432237355623",
         "0.0",
         "0.0",
         "0.0",
         "295.7411947240184",
         "287.6058068524507",
         "303.7395318016682",
         "962.1543666916632",
         "935.686971882387",
         "988.175885120884",
         "1000.955931052477",
         "973.4211645632279",
         "1028.026839949545",
         "0.0",
         "0.0",
         "0.0"
        ],
        [
         "Bangladesh",
         "0.0",
         "0.0",
         "0.0",
         "0.0",
         "0.0",
         "0.0",
         "0.0",
         "0.0",
         "0.0",
         "0.0",
         "0.0",
         "0.0",
         "0.0",
         "0.0",
         "0.0",
         "0.0",
         "0.0",
         "0.0",
         "0.0",
         "0.0",
         "0.0",
         "0.0",
         "0.0",
         "0.0",
         "0.0",
         "0.0",
         "0.0",
         "0.0",
         "0.0",
         "0.0",
         "622.5524519198113",
         "592.7366380831963",
         "651.8102030641388",
         "0.0",
         "0.0",
         "0.0",
         "0.0",
         "0.0",
         "0.0",
         "0.0",
         "0.0",
         "0.0",
         "0.0",
         "0.0",
         "0.0",
         "0.0",
         "0.0",
         "0.0",
         "0.0",
         "0.0",
         "0.0",
         "0.0",
         "0.0",
         "0.0",
         "0.0",
         "0.0",
         "0.0",
         "0.0",
         "0.0",
         "0.0",
         "0.0",
         "0.0",
         "0.0",
         "0.0",
         "0.0",
         "0.0",
         "0.0",
         "0.0",
         "0.0",
         "0.0",
         "0.0",
         "0.0",
         "0.0",
         "0.0",
         "0.0",
         "0.0",
         "0.0",
         "0.0",
         "0.0",
         "0.0",
         "0.0",
         "0.0",
         "0.0",
         "0.0",
         "0.0",
         "0.0",
         "0.0",
         "0.0",
         "0.0",
         "0.0",
         "0.0",
         "0.0",
         "0.0",
         "0.0",
         "0.0",
         "0.0",
         "0.0",
         "0.0",
         "0.0",
         "0.0",
         "0.0",
         "0.0",
         "0.0",
         "0.0",
         "0.0",
         "0.0",
         "0.0",
         "0.0",
         "0.0",
         "0.0",
         "0.0",
         "0.0",
         "0.0",
         "0.0",
         "0.0",
         "0.0",
         "0.0",
         "0.0",
         "0.0",
         "0.0",
         "0.0",
         "0.0",
         "0.0",
         "0.0",
         "0.0",
         "0.0",
         "0.0",
         "0.0",
         "0.0",
         "0.0",
         "0.0",
         "0.0",
         "0.0",
         "0.0",
         "0.0",
         "0.0",
         "0.0",
         "0.0",
         "0.0",
         "0.0",
         "0.0",
         "0.0",
         "0.0",
         "0.0",
         "0.0",
         "0.0",
         "0.0",
         "0.0",
         "0.0",
         "0.0",
         "0.0",
         "0.0",
         "0.0",
         "622.5524519198113",
         "592.7366380831963",
         "651.8102030641388",
         "0.0",
         "0.0",
         "0.0",
         "0.0",
         "0.0",
         "0.0",
         "0.0",
         "0.0",
         "0.0",
         "0.0",
         "0.0",
         "0.0",
         "0.0",
         "0.0",
         "0.0",
         "0.0",
         "0.0",
         "0.0",
         "0.0",
         "0.0",
         "0.0",
         "185.1706377649053",
         "171.5274918996838",
         "199.0629611819603",
         "0.0",
         "0.0",
         "0.0",
         "0.0",
         "0.0",
         "0.0",
         "0.0",
         "0.0",
         "0.0",
         "0.0",
         "0.0",
         "0.0",
         "0.0",
         "0.0",
         "0.0",
         "0.0",
         "0.0",
         "0.0",
         "0.0",
         "0.0",
         "0.0",
         "0.0",
         "0.0",
         "0.0",
         "0.0",
         "0.0",
         "0.0",
         "0.0",
         "0.0",
         "0.0",
         "0.0",
         "0.0",
         "0.0",
         "0.0",
         "0.0",
         "0.0",
         "0.0",
         "0.0",
         "0.0",
         "0.0",
         "0.0",
         "0.0",
         "0.0",
         "0.0",
         "0.0",
         "0.0",
         "0.0",
         "0.0",
         "0.0",
         "0.0",
         "0.0",
         "0.0",
         "0.0",
         "0.0",
         "0.0",
         "0.0",
         "0.0",
         "0.0",
         "0.0",
         "0.0",
         "0.0",
         "0.0",
         "0.0",
         "0.0",
         "0.0",
         "0.0",
         "0.0",
         "0.0",
         "0.0",
         "0.0",
         "0.0",
         "0.0",
         "0.0",
         "0.0",
         "0.0",
         "0.0",
         "0.0",
         "0.0",
         "622.5524519198113",
         "592.7366380831963",
         "651.8102030641388",
         "0.0",
         "0.0",
         "0.0",
         "0.0",
         "0.0",
         "0.0",
         "0.0",
         "0.0",
         "0.0",
         "0.0",
         "0.0",
         "0.0",
         "0.0",
         "0.0",
         "0.0",
         "0.0",
         "0.0",
         "0.0",
         "0.0",
         "0.0",
         "0.0",
         "0.0",
         "0.0",
         "0.0",
         "0.0",
         "0.0",
         "0.0",
         "0.0",
         "0.0",
         "0.0",
         "0.0",
         "0.0",
         "0.0",
         "0.0",
         "0.0",
         "0.0",
         "0.0",
         "0.0",
         "0.0",
         "0.0",
         "0.0",
         "0.0",
         "0.0",
         "0.0",
         "0.0",
         "622.5524519198113",
         "592.7366380831963",
         "651.8102030641388",
         "0.0",
         "0.0",
         "0.0",
         "0.0",
         "0.0",
         "0.0",
         "0.0",
         "0.0",
         "0.0",
         "0.0",
         "0.0",
         "0.0",
         "0.0",
         "0.0",
         "0.0",
         "0.0",
         "0.0",
         "0.0",
         "0.0",
         "0.0",
         "0.0",
         "0.0",
         "0.0",
         "0.0"
        ],
        [
         "Brazil",
         "0.0",
         "0.0",
         "0.0",
         "0.0",
         "0.0",
         "0.0",
         "0.0",
         "0.0",
         "0.0",
         "0.0",
         "0.0",
         "0.0",
         "0.0",
         "0.0",
         "0.0",
         "0.0",
         "0.0",
         "0.0",
         "0.0",
         "0.0",
         "0.0",
         "0.0",
         "0.0",
         "0.0",
         "0.0",
         "0.0",
         "0.0",
         "0.0",
         "0.0",
         "0.0",
         "0.0",
         "0.0",
         "0.0",
         "277.1954066448267",
         "269.5701850062859",
         "284.6921718755908",
         "135.9392887847069",
         "132.1998068810547",
         "139.6157744280804",
         "297.2139347868669",
         "289.0380340596867",
         "305.2521022279014",
         "143.4413524094491",
         "139.495500210816",
         "147.3207317820712",
         "0.0",
         "0.0",
         "0.0",
         "0.0",
         "0.0",
         "0.0",
         "220.49814315265",
         "214.4325765077743",
         "226.4615277294336",
         "0.0",
         "0.0",
         "0.0",
         "0.0",
         "0.0",
         "0.0",
         "56.40136028029359",
         "52.21818045440655",
         "60.66151872586751",
         "0.0",
         "0.0",
         "0.0",
         "0.0",
         "0.0",
         "0.0",
         "0.0",
         "0.0",
         "0.0",
         "317.7915146406481",
         "309.0495561674492",
         "326.3862038767337",
         "252.1494609184976",
         "245.2132149363109",
         "258.9688571499583",
         "0.0",
         "0.0",
         "0.0",
         "0.0",
         "0.0",
         "0.0",
         "0.0",
         "0.0",
         "0.0",
         "0.0",
         "0.0",
         "0.0",
         "317.7915146405701",
         "309.0495561673733",
         "326.3862038766536",
         "0.0",
         "0.0",
         "0.0",
         "0.0",
         "0.0",
         "0.0",
         "0.0",
         "0.0",
         "0.0",
         "0.0",
         "0.0",
         "0.0",
         "260.1508294514987",
         "252.9944780599577",
         "267.1866231412732",
         "252.1494609184976",
         "245.2132149363109",
         "258.9688571499583",
         "260.1508294514987",
         "252.9944780599577",
         "267.1866231412732",
         "0.0",
         "0.0",
         "0.0",
         "0.0",
         "0.0",
         "0.0",
         "191.2738330427896",
         "182.1131832370057",
         "200.2630229297595",
         "0.0",
         "0.0",
         "0.0",
         "0.0",
         "0.0",
         "0.0",
         "0.0",
         "0.0",
         "0.0",
         "0.0",
         "0.0",
         "0.0",
         "0.0",
         "0.0",
         "0.0",
         "0.0",
         "0.0",
         "0.0",
         "0.0",
         "0.0",
         "0.0",
         "0.0",
         "0.0",
         "0.0",
         "0.0",
         "0.0",
         "0.0",
         "0.0",
         "0.0",
         "0.0",
         "0.0",
         "0.0",
         "0.0",
         "277.1954066448267",
         "269.5701850062859",
         "284.6921718755908",
         "135.9392887847069",
         "132.1998068810547",
         "139.6157744280804",
         "297.2139347868669",
         "289.0380340596867",
         "305.2521022279014",
         "143.4413524094491",
         "139.495500210816",
         "147.3207317820712",
         "0.0",
         "0.0",
         "0.0",
         "0.0",
         "0.0",
         "0.0",
         "220.4981431526499",
         "214.4325765077743",
         "226.4615277294336",
         "0.0",
         "0.0",
         "0.0",
         "0.0",
         "0.0",
         "0.0",
         "0.0",
         "0.0",
         "0.0",
         "0.0",
         "0.0",
         "0.0",
         "0.0",
         "0.0",
         "0.0",
         "0.0",
         "0.0",
         "0.0",
         "317.7915146406481",
         "309.0495561674492",
         "326.3862038767337",
         "252.1494609184976",
         "245.2132149363109",
         "258.9688571499583",
         "0.0",
         "0.0",
         "0.0",
         "252.1494609184976",
         "245.2132149363109",
         "258.9688571499583",
         "0.0",
         "0.0",
         "0.0",
         "0.0",
         "0.0",
         "0.0",
         "317.7915146405701",
         "309.0495561673733",
         "326.3862038766536",
         "0.0",
         "0.0",
         "0.0",
         "317.7915146405701",
         "309.0495561673733",
         "326.3862038766536",
         "0.0",
         "0.0",
         "0.0",
         "0.0",
         "0.0",
         "0.0",
         "0.0",
         "0.0",
         "0.0",
         "260.1508294514987",
         "252.9944780599577",
         "267.1866231412732",
         "0.0",
         "0.0",
         "0.0",
         "317.7915146405701",
         "309.0495561673733",
         "326.3862038766536",
         "260.1508294514987",
         "252.9944780599577",
         "267.1866231412732",
         "0.0",
         "0.0",
         "0.0",
         "0.0",
         "0.0",
         "0.0",
         "252.1494609184976",
         "245.2132149363109",
         "258.9688571499583",
         "252.1494609184976",
         "245.2132149363109",
         "258.9688571499583",
         "0.0",
         "0.0",
         "0.0",
         "0.0",
         "0.0",
         "0.0",
         "317.7915146405701",
         "309.0495561673733",
         "326.3862038766536",
         "252.1494609184976",
         "245.2132149363109",
         "258.9688571499583",
         "260.1508294514987",
         "252.9944780599577",
         "267.1866231412732",
         "0.0",
         "0.0",
         "0.0",
         "0.0",
         "0.0",
         "0.0",
         "317.7915146405701",
         "309.0495561673733",
         "326.3862038766536",
         "252.1494609184976",
         "245.2132149363109",
         "258.9688571499583",
         "260.1508294514987",
         "252.9944780599577",
         "267.1866231412732",
         "0.0",
         "0.0",
         "0.0",
         "0.0",
         "0.0",
         "0.0",
         "0.0",
         "0.0",
         "0.0",
         "0.0",
         "0.0",
         "0.0",
         "317.7915146405701",
         "309.0495561673733",
         "326.3862038766536",
         "317.7915146405701",
         "309.0495561673733",
         "326.3862038766536",
         "0.0",
         "0.0",
         "0.0",
         "0.0",
         "0.0",
         "0.0",
         "252.1494609184976",
         "245.2132149363109",
         "258.9688571499583",
         "0.0",
         "0.0",
         "0.0",
         "219.4264256544222",
         "213.3903403186086",
         "225.3608255716816",
         "0.0",
         "0.0",
         "0.0",
         "252.1494609184976",
         "245.2132149363109",
         "258.9688571499583",
         "317.7915146405701",
         "309.0495561673733",
         "326.3862038766536",
         "260.1508294514987",
         "252.9944780599577",
         "267.1866231412732",
         "0.0",
         "0.0",
         "0.0"
        ],
        [
         "Canada",
         "105.1595359029826",
         "102.2667579291899",
         "108.0035814184633",
         "0.0",
         "0.0",
         "0.0",
         "251.2743923922681",
         "243.7845578228344",
         "258.6355123176945",
         "403.2477251479716",
         "390.9677591207978",
         "415.3156014706991",
         "107.2582989083351",
         "104.3077871747517",
         "110.1591055865062",
         "251.2743923922681",
         "243.7845578228344",
         "258.6355123176945",
         "188.8771628000336",
         "183.6814409600471",
         "193.9853562015364",
         "0.0",
         "0.0",
         "0.0",
         "0.0",
         "0.0",
         "0.0",
         "0.0",
         "0.0",
         "0.0",
         "188.8771628000336",
         "183.6814409600472",
         "193.9853562015364",
         "18.03635070201936",
         "17.54019827970375",
         "18.52414480816202",
         "79.44573388423404",
         "77.26030326936763",
         "81.59434818821862",
         "17.05416235595301",
         "16.58502843257092",
         "17.51539312342242",
         "65.69872190759509",
         "63.89145056324539",
         "67.4755475049322",
         "105.1595359029826",
         "102.2667579291899",
         "108.0035814184633",
         "0.0",
         "0.0",
         "0.0",
         "43.10604863621758",
         "41.92026717316654",
         "44.27185412307378",
         "101.8784980795415",
         "96.99924601715765",
         "106.6664251551656",
         "101.8784980795415",
         "96.99924601715765",
         "106.6664251551656",
         "0.0",
         "0.0",
         "0.0",
         "0.0",
         "0.0",
         "0.0",
         "64.70357694295193",
         "61.60473796365874",
         "67.74441494027684",
         "0.0",
         "0.0",
         "0.0",
         "0.0",
         "0.0",
         "0.0",
         "74.34085108237291",
         "72.29584798436697",
         "76.35140354583328",
         "110.7084372230894",
         "107.6630174616366",
         "113.7025530843071",
         "110.7084372230894",
         "107.6630174616366",
         "113.7025530843071",
         "107.5016242010519",
         "104.5444189608855",
         "110.4090116253331",
         "106.5544770061389",
         "103.6233263370595",
         "109.4362487826432",
         "107.5016242003322",
         "104.5444189601856",
         "110.4090116245939",
         "0.0",
         "0.0",
         "0.0",
         "0.0",
         "0.0",
         "0.0",
         "106.5544770061389",
         "103.6233263370595",
         "109.4362487826432",
         "64.70357694295193",
         "61.60473796365874",
         "67.74441494027684",
         "95.67672206644221",
         "93.04480179534409",
         "98.2643043521523",
         "74.34085108237291",
         "72.29584798436697",
         "76.35140354583328",
         "95.67672206644221",
         "93.04480179534409",
         "98.2643043521523",
         "0.0",
         "0.0",
         "0.0",
         "0.0",
         "0.0",
         "0.0",
         "0.0",
         "0.0",
         "0.0",
         "403.2477251479716",
         "390.9677591207978",
         "415.3156014706991",
         "265.8958558468056",
         "253.1613443596648",
         "278.3920153986683",
         "416.4999384318745",
         "404.2638286216809",
         "428.5264924141978",
         "107.2582989083351",
         "104.3077871747517",
         "110.1591055865062",
         "251.2743923922681",
         "243.7845578228344",
         "258.6355123176945",
         "107.2582989083351",
         "104.3077871747517",
         "110.1591055865062",
         "188.8771628000336",
         "183.6814409600471",
         "193.9853562015364",
         "0.0",
         "0.0",
         "0.0",
         "0.0",
         "0.0",
         "0.0",
         "0.0",
         "0.0",
         "0.0",
         "188.8771628000336",
         "183.6814409600472",
         "193.9853562015364",
         "18.03635070201936",
         "17.54019827970375",
         "18.52414480816202",
         "79.44573388423404",
         "77.26030326936763",
         "81.59434818821862",
         "17.05416235595301",
         "16.58502843257092",
         "17.51539312342242",
         "65.69872190759509",
         "63.89145056324539",
         "67.4755475049322",
         "105.1595359029826",
         "102.2667579291899",
         "108.0035814184633",
         "0.0",
         "0.0",
         "0.0",
         "43.10604863621758",
         "41.92026717316654",
         "44.27185412307378",
         "101.8784980795415",
         "96.99924601715765",
         "106.6664251551656",
         "101.8784980795415",
         "96.99924601715765",
         "106.6664251551656",
         "110.7084372230894",
         "107.6630174616366",
         "113.7025530843071",
         "0.0",
         "0.0",
         "0.0",
         "64.70357694295193",
         "61.60473796365874",
         "67.74441494027684",
         "0.0",
         "0.0",
         "0.0",
         "0.0",
         "0.0",
         "0.0",
         "74.34085108237291",
         "72.29584798436697",
         "76.35140354583328",
         "110.7084372230894",
         "107.6630174616366",
         "113.7025530843071",
         "74.34085108237291",
         "72.29584798436697",
         "76.35140354583328",
         "110.7084372230894",
         "107.6630174616366",
         "113.7025530843071",
         "106.5544770061389",
         "103.6233263370595",
         "109.4362487826432",
         "107.5016242003322",
         "104.5444189601856",
         "110.4090116245939",
         "0.0",
         "0.0",
         "0.0",
         "121.1966443857802",
         "117.4587178386433",
         "124.8698252153734",
         "0.0",
         "0.0",
         "0.0",
         "106.5544770061389",
         "103.6233263370595",
         "109.4362487826432",
         "64.70357694295193",
         "61.60473796365874",
         "67.74441494027684",
         "95.67672206644221",
         "93.04480179534409",
         "98.2643043521523",
         "0.0",
         "0.0",
         "0.0",
         "107.5016242003322",
         "104.5444189601856",
         "110.4090116245939",
         "95.67672206644221",
         "93.04480179534409",
         "98.2643043521523",
         "0.0",
         "0.0",
         "0.0",
         "0.0",
         "0.0",
         "0.0",
         "74.34085108237291",
         "72.29584798436697",
         "76.35140354583328",
         "74.34085108237291",
         "72.29584798436697",
         "76.35140354583328",
         "251.2743923922681",
         "243.7845578228344",
         "258.6355123176945",
         "188.8771628000336",
         "183.6814409600471",
         "193.9853562015364",
         "121.1966443857802",
         "117.4587178386433",
         "124.8698252153734",
         "74.34085108237291",
         "72.29584798436697",
         "76.35140354583328",
         "95.67672206644221",
         "93.04480179534409",
         "98.2643043521523",
         "0.0",
         "0.0",
         "0.0",
         "251.2743923922681",
         "243.7845578228344",
         "258.6355123176945",
         "121.1966443857802",
         "117.4587178386433",
         "124.8698252153734",
         "74.34085108237291",
         "72.29584798436697",
         "76.35140354583328",
         "95.67672206644221",
         "93.04480179534409",
         "98.2643043521523",
         "0.0",
         "0.0",
         "0.0",
         "110.7084372230894",
         "107.6630174616366",
         "113.7025530843071",
         "107.5016242010519",
         "104.5444189608855",
         "110.4090116253331",
         "106.5544770061389",
         "103.6233263370595",
         "109.4362487826432",
         "107.5016242003322",
         "104.5444189601856",
         "110.4090116245939",
         "121.1966443857802",
         "117.4587178386433",
         "124.8698252153734",
         "251.2743923922681",
         "243.7845578228344",
         "258.6355123176945",
         "188.8771628000336",
         "183.6814409600471",
         "193.9853562015364",
         "74.34085108237291",
         "72.29584798436697",
         "76.35140354583328",
         "101.8784980795415",
         "96.99924601715765",
         "106.6664251551656",
         "43.10604863621758",
         "41.92026717316654",
         "44.27185412307378",
         "0.0",
         "0.0",
         "0.0",
         "74.34085108237291",
         "72.29584798436697",
         "76.35140354583328",
         "121.1966443857802",
         "117.4587178386433",
         "124.8698252153734",
         "95.67672206644221",
         "93.04480179534409",
         "98.2643043521523",
         "0.0",
         "0.0",
         "0.0"
        ],
        [
         "China",
         "319.3416399944424",
         "310.5570398992431",
         "327.9782524147307",
         "0.0",
         "0.0",
         "0.0",
         "0.0",
         "0.0",
         "0.0",
         "0.0",
         "0.0",
         "0.0",
         "0.0",
         "0.0",
         "0.0",
         "0.0",
         "0.0",
         "0.0",
         "0.0",
         "0.0",
         "0.0",
         "0.0",
         "0.0",
         "0.0",
         "0.0",
         "0.0",
         "0.0",
         "0.0",
         "0.0",
         "0.0",
         "409.7630360545808",
         "398.4910817104599",
         "420.8451002314978",
         "17.13642330262225",
         "16.66502650641181",
         "17.59987882197075",
         "17.2798608563282",
         "16.80451831241434",
         "17.74719565231727",
         "17.19035680628863",
         "16.71747638189037",
         "17.65527096025532",
         "17.09587696600527",
         "16.62559553750191",
         "17.55823590742494",
         "319.3416399944424",
         "310.5570398992431",
         "327.9782524147307",
         "0.0",
         "0.0",
         "0.0",
         "17.15820515150503",
         "16.68620916995047",
         "17.62224976217346",
         "246.3907167513329",
         "234.5903620652364",
         "257.9702041525966",
         "246.3907167513329",
         "234.5903620652364",
         "257.9702041525966",
         "238.4695476347681",
         "227.0485603461928",
         "249.6767682590934",
         "72.478403685786",
         "67.10282063676692",
         "77.95290788816713",
         "230.1914920172061",
         "219.1669644386111",
         "241.009673467773",
         "191.389876838765",
         "182.2236693557719",
         "200.3845203714228",
         "410.6972185515593",
         "399.3995662748315",
         "421.8045477450365",
         "18.29816804487119",
         "17.7948134276173",
         "18.79304301537782",
         "409.7630360381193",
         "398.4910816944514",
         "420.8451002145912",
         "409.7630360381193",
         "398.4910816944514",
         "420.8451002145912",
         "0.0",
         "0.0",
         "0.0",
         "0.0",
         "0.0",
         "0.0",
         "0.0",
         "0.0",
         "0.0",
         "0.0",
         "0.0",
         "0.0",
         "72.478403685786",
         "67.10282063676692",
         "77.95290788816713",
         "0.0",
         "0.0",
         "0.0",
         "230.1914920172061",
         "219.1669644386111",
         "241.009673467773",
         "29.05332729691662",
         "28.25411469928766",
         "29.83907614900593",
         "18.29816804487119",
         "17.7948134276173",
         "18.79304301537782",
         "29.05332729691662",
         "28.25411469928766",
         "29.83907614900593",
         "0.0",
         "0.0",
         "0.0",
         "0.0",
         "0.0",
         "0.0",
         "364.1257602577564",
         "352.9471084544745",
         "375.1109858593791",
         "0.0",
         "0.0",
         "0.0",
         "0.0",
         "0.0",
         "0.0",
         "0.0",
         "0.0",
         "0.0",
         "0.0",
         "0.0",
         "0.0",
         "0.0",
         "0.0",
         "0.0",
         "0.0",
         "0.0",
         "0.0",
         "0.0",
         "0.0",
         "0.0",
         "0.0",
         "0.0",
         "0.0",
         "0.0",
         "0.0",
         "0.0",
         "0.0",
         "0.0",
         "0.0",
         "409.7630360545808",
         "398.4910817104599",
         "420.8451002314978",
         "17.13642330262225",
         "16.66502650641181",
         "17.59987882197075",
         "17.2798608563282",
         "16.80451831241434",
         "17.74719565231727",
         "17.19035680628863",
         "16.71747638189037",
         "17.65527096025532",
         "17.09587696600527",
         "16.62559553750191",
         "17.55823590742494",
         "319.3416399944424",
         "310.5570398992431",
         "327.9782524147307",
         "0.0",
         "0.0",
         "0.0",
         "17.15820515150503",
         "16.68620916995047",
         "17.62224976217346",
         "88.67132459184423",
         "82.69772100977698",
         "94.71405963699624",
         "246.3907167513329",
         "234.5903620652364",
         "257.9702041525966",
         "409.7630360381193",
         "398.4910816944514",
         "420.8451002145912",
         "72.478403685786",
         "67.10282063676692",
         "77.95290788816713",
         "230.1914920172061",
         "219.1669644386111",
         "241.009673467773",
         "191.389876838765",
         "182.2236693557719",
         "200.3845203714228",
         "410.6972185515593",
         "399.3995662748315",
         "421.8045477450365",
         "18.29816804487119",
         "17.7948134276173",
         "18.79304301537782",
         "409.7630360381193",
         "398.4910816944514",
         "420.8451002145912",
         "18.29816804487119",
         "17.7948134276173",
         "18.79304301537782",
         "409.7630360381193",
         "398.4910816944514",
         "420.8451002145912",
         "0.0",
         "0.0",
         "0.0",
         "0.0",
         "0.0",
         "0.0",
         "0.0",
         "0.0",
         "0.0",
         "409.7630360381193",
         "398.4910816944514",
         "420.8451002145912",
         "72.478403685786",
         "67.10282063676692",
         "77.95290788816713",
         "0.0",
         "0.0",
         "0.0",
         "230.1914920172061",
         "219.1669644386111",
         "241.009673467773",
         "29.05332729691662",
         "28.25411469928766",
         "29.83907614900593",
         "0.0",
         "0.0",
         "0.0",
         "0.0",
         "0.0",
         "0.0",
         "29.05332729691662",
         "28.25411469928766",
         "29.83907614900593",
         "0.0",
         "0.0",
         "0.0",
         "0.0",
         "0.0",
         "0.0",
         "18.29816804487119",
         "17.7948134276173",
         "18.79304301537782",
         "18.29816804487119",
         "17.7948134276173",
         "18.79304301537782",
         "0.0",
         "0.0",
         "0.0",
         "0.0",
         "0.0",
         "0.0",
         "409.7630360381193",
         "398.4910816944514",
         "420.8451002145912",
         "18.29816804487119",
         "17.7948134276173",
         "18.79304301537782",
         "29.05332729691662",
         "28.25411469928766",
         "29.83907614900593",
         "0.0",
         "0.0",
         "0.0",
         "0.0",
         "0.0",
         "0.0",
         "409.7630360381193",
         "398.4910816944514",
         "420.8451002145912",
         "18.29816804487119",
         "17.7948134276173",
         "18.79304301537782",
         "29.05332729691662",
         "28.25411469928766",
         "29.83907614900593",
         "0.0",
         "0.0",
         "0.0",
         "409.7630360381193",
         "398.4910816944514",
         "420.8451002145912",
         "0.0",
         "0.0",
         "0.0",
         "0.0",
         "0.0",
         "0.0",
         "0.0",
         "0.0",
         "0.0",
         "409.7630360381193",
         "398.4910816944514",
         "420.8451002145912",
         "0.0",
         "0.0",
         "0.0",
         "0.0",
         "0.0",
         "0.0",
         "18.29816804487119",
         "17.7948134276173",
         "18.79304301537782",
         "246.3907167513329",
         "234.5903620652364",
         "257.9702041525966",
         "17.15846755099632",
         "16.68646435123285",
         "17.62251925827324",
         "0.0",
         "0.0",
         "0.0",
         "18.29816804487119",
         "17.7948134276173",
         "18.79304301537782",
         "409.7630360381193",
         "398.4910816944514",
         "420.8451002145912",
         "29.05332729691662",
         "28.25411469928766",
         "29.83907614900593",
         "0.0",
         "0.0",
         "0.0"
        ]
       ],
       "shape": {
        "columns": 333,
        "rows": 5
       }
      },
      "text/html": [
       "<div>\n",
       "<style scoped>\n",
       "    .dataframe tbody tr th:only-of-type {\n",
       "        vertical-align: middle;\n",
       "    }\n",
       "\n",
       "    .dataframe tbody tr th {\n",
       "        vertical-align: top;\n",
       "    }\n",
       "\n",
       "    .dataframe thead tr th {\n",
       "        text-align: left;\n",
       "    }\n",
       "</style>\n",
       "<table border=\"1\" class=\"dataframe\">\n",
       "  <thead>\n",
       "    <tr>\n",
       "      <th></th>\n",
       "      <th colspan=\"3\" halign=\"left\">30194</th>\n",
       "      <th colspan=\"3\" halign=\"left\">30195</th>\n",
       "      <th colspan=\"3\" halign=\"left\">30212</th>\n",
       "      <th>30213</th>\n",
       "      <th>...</th>\n",
       "      <th>30491</th>\n",
       "      <th colspan=\"3\" halign=\"left\">30495</th>\n",
       "      <th colspan=\"3\" halign=\"left\">30496</th>\n",
       "      <th colspan=\"3\" halign=\"left\">30497</th>\n",
       "    </tr>\n",
       "    <tr>\n",
       "      <th></th>\n",
       "      <th>mean</th>\n",
       "      <th>p025</th>\n",
       "      <th>p975</th>\n",
       "      <th>mean</th>\n",
       "      <th>p025</th>\n",
       "      <th>p975</th>\n",
       "      <th>mean</th>\n",
       "      <th>p025</th>\n",
       "      <th>p975</th>\n",
       "      <th>mean</th>\n",
       "      <th>...</th>\n",
       "      <th>p975</th>\n",
       "      <th>mean</th>\n",
       "      <th>p025</th>\n",
       "      <th>p975</th>\n",
       "      <th>mean</th>\n",
       "      <th>p025</th>\n",
       "      <th>p975</th>\n",
       "      <th>mean</th>\n",
       "      <th>p025</th>\n",
       "      <th>p975</th>\n",
       "    </tr>\n",
       "  </thead>\n",
       "  <tbody>\n",
       "    <tr>\n",
       "      <th>Australia</th>\n",
       "      <td>962.154367</td>\n",
       "      <td>935.686972</td>\n",
       "      <td>988.175885</td>\n",
       "      <td>534.77909</td>\n",
       "      <td>509.166993</td>\n",
       "      <td>559.911806</td>\n",
       "      <td>0.000000</td>\n",
       "      <td>0.000000</td>\n",
       "      <td>0.000000</td>\n",
       "      <td>0.000000</td>\n",
       "      <td>...</td>\n",
       "      <td>303.739532</td>\n",
       "      <td>962.154367</td>\n",
       "      <td>935.686972</td>\n",
       "      <td>988.175885</td>\n",
       "      <td>1000.955931</td>\n",
       "      <td>973.421165</td>\n",
       "      <td>1028.026840</td>\n",
       "      <td>0.0</td>\n",
       "      <td>0.0</td>\n",
       "      <td>0.0</td>\n",
       "    </tr>\n",
       "    <tr>\n",
       "      <th>Bangladesh</th>\n",
       "      <td>0.000000</td>\n",
       "      <td>0.000000</td>\n",
       "      <td>0.000000</td>\n",
       "      <td>0.00000</td>\n",
       "      <td>0.000000</td>\n",
       "      <td>0.000000</td>\n",
       "      <td>0.000000</td>\n",
       "      <td>0.000000</td>\n",
       "      <td>0.000000</td>\n",
       "      <td>0.000000</td>\n",
       "      <td>...</td>\n",
       "      <td>0.000000</td>\n",
       "      <td>0.000000</td>\n",
       "      <td>0.000000</td>\n",
       "      <td>0.000000</td>\n",
       "      <td>0.000000</td>\n",
       "      <td>0.000000</td>\n",
       "      <td>0.000000</td>\n",
       "      <td>0.0</td>\n",
       "      <td>0.0</td>\n",
       "      <td>0.0</td>\n",
       "    </tr>\n",
       "    <tr>\n",
       "      <th>Brazil</th>\n",
       "      <td>0.000000</td>\n",
       "      <td>0.000000</td>\n",
       "      <td>0.000000</td>\n",
       "      <td>0.00000</td>\n",
       "      <td>0.000000</td>\n",
       "      <td>0.000000</td>\n",
       "      <td>0.000000</td>\n",
       "      <td>0.000000</td>\n",
       "      <td>0.000000</td>\n",
       "      <td>0.000000</td>\n",
       "      <td>...</td>\n",
       "      <td>258.968857</td>\n",
       "      <td>317.791515</td>\n",
       "      <td>309.049556</td>\n",
       "      <td>326.386204</td>\n",
       "      <td>260.150829</td>\n",
       "      <td>252.994478</td>\n",
       "      <td>267.186623</td>\n",
       "      <td>0.0</td>\n",
       "      <td>0.0</td>\n",
       "      <td>0.0</td>\n",
       "    </tr>\n",
       "    <tr>\n",
       "      <th>Canada</th>\n",
       "      <td>105.159536</td>\n",
       "      <td>102.266758</td>\n",
       "      <td>108.003581</td>\n",
       "      <td>0.00000</td>\n",
       "      <td>0.000000</td>\n",
       "      <td>0.000000</td>\n",
       "      <td>251.274392</td>\n",
       "      <td>243.784558</td>\n",
       "      <td>258.635512</td>\n",
       "      <td>403.247725</td>\n",
       "      <td>...</td>\n",
       "      <td>76.351404</td>\n",
       "      <td>121.196644</td>\n",
       "      <td>117.458718</td>\n",
       "      <td>124.869825</td>\n",
       "      <td>95.676722</td>\n",
       "      <td>93.044802</td>\n",
       "      <td>98.264304</td>\n",
       "      <td>0.0</td>\n",
       "      <td>0.0</td>\n",
       "      <td>0.0</td>\n",
       "    </tr>\n",
       "    <tr>\n",
       "      <th>China</th>\n",
       "      <td>319.341640</td>\n",
       "      <td>310.557040</td>\n",
       "      <td>327.978252</td>\n",
       "      <td>0.00000</td>\n",
       "      <td>0.000000</td>\n",
       "      <td>0.000000</td>\n",
       "      <td>0.000000</td>\n",
       "      <td>0.000000</td>\n",
       "      <td>0.000000</td>\n",
       "      <td>0.000000</td>\n",
       "      <td>...</td>\n",
       "      <td>18.793043</td>\n",
       "      <td>409.763036</td>\n",
       "      <td>398.491082</td>\n",
       "      <td>420.845100</td>\n",
       "      <td>29.053327</td>\n",
       "      <td>28.254115</td>\n",
       "      <td>29.839076</td>\n",
       "      <td>0.0</td>\n",
       "      <td>0.0</td>\n",
       "      <td>0.0</td>\n",
       "    </tr>\n",
       "  </tbody>\n",
       "</table>\n",
       "<p>5 rows × 333 columns</p>\n",
       "</div>"
      ],
      "text/plain": [
       "                 30194                              30195              \\\n",
       "                  mean        p025        p975       mean        p025   \n",
       "Australia   962.154367  935.686972  988.175885  534.77909  509.166993   \n",
       "Bangladesh    0.000000    0.000000    0.000000    0.00000    0.000000   \n",
       "Brazil        0.000000    0.000000    0.000000    0.00000    0.000000   \n",
       "Canada      105.159536  102.266758  108.003581    0.00000    0.000000   \n",
       "China       319.341640  310.557040  327.978252    0.00000    0.000000   \n",
       "\n",
       "                             30212                               30213  ...  \\\n",
       "                  p975        mean        p025        p975        mean  ...   \n",
       "Australia   559.911806    0.000000    0.000000    0.000000    0.000000  ...   \n",
       "Bangladesh    0.000000    0.000000    0.000000    0.000000    0.000000  ...   \n",
       "Brazil        0.000000    0.000000    0.000000    0.000000    0.000000  ...   \n",
       "Canada        0.000000  251.274392  243.784558  258.635512  403.247725  ...   \n",
       "China         0.000000    0.000000    0.000000    0.000000    0.000000  ...   \n",
       "\n",
       "                 30491       30495                                30496  \\\n",
       "                  p975        mean        p025        p975         mean   \n",
       "Australia   303.739532  962.154367  935.686972  988.175885  1000.955931   \n",
       "Bangladesh    0.000000    0.000000    0.000000    0.000000     0.000000   \n",
       "Brazil      258.968857  317.791515  309.049556  326.386204   260.150829   \n",
       "Canada       76.351404  121.196644  117.458718  124.869825    95.676722   \n",
       "China        18.793043  409.763036  398.491082  420.845100    29.053327   \n",
       "\n",
       "                                    30497            \n",
       "                  p025         p975  mean p025 p975  \n",
       "Australia   973.421165  1028.026840   0.0  0.0  0.0  \n",
       "Bangladesh    0.000000     0.000000   0.0  0.0  0.0  \n",
       "Brazil      252.994478   267.186623   0.0  0.0  0.0  \n",
       "Canada       93.044802    98.264304   0.0  0.0  0.0  \n",
       "China        28.254115    29.839076   0.0  0.0  0.0  \n",
       "\n",
       "[5 rows x 333 columns]"
      ]
     },
     "execution_count": 24,
     "metadata": {},
     "output_type": "execute_result"
    }
   ],
   "source": [
    "C_c_code = pd.read_excel(\"Concentration_corresponding_to_the_code.xlsx\",\n",
    "                        index_col=0,header=[0,1],\n",
    "                        sheet_name='PFOS')\n",
    "C_c_code.head()"
   ]
  },
  {
   "cell_type": "code",
   "execution_count": 25,
   "metadata": {},
   "outputs": [],
   "source": [
    "excel_writer = pd.ExcelWriter('Import-Weight.xlsx', engine='xlsxwriter')\n",
    "\n",
    "for _c in country_lis:\n",
    "    import_df = pd.read_excel('data\\Import.xlsx',index_col=0,sheet_name=_c).fillna(0)\n",
    "    \n",
    "    _df = C_c_code.copy()\n",
    "    # 假设你的DataFrame为C_c_code\n",
    "    _df.drop(_c, axis=0, inplace=True)\n",
    "    for _code in C_c_code.columns.get_level_values(0).to_list():\n",
    "        \n",
    "        for _c_type in C_fami:\n",
    "            C_arr = _df[(_code,_c_type)]\n",
    "            \n",
    "            _lis=[]\n",
    "            for i in range(len(C_arr)):\n",
    "                if import_df.loc[_df.index[i],_code] =='/':\n",
    "                    print(_c,_df.index[i],_code)\n",
    "                #print(_df.index[i],_code)\n",
    "                #print(import_df.loc[_df.index[i],_code])\n",
    "                _lis.append(C_arr[i]*import_df.loc[_df.index[i],_code])\n",
    "        \n",
    "        _df[(_code,_c_type)] = _lis\n",
    "    _df.to_excel(excel_writer,sheet_name=_c,index=True)\n",
    "excel_writer.close()"
   ]
  },
  {
   "cell_type": "code",
   "execution_count": 26,
   "metadata": {},
   "outputs": [
    {
     "name": "stderr",
     "output_type": "stream",
     "text": [
      "100%|██████████| 9/9 [04:11<00:00, 27.89s/it]\n"
     ]
    }
   ],
   "source": [
    "from tqdm import tqdm\n",
    "for _chem in tqdm(chem_lis):  \n",
    "    excel_writer = pd.ExcelWriter(f'Import-Weight-{_chem}.xlsx', engine='xlsxwriter')\n",
    "    for _c in country_lis:\n",
    "        import_df = pd.read_excel('data\\Import.xlsx',\n",
    "                                index_col=0,\n",
    "                                sheet_name=_c).fillna(0)\n",
    "        \n",
    "        C_c_code = pd.read_excel(\"Concentration_corresponding_to_the_code.xlsx\",\n",
    "                        index_col=0,header=[0,1],\n",
    "                        sheet_name=_chem)\n",
    "        _df = C_c_code.copy()\n",
    "        \n",
    "        _df.drop(_c, axis=0, inplace=True)\n",
    "        for _code in C_c_code.columns.get_level_values(0).to_list():\n",
    "            \n",
    "            for _c_type in C_fami:\n",
    "                __df = C_c_code.copy()\n",
    "                __df.drop(_c, axis=0, inplace=True)\n",
    "                C_arr = __df[(_code,_c_type)]\n",
    "                \n",
    "                _lis=[]\n",
    "                for i in range(len(C_arr)):\n",
    "                    if import_df.loc[_df.index[i],_code] =='/':\n",
    "                        print(_c,_df.index[i],_code)\n",
    "                        \n",
    "                    _lis.append(C_arr[_df.index[i]]*import_df.loc[_df.index[i],_code])\n",
    "            \n",
    "                _df[(_code,_c_type)] = _lis\n",
    "        _df.to_excel(excel_writer,sheet_name=_c,index=True)\n",
    "    excel_writer.close()"
   ]
  },
  {
   "cell_type": "code",
   "execution_count": 27,
   "metadata": {},
   "outputs": [],
   "source": [
    "################################\n",
    "##############################\n",
    "#################################"
   ]
  },
  {
   "cell_type": "code",
   "execution_count": 28,
   "metadata": {},
   "outputs": [
    {
     "data": {
      "application/vnd.microsoft.datawrangler.viewer.v0+json": {
       "columns": [
        {
         "name": "index",
         "rawType": "object",
         "type": "string"
        },
        {
         "name": "('Anchovies', 'mean')",
         "rawType": "float64",
         "type": "float"
        },
        {
         "name": "('Anchovies', 'p025')",
         "rawType": "float64",
         "type": "float"
        },
        {
         "name": "('Anchovies', 'p975')",
         "rawType": "float64",
         "type": "float"
        },
        {
         "name": "('Cod-likes', 'mean')",
         "rawType": "float64",
         "type": "float"
        },
        {
         "name": "('Cod-likes', 'p025')",
         "rawType": "float64",
         "type": "float"
        },
        {
         "name": "('Cod-likes', 'p975')",
         "rawType": "float64",
         "type": "float"
        },
        {
         "name": "('Flatfishes', 'mean')",
         "rawType": "float64",
         "type": "float"
        },
        {
         "name": "('Flatfishes', 'p025')",
         "rawType": "float64",
         "type": "float"
        },
        {
         "name": "('Flatfishes', 'p975')",
         "rawType": "float64",
         "type": "float"
        },
        {
         "name": "('Herring-likes', 'mean')",
         "rawType": "float64",
         "type": "float"
        },
        {
         "name": "('Herring-likes', 'p025')",
         "rawType": "float64",
         "type": "float"
        },
        {
         "name": "('Herring-likes', 'p975')",
         "rawType": "float64",
         "type": "float"
        },
        {
         "name": "('Perch-likes', 'mean')",
         "rawType": "float64",
         "type": "float"
        },
        {
         "name": "('Perch-likes', 'p025')",
         "rawType": "float64",
         "type": "float"
        },
        {
         "name": "('Perch-likes', 'p975')",
         "rawType": "float64",
         "type": "float"
        },
        {
         "name": "('Salmon, smelts, etc', 'mean')",
         "rawType": "float64",
         "type": "float"
        },
        {
         "name": "('Salmon, smelts, etc', 'p025')",
         "rawType": "float64",
         "type": "float"
        },
        {
         "name": "('Salmon, smelts, etc', 'p975')",
         "rawType": "float64",
         "type": "float"
        },
        {
         "name": "('Scorpionfishes', 'mean')",
         "rawType": "float64",
         "type": "float"
        },
        {
         "name": "('Scorpionfishes', 'p025')",
         "rawType": "float64",
         "type": "float"
        },
        {
         "name": "('Scorpionfishes', 'p975')",
         "rawType": "float64",
         "type": "float"
        },
        {
         "name": "('Sharks & rays', 'mean')",
         "rawType": "float64",
         "type": "float"
        },
        {
         "name": "('Sharks & rays', 'p025')",
         "rawType": "float64",
         "type": "float"
        },
        {
         "name": "('Sharks & rays', 'p975')",
         "rawType": "float64",
         "type": "float"
        },
        {
         "name": "('Tuna & billfishes', 'mean')",
         "rawType": "float64",
         "type": "float"
        },
        {
         "name": "('Tuna & billfishes', 'p025')",
         "rawType": "float64",
         "type": "float"
        },
        {
         "name": "('Tuna & billfishes', 'p975')",
         "rawType": "float64",
         "type": "float"
        },
        {
         "name": "('Other fishes & inverts', 'mean')",
         "rawType": "float64",
         "type": "float"
        },
        {
         "name": "('Other fishes & inverts', 'p025')",
         "rawType": "float64",
         "type": "float"
        },
        {
         "name": "('Other fishes & inverts', 'p975')",
         "rawType": "float64",
         "type": "float"
        }
       ],
       "ref": "59bafab6-3834-49e8-bbe5-3ce67357af7c",
       "rows": [
        [
         "Australia",
         "0.0",
         "0.0",
         "0.0",
         "32689845.91286774",
         "32530430.58301904",
         "32849266.96713861",
         "41550.11833257132",
         "41347.49499084942",
         "41752.7489502657",
         "24588165.032577",
         "24235089.21636004",
         "24959554.87995178",
         "321010120.8737649",
         "318935131.6671616",
         "323111558.0492886",
         "0.0",
         "0.0",
         "0.0",
         "2300058.056328714",
         "2280620.090261555",
         "2319856.470313664",
         "12717271.54587768",
         "12655254.48885276",
         "12779290.82987545",
         "158149749.3334241",
         "156892882.1352657",
         "159427911.6534331",
         "27615736.9067315",
         "27480734.16407896",
         "27750770.51054202"
        ],
        [
         "Bangladesh",
         "296603448.1719838",
         "294096829.8137766",
         "299156548.0053536",
         "0.0",
         "0.0",
         "0.0",
         "93881070.65474726",
         "93087674.56767654",
         "94689179.08141072",
         "1590894545.888174",
         "1568208462.73984",
         "1614753130.791224",
         "1630554275.484429",
         "1617725892.451721",
         "1643597460.212219",
         "0.0",
         "0.0",
         "0.0",
         "9137650.07764445",
         "9060427.100040304",
         "9216305.039461004",
         "0.0",
         "0.0",
         "0.0",
         "0.0",
         "0.0",
         "0.0",
         "3021717634.913625",
         "3006981924.219861",
         "3036453874.917585"
        ],
        [
         "Brazil",
         "11962.55169643421",
         "11790.77441789325",
         "12143.23906128189",
         "7478971.01058932",
         "7442499.055317099",
         "7515444.2772871",
         "0.0",
         "0.0",
         "0.0",
         "0.0",
         "0.0",
         "0.0",
         "446426731.3348258",
         "443236981.9703351",
         "449662352.694823",
         "0.0",
         "0.0",
         "0.0",
         "0.0",
         "0.0",
         "0.0",
         "34064224.40554462",
         "33898106.78602619",
         "34230347.999432",
         "220607039.0413462",
         "219531226.6130644",
         "221682890.1676587",
         "63447750.82492217",
         "63138341.4787791",
         "63757171.29652651"
        ],
        [
         "Canada",
         "0.0",
         "0.0",
         "0.0",
         "70750192.41157891",
         "70402532.33231461",
         "71097980.48549679",
         "17430508.43544064",
         "17345506.80441719",
         "17515513.12080053",
         "47831728.24863784",
         "47427498.67062572",
         "48243453.66651095",
         "3299049.207716097",
         "3273167.579494971",
         "3325360.301267252",
         "21800244.43239887",
         "21636846.39771069",
         "21966146.30331925",
         "0.0",
         "0.0",
         "0.0",
         "139641.0287336231",
         "138960.0551957876",
         "140322.0267525976",
         "2098592.96899174",
         "2088358.970201198",
         "2108827.337042577",
         "0.0",
         "0.0",
         "0.0"
        ],
        [
         "China",
         "4913486134.468115",
         "4871961888.529354",
         "4955780385.226283",
         "238287960.1247498",
         "237125924.870392",
         "239450037.1226937",
         "101439103.5665461",
         "100944425.5540562",
         "101933799.3492664",
         "306510971.7629583",
         "302614793.4286929",
         "310585164.5912524",
         "10218009168.83051",
         "10151965065.49139",
         "10284823659.26799",
         "0.0",
         "0.0",
         "0.0",
         "42617679.51078108",
         "42257514.25205965",
         "42984523.49398093",
         "802303.8045310057",
         "798391.2901161113",
         "806216.4606184841",
         "36974240.04783273",
         "36793931.50299124",
         "37154555.14538808",
         "10969306189.56341",
         "10898818502.42061",
         "11040540085.55026"
        ]
       ],
       "shape": {
        "columns": 30,
        "rows": 5
       }
      },
      "text/html": [
       "<div>\n",
       "<style scoped>\n",
       "    .dataframe tbody tr th:only-of-type {\n",
       "        vertical-align: middle;\n",
       "    }\n",
       "\n",
       "    .dataframe tbody tr th {\n",
       "        vertical-align: top;\n",
       "    }\n",
       "\n",
       "    .dataframe thead tr th {\n",
       "        text-align: left;\n",
       "    }\n",
       "</style>\n",
       "<table border=\"1\" class=\"dataframe\">\n",
       "  <thead>\n",
       "    <tr>\n",
       "      <th></th>\n",
       "      <th colspan=\"3\" halign=\"left\">Anchovies</th>\n",
       "      <th colspan=\"3\" halign=\"left\">Cod-likes</th>\n",
       "      <th colspan=\"3\" halign=\"left\">Flatfishes</th>\n",
       "      <th>Herring-likes</th>\n",
       "      <th>...</th>\n",
       "      <th>Scorpionfishes</th>\n",
       "      <th colspan=\"3\" halign=\"left\">Sharks &amp; rays</th>\n",
       "      <th colspan=\"3\" halign=\"left\">Tuna &amp; billfishes</th>\n",
       "      <th colspan=\"3\" halign=\"left\">Other fishes &amp; inverts</th>\n",
       "    </tr>\n",
       "    <tr>\n",
       "      <th></th>\n",
       "      <th>mean</th>\n",
       "      <th>p025</th>\n",
       "      <th>p975</th>\n",
       "      <th>mean</th>\n",
       "      <th>p025</th>\n",
       "      <th>p975</th>\n",
       "      <th>mean</th>\n",
       "      <th>p025</th>\n",
       "      <th>p975</th>\n",
       "      <th>mean</th>\n",
       "      <th>...</th>\n",
       "      <th>p975</th>\n",
       "      <th>mean</th>\n",
       "      <th>p025</th>\n",
       "      <th>p975</th>\n",
       "      <th>mean</th>\n",
       "      <th>p025</th>\n",
       "      <th>p975</th>\n",
       "      <th>mean</th>\n",
       "      <th>p025</th>\n",
       "      <th>p975</th>\n",
       "    </tr>\n",
       "  </thead>\n",
       "  <tbody>\n",
       "    <tr>\n",
       "      <th>Australia</th>\n",
       "      <td>0.000000e+00</td>\n",
       "      <td>0.000000e+00</td>\n",
       "      <td>0.000000e+00</td>\n",
       "      <td>3.268985e+07</td>\n",
       "      <td>3.253043e+07</td>\n",
       "      <td>3.284927e+07</td>\n",
       "      <td>4.155012e+04</td>\n",
       "      <td>4.134749e+04</td>\n",
       "      <td>4.175275e+04</td>\n",
       "      <td>2.458817e+07</td>\n",
       "      <td>...</td>\n",
       "      <td>2.319856e+06</td>\n",
       "      <td>1.271727e+07</td>\n",
       "      <td>1.265525e+07</td>\n",
       "      <td>1.277929e+07</td>\n",
       "      <td>1.581497e+08</td>\n",
       "      <td>1.568929e+08</td>\n",
       "      <td>1.594279e+08</td>\n",
       "      <td>2.761574e+07</td>\n",
       "      <td>2.748073e+07</td>\n",
       "      <td>2.775077e+07</td>\n",
       "    </tr>\n",
       "    <tr>\n",
       "      <th>Bangladesh</th>\n",
       "      <td>2.966034e+08</td>\n",
       "      <td>2.940968e+08</td>\n",
       "      <td>2.991565e+08</td>\n",
       "      <td>0.000000e+00</td>\n",
       "      <td>0.000000e+00</td>\n",
       "      <td>0.000000e+00</td>\n",
       "      <td>9.388107e+07</td>\n",
       "      <td>9.308767e+07</td>\n",
       "      <td>9.468918e+07</td>\n",
       "      <td>1.590895e+09</td>\n",
       "      <td>...</td>\n",
       "      <td>9.216305e+06</td>\n",
       "      <td>0.000000e+00</td>\n",
       "      <td>0.000000e+00</td>\n",
       "      <td>0.000000e+00</td>\n",
       "      <td>0.000000e+00</td>\n",
       "      <td>0.000000e+00</td>\n",
       "      <td>0.000000e+00</td>\n",
       "      <td>3.021718e+09</td>\n",
       "      <td>3.006982e+09</td>\n",
       "      <td>3.036454e+09</td>\n",
       "    </tr>\n",
       "    <tr>\n",
       "      <th>Brazil</th>\n",
       "      <td>1.196255e+04</td>\n",
       "      <td>1.179077e+04</td>\n",
       "      <td>1.214324e+04</td>\n",
       "      <td>7.478971e+06</td>\n",
       "      <td>7.442499e+06</td>\n",
       "      <td>7.515444e+06</td>\n",
       "      <td>0.000000e+00</td>\n",
       "      <td>0.000000e+00</td>\n",
       "      <td>0.000000e+00</td>\n",
       "      <td>0.000000e+00</td>\n",
       "      <td>...</td>\n",
       "      <td>0.000000e+00</td>\n",
       "      <td>3.406422e+07</td>\n",
       "      <td>3.389811e+07</td>\n",
       "      <td>3.423035e+07</td>\n",
       "      <td>2.206070e+08</td>\n",
       "      <td>2.195312e+08</td>\n",
       "      <td>2.216829e+08</td>\n",
       "      <td>6.344775e+07</td>\n",
       "      <td>6.313834e+07</td>\n",
       "      <td>6.375717e+07</td>\n",
       "    </tr>\n",
       "    <tr>\n",
       "      <th>Canada</th>\n",
       "      <td>0.000000e+00</td>\n",
       "      <td>0.000000e+00</td>\n",
       "      <td>0.000000e+00</td>\n",
       "      <td>7.075019e+07</td>\n",
       "      <td>7.040253e+07</td>\n",
       "      <td>7.109798e+07</td>\n",
       "      <td>1.743051e+07</td>\n",
       "      <td>1.734551e+07</td>\n",
       "      <td>1.751551e+07</td>\n",
       "      <td>4.783173e+07</td>\n",
       "      <td>...</td>\n",
       "      <td>0.000000e+00</td>\n",
       "      <td>1.396410e+05</td>\n",
       "      <td>1.389601e+05</td>\n",
       "      <td>1.403220e+05</td>\n",
       "      <td>2.098593e+06</td>\n",
       "      <td>2.088359e+06</td>\n",
       "      <td>2.108827e+06</td>\n",
       "      <td>0.000000e+00</td>\n",
       "      <td>0.000000e+00</td>\n",
       "      <td>0.000000e+00</td>\n",
       "    </tr>\n",
       "    <tr>\n",
       "      <th>China</th>\n",
       "      <td>4.913486e+09</td>\n",
       "      <td>4.871962e+09</td>\n",
       "      <td>4.955780e+09</td>\n",
       "      <td>2.382880e+08</td>\n",
       "      <td>2.371259e+08</td>\n",
       "      <td>2.394500e+08</td>\n",
       "      <td>1.014391e+08</td>\n",
       "      <td>1.009444e+08</td>\n",
       "      <td>1.019338e+08</td>\n",
       "      <td>3.065110e+08</td>\n",
       "      <td>...</td>\n",
       "      <td>4.298452e+07</td>\n",
       "      <td>8.023038e+05</td>\n",
       "      <td>7.983913e+05</td>\n",
       "      <td>8.062165e+05</td>\n",
       "      <td>3.697424e+07</td>\n",
       "      <td>3.679393e+07</td>\n",
       "      <td>3.715456e+07</td>\n",
       "      <td>1.096931e+10</td>\n",
       "      <td>1.089882e+10</td>\n",
       "      <td>1.104054e+10</td>\n",
       "    </tr>\n",
       "  </tbody>\n",
       "</table>\n",
       "<p>5 rows × 30 columns</p>\n",
       "</div>"
      ],
      "text/plain": [
       "               Anchovies                                 Cod-likes  \\\n",
       "                    mean          p025          p975          mean   \n",
       "Australia   0.000000e+00  0.000000e+00  0.000000e+00  3.268985e+07   \n",
       "Bangladesh  2.966034e+08  2.940968e+08  2.991565e+08  0.000000e+00   \n",
       "Brazil      1.196255e+04  1.179077e+04  1.214324e+04  7.478971e+06   \n",
       "Canada      0.000000e+00  0.000000e+00  0.000000e+00  7.075019e+07   \n",
       "China       4.913486e+09  4.871962e+09  4.955780e+09  2.382880e+08   \n",
       "\n",
       "                                          Flatfishes                \\\n",
       "                    p025          p975          mean          p025   \n",
       "Australia   3.253043e+07  3.284927e+07  4.155012e+04  4.134749e+04   \n",
       "Bangladesh  0.000000e+00  0.000000e+00  9.388107e+07  9.308767e+07   \n",
       "Brazil      7.442499e+06  7.515444e+06  0.000000e+00  0.000000e+00   \n",
       "Canada      7.040253e+07  7.109798e+07  1.743051e+07  1.734551e+07   \n",
       "China       2.371259e+08  2.394500e+08  1.014391e+08  1.009444e+08   \n",
       "\n",
       "                         Herring-likes  ... Scorpionfishes Sharks & rays  \\\n",
       "                    p975          mean  ...           p975          mean   \n",
       "Australia   4.175275e+04  2.458817e+07  ...   2.319856e+06  1.271727e+07   \n",
       "Bangladesh  9.468918e+07  1.590895e+09  ...   9.216305e+06  0.000000e+00   \n",
       "Brazil      0.000000e+00  0.000000e+00  ...   0.000000e+00  3.406422e+07   \n",
       "Canada      1.751551e+07  4.783173e+07  ...   0.000000e+00  1.396410e+05   \n",
       "China       1.019338e+08  3.065110e+08  ...   4.298452e+07  8.023038e+05   \n",
       "\n",
       "                                       Tuna & billfishes                \\\n",
       "                    p025          p975              mean          p025   \n",
       "Australia   1.265525e+07  1.277929e+07      1.581497e+08  1.568929e+08   \n",
       "Bangladesh  0.000000e+00  0.000000e+00      0.000000e+00  0.000000e+00   \n",
       "Brazil      3.389811e+07  3.423035e+07      2.206070e+08  2.195312e+08   \n",
       "Canada      1.389601e+05  1.403220e+05      2.098593e+06  2.088359e+06   \n",
       "China       7.983913e+05  8.062165e+05      3.697424e+07  3.679393e+07   \n",
       "\n",
       "                         Other fishes & inverts                              \n",
       "                    p975                   mean          p025          p975  \n",
       "Australia   1.594279e+08           2.761574e+07  2.748073e+07  2.775077e+07  \n",
       "Bangladesh  0.000000e+00           3.021718e+09  3.006982e+09  3.036454e+09  \n",
       "Brazil      2.216829e+08           6.344775e+07  6.313834e+07  6.375717e+07  \n",
       "Canada      2.108827e+06           0.000000e+00  0.000000e+00  0.000000e+00  \n",
       "China       3.715456e+07           1.096931e+10  1.089882e+10  1.104054e+10  \n",
       "\n",
       "[5 rows x 30 columns]"
      ]
     },
     "execution_count": 28,
     "metadata": {},
     "output_type": "execute_result"
    }
   ],
   "source": [
    "W_c_df =pd.read_excel('Country-Family-Weight.xlsx',index_col=0,header=[0,1])\n",
    "W_c_df.head()"
   ]
  },
  {
   "cell_type": "code",
   "execution_count": 29,
   "metadata": {},
   "outputs": [
    {
     "data": {
      "application/vnd.microsoft.datawrangler.viewer.v0+json": {
       "columns": [
        {
         "name": "index",
         "rawType": "object",
         "type": "string"
        },
        {
         "name": "(30194, 'mean')",
         "rawType": "float64",
         "type": "float"
        },
        {
         "name": "(30194, 'p025')",
         "rawType": "float64",
         "type": "float"
        },
        {
         "name": "(30194, 'p975')",
         "rawType": "float64",
         "type": "float"
        },
        {
         "name": "(30195, 'mean')",
         "rawType": "float64",
         "type": "float"
        },
        {
         "name": "(30195, 'p025')",
         "rawType": "float64",
         "type": "float"
        },
        {
         "name": "(30195, 'p975')",
         "rawType": "float64",
         "type": "float"
        },
        {
         "name": "(30212, 'mean')",
         "rawType": "int64",
         "type": "integer"
        },
        {
         "name": "(30212, 'p025')",
         "rawType": "int64",
         "type": "integer"
        },
        {
         "name": "(30212, 'p975')",
         "rawType": "int64",
         "type": "integer"
        },
        {
         "name": "(30213, 'mean')",
         "rawType": "float64",
         "type": "float"
        },
        {
         "name": "(30213, 'p025')",
         "rawType": "float64",
         "type": "float"
        },
        {
         "name": "(30213, 'p975')",
         "rawType": "float64",
         "type": "float"
        },
        {
         "name": "(30214, 'mean')",
         "rawType": "float64",
         "type": "float"
        },
        {
         "name": "(30214, 'p025')",
         "rawType": "float64",
         "type": "float"
        },
        {
         "name": "(30214, 'p975')",
         "rawType": "float64",
         "type": "float"
        },
        {
         "name": "(30219, 'mean')",
         "rawType": "float64",
         "type": "float"
        },
        {
         "name": "(30219, 'p025')",
         "rawType": "float64",
         "type": "float"
        },
        {
         "name": "(30219, 'p975')",
         "rawType": "float64",
         "type": "float"
        },
        {
         "name": "(30221, 'mean')",
         "rawType": "float64",
         "type": "float"
        },
        {
         "name": "(30221, 'p025')",
         "rawType": "float64",
         "type": "float"
        },
        {
         "name": "(30221, 'p975')",
         "rawType": "float64",
         "type": "float"
        },
        {
         "name": "(30222, 'mean')",
         "rawType": "float64",
         "type": "float"
        },
        {
         "name": "(30222, 'p025')",
         "rawType": "float64",
         "type": "float"
        },
        {
         "name": "(30222, 'p975')",
         "rawType": "float64",
         "type": "float"
        },
        {
         "name": "(30223, 'mean')",
         "rawType": "float64",
         "type": "float"
        },
        {
         "name": "(30223, 'p025')",
         "rawType": "float64",
         "type": "float"
        },
        {
         "name": "(30223, 'p975')",
         "rawType": "float64",
         "type": "float"
        },
        {
         "name": "(30224, 'mean')",
         "rawType": "float64",
         "type": "float"
        },
        {
         "name": "(30224, 'p025')",
         "rawType": "float64",
         "type": "float"
        },
        {
         "name": "(30224, 'p975')",
         "rawType": "float64",
         "type": "float"
        },
        {
         "name": "(30229, 'mean')",
         "rawType": "float64",
         "type": "float"
        },
        {
         "name": "(30229, 'p025')",
         "rawType": "float64",
         "type": "float"
        },
        {
         "name": "(30229, 'p975')",
         "rawType": "float64",
         "type": "float"
        },
        {
         "name": "(30231, 'mean')",
         "rawType": "float64",
         "type": "float"
        },
        {
         "name": "(30231, 'p025')",
         "rawType": "float64",
         "type": "float"
        },
        {
         "name": "(30231, 'p975')",
         "rawType": "float64",
         "type": "float"
        },
        {
         "name": "(30232, 'mean')",
         "rawType": "float64",
         "type": "float"
        },
        {
         "name": "(30232, 'p025')",
         "rawType": "float64",
         "type": "float"
        },
        {
         "name": "(30232, 'p975')",
         "rawType": "float64",
         "type": "float"
        },
        {
         "name": "(30233, 'mean')",
         "rawType": "float64",
         "type": "float"
        },
        {
         "name": "(30233, 'p025')",
         "rawType": "float64",
         "type": "float"
        },
        {
         "name": "(30233, 'p975')",
         "rawType": "float64",
         "type": "float"
        },
        {
         "name": "(30234, 'mean')",
         "rawType": "float64",
         "type": "float"
        },
        {
         "name": "(30234, 'p025')",
         "rawType": "float64",
         "type": "float"
        },
        {
         "name": "(30234, 'p975')",
         "rawType": "float64",
         "type": "float"
        },
        {
         "name": "(30235, 'mean')",
         "rawType": "float64",
         "type": "float"
        },
        {
         "name": "(30235, 'p025')",
         "rawType": "float64",
         "type": "float"
        },
        {
         "name": "(30235, 'p975')",
         "rawType": "float64",
         "type": "float"
        },
        {
         "name": "(30236, 'mean')",
         "rawType": "float64",
         "type": "float"
        },
        {
         "name": "(30236, 'p025')",
         "rawType": "float64",
         "type": "float"
        },
        {
         "name": "(30236, 'p975')",
         "rawType": "float64",
         "type": "float"
        },
        {
         "name": "(30239, 'mean')",
         "rawType": "float64",
         "type": "float"
        },
        {
         "name": "(30239, 'p025')",
         "rawType": "float64",
         "type": "float"
        },
        {
         "name": "(30239, 'p975')",
         "rawType": "float64",
         "type": "float"
        },
        {
         "name": "(30240, 'mean')",
         "rawType": "int64",
         "type": "integer"
        },
        {
         "name": "(30240, 'p025')",
         "rawType": "int64",
         "type": "integer"
        },
        {
         "name": "(30240, 'p975')",
         "rawType": "int64",
         "type": "integer"
        },
        {
         "name": "(30241, 'mean')",
         "rawType": "float64",
         "type": "float"
        },
        {
         "name": "(30241, 'p025')",
         "rawType": "float64",
         "type": "float"
        },
        {
         "name": "(30241, 'p975')",
         "rawType": "float64",
         "type": "float"
        },
        {
         "name": "(30242, 'mean')",
         "rawType": "float64",
         "type": "float"
        },
        {
         "name": "(30242, 'p025')",
         "rawType": "float64",
         "type": "float"
        },
        {
         "name": "(30242, 'p975')",
         "rawType": "float64",
         "type": "float"
        },
        {
         "name": "(30243, 'mean')",
         "rawType": "float64",
         "type": "float"
        },
        {
         "name": "(30243, 'p025')",
         "rawType": "float64",
         "type": "float"
        },
        {
         "name": "(30243, 'p975')",
         "rawType": "float64",
         "type": "float"
        },
        {
         "name": "(30244, 'mean')",
         "rawType": "float64",
         "type": "float"
        },
        {
         "name": "(30244, 'p025')",
         "rawType": "float64",
         "type": "float"
        },
        {
         "name": "(30244, 'p975')",
         "rawType": "float64",
         "type": "float"
        },
        {
         "name": "(30245, 'mean')",
         "rawType": "float64",
         "type": "float"
        },
        {
         "name": "(30245, 'p025')",
         "rawType": "float64",
         "type": "float"
        },
        {
         "name": "(30245, 'p975')",
         "rawType": "float64",
         "type": "float"
        },
        {
         "name": "(30246, 'mean')",
         "rawType": "float64",
         "type": "float"
        },
        {
         "name": "(30246, 'p025')",
         "rawType": "float64",
         "type": "float"
        },
        {
         "name": "(30246, 'p975')",
         "rawType": "float64",
         "type": "float"
        },
        {
         "name": "(30247, 'mean')",
         "rawType": "float64",
         "type": "float"
        },
        {
         "name": "(30247, 'p025')",
         "rawType": "float64",
         "type": "float"
        },
        {
         "name": "(30247, 'p975')",
         "rawType": "float64",
         "type": "float"
        },
        {
         "name": "(30250, 'mean')",
         "rawType": "int64",
         "type": "integer"
        },
        {
         "name": "(30250, 'p025')",
         "rawType": "int64",
         "type": "integer"
        },
        {
         "name": "(30250, 'p975')",
         "rawType": "int64",
         "type": "integer"
        },
        {
         "name": "(30251, 'mean')",
         "rawType": "float64",
         "type": "float"
        },
        {
         "name": "(30251, 'p025')",
         "rawType": "float64",
         "type": "float"
        },
        {
         "name": "(30251, 'p975')",
         "rawType": "float64",
         "type": "float"
        },
        {
         "name": "(30252, 'mean')",
         "rawType": "float64",
         "type": "float"
        },
        {
         "name": "(30252, 'p025')",
         "rawType": "float64",
         "type": "float"
        },
        {
         "name": "(30252, 'p975')",
         "rawType": "float64",
         "type": "float"
        },
        {
         "name": "(30253, 'mean')",
         "rawType": "float64",
         "type": "float"
        },
        {
         "name": "(30253, 'p025')",
         "rawType": "float64",
         "type": "float"
        },
        {
         "name": "(30253, 'p975')",
         "rawType": "float64",
         "type": "float"
        },
        {
         "name": "(30254, 'mean')",
         "rawType": "float64",
         "type": "float"
        },
        {
         "name": "(30254, 'p025')",
         "rawType": "float64",
         "type": "float"
        },
        {
         "name": "(30254, 'p975')",
         "rawType": "float64",
         "type": "float"
        },
        {
         "name": "(30256, 'mean')",
         "rawType": "float64",
         "type": "float"
        },
        {
         "name": "(30256, 'p025')",
         "rawType": "float64",
         "type": "float"
        },
        {
         "name": "(30256, 'p975')",
         "rawType": "float64",
         "type": "float"
        },
        {
         "name": "(30261, 'mean')",
         "rawType": "int64",
         "type": "integer"
        },
        {
         "name": "(30261, 'p025')",
         "rawType": "int64",
         "type": "integer"
        },
        {
         "name": "(30261, 'p975')",
         "rawType": "int64",
         "type": "integer"
        },
        {
         "name": "(30263, 'mean')",
         "rawType": "int64",
         "type": "integer"
        },
        {
         "name": "(30263, 'p025')",
         "rawType": "int64",
         "type": "integer"
        },
        {
         "name": "(30263, 'p975')",
         "rawType": "int64",
         "type": "integer"
        },
        {
         "name": "(30264, 'mean')",
         "rawType": "int64",
         "type": "integer"
        },
        {
         "name": "(30264, 'p025')",
         "rawType": "int64",
         "type": "integer"
        },
        {
         "name": "(30264, 'p975')",
         "rawType": "int64",
         "type": "integer"
        },
        {
         "name": "(30265, 'mean')",
         "rawType": "int64",
         "type": "integer"
        },
        {
         "name": "(30265, 'p025')",
         "rawType": "int64",
         "type": "integer"
        },
        {
         "name": "(30265, 'p975')",
         "rawType": "int64",
         "type": "integer"
        },
        {
         "name": "(30267, 'mean')",
         "rawType": "int64",
         "type": "integer"
        },
        {
         "name": "(30267, 'p025')",
         "rawType": "int64",
         "type": "integer"
        },
        {
         "name": "(30267, 'p975')",
         "rawType": "int64",
         "type": "integer"
        },
        {
         "name": "(30281, 'mean')",
         "rawType": "float64",
         "type": "float"
        },
        {
         "name": "(30281, 'p025')",
         "rawType": "float64",
         "type": "float"
        },
        {
         "name": "(30281, 'p975')",
         "rawType": "float64",
         "type": "float"
        },
        {
         "name": "(30282, 'mean')",
         "rawType": "float64",
         "type": "float"
        },
        {
         "name": "(30282, 'p025')",
         "rawType": "float64",
         "type": "float"
        },
        {
         "name": "(30282, 'p975')",
         "rawType": "float64",
         "type": "float"
        },
        {
         "name": "(30284, 'mean')",
         "rawType": "float64",
         "type": "float"
        },
        {
         "name": "(30284, 'p025')",
         "rawType": "float64",
         "type": "float"
        },
        {
         "name": "(30284, 'p975')",
         "rawType": "float64",
         "type": "float"
        },
        {
         "name": "(30285, 'mean')",
         "rawType": "float64",
         "type": "float"
        },
        {
         "name": "(30285, 'p025')",
         "rawType": "float64",
         "type": "float"
        },
        {
         "name": "(30285, 'p975')",
         "rawType": "float64",
         "type": "float"
        },
        {
         "name": "(30310, 'mean')",
         "rawType": "int64",
         "type": "integer"
        },
        {
         "name": "(30310, 'p025')",
         "rawType": "int64",
         "type": "integer"
        },
        {
         "name": "(30310, 'p975')",
         "rawType": "int64",
         "type": "integer"
        },
        {
         "name": "(30311, 'mean')",
         "rawType": "float64",
         "type": "float"
        },
        {
         "name": "(30311, 'p025')",
         "rawType": "float64",
         "type": "float"
        },
        {
         "name": "(30311, 'p975')",
         "rawType": "float64",
         "type": "float"
        },
        {
         "name": "(30312, 'mean')",
         "rawType": "float64",
         "type": "float"
        },
        {
         "name": "(30312, 'p025')",
         "rawType": "float64",
         "type": "float"
        },
        {
         "name": "(30312, 'p975')",
         "rawType": "float64",
         "type": "float"
        },
        {
         "name": "(30313, 'mean')",
         "rawType": "float64",
         "type": "float"
        },
        {
         "name": "(30313, 'p025')",
         "rawType": "float64",
         "type": "float"
        },
        {
         "name": "(30313, 'p975')",
         "rawType": "float64",
         "type": "float"
        },
        {
         "name": "(30319, 'mean')",
         "rawType": "float64",
         "type": "float"
        },
        {
         "name": "(30319, 'p025')",
         "rawType": "float64",
         "type": "float"
        },
        {
         "name": "(30319, 'p975')",
         "rawType": "float64",
         "type": "float"
        },
        {
         "name": "(30322, 'mean')",
         "rawType": "int64",
         "type": "integer"
        },
        {
         "name": "(30322, 'p025')",
         "rawType": "int64",
         "type": "integer"
        },
        {
         "name": "(30322, 'p975')",
         "rawType": "int64",
         "type": "integer"
        },
        {
         "name": "(30331, 'mean')",
         "rawType": "float64",
         "type": "float"
        },
        {
         "name": "(30331, 'p025')",
         "rawType": "float64",
         "type": "float"
        },
        {
         "name": "(30331, 'p975')",
         "rawType": "float64",
         "type": "float"
        },
        {
         "name": "(30332, 'mean')",
         "rawType": "float64",
         "type": "float"
        },
        {
         "name": "(30332, 'p025')",
         "rawType": "float64",
         "type": "float"
        },
        {
         "name": "(30332, 'p975')",
         "rawType": "float64",
         "type": "float"
        },
        {
         "name": "(30333, 'mean')",
         "rawType": "float64",
         "type": "float"
        },
        {
         "name": "(30333, 'p025')",
         "rawType": "float64",
         "type": "float"
        },
        {
         "name": "(30333, 'p975')",
         "rawType": "float64",
         "type": "float"
        },
        {
         "name": "(30334, 'mean')",
         "rawType": "float64",
         "type": "float"
        },
        {
         "name": "(30334, 'p025')",
         "rawType": "float64",
         "type": "float"
        },
        {
         "name": "(30334, 'p975')",
         "rawType": "float64",
         "type": "float"
        },
        {
         "name": "(30339, 'mean')",
         "rawType": "float64",
         "type": "float"
        },
        {
         "name": "(30339, 'p025')",
         "rawType": "float64",
         "type": "float"
        },
        {
         "name": "(30339, 'p975')",
         "rawType": "float64",
         "type": "float"
        },
        {
         "name": "(30341, 'mean')",
         "rawType": "float64",
         "type": "float"
        },
        {
         "name": "(30341, 'p025')",
         "rawType": "float64",
         "type": "float"
        },
        {
         "name": "(30341, 'p975')",
         "rawType": "float64",
         "type": "float"
        },
        {
         "name": "(30342, 'mean')",
         "rawType": "float64",
         "type": "float"
        },
        {
         "name": "(30342, 'p025')",
         "rawType": "float64",
         "type": "float"
        },
        {
         "name": "(30342, 'p975')",
         "rawType": "float64",
         "type": "float"
        },
        {
         "name": "(30343, 'mean')",
         "rawType": "float64",
         "type": "float"
        },
        {
         "name": "(30343, 'p025')",
         "rawType": "float64",
         "type": "float"
        },
        {
         "name": "(30343, 'p975')",
         "rawType": "float64",
         "type": "float"
        },
        {
         "name": "(30344, 'mean')",
         "rawType": "float64",
         "type": "float"
        },
        {
         "name": "(30344, 'p025')",
         "rawType": "float64",
         "type": "float"
        },
        {
         "name": "(30344, 'p975')",
         "rawType": "float64",
         "type": "float"
        },
        {
         "name": "(30345, 'mean')",
         "rawType": "float64",
         "type": "float"
        },
        {
         "name": "(30345, 'p025')",
         "rawType": "float64",
         "type": "float"
        },
        {
         "name": "(30345, 'p975')",
         "rawType": "float64",
         "type": "float"
        },
        {
         "name": "(30346, 'mean')",
         "rawType": "float64",
         "type": "float"
        },
        {
         "name": "(30346, 'p025')",
         "rawType": "float64",
         "type": "float"
        },
        {
         "name": "(30346, 'p975')",
         "rawType": "float64",
         "type": "float"
        },
        {
         "name": "(30349, 'mean')",
         "rawType": "float64",
         "type": "float"
        },
        {
         "name": "(30349, 'p025')",
         "rawType": "float64",
         "type": "float"
        },
        {
         "name": "(30349, 'p975')",
         "rawType": "float64",
         "type": "float"
        },
        {
         "name": "(30350, 'mean')",
         "rawType": "int64",
         "type": "integer"
        },
        {
         "name": "(30350, 'p025')",
         "rawType": "int64",
         "type": "integer"
        },
        {
         "name": "(30350, 'p975')",
         "rawType": "int64",
         "type": "integer"
        },
        {
         "name": "(30351, 'mean')",
         "rawType": "float64",
         "type": "float"
        },
        {
         "name": "(30351, 'p025')",
         "rawType": "float64",
         "type": "float"
        },
        {
         "name": "(30351, 'p975')",
         "rawType": "float64",
         "type": "float"
        },
        {
         "name": "(30352, 'mean')",
         "rawType": "int64",
         "type": "integer"
        },
        {
         "name": "(30352, 'p025')",
         "rawType": "int64",
         "type": "integer"
        },
        {
         "name": "(30352, 'p975')",
         "rawType": "int64",
         "type": "integer"
        },
        {
         "name": "(30353, 'mean')",
         "rawType": "float64",
         "type": "float"
        },
        {
         "name": "(30353, 'p025')",
         "rawType": "float64",
         "type": "float"
        },
        {
         "name": "(30353, 'p975')",
         "rawType": "float64",
         "type": "float"
        },
        {
         "name": "(30354, 'mean')",
         "rawType": "float64",
         "type": "float"
        },
        {
         "name": "(30354, 'p025')",
         "rawType": "float64",
         "type": "float"
        },
        {
         "name": "(30354, 'p975')",
         "rawType": "float64",
         "type": "float"
        },
        {
         "name": "(30355, 'mean')",
         "rawType": "float64",
         "type": "float"
        },
        {
         "name": "(30355, 'p025')",
         "rawType": "float64",
         "type": "float"
        },
        {
         "name": "(30355, 'p975')",
         "rawType": "float64",
         "type": "float"
        },
        {
         "name": "(30356, 'mean')",
         "rawType": "float64",
         "type": "float"
        },
        {
         "name": "(30356, 'p025')",
         "rawType": "float64",
         "type": "float"
        },
        {
         "name": "(30356, 'p975')",
         "rawType": "float64",
         "type": "float"
        },
        {
         "name": "(30357, 'mean')",
         "rawType": "float64",
         "type": "float"
        },
        {
         "name": "(30357, 'p025')",
         "rawType": "float64",
         "type": "float"
        },
        {
         "name": "(30357, 'p975')",
         "rawType": "float64",
         "type": "float"
        },
        {
         "name": "(30360, 'mean')",
         "rawType": "int64",
         "type": "integer"
        },
        {
         "name": "(30360, 'p025')",
         "rawType": "int64",
         "type": "integer"
        },
        {
         "name": "(30360, 'p975')",
         "rawType": "int64",
         "type": "integer"
        },
        {
         "name": "(30361, 'mean')",
         "rawType": "int64",
         "type": "integer"
        },
        {
         "name": "(30361, 'p025')",
         "rawType": "int64",
         "type": "integer"
        },
        {
         "name": "(30361, 'p975')",
         "rawType": "int64",
         "type": "integer"
        },
        {
         "name": "(30363, 'mean')",
         "rawType": "float64",
         "type": "float"
        },
        {
         "name": "(30363, 'p025')",
         "rawType": "float64",
         "type": "float"
        },
        {
         "name": "(30363, 'p975')",
         "rawType": "float64",
         "type": "float"
        },
        {
         "name": "(30365, 'mean')",
         "rawType": "float64",
         "type": "float"
        },
        {
         "name": "(30365, 'p025')",
         "rawType": "float64",
         "type": "float"
        },
        {
         "name": "(30365, 'p975')",
         "rawType": "float64",
         "type": "float"
        },
        {
         "name": "(30366, 'mean')",
         "rawType": "float64",
         "type": "float"
        },
        {
         "name": "(30366, 'p025')",
         "rawType": "float64",
         "type": "float"
        },
        {
         "name": "(30366, 'p975')",
         "rawType": "float64",
         "type": "float"
        },
        {
         "name": "(30368, 'mean')",
         "rawType": "float64",
         "type": "float"
        },
        {
         "name": "(30368, 'p025')",
         "rawType": "float64",
         "type": "float"
        },
        {
         "name": "(30368, 'p975')",
         "rawType": "float64",
         "type": "float"
        },
        {
         "name": "(30369, 'mean')",
         "rawType": "float64",
         "type": "float"
        },
        {
         "name": "(30369, 'p025')",
         "rawType": "float64",
         "type": "float"
        },
        {
         "name": "(30369, 'p975')",
         "rawType": "float64",
         "type": "float"
        },
        {
         "name": "(30371, 'mean')",
         "rawType": "int64",
         "type": "integer"
        },
        {
         "name": "(30371, 'p025')",
         "rawType": "int64",
         "type": "integer"
        },
        {
         "name": "(30371, 'p975')",
         "rawType": "int64",
         "type": "integer"
        },
        {
         "name": "(30373, 'mean')",
         "rawType": "int64",
         "type": "integer"
        },
        {
         "name": "(30373, 'p025')",
         "rawType": "int64",
         "type": "integer"
        },
        {
         "name": "(30373, 'p975')",
         "rawType": "int64",
         "type": "integer"
        },
        {
         "name": "(30374, 'mean')",
         "rawType": "int64",
         "type": "integer"
        },
        {
         "name": "(30374, 'p025')",
         "rawType": "int64",
         "type": "integer"
        },
        {
         "name": "(30374, 'p975')",
         "rawType": "int64",
         "type": "integer"
        },
        {
         "name": "(30375, 'mean')",
         "rawType": "int64",
         "type": "integer"
        },
        {
         "name": "(30375, 'p025')",
         "rawType": "int64",
         "type": "integer"
        },
        {
         "name": "(30375, 'p975')",
         "rawType": "int64",
         "type": "integer"
        },
        {
         "name": "(30377, 'mean')",
         "rawType": "int64",
         "type": "integer"
        },
        {
         "name": "(30377, 'p025')",
         "rawType": "int64",
         "type": "integer"
        },
        {
         "name": "(30377, 'p975')",
         "rawType": "int64",
         "type": "integer"
        },
        {
         "name": "(30378, 'mean')",
         "rawType": "int64",
         "type": "integer"
        },
        {
         "name": "(30378, 'p025')",
         "rawType": "int64",
         "type": "integer"
        },
        {
         "name": "(30378, 'p975')",
         "rawType": "int64",
         "type": "integer"
        },
        {
         "name": "(30381, 'mean')",
         "rawType": "float64",
         "type": "float"
        },
        {
         "name": "(30381, 'p025')",
         "rawType": "float64",
         "type": "float"
        },
        {
         "name": "(30381, 'p975')",
         "rawType": "float64",
         "type": "float"
        },
        {
         "name": "(30382, 'mean')",
         "rawType": "float64",
         "type": "float"
        },
        {
         "name": "(30382, 'p025')",
         "rawType": "float64",
         "type": "float"
        },
        {
         "name": "(30382, 'p975')",
         "rawType": "float64",
         "type": "float"
        },
        {
         "name": "(30384, 'mean')",
         "rawType": "float64",
         "type": "float"
        },
        {
         "name": "(30384, 'p025')",
         "rawType": "float64",
         "type": "float"
        },
        {
         "name": "(30384, 'p975')",
         "rawType": "float64",
         "type": "float"
        },
        {
         "name": "(30410, 'mean')",
         "rawType": "int64",
         "type": "integer"
        },
        {
         "name": "(30410, 'p025')",
         "rawType": "int64",
         "type": "integer"
        },
        {
         "name": "(30410, 'p975')",
         "rawType": "int64",
         "type": "integer"
        },
        {
         "name": "(30421, 'mean')",
         "rawType": "int64",
         "type": "integer"
        },
        {
         "name": "(30421, 'p025')",
         "rawType": "int64",
         "type": "integer"
        },
        {
         "name": "(30421, 'p975')",
         "rawType": "int64",
         "type": "integer"
        },
        {
         "name": "(30441, 'mean')",
         "rawType": "float64",
         "type": "float"
        },
        {
         "name": "(30441, 'p025')",
         "rawType": "float64",
         "type": "float"
        },
        {
         "name": "(30441, 'p975')",
         "rawType": "float64",
         "type": "float"
        },
        {
         "name": "(30443, 'mean')",
         "rawType": "float64",
         "type": "float"
        },
        {
         "name": "(30443, 'p025')",
         "rawType": "float64",
         "type": "float"
        },
        {
         "name": "(30443, 'p975')",
         "rawType": "float64",
         "type": "float"
        },
        {
         "name": "(30444, 'mean')",
         "rawType": "float64",
         "type": "float"
        },
        {
         "name": "(30444, 'p025')",
         "rawType": "float64",
         "type": "float"
        },
        {
         "name": "(30444, 'p975')",
         "rawType": "float64",
         "type": "float"
        },
        {
         "name": "(30445, 'mean')",
         "rawType": "float64",
         "type": "float"
        },
        {
         "name": "(30445, 'p025')",
         "rawType": "float64",
         "type": "float"
        },
        {
         "name": "(30445, 'p975')",
         "rawType": "float64",
         "type": "float"
        },
        {
         "name": "(30447, 'mean')",
         "rawType": "float64",
         "type": "float"
        },
        {
         "name": "(30447, 'p025')",
         "rawType": "float64",
         "type": "float"
        },
        {
         "name": "(30447, 'p975')",
         "rawType": "float64",
         "type": "float"
        },
        {
         "name": "(30448, 'mean')",
         "rawType": "float64",
         "type": "float"
        },
        {
         "name": "(30448, 'p025')",
         "rawType": "float64",
         "type": "float"
        },
        {
         "name": "(30448, 'p975')",
         "rawType": "float64",
         "type": "float"
        },
        {
         "name": "(30452, 'mean')",
         "rawType": "float64",
         "type": "float"
        },
        {
         "name": "(30452, 'p025')",
         "rawType": "float64",
         "type": "float"
        },
        {
         "name": "(30452, 'p975')",
         "rawType": "float64",
         "type": "float"
        },
        {
         "name": "(30453, 'mean')",
         "rawType": "float64",
         "type": "float"
        },
        {
         "name": "(30453, 'p025')",
         "rawType": "float64",
         "type": "float"
        },
        {
         "name": "(30453, 'p975')",
         "rawType": "float64",
         "type": "float"
        },
        {
         "name": "(30454, 'mean')",
         "rawType": "float64",
         "type": "float"
        },
        {
         "name": "(30454, 'p025')",
         "rawType": "float64",
         "type": "float"
        },
        {
         "name": "(30454, 'p975')",
         "rawType": "float64",
         "type": "float"
        },
        {
         "name": "(30456, 'mean')",
         "rawType": "float64",
         "type": "float"
        },
        {
         "name": "(30456, 'p025')",
         "rawType": "float64",
         "type": "float"
        },
        {
         "name": "(30456, 'p975')",
         "rawType": "float64",
         "type": "float"
        },
        {
         "name": "(30457, 'mean')",
         "rawType": "float64",
         "type": "float"
        },
        {
         "name": "(30457, 'p025')",
         "rawType": "float64",
         "type": "float"
        },
        {
         "name": "(30457, 'p975')",
         "rawType": "float64",
         "type": "float"
        },
        {
         "name": "(30471, 'mean')",
         "rawType": "float64",
         "type": "float"
        },
        {
         "name": "(30471, 'p025')",
         "rawType": "float64",
         "type": "float"
        },
        {
         "name": "(30471, 'p975')",
         "rawType": "float64",
         "type": "float"
        },
        {
         "name": "(30472, 'mean')",
         "rawType": "float64",
         "type": "float"
        },
        {
         "name": "(30472, 'p025')",
         "rawType": "float64",
         "type": "float"
        },
        {
         "name": "(30472, 'p975')",
         "rawType": "float64",
         "type": "float"
        },
        {
         "name": "(30473, 'mean')",
         "rawType": "float64",
         "type": "float"
        },
        {
         "name": "(30473, 'p025')",
         "rawType": "float64",
         "type": "float"
        },
        {
         "name": "(30473, 'p975')",
         "rawType": "float64",
         "type": "float"
        },
        {
         "name": "(30474, 'mean')",
         "rawType": "float64",
         "type": "float"
        },
        {
         "name": "(30474, 'p025')",
         "rawType": "float64",
         "type": "float"
        },
        {
         "name": "(30474, 'p975')",
         "rawType": "float64",
         "type": "float"
        },
        {
         "name": "(30479, 'mean')",
         "rawType": "float64",
         "type": "float"
        },
        {
         "name": "(30479, 'p025')",
         "rawType": "float64",
         "type": "float"
        },
        {
         "name": "(30479, 'p975')",
         "rawType": "float64",
         "type": "float"
        },
        {
         "name": "(30481, 'mean')",
         "rawType": "float64",
         "type": "float"
        },
        {
         "name": "(30481, 'p025')",
         "rawType": "float64",
         "type": "float"
        },
        {
         "name": "(30481, 'p975')",
         "rawType": "float64",
         "type": "float"
        },
        {
         "name": "(30483, 'mean')",
         "rawType": "float64",
         "type": "float"
        },
        {
         "name": "(30483, 'p025')",
         "rawType": "float64",
         "type": "float"
        },
        {
         "name": "(30483, 'p975')",
         "rawType": "float64",
         "type": "float"
        },
        {
         "name": "(30484, 'mean')",
         "rawType": "float64",
         "type": "float"
        },
        {
         "name": "(30484, 'p025')",
         "rawType": "float64",
         "type": "float"
        },
        {
         "name": "(30484, 'p975')",
         "rawType": "float64",
         "type": "float"
        },
        {
         "name": "(30486, 'mean')",
         "rawType": "float64",
         "type": "float"
        },
        {
         "name": "(30486, 'p025')",
         "rawType": "float64",
         "type": "float"
        },
        {
         "name": "(30486, 'p975')",
         "rawType": "float64",
         "type": "float"
        },
        {
         "name": "(30487, 'mean')",
         "rawType": "float64",
         "type": "float"
        },
        {
         "name": "(30487, 'p025')",
         "rawType": "float64",
         "type": "float"
        },
        {
         "name": "(30487, 'p975')",
         "rawType": "float64",
         "type": "float"
        },
        {
         "name": "(30488, 'mean')",
         "rawType": "float64",
         "type": "float"
        },
        {
         "name": "(30488, 'p025')",
         "rawType": "float64",
         "type": "float"
        },
        {
         "name": "(30488, 'p975')",
         "rawType": "float64",
         "type": "float"
        },
        {
         "name": "(30491, 'mean')",
         "rawType": "float64",
         "type": "float"
        },
        {
         "name": "(30491, 'p025')",
         "rawType": "float64",
         "type": "float"
        },
        {
         "name": "(30491, 'p975')",
         "rawType": "float64",
         "type": "float"
        },
        {
         "name": "(30495, 'mean')",
         "rawType": "float64",
         "type": "float"
        },
        {
         "name": "(30495, 'p025')",
         "rawType": "float64",
         "type": "float"
        },
        {
         "name": "(30495, 'p975')",
         "rawType": "float64",
         "type": "float"
        },
        {
         "name": "(30496, 'mean')",
         "rawType": "float64",
         "type": "float"
        },
        {
         "name": "(30496, 'p025')",
         "rawType": "float64",
         "type": "float"
        },
        {
         "name": "(30496, 'p975')",
         "rawType": "float64",
         "type": "float"
        },
        {
         "name": "(30497, 'mean')",
         "rawType": "float64",
         "type": "float"
        },
        {
         "name": "(30497, 'p025')",
         "rawType": "float64",
         "type": "float"
        },
        {
         "name": "(30497, 'p975')",
         "rawType": "float64",
         "type": "float"
        }
       ],
       "ref": "f95e2935-e36c-440f-99dc-21268b9e3759",
       "rows": [
        [
         "Australia",
         "2761707.264332958",
         "2748239.520383884",
         "2775175.491893315",
         "0.0",
         "0.0",
         "0.0",
         "0",
         "0",
         "0",
         "0.0",
         "0.0",
         "0.0",
         "0.0",
         "0.0",
         "0.0",
         "0.0",
         "0.0",
         "0.0",
         "0.0",
         "0.0",
         "0.0",
         "0.0",
         "0.0",
         "0.0",
         "0.0",
         "0.0",
         "0.0",
         "0.0",
         "0.0",
         "0.0",
         "197424.2200534149",
         "196461.4609372103",
         "198387.0137411984",
         "465439.5814279223",
         "463169.8184535851",
         "467709.4260000493",
         "12175154.78935049",
         "12115781.41989748",
         "12234530.29150087",
         "0.0",
         "0.0",
         "0.0",
         "1298574.955723826",
         "1292242.324161471",
         "1304907.814863983",
         "16865.20947832889",
         "16782.96458371785",
         "16947.45732626005",
         "18413331.49900027",
         "18257719.0300558",
         "18571829.56775849",
         "639256.4860634769",
         "634062.3659597633",
         "644541.6642152884",
         "0",
         "0",
         "0",
         "0.0",
         "0.0",
         "0.0",
         "0.0",
         "0.0",
         "0.0",
         "0.0",
         "0.0",
         "0.0",
         "13114.35573074903",
         "13050.40225265241",
         "13178.31150534191",
         "0.0",
         "0.0",
         "0.0",
         "0.0",
         "0.0",
         "0.0",
         "3136053.352273379",
         "3120760.072115",
         "3151347.181882853",
         "0",
         "0",
         "0",
         "0.0",
         "0.0",
         "0.0",
         "0.0",
         "0.0",
         "0.0",
         "0.0",
         "0.0",
         "0.0",
         "0.0",
         "0.0",
         "0.0",
         "0.0",
         "0.0",
         "0.0",
         "0",
         "0",
         "0",
         "0",
         "0",
         "0",
         "0",
         "0",
         "0",
         "0",
         "0",
         "0",
         "0",
         "0",
         "0",
         "0.0",
         "0.0",
         "0.0",
         "0.0",
         "0.0",
         "0.0",
         "0.0",
         "0.0",
         "0.0",
         "0.0",
         "0.0",
         "0.0",
         "0",
         "0",
         "0",
         "0.0",
         "0.0",
         "0.0",
         "0.0",
         "0.0",
         "0.0",
         "0.0",
         "0.0",
         "0.0",
         "0.0",
         "0.0",
         "0.0",
         "0",
         "0",
         "0",
         "0.0",
         "0.0",
         "0.0",
         "0.0",
         "0.0",
         "0.0",
         "0.0",
         "0.0",
         "0.0",
         "0.0",
         "0.0",
         "0.0",
         "74488.52785857367",
         "74125.2770414799",
         "74851.79171958886",
         "3026900.126006341",
         "3012139.142825778",
         "3041661.639843019",
         "428228.7983983571",
         "426140.4975021779",
         "430317.1743065139",
         "122326.8166067992",
         "121730.2775509148",
         "122923.3770837756",
         "393.760242710207",
         "391.840031227615",
         "395.6805232000519",
         "0.0",
         "0.0",
         "0.0",
         "185663706.4995294",
         "184094648.3547096",
         "187261860.474016",
         "4150.844542767335",
         "4117.117884443154",
         "4185.162462674714",
         "0",
         "0",
         "0",
         "0.0",
         "0.0",
         "0.0",
         "0",
         "0",
         "0",
         "906934.405422741",
         "893911.2035848841",
         "920633.120351519",
         "0.0",
         "0.0",
         "0.0",
         "0.0",
         "0.0",
         "0.0",
         "0.0",
         "0.0",
         "0.0",
         "0.0",
         "0.0",
         "0.0",
         "0",
         "0",
         "0",
         "0",
         "0",
         "0",
         "0.0",
         "0.0",
         "0.0",
         "0.0",
         "0.0",
         "0.0",
         "0.0",
         "0.0",
         "0.0",
         "0.0",
         "0.0",
         "0.0",
         "32617950.40035895",
         "32458885.67622652",
         "32777020.83632369",
         "0",
         "0",
         "0",
         "0",
         "0",
         "0",
         "0",
         "0",
         "0",
         "0",
         "0",
         "0",
         "0",
         "0",
         "0",
         "0",
         "0",
         "0",
         "0.0",
         "0.0",
         "0.0",
         "0.0",
         "0.0",
         "0.0",
         "0.0",
         "0.0",
         "0.0",
         "0",
         "0",
         "0",
         "0",
         "0",
         "0",
         "0.0",
         "0.0",
         "0.0",
         "0.0",
         "0.0",
         "0.0",
         "0.0",
         "0.0",
         "0.0",
         "0.0",
         "0.0",
         "0.0",
         "0.0",
         "0.0",
         "0.0",
         "0.0",
         "0.0",
         "0.0",
         "0.0",
         "0.0",
         "0.0",
         "0.0",
         "0.0",
         "0.0",
         "0.0",
         "0.0",
         "0.0",
         "0.0",
         "0.0",
         "0.0",
         "0.0",
         "0.0",
         "0.0",
         "0.0",
         "0.0",
         "0.0",
         "0.0",
         "0.0",
         "0.0",
         "0.0",
         "0.0",
         "0.0",
         "0.0",
         "0.0",
         "0.0",
         "159693.6694255983",
         "158914.9071440602",
         "160472.4596715992",
         "0.0",
         "0.0",
         "0.0",
         "0.0",
         "0.0",
         "0.0",
         "0.0",
         "0.0",
         "0.0",
         "0.0",
         "0.0",
         "0.0",
         "24873.58310233198",
         "24670.88532546021",
         "25079.84996148932",
         "0.0",
         "0.0",
         "0.0",
         "376.710340195109",
         "374.8732742641402",
         "378.5474721274769",
         "50529.41398678748",
         "50283.00220438765",
         "50775.83461755257",
         "0.0",
         "0.0",
         "0.0",
         "0.0",
         "0.0",
         "0.0"
        ],
        [
         "Bangladesh",
         "0.0",
         "0.0",
         "0.0",
         "0.0",
         "0.0",
         "0.0",
         "0",
         "0",
         "0",
         "0.0",
         "0.0",
         "0.0",
         "0.0",
         "0.0",
         "0.0",
         "0.0",
         "0.0",
         "0.0",
         "0.0",
         "0.0",
         "0.0",
         "0.0",
         "0.0",
         "0.0",
         "0.0",
         "0.0",
         "0.0",
         "0.0",
         "0.0",
         "0.0",
         "0.0",
         "0.0",
         "0.0",
         "0.0",
         "0.0",
         "0.0",
         "0.0",
         "0.0",
         "0.0",
         "0.0",
         "0.0",
         "0.0",
         "0.0",
         "0.0",
         "0.0",
         "0.0",
         "0.0",
         "0.0",
         "0.0",
         "0.0",
         "0.0",
         "0.0",
         "0.0",
         "0.0",
         "0",
         "0",
         "0",
         "0.0",
         "0.0",
         "0.0",
         "0.0",
         "0.0",
         "0.0",
         "0.0",
         "0.0",
         "0.0",
         "0.0",
         "0.0",
         "0.0",
         "0.0",
         "0.0",
         "0.0",
         "0.0",
         "0.0",
         "0.0",
         "0.0",
         "0.0",
         "0.0",
         "0",
         "0",
         "0",
         "0.0",
         "0.0",
         "0.0",
         "0.0",
         "0.0",
         "0.0",
         "0.0",
         "0.0",
         "0.0",
         "0.0",
         "0.0",
         "0.0",
         "0.0",
         "0.0",
         "0.0",
         "0",
         "0",
         "0",
         "0",
         "0",
         "0",
         "0",
         "0",
         "0",
         "0",
         "0",
         "0",
         "0",
         "0",
         "0",
         "0.0",
         "0.0",
         "0.0",
         "0.0",
         "0.0",
         "0.0",
         "0.0",
         "0.0",
         "0.0",
         "0.0",
         "0.0",
         "0.0",
         "0",
         "0",
         "0",
         "0.0",
         "0.0",
         "0.0",
         "0.0",
         "0.0",
         "0.0",
         "0.0",
         "0.0",
         "0.0",
         "0.0",
         "0.0",
         "0.0",
         "0",
         "0",
         "0",
         "0.0",
         "0.0",
         "0.0",
         "0.0",
         "0.0",
         "0.0",
         "0.0",
         "0.0",
         "0.0",
         "0.0",
         "0.0",
         "0.0",
         "0.0",
         "0.0",
         "0.0",
         "0.0",
         "0.0",
         "0.0",
         "0.0",
         "0.0",
         "0.0",
         "0.0",
         "0.0",
         "0.0",
         "0.0",
         "0.0",
         "0.0",
         "0.0",
         "0.0",
         "0.0",
         "0.0",
         "0.0",
         "0.0",
         "0.0",
         "0.0",
         "0.0",
         "0",
         "0",
         "0",
         "0.0",
         "0.0",
         "0.0",
         "0",
         "0",
         "0",
         "0.0",
         "0.0",
         "0.0",
         "0.0",
         "0.0",
         "0.0",
         "0.0",
         "0.0",
         "0.0",
         "0.0",
         "0.0",
         "0.0",
         "0.0",
         "0.0",
         "0.0",
         "0",
         "0",
         "0",
         "0",
         "0",
         "0",
         "0.0",
         "0.0",
         "0.0",
         "0.0",
         "0.0",
         "0.0",
         "0.0",
         "0.0",
         "0.0",
         "0.0",
         "0.0",
         "0.0",
         "0.0",
         "0.0",
         "0.0",
         "0",
         "0",
         "0",
         "0",
         "0",
         "0",
         "0",
         "0",
         "0",
         "0",
         "0",
         "0",
         "0",
         "0",
         "0",
         "0",
         "0",
         "0",
         "0.0",
         "0.0",
         "0.0",
         "0.0",
         "0.0",
         "0.0",
         "0.0",
         "0.0",
         "0.0",
         "0",
         "0",
         "0",
         "0",
         "0",
         "0",
         "0.0",
         "0.0",
         "0.0",
         "745.2956743273388",
         "738.9971237505495",
         "751.7110220708114",
         "0.0",
         "0.0",
         "0.0",
         "0.0",
         "0.0",
         "0.0",
         "0.0",
         "0.0",
         "0.0",
         "0.0",
         "0.0",
         "0.0",
         "0.0",
         "0.0",
         "0.0",
         "0.0",
         "0.0",
         "0.0",
         "0.0",
         "0.0",
         "0.0",
         "0.0",
         "0.0",
         "0.0",
         "0.0",
         "0.0",
         "0.0",
         "0.0",
         "0.0",
         "0.0",
         "0.0",
         "0.0",
         "0.0",
         "0.0",
         "0.0",
         "0.0",
         "0.0",
         "0.0",
         "0.0",
         "0.0",
         "0.0",
         "0.0",
         "0.0",
         "0.0",
         "0.0",
         "0.0",
         "0.0",
         "0.0",
         "0.0",
         "0.0",
         "0.0",
         "0.0",
         "0.0",
         "0.0",
         "0.0",
         "0.0",
         "0.0",
         "0.0",
         "0.0",
         "0.0",
         "0.0",
         "0.0",
         "0.0",
         "0.0",
         "0.0",
         "0.0",
         "0.0",
         "0.0",
         "0.0",
         "0.0",
         "0.0",
         "0.0"
        ],
        [
         "Brazil",
         "0.0",
         "0.0",
         "0.0",
         "0.0",
         "0.0",
         "0.0",
         "0",
         "0",
         "0",
         "0.0",
         "0.0",
         "0.0",
         "0.0",
         "0.0",
         "0.0",
         "0.0",
         "0.0",
         "0.0",
         "0.0",
         "0.0",
         "0.0",
         "0.0",
         "0.0",
         "0.0",
         "0.0",
         "0.0",
         "0.0",
         "0.0",
         "0.0",
         "0.0",
         "0.0",
         "0.0",
         "0.0",
         "28354.97203874704",
         "28216.69616283122",
         "28493.2528873569",
         "1587393.392458856",
         "1579652.309003989",
         "1595134.754578872",
         "928064.1409755123",
         "923538.3427441721",
         "932590.101951831",
         "2973748.70383056",
         "2959246.919296152",
         "2988251.010360443",
         "0.0",
         "0.0",
         "0.0",
         "0.0",
         "0.0",
         "0.0",
         "250390.4241431212",
         "249169.3700404529",
         "251611.5221689198",
         "0",
         "0",
         "0",
         "0.0",
         "0.0",
         "0.0",
         "1463.787879737178",
         "1442.768493177916",
         "1485.897541738849",
         "0.0",
         "0.0",
         "0.0",
         "0.0",
         "0.0",
         "0.0",
         "0.0",
         "0.0",
         "0.0",
         "2171.907901046695",
         "2161.316373454169",
         "2182.499809479784",
         "8788761.209123451",
         "8745901.930382235",
         "8831622.029342163",
         "0",
         "0",
         "0",
         "0.0",
         "0.0",
         "0.0",
         "0.0",
         "0.0",
         "0.0",
         "0.0",
         "0.0",
         "0.0",
         "1389.436030972229",
         "1382.66030624974",
         "1396.211999330096",
         "0.0",
         "0.0",
         "0.0",
         "0",
         "0",
         "0",
         "0",
         "0",
         "0",
         "0",
         "0",
         "0",
         "0",
         "0",
         "0",
         "0",
         "0",
         "0",
         "22934.55551925951",
         "22822.71285047552",
         "23046.40221043058",
         "0.0",
         "0.0",
         "0.0",
         "0.0",
         "0.0",
         "0.0",
         "215659.3307918124",
         "213836.7773871096",
         "217515.6807905748",
         "0",
         "0",
         "0",
         "0.0",
         "0.0",
         "0.0",
         "0.0",
         "0.0",
         "0.0",
         "0.0",
         "0.0",
         "0.0",
         "0.0",
         "0.0",
         "0.0",
         "0",
         "0",
         "0",
         "0.0",
         "0.0",
         "0.0",
         "0.0",
         "0.0",
         "0.0",
         "0.0",
         "0.0",
         "0.0",
         "0.0",
         "0.0",
         "0.0",
         "0.0",
         "0.0",
         "0.0",
         "33881.08234790371",
         "33715.85783869839",
         "34046.31279893313",
         "8130670.921217721",
         "8091020.887115137",
         "8170322.382650563",
         "22644182.28091741",
         "22533755.64595509",
         "22754612.88675501",
         "1642527.887344304",
         "1634517.9349622",
         "1650538.128046709",
         "0.0",
         "0.0",
         "0.0",
         "0.0",
         "0.0",
         "0.0",
         "319653.9026695361",
         "318095.0782431457",
         "321212.7831691573",
         "0",
         "0",
         "0",
         "0.0",
         "0.0",
         "0.0",
         "0",
         "0",
         "0",
         "0.0",
         "0.0",
         "0.0",
         "0.0",
         "0.0",
         "0.0",
         "0.0",
         "0.0",
         "0.0",
         "0.0",
         "0.0",
         "0.0",
         "742491.9110228582",
         "738871.0744771352",
         "746112.8777956456",
         "0",
         "0",
         "0",
         "0",
         "0",
         "0",
         "0.0",
         "0.0",
         "0.0",
         "0.0",
         "0.0",
         "0.0",
         "8402.431576774166",
         "8361.45627305764",
         "8443.40835384358",
         "0.0",
         "0.0",
         "0.0",
         "841581.4039598794",
         "837477.3474954676",
         "845685.6079942392",
         "0",
         "0",
         "0",
         "0",
         "0",
         "0",
         "0",
         "0",
         "0",
         "0",
         "0",
         "0",
         "0",
         "0",
         "0",
         "0",
         "0",
         "0",
         "149927.9476109152",
         "149196.8088813231",
         "150659.1126356862",
         "0.0",
         "0.0",
         "0.0",
         "0.0",
         "0.0",
         "0.0",
         "0",
         "0",
         "0",
         "0",
         "0",
         "0",
         "0.0",
         "0.0",
         "0.0",
         "0.0",
         "0.0",
         "0.0",
         "0.0",
         "0.0",
         "0.0",
         "0.0",
         "0.0",
         "0.0",
         "0.0",
         "0.0",
         "0.0",
         "0.0",
         "0.0",
         "0.0",
         "0.0",
         "0.0",
         "0.0",
         "0.0",
         "0.0",
         "0.0",
         "0.0",
         "0.0",
         "0.0",
         "0.0",
         "0.0",
         "0.0",
         "0.0",
         "0.0",
         "0.0",
         "0.0",
         "0.0",
         "0.0",
         "0.0",
         "0.0",
         "0.0",
         "0.0",
         "0.0",
         "0.0",
         "1606780.390322364",
         "1598944.763944732",
         "1614616.298446358",
         "340967.6020005851",
         "339304.8391536862",
         "342630.4246356056",
         "0.0",
         "0.0",
         "0.0",
         "0.0",
         "0.0",
         "0.0",
         "0.0",
         "0.0",
         "0.0",
         "0.0",
         "0.0",
         "0.0",
         "895133.7692731994",
         "890768.5593617682",
         "899499.1362086908",
         "0.0",
         "0.0",
         "0.0",
         "58.51691776197803",
         "58.23155412201089",
         "58.80229166533834",
         "0.0",
         "0.0",
         "0.0",
         "0.0",
         "0.0",
         "0.0",
         "0.0",
         "0.0",
         "0.0"
        ],
        [
         "Canada",
         "361890.2694535183",
         "360125.4750886286",
         "363655.1272333586",
         "0.0",
         "0.0",
         "0.0",
         "0",
         "0",
         "0",
         "708881.1649731932",
         "705050.390854527",
         "712728.4352781492",
         "136697824.921857",
         "136031204.2019541",
         "137364469.5928082",
         "11530.3848832345",
         "11473.24438230041",
         "11587.56731871034",
         "8300332.221362812",
         "8259854.814781962",
         "8340811.082405383",
         "0.0",
         "0.0",
         "0.0",
         "0.0",
         "0.0",
         "0.0",
         "0.0",
         "0.0",
         "0.0",
         "648754.2782994707",
         "645590.5626802078",
         "651918.1075995155",
         "22030.51558108698",
         "21923.0815882852",
         "22137.95347718605",
         "118419.0602229942",
         "117841.5777690474",
         "118996.5634582102",
         "0.0",
         "0.0",
         "0.0",
         "181153.3928016482",
         "180269.9800965938",
         "182036.8373320215",
         "490781.9305881849",
         "488388.5830499944",
         "493175.3641273392",
         "0.0",
         "0.0",
         "0.0",
         "0.0",
         "0.0",
         "0.0",
         "0",
         "0",
         "0",
         "1977922.746961082",
         "1961207.17119956",
         "1994948.288360717",
         "0.0",
         "0.0",
         "0.0",
         "0.0",
         "0.0",
         "0.0",
         "0.0",
         "0.0",
         "0.0",
         "0.0",
         "0.0",
         "0.0",
         "0.0",
         "0.0",
         "0.0",
         "1019618.007237057",
         "1014645.737560426",
         "1024590.455911854",
         "0",
         "0",
         "0",
         "816054.2229687204",
         "812074.6523079041",
         "820033.9366140929",
         "1874953.629206954",
         "1865810.228874704",
         "1884097.358057114",
         "0.0",
         "0.0",
         "0.0",
         "5581388.289069199",
         "5554170.08658049",
         "5608607.469494633",
         "0.0",
         "0.0",
         "0.0",
         "0",
         "0",
         "0",
         "0",
         "0",
         "0",
         "0",
         "0",
         "0",
         "0",
         "0",
         "0",
         "0",
         "0",
         "0",
         "59390.98125308657",
         "59101.3551526044",
         "59680.6177656867",
         "0.0",
         "0.0",
         "0.0",
         "0.0",
         "0.0",
         "0.0",
         "0.0",
         "0.0",
         "0.0",
         "0",
         "0",
         "0",
         "154724.5999184368",
         "153417.0105366242",
         "156056.4366703418",
         "818550.2000261821",
         "814283.9202949008",
         "822828.6462406963",
         "17582.45042699436",
         "17496.70783549372",
         "17668.19609914474",
         "142031.6800260072",
         "141327.8213580285",
         "142736.0552451226",
         "0",
         "0",
         "0",
         "13956820.75386373",
         "13888758.91089602",
         "14024885.0424759",
         "0.0",
         "0.0",
         "0.0",
         "0.0",
         "0.0",
         "0.0",
         "0.0",
         "0.0",
         "0.0",
         "7973271.848249796",
         "7934389.38453941",
         "8012155.709111321",
         "441397.1382303958",
         "439244.6213364163",
         "443549.7333297287",
         "28819.89716661083",
         "28679.35404030221",
         "28960.4453505009",
         "0.0",
         "0.0",
         "0.0",
         "0.0",
         "0.0",
         "0.0",
         "0.0",
         "0.0",
         "0.0",
         "0.0",
         "0.0",
         "0.0",
         "11239.95715654336",
         "11185.14438162877",
         "11294.77191138524",
         "0",
         "0",
         "0",
         "11439449.12797511",
         "11342773.47223348",
         "11537917.49081516",
         "0",
         "0",
         "0",
         "0.0",
         "0.0",
         "0.0",
         "269953.971174547",
         "267672.5696064471",
         "272277.6779569576",
         "0.0",
         "0.0",
         "0.0",
         "0.0",
         "0.0",
         "0.0",
         "0.0",
         "0.0",
         "0.0",
         "0",
         "0",
         "0",
         "0",
         "0",
         "0",
         "640810.9531184434",
         "637685.9739241899",
         "643936.044592086",
         "166254.9990528486",
         "165444.2397963658",
         "167065.7874417038",
         "95675843.87747818",
         "95209270.98251668",
         "96142433.536176",
         "0.0",
         "0.0",
         "0.0",
         "28960.03491832756",
         "28817.72791262175",
         "29102.39431582924",
         "0",
         "0",
         "0",
         "0",
         "0",
         "0",
         "0",
         "0",
         "0",
         "0",
         "0",
         "0",
         "0",
         "0",
         "0",
         "0",
         "0",
         "0",
         "0.0",
         "0.0",
         "0.0",
         "0.0",
         "0.0",
         "0.0",
         "0.0",
         "0.0",
         "0.0",
         "0",
         "0",
         "0",
         "0",
         "0",
         "0",
         "8494113.502226762",
         "8452019.686155286",
         "8536238.210307566",
         "0.0",
         "0.0",
         "0.0",
         "1819282.047931432",
         "1810342.259650596",
         "1828225.127487777",
         "0.0",
         "0.0",
         "0.0",
         "0.0",
         "0.0",
         "0.0",
         "0.0",
         "0.0",
         "0.0",
         "365797.1126535747",
         "363984.3518074334",
         "367611.203857241",
         "3878.693798232993",
         "3859.634245921234",
         "3897.760367516047",
         "0.0",
         "0.0",
         "0.0",
         "0.0",
         "0.0",
         "0.0",
         "0.0",
         "0.0",
         "0.0",
         "2757360.164812817",
         "2743913.620080442",
         "2770807.192674755",
         "1515430.578339116",
         "1508040.428397463",
         "1522820.99380525",
         "0.0",
         "0.0",
         "0.0",
         "632805.0806068121",
         "629719.1428565984",
         "635891.1292332625",
         "56631.56577963805",
         "56353.28336122039",
         "56909.950650606",
         "2116681.84277278",
         "2106192.317744871",
         "2127179.065903054",
         "7587705.836245958",
         "7550703.624050264",
         "7624709.378030322",
         "7790.56263993719",
         "7752.57117832754",
         "7828.555469212393",
         "467315.4550481092",
         "463366.1365495033",
         "471338.0078191085",
         "696624.8030685028",
         "693227.6425634661",
         "700022.0862845463",
         "0.0",
         "0.0",
         "0.0",
         "0.0",
         "0.0",
         "0.0",
         "3224006.864106693",
         "3208164.384479168",
         "3239855.176306933",
         "0.0",
         "0.0",
         "0.0",
         "0.0",
         "0.0",
         "0.0"
        ],
        [
         "China",
         "0.0",
         "0.0",
         "0.0",
         "0.0",
         "0.0",
         "0.0",
         "0",
         "0",
         "0",
         "0.0",
         "0.0",
         "0.0",
         "0.0",
         "0.0",
         "0.0",
         "0.0",
         "0.0",
         "0.0",
         "0.0",
         "0.0",
         "0.0",
         "0.0",
         "0.0",
         "0.0",
         "0.0",
         "0.0",
         "0.0",
         "0.0",
         "0.0",
         "0.0",
         "61492.40208663489",
         "61192.52819010059",
         "61792.28675548593",
         "0.0",
         "0.0",
         "0.0",
         "0.0",
         "0.0",
         "0.0",
         "0.0",
         "0.0",
         "0.0",
         "0.0",
         "0.0",
         "0.0",
         "0.0",
         "0.0",
         "0.0",
         "0.0",
         "0.0",
         "0.0",
         "1104.927435561309",
         "1099.539147456797",
         "1110.315919492849",
         "0",
         "0",
         "0",
         "0.0",
         "0.0",
         "0.0",
         "458355.0281502386",
         "454481.4348612166",
         "462300.4514131358",
         "0.0",
         "0.0",
         "0.0",
         "7783.241449915937",
         "7717.464682993676",
         "7850.237948206142",
         "16258.91704224843",
         "16121.51169430987",
         "16398.8703640798",
         "4694764.817103524",
         "4671870.323294278",
         "4717660.133350306",
         "0.0",
         "0.0",
         "0.0",
         "0",
         "0",
         "0",
         "12959897.50440507",
         "12896697.25800949",
         "13023100.02113187",
         "0.0",
         "0.0",
         "0.0",
         "0.0",
         "0.0",
         "0.0",
         "0.0",
         "0.0",
         "0.0",
         "0.0",
         "0.0",
         "0.0",
         "0",
         "0",
         "0",
         "0",
         "0",
         "0",
         "0",
         "0",
         "0",
         "0",
         "0",
         "0",
         "0",
         "0",
         "0",
         "16.88763785455263",
         "16.80528360649061",
         "16.96999508467118",
         "0.0",
         "0.0",
         "0.0",
         "0.0",
         "0.0",
         "0.0",
         "0.0",
         "0.0",
         "0.0",
         "0",
         "0",
         "0",
         "0.0",
         "0.0",
         "0.0",
         "0.0",
         "0.0",
         "0.0",
         "0.0",
         "0.0",
         "0.0",
         "0.0",
         "0.0",
         "0.0",
         "0",
         "0",
         "0",
         "0.0",
         "0.0",
         "0.0",
         "0.0",
         "0.0",
         "0.0",
         "0.0",
         "0.0",
         "0.0",
         "0.0",
         "0.0",
         "0.0",
         "308489846.8336971",
         "306985465.0032238",
         "309994282.7058117",
         "10411002.4102703",
         "10360232.12561661",
         "10461774.54009392",
         "15042633.88953877",
         "14969276.99499222",
         "15115993.44996325",
         "29535798.34087488",
         "29391764.09411498",
         "29679837.82222849",
         "5509133.298805734",
         "5482267.464507116",
         "5536000.109518741",
         "641091.4312816622",
         "637965.0843324539",
         "644217.8905679957",
         "0.0",
         "0.0",
         "0.0",
         "417265.7871765193",
         "415230.9492268936",
         "419300.69907844",
         "0",
         "0",
         "0",
         "632978501.7080864",
         "627629152.1318859",
         "638427046.9481541",
         "0",
         "0",
         "0",
         "156584528.3213662",
         "154336039.5016482",
         "158949646.3040685",
         "2414912018.275739",
         "2394503412.685635",
         "2435699070.809636",
         "8108714.385587553",
         "8040187.021889779",
         "8178512.485368486",
         "561125.0131159505",
         "558388.6304345019",
         "563861.494096311",
         "2014295.110444585",
         "2004472.20064612",
         "2024118.377076438",
         "0",
         "0",
         "0",
         "0",
         "0",
         "0",
         "11085013.01551323",
         "11030955.83229551",
         "11139072.14061756",
         "0.0",
         "0.0",
         "0.0",
         "0.0",
         "0.0",
         "0.0",
         "0.0",
         "0.0",
         "0.0",
         "3686927.773008332",
         "3668948.098121427",
         "3704908.093775906",
         "0",
         "0",
         "0",
         "0",
         "0",
         "0",
         "0",
         "0",
         "0",
         "0",
         "0",
         "0",
         "0",
         "0",
         "0",
         "0",
         "0",
         "0",
         "779445.5476493059",
         "775644.5038008527",
         "783246.7291339814",
         "0.0",
         "0.0",
         "0.0",
         "0.0",
         "0.0",
         "0.0",
         "0",
         "0",
         "0",
         "0",
         "0",
         "0",
         "0.0",
         "0.0",
         "0.0",
         "0.0",
         "0.0",
         "0.0",
         "221431.1497979607",
         "220351.3184781428",
         "222511.0199083674",
         "0.0",
         "0.0",
         "0.0",
         "0.0",
         "0.0",
         "0.0",
         "0.0",
         "0.0",
         "0.0",
         "0.0",
         "0.0",
         "0.0",
         "0.0",
         "0.0",
         "0.0",
         "0.0",
         "0.0",
         "0.0",
         "0.0",
         "0.0",
         "0.0",
         "0.0",
         "0.0",
         "0.0",
         "1980197507.749963",
         "1970540875.021258",
         "1989854487.372171",
         "0.0",
         "0.0",
         "0.0",
         "0.0",
         "0.0",
         "0.0",
         "0.0",
         "0.0",
         "0.0",
         "193655743.5531327",
         "192711361.8013236",
         "194600159.2297998",
         "0.0",
         "0.0",
         "0.0",
         "0.0",
         "0.0",
         "0.0",
         "27158.35190647899",
         "27025.91151099324",
         "27290.79711308041",
         "5848638.262059703",
         "5799210.974206999",
         "5898982.104824712",
         "7848659.898057906",
         "7810385.130500559",
         "7886936.056640201",
         "0.0",
         "0.0",
         "0.0",
         "439854.7554798847",
         "437709.7601586425",
         "441999.8287216174",
         "161162209.2533662",
         "160376285.4965614",
         "161948161.2427707",
         "1731200.730619969",
         "1722758.357823811",
         "1739643.409115388",
         "0.0",
         "0.0",
         "0.0"
        ]
       ],
       "shape": {
        "columns": 333,
        "rows": 5
       }
      },
      "text/html": [
       "<div>\n",
       "<style scoped>\n",
       "    .dataframe tbody tr th:only-of-type {\n",
       "        vertical-align: middle;\n",
       "    }\n",
       "\n",
       "    .dataframe tbody tr th {\n",
       "        vertical-align: top;\n",
       "    }\n",
       "\n",
       "    .dataframe thead tr th {\n",
       "        text-align: left;\n",
       "    }\n",
       "</style>\n",
       "<table border=\"1\" class=\"dataframe\">\n",
       "  <thead>\n",
       "    <tr>\n",
       "      <th></th>\n",
       "      <th colspan=\"3\" halign=\"left\">30194</th>\n",
       "      <th colspan=\"3\" halign=\"left\">30195</th>\n",
       "      <th colspan=\"3\" halign=\"left\">30212</th>\n",
       "      <th>30213</th>\n",
       "      <th>...</th>\n",
       "      <th>30491</th>\n",
       "      <th colspan=\"3\" halign=\"left\">30495</th>\n",
       "      <th colspan=\"3\" halign=\"left\">30496</th>\n",
       "      <th colspan=\"3\" halign=\"left\">30497</th>\n",
       "    </tr>\n",
       "    <tr>\n",
       "      <th></th>\n",
       "      <th>mean</th>\n",
       "      <th>p025</th>\n",
       "      <th>p975</th>\n",
       "      <th>mean</th>\n",
       "      <th>p025</th>\n",
       "      <th>p975</th>\n",
       "      <th>mean</th>\n",
       "      <th>p025</th>\n",
       "      <th>p975</th>\n",
       "      <th>mean</th>\n",
       "      <th>...</th>\n",
       "      <th>p975</th>\n",
       "      <th>mean</th>\n",
       "      <th>p025</th>\n",
       "      <th>p975</th>\n",
       "      <th>mean</th>\n",
       "      <th>p025</th>\n",
       "      <th>p975</th>\n",
       "      <th>mean</th>\n",
       "      <th>p025</th>\n",
       "      <th>p975</th>\n",
       "    </tr>\n",
       "  </thead>\n",
       "  <tbody>\n",
       "    <tr>\n",
       "      <th>Australia</th>\n",
       "      <td>2.761707e+06</td>\n",
       "      <td>2.748240e+06</td>\n",
       "      <td>2.775175e+06</td>\n",
       "      <td>0.0</td>\n",
       "      <td>0.0</td>\n",
       "      <td>0.0</td>\n",
       "      <td>0</td>\n",
       "      <td>0</td>\n",
       "      <td>0</td>\n",
       "      <td>0.000000</td>\n",
       "      <td>...</td>\n",
       "      <td>378.547472</td>\n",
       "      <td>5.052941e+04</td>\n",
       "      <td>5.028300e+04</td>\n",
       "      <td>5.077583e+04</td>\n",
       "      <td>0.000000e+00</td>\n",
       "      <td>0.000000e+00</td>\n",
       "      <td>0.000000e+00</td>\n",
       "      <td>0.0</td>\n",
       "      <td>0.0</td>\n",
       "      <td>0.0</td>\n",
       "    </tr>\n",
       "    <tr>\n",
       "      <th>Bangladesh</th>\n",
       "      <td>0.000000e+00</td>\n",
       "      <td>0.000000e+00</td>\n",
       "      <td>0.000000e+00</td>\n",
       "      <td>0.0</td>\n",
       "      <td>0.0</td>\n",
       "      <td>0.0</td>\n",
       "      <td>0</td>\n",
       "      <td>0</td>\n",
       "      <td>0</td>\n",
       "      <td>0.000000</td>\n",
       "      <td>...</td>\n",
       "      <td>0.000000</td>\n",
       "      <td>0.000000e+00</td>\n",
       "      <td>0.000000e+00</td>\n",
       "      <td>0.000000e+00</td>\n",
       "      <td>0.000000e+00</td>\n",
       "      <td>0.000000e+00</td>\n",
       "      <td>0.000000e+00</td>\n",
       "      <td>0.0</td>\n",
       "      <td>0.0</td>\n",
       "      <td>0.0</td>\n",
       "    </tr>\n",
       "    <tr>\n",
       "      <th>Brazil</th>\n",
       "      <td>0.000000e+00</td>\n",
       "      <td>0.000000e+00</td>\n",
       "      <td>0.000000e+00</td>\n",
       "      <td>0.0</td>\n",
       "      <td>0.0</td>\n",
       "      <td>0.0</td>\n",
       "      <td>0</td>\n",
       "      <td>0</td>\n",
       "      <td>0</td>\n",
       "      <td>0.000000</td>\n",
       "      <td>...</td>\n",
       "      <td>58.802292</td>\n",
       "      <td>0.000000e+00</td>\n",
       "      <td>0.000000e+00</td>\n",
       "      <td>0.000000e+00</td>\n",
       "      <td>0.000000e+00</td>\n",
       "      <td>0.000000e+00</td>\n",
       "      <td>0.000000e+00</td>\n",
       "      <td>0.0</td>\n",
       "      <td>0.0</td>\n",
       "      <td>0.0</td>\n",
       "    </tr>\n",
       "    <tr>\n",
       "      <th>Canada</th>\n",
       "      <td>3.618903e+05</td>\n",
       "      <td>3.601255e+05</td>\n",
       "      <td>3.636551e+05</td>\n",
       "      <td>0.0</td>\n",
       "      <td>0.0</td>\n",
       "      <td>0.0</td>\n",
       "      <td>0</td>\n",
       "      <td>0</td>\n",
       "      <td>0</td>\n",
       "      <td>708881.164973</td>\n",
       "      <td>...</td>\n",
       "      <td>0.000000</td>\n",
       "      <td>3.224007e+06</td>\n",
       "      <td>3.208164e+06</td>\n",
       "      <td>3.239855e+06</td>\n",
       "      <td>0.000000e+00</td>\n",
       "      <td>0.000000e+00</td>\n",
       "      <td>0.000000e+00</td>\n",
       "      <td>0.0</td>\n",
       "      <td>0.0</td>\n",
       "      <td>0.0</td>\n",
       "    </tr>\n",
       "    <tr>\n",
       "      <th>China</th>\n",
       "      <td>0.000000e+00</td>\n",
       "      <td>0.000000e+00</td>\n",
       "      <td>0.000000e+00</td>\n",
       "      <td>0.0</td>\n",
       "      <td>0.0</td>\n",
       "      <td>0.0</td>\n",
       "      <td>0</td>\n",
       "      <td>0</td>\n",
       "      <td>0</td>\n",
       "      <td>0.000000</td>\n",
       "      <td>...</td>\n",
       "      <td>441999.828722</td>\n",
       "      <td>1.611622e+08</td>\n",
       "      <td>1.603763e+08</td>\n",
       "      <td>1.619482e+08</td>\n",
       "      <td>1.731201e+06</td>\n",
       "      <td>1.722758e+06</td>\n",
       "      <td>1.739643e+06</td>\n",
       "      <td>0.0</td>\n",
       "      <td>0.0</td>\n",
       "      <td>0.0</td>\n",
       "    </tr>\n",
       "  </tbody>\n",
       "</table>\n",
       "<p>5 rows × 333 columns</p>\n",
       "</div>"
      ],
      "text/plain": [
       "                   30194                             30195           30212  \\\n",
       "                    mean          p025          p975  mean p025 p975  mean   \n",
       "Australia   2.761707e+06  2.748240e+06  2.775175e+06   0.0  0.0  0.0     0   \n",
       "Bangladesh  0.000000e+00  0.000000e+00  0.000000e+00   0.0  0.0  0.0     0   \n",
       "Brazil      0.000000e+00  0.000000e+00  0.000000e+00   0.0  0.0  0.0     0   \n",
       "Canada      3.618903e+05  3.601255e+05  3.636551e+05   0.0  0.0  0.0     0   \n",
       "China       0.000000e+00  0.000000e+00  0.000000e+00   0.0  0.0  0.0     0   \n",
       "\n",
       "                              30213  ...          30491         30495  \\\n",
       "           p025 p975           mean  ...           p975          mean   \n",
       "Australia     0    0       0.000000  ...     378.547472  5.052941e+04   \n",
       "Bangladesh    0    0       0.000000  ...       0.000000  0.000000e+00   \n",
       "Brazil        0    0       0.000000  ...      58.802292  0.000000e+00   \n",
       "Canada        0    0  708881.164973  ...       0.000000  3.224007e+06   \n",
       "China         0    0       0.000000  ...  441999.828722  1.611622e+08   \n",
       "\n",
       "                                               30496                \\\n",
       "                    p025          p975          mean          p025   \n",
       "Australia   5.028300e+04  5.077583e+04  0.000000e+00  0.000000e+00   \n",
       "Bangladesh  0.000000e+00  0.000000e+00  0.000000e+00  0.000000e+00   \n",
       "Brazil      0.000000e+00  0.000000e+00  0.000000e+00  0.000000e+00   \n",
       "Canada      3.208164e+06  3.239855e+06  0.000000e+00  0.000000e+00   \n",
       "China       1.603763e+08  1.619482e+08  1.731201e+06  1.722758e+06   \n",
       "\n",
       "                         30497            \n",
       "                    p975  mean p025 p975  \n",
       "Australia   0.000000e+00   0.0  0.0  0.0  \n",
       "Bangladesh  0.000000e+00   0.0  0.0  0.0  \n",
       "Brazil      0.000000e+00   0.0  0.0  0.0  \n",
       "Canada      0.000000e+00   0.0  0.0  0.0  \n",
       "China       1.739643e+06   0.0  0.0  0.0  \n",
       "\n",
       "[5 rows x 333 columns]"
      ]
     },
     "execution_count": 29,
     "metadata": {},
     "output_type": "execute_result"
    }
   ],
   "source": [
    "W_c_E_code_df = pd.read_excel('Export-Weight.xlsx',index_col=0,header=[0,1])\n",
    "W_c_E_code_df.head()"
   ]
  },
  {
   "cell_type": "code",
   "execution_count": 30,
   "metadata": {},
   "outputs": [
    {
     "data": {
      "application/vnd.microsoft.datawrangler.viewer.v0+json": {
       "columns": [
        {
         "name": "index",
         "rawType": "object",
         "type": "string"
        },
        {
         "name": "(30194, 'mean')",
         "rawType": "int64",
         "type": "integer"
        },
        {
         "name": "(30194, 'p025')",
         "rawType": "int64",
         "type": "integer"
        },
        {
         "name": "(30194, 'p975')",
         "rawType": "int64",
         "type": "integer"
        },
        {
         "name": "(30195, 'mean')",
         "rawType": "int64",
         "type": "integer"
        },
        {
         "name": "(30195, 'p025')",
         "rawType": "int64",
         "type": "integer"
        },
        {
         "name": "(30195, 'p975')",
         "rawType": "int64",
         "type": "integer"
        },
        {
         "name": "(30212, 'mean')",
         "rawType": "int64",
         "type": "integer"
        },
        {
         "name": "(30212, 'p025')",
         "rawType": "int64",
         "type": "integer"
        },
        {
         "name": "(30212, 'p975')",
         "rawType": "int64",
         "type": "integer"
        },
        {
         "name": "(30213, 'mean')",
         "rawType": "int64",
         "type": "integer"
        },
        {
         "name": "(30213, 'p025')",
         "rawType": "int64",
         "type": "integer"
        },
        {
         "name": "(30213, 'p975')",
         "rawType": "int64",
         "type": "integer"
        },
        {
         "name": "(30214, 'mean')",
         "rawType": "int64",
         "type": "integer"
        },
        {
         "name": "(30214, 'p025')",
         "rawType": "int64",
         "type": "integer"
        },
        {
         "name": "(30214, 'p975')",
         "rawType": "int64",
         "type": "integer"
        },
        {
         "name": "(30219, 'mean')",
         "rawType": "int64",
         "type": "integer"
        },
        {
         "name": "(30219, 'p025')",
         "rawType": "int64",
         "type": "integer"
        },
        {
         "name": "(30219, 'p975')",
         "rawType": "int64",
         "type": "integer"
        },
        {
         "name": "(30221, 'mean')",
         "rawType": "int64",
         "type": "integer"
        },
        {
         "name": "(30221, 'p025')",
         "rawType": "int64",
         "type": "integer"
        },
        {
         "name": "(30221, 'p975')",
         "rawType": "int64",
         "type": "integer"
        },
        {
         "name": "(30222, 'mean')",
         "rawType": "int64",
         "type": "integer"
        },
        {
         "name": "(30222, 'p025')",
         "rawType": "int64",
         "type": "integer"
        },
        {
         "name": "(30222, 'p975')",
         "rawType": "int64",
         "type": "integer"
        },
        {
         "name": "(30223, 'mean')",
         "rawType": "int64",
         "type": "integer"
        },
        {
         "name": "(30223, 'p025')",
         "rawType": "int64",
         "type": "integer"
        },
        {
         "name": "(30223, 'p975')",
         "rawType": "int64",
         "type": "integer"
        },
        {
         "name": "(30224, 'mean')",
         "rawType": "int64",
         "type": "integer"
        },
        {
         "name": "(30224, 'p025')",
         "rawType": "int64",
         "type": "integer"
        },
        {
         "name": "(30224, 'p975')",
         "rawType": "int64",
         "type": "integer"
        },
        {
         "name": "(30229, 'mean')",
         "rawType": "int64",
         "type": "integer"
        },
        {
         "name": "(30229, 'p025')",
         "rawType": "int64",
         "type": "integer"
        },
        {
         "name": "(30229, 'p975')",
         "rawType": "int64",
         "type": "integer"
        },
        {
         "name": "(30231, 'mean')",
         "rawType": "int64",
         "type": "integer"
        },
        {
         "name": "(30231, 'p025')",
         "rawType": "int64",
         "type": "integer"
        },
        {
         "name": "(30231, 'p975')",
         "rawType": "int64",
         "type": "integer"
        },
        {
         "name": "(30232, 'mean')",
         "rawType": "int64",
         "type": "integer"
        },
        {
         "name": "(30232, 'p025')",
         "rawType": "int64",
         "type": "integer"
        },
        {
         "name": "(30232, 'p975')",
         "rawType": "int64",
         "type": "integer"
        },
        {
         "name": "(30233, 'mean')",
         "rawType": "int64",
         "type": "integer"
        },
        {
         "name": "(30233, 'p025')",
         "rawType": "int64",
         "type": "integer"
        },
        {
         "name": "(30233, 'p975')",
         "rawType": "int64",
         "type": "integer"
        },
        {
         "name": "(30234, 'mean')",
         "rawType": "int64",
         "type": "integer"
        },
        {
         "name": "(30234, 'p025')",
         "rawType": "int64",
         "type": "integer"
        },
        {
         "name": "(30234, 'p975')",
         "rawType": "int64",
         "type": "integer"
        },
        {
         "name": "(30235, 'mean')",
         "rawType": "float64",
         "type": "float"
        },
        {
         "name": "(30235, 'p025')",
         "rawType": "float64",
         "type": "float"
        },
        {
         "name": "(30235, 'p975')",
         "rawType": "float64",
         "type": "float"
        },
        {
         "name": "(30236, 'mean')",
         "rawType": "int64",
         "type": "integer"
        },
        {
         "name": "(30236, 'p025')",
         "rawType": "int64",
         "type": "integer"
        },
        {
         "name": "(30236, 'p975')",
         "rawType": "int64",
         "type": "integer"
        },
        {
         "name": "(30239, 'mean')",
         "rawType": "float64",
         "type": "float"
        },
        {
         "name": "(30239, 'p025')",
         "rawType": "float64",
         "type": "float"
        },
        {
         "name": "(30239, 'p975')",
         "rawType": "float64",
         "type": "float"
        },
        {
         "name": "(30240, 'mean')",
         "rawType": "int64",
         "type": "integer"
        },
        {
         "name": "(30240, 'p025')",
         "rawType": "int64",
         "type": "integer"
        },
        {
         "name": "(30240, 'p975')",
         "rawType": "int64",
         "type": "integer"
        },
        {
         "name": "(30241, 'mean')",
         "rawType": "int64",
         "type": "integer"
        },
        {
         "name": "(30241, 'p025')",
         "rawType": "int64",
         "type": "integer"
        },
        {
         "name": "(30241, 'p975')",
         "rawType": "int64",
         "type": "integer"
        },
        {
         "name": "(30242, 'mean')",
         "rawType": "float64",
         "type": "float"
        },
        {
         "name": "(30242, 'p025')",
         "rawType": "float64",
         "type": "float"
        },
        {
         "name": "(30242, 'p975')",
         "rawType": "float64",
         "type": "float"
        },
        {
         "name": "(30243, 'mean')",
         "rawType": "float64",
         "type": "float"
        },
        {
         "name": "(30243, 'p025')",
         "rawType": "float64",
         "type": "float"
        },
        {
         "name": "(30243, 'p975')",
         "rawType": "float64",
         "type": "float"
        },
        {
         "name": "(30244, 'mean')",
         "rawType": "int64",
         "type": "integer"
        },
        {
         "name": "(30244, 'p025')",
         "rawType": "int64",
         "type": "integer"
        },
        {
         "name": "(30244, 'p975')",
         "rawType": "int64",
         "type": "integer"
        },
        {
         "name": "(30245, 'mean')",
         "rawType": "int64",
         "type": "integer"
        },
        {
         "name": "(30245, 'p025')",
         "rawType": "int64",
         "type": "integer"
        },
        {
         "name": "(30245, 'p975')",
         "rawType": "int64",
         "type": "integer"
        },
        {
         "name": "(30246, 'mean')",
         "rawType": "int64",
         "type": "integer"
        },
        {
         "name": "(30246, 'p025')",
         "rawType": "int64",
         "type": "integer"
        },
        {
         "name": "(30246, 'p975')",
         "rawType": "int64",
         "type": "integer"
        },
        {
         "name": "(30247, 'mean')",
         "rawType": "int64",
         "type": "integer"
        },
        {
         "name": "(30247, 'p025')",
         "rawType": "int64",
         "type": "integer"
        },
        {
         "name": "(30247, 'p975')",
         "rawType": "int64",
         "type": "integer"
        },
        {
         "name": "(30250, 'mean')",
         "rawType": "int64",
         "type": "integer"
        },
        {
         "name": "(30250, 'p025')",
         "rawType": "int64",
         "type": "integer"
        },
        {
         "name": "(30250, 'p975')",
         "rawType": "int64",
         "type": "integer"
        },
        {
         "name": "(30251, 'mean')",
         "rawType": "int64",
         "type": "integer"
        },
        {
         "name": "(30251, 'p025')",
         "rawType": "int64",
         "type": "integer"
        },
        {
         "name": "(30251, 'p975')",
         "rawType": "int64",
         "type": "integer"
        },
        {
         "name": "(30252, 'mean')",
         "rawType": "int64",
         "type": "integer"
        },
        {
         "name": "(30252, 'p025')",
         "rawType": "int64",
         "type": "integer"
        },
        {
         "name": "(30252, 'p975')",
         "rawType": "int64",
         "type": "integer"
        },
        {
         "name": "(30253, 'mean')",
         "rawType": "float64",
         "type": "float"
        },
        {
         "name": "(30253, 'p025')",
         "rawType": "float64",
         "type": "float"
        },
        {
         "name": "(30253, 'p975')",
         "rawType": "float64",
         "type": "float"
        },
        {
         "name": "(30254, 'mean')",
         "rawType": "int64",
         "type": "integer"
        },
        {
         "name": "(30254, 'p025')",
         "rawType": "int64",
         "type": "integer"
        },
        {
         "name": "(30254, 'p975')",
         "rawType": "int64",
         "type": "integer"
        },
        {
         "name": "(30256, 'mean')",
         "rawType": "int64",
         "type": "integer"
        },
        {
         "name": "(30256, 'p025')",
         "rawType": "int64",
         "type": "integer"
        },
        {
         "name": "(30256, 'p975')",
         "rawType": "int64",
         "type": "integer"
        },
        {
         "name": "(30261, 'mean')",
         "rawType": "int64",
         "type": "integer"
        },
        {
         "name": "(30261, 'p025')",
         "rawType": "int64",
         "type": "integer"
        },
        {
         "name": "(30261, 'p975')",
         "rawType": "int64",
         "type": "integer"
        },
        {
         "name": "(30263, 'mean')",
         "rawType": "int64",
         "type": "integer"
        },
        {
         "name": "(30263, 'p025')",
         "rawType": "int64",
         "type": "integer"
        },
        {
         "name": "(30263, 'p975')",
         "rawType": "int64",
         "type": "integer"
        },
        {
         "name": "(30264, 'mean')",
         "rawType": "int64",
         "type": "integer"
        },
        {
         "name": "(30264, 'p025')",
         "rawType": "int64",
         "type": "integer"
        },
        {
         "name": "(30264, 'p975')",
         "rawType": "int64",
         "type": "integer"
        },
        {
         "name": "(30265, 'mean')",
         "rawType": "int64",
         "type": "integer"
        },
        {
         "name": "(30265, 'p025')",
         "rawType": "int64",
         "type": "integer"
        },
        {
         "name": "(30265, 'p975')",
         "rawType": "int64",
         "type": "integer"
        },
        {
         "name": "(30267, 'mean')",
         "rawType": "int64",
         "type": "integer"
        },
        {
         "name": "(30267, 'p025')",
         "rawType": "int64",
         "type": "integer"
        },
        {
         "name": "(30267, 'p975')",
         "rawType": "int64",
         "type": "integer"
        },
        {
         "name": "(30281, 'mean')",
         "rawType": "int64",
         "type": "integer"
        },
        {
         "name": "(30281, 'p025')",
         "rawType": "int64",
         "type": "integer"
        },
        {
         "name": "(30281, 'p975')",
         "rawType": "int64",
         "type": "integer"
        },
        {
         "name": "(30282, 'mean')",
         "rawType": "int64",
         "type": "integer"
        },
        {
         "name": "(30282, 'p025')",
         "rawType": "int64",
         "type": "integer"
        },
        {
         "name": "(30282, 'p975')",
         "rawType": "int64",
         "type": "integer"
        },
        {
         "name": "(30284, 'mean')",
         "rawType": "int64",
         "type": "integer"
        },
        {
         "name": "(30284, 'p025')",
         "rawType": "int64",
         "type": "integer"
        },
        {
         "name": "(30284, 'p975')",
         "rawType": "int64",
         "type": "integer"
        },
        {
         "name": "(30285, 'mean')",
         "rawType": "int64",
         "type": "integer"
        },
        {
         "name": "(30285, 'p025')",
         "rawType": "int64",
         "type": "integer"
        },
        {
         "name": "(30285, 'p975')",
         "rawType": "int64",
         "type": "integer"
        },
        {
         "name": "(30310, 'mean')",
         "rawType": "int64",
         "type": "integer"
        },
        {
         "name": "(30310, 'p025')",
         "rawType": "int64",
         "type": "integer"
        },
        {
         "name": "(30310, 'p975')",
         "rawType": "int64",
         "type": "integer"
        },
        {
         "name": "(30311, 'mean')",
         "rawType": "float64",
         "type": "float"
        },
        {
         "name": "(30311, 'p025')",
         "rawType": "float64",
         "type": "float"
        },
        {
         "name": "(30311, 'p975')",
         "rawType": "float64",
         "type": "float"
        },
        {
         "name": "(30312, 'mean')",
         "rawType": "int64",
         "type": "integer"
        },
        {
         "name": "(30312, 'p025')",
         "rawType": "int64",
         "type": "integer"
        },
        {
         "name": "(30312, 'p975')",
         "rawType": "int64",
         "type": "integer"
        },
        {
         "name": "(30313, 'mean')",
         "rawType": "int64",
         "type": "integer"
        },
        {
         "name": "(30313, 'p025')",
         "rawType": "int64",
         "type": "integer"
        },
        {
         "name": "(30313, 'p975')",
         "rawType": "int64",
         "type": "integer"
        },
        {
         "name": "(30319, 'mean')",
         "rawType": "int64",
         "type": "integer"
        },
        {
         "name": "(30319, 'p025')",
         "rawType": "int64",
         "type": "integer"
        },
        {
         "name": "(30319, 'p975')",
         "rawType": "int64",
         "type": "integer"
        },
        {
         "name": "(30322, 'mean')",
         "rawType": "int64",
         "type": "integer"
        },
        {
         "name": "(30322, 'p025')",
         "rawType": "int64",
         "type": "integer"
        },
        {
         "name": "(30322, 'p975')",
         "rawType": "int64",
         "type": "integer"
        },
        {
         "name": "(30331, 'mean')",
         "rawType": "float64",
         "type": "float"
        },
        {
         "name": "(30331, 'p025')",
         "rawType": "float64",
         "type": "float"
        },
        {
         "name": "(30331, 'p975')",
         "rawType": "float64",
         "type": "float"
        },
        {
         "name": "(30332, 'mean')",
         "rawType": "int64",
         "type": "integer"
        },
        {
         "name": "(30332, 'p025')",
         "rawType": "int64",
         "type": "integer"
        },
        {
         "name": "(30332, 'p975')",
         "rawType": "int64",
         "type": "integer"
        },
        {
         "name": "(30333, 'mean')",
         "rawType": "int64",
         "type": "integer"
        },
        {
         "name": "(30333, 'p025')",
         "rawType": "int64",
         "type": "integer"
        },
        {
         "name": "(30333, 'p975')",
         "rawType": "int64",
         "type": "integer"
        },
        {
         "name": "(30334, 'mean')",
         "rawType": "int64",
         "type": "integer"
        },
        {
         "name": "(30334, 'p025')",
         "rawType": "int64",
         "type": "integer"
        },
        {
         "name": "(30334, 'p975')",
         "rawType": "int64",
         "type": "integer"
        },
        {
         "name": "(30339, 'mean')",
         "rawType": "float64",
         "type": "float"
        },
        {
         "name": "(30339, 'p025')",
         "rawType": "float64",
         "type": "float"
        },
        {
         "name": "(30339, 'p975')",
         "rawType": "float64",
         "type": "float"
        },
        {
         "name": "(30341, 'mean')",
         "rawType": "int64",
         "type": "integer"
        },
        {
         "name": "(30341, 'p025')",
         "rawType": "int64",
         "type": "integer"
        },
        {
         "name": "(30341, 'p975')",
         "rawType": "int64",
         "type": "integer"
        },
        {
         "name": "(30342, 'mean')",
         "rawType": "int64",
         "type": "integer"
        },
        {
         "name": "(30342, 'p025')",
         "rawType": "int64",
         "type": "integer"
        },
        {
         "name": "(30342, 'p975')",
         "rawType": "int64",
         "type": "integer"
        },
        {
         "name": "(30343, 'mean')",
         "rawType": "int64",
         "type": "integer"
        },
        {
         "name": "(30343, 'p025')",
         "rawType": "int64",
         "type": "integer"
        },
        {
         "name": "(30343, 'p975')",
         "rawType": "int64",
         "type": "integer"
        },
        {
         "name": "(30344, 'mean')",
         "rawType": "int64",
         "type": "integer"
        },
        {
         "name": "(30344, 'p025')",
         "rawType": "int64",
         "type": "integer"
        },
        {
         "name": "(30344, 'p975')",
         "rawType": "int64",
         "type": "integer"
        },
        {
         "name": "(30345, 'mean')",
         "rawType": "float64",
         "type": "float"
        },
        {
         "name": "(30345, 'p025')",
         "rawType": "float64",
         "type": "float"
        },
        {
         "name": "(30345, 'p975')",
         "rawType": "float64",
         "type": "float"
        },
        {
         "name": "(30346, 'mean')",
         "rawType": "int64",
         "type": "integer"
        },
        {
         "name": "(30346, 'p025')",
         "rawType": "int64",
         "type": "integer"
        },
        {
         "name": "(30346, 'p975')",
         "rawType": "int64",
         "type": "integer"
        },
        {
         "name": "(30349, 'mean')",
         "rawType": "float64",
         "type": "float"
        },
        {
         "name": "(30349, 'p025')",
         "rawType": "float64",
         "type": "float"
        },
        {
         "name": "(30349, 'p975')",
         "rawType": "float64",
         "type": "float"
        },
        {
         "name": "(30350, 'mean')",
         "rawType": "int64",
         "type": "integer"
        },
        {
         "name": "(30350, 'p025')",
         "rawType": "int64",
         "type": "integer"
        },
        {
         "name": "(30350, 'p975')",
         "rawType": "int64",
         "type": "integer"
        },
        {
         "name": "(30351, 'mean')",
         "rawType": "float64",
         "type": "float"
        },
        {
         "name": "(30351, 'p025')",
         "rawType": "float64",
         "type": "float"
        },
        {
         "name": "(30351, 'p975')",
         "rawType": "float64",
         "type": "float"
        },
        {
         "name": "(30352, 'mean')",
         "rawType": "int64",
         "type": "integer"
        },
        {
         "name": "(30352, 'p025')",
         "rawType": "int64",
         "type": "integer"
        },
        {
         "name": "(30352, 'p975')",
         "rawType": "int64",
         "type": "integer"
        },
        {
         "name": "(30353, 'mean')",
         "rawType": "float64",
         "type": "float"
        },
        {
         "name": "(30353, 'p025')",
         "rawType": "float64",
         "type": "float"
        },
        {
         "name": "(30353, 'p975')",
         "rawType": "float64",
         "type": "float"
        },
        {
         "name": "(30354, 'mean')",
         "rawType": "float64",
         "type": "float"
        },
        {
         "name": "(30354, 'p025')",
         "rawType": "float64",
         "type": "float"
        },
        {
         "name": "(30354, 'p975')",
         "rawType": "float64",
         "type": "float"
        },
        {
         "name": "(30355, 'mean')",
         "rawType": "int64",
         "type": "integer"
        },
        {
         "name": "(30355, 'p025')",
         "rawType": "int64",
         "type": "integer"
        },
        {
         "name": "(30355, 'p975')",
         "rawType": "int64",
         "type": "integer"
        },
        {
         "name": "(30356, 'mean')",
         "rawType": "int64",
         "type": "integer"
        },
        {
         "name": "(30356, 'p025')",
         "rawType": "int64",
         "type": "integer"
        },
        {
         "name": "(30356, 'p975')",
         "rawType": "int64",
         "type": "integer"
        },
        {
         "name": "(30357, 'mean')",
         "rawType": "int64",
         "type": "integer"
        },
        {
         "name": "(30357, 'p025')",
         "rawType": "int64",
         "type": "integer"
        },
        {
         "name": "(30357, 'p975')",
         "rawType": "int64",
         "type": "integer"
        },
        {
         "name": "(30360, 'mean')",
         "rawType": "int64",
         "type": "integer"
        },
        {
         "name": "(30360, 'p025')",
         "rawType": "int64",
         "type": "integer"
        },
        {
         "name": "(30360, 'p975')",
         "rawType": "int64",
         "type": "integer"
        },
        {
         "name": "(30361, 'mean')",
         "rawType": "int64",
         "type": "integer"
        },
        {
         "name": "(30361, 'p025')",
         "rawType": "int64",
         "type": "integer"
        },
        {
         "name": "(30361, 'p975')",
         "rawType": "int64",
         "type": "integer"
        },
        {
         "name": "(30363, 'mean')",
         "rawType": "float64",
         "type": "float"
        },
        {
         "name": "(30363, 'p025')",
         "rawType": "float64",
         "type": "float"
        },
        {
         "name": "(30363, 'p975')",
         "rawType": "float64",
         "type": "float"
        },
        {
         "name": "(30365, 'mean')",
         "rawType": "int64",
         "type": "integer"
        },
        {
         "name": "(30365, 'p025')",
         "rawType": "int64",
         "type": "integer"
        },
        {
         "name": "(30365, 'p975')",
         "rawType": "int64",
         "type": "integer"
        },
        {
         "name": "(30366, 'mean')",
         "rawType": "int64",
         "type": "integer"
        },
        {
         "name": "(30366, 'p025')",
         "rawType": "int64",
         "type": "integer"
        },
        {
         "name": "(30366, 'p975')",
         "rawType": "int64",
         "type": "integer"
        },
        {
         "name": "(30368, 'mean')",
         "rawType": "int64",
         "type": "integer"
        },
        {
         "name": "(30368, 'p025')",
         "rawType": "int64",
         "type": "integer"
        },
        {
         "name": "(30368, 'p975')",
         "rawType": "int64",
         "type": "integer"
        },
        {
         "name": "(30369, 'mean')",
         "rawType": "float64",
         "type": "float"
        },
        {
         "name": "(30369, 'p025')",
         "rawType": "float64",
         "type": "float"
        },
        {
         "name": "(30369, 'p975')",
         "rawType": "float64",
         "type": "float"
        },
        {
         "name": "(30371, 'mean')",
         "rawType": "int64",
         "type": "integer"
        },
        {
         "name": "(30371, 'p025')",
         "rawType": "int64",
         "type": "integer"
        },
        {
         "name": "(30371, 'p975')",
         "rawType": "int64",
         "type": "integer"
        },
        {
         "name": "(30373, 'mean')",
         "rawType": "int64",
         "type": "integer"
        },
        {
         "name": "(30373, 'p025')",
         "rawType": "int64",
         "type": "integer"
        },
        {
         "name": "(30373, 'p975')",
         "rawType": "int64",
         "type": "integer"
        },
        {
         "name": "(30374, 'mean')",
         "rawType": "int64",
         "type": "integer"
        },
        {
         "name": "(30374, 'p025')",
         "rawType": "int64",
         "type": "integer"
        },
        {
         "name": "(30374, 'p975')",
         "rawType": "int64",
         "type": "integer"
        },
        {
         "name": "(30375, 'mean')",
         "rawType": "int64",
         "type": "integer"
        },
        {
         "name": "(30375, 'p025')",
         "rawType": "int64",
         "type": "integer"
        },
        {
         "name": "(30375, 'p975')",
         "rawType": "int64",
         "type": "integer"
        },
        {
         "name": "(30377, 'mean')",
         "rawType": "int64",
         "type": "integer"
        },
        {
         "name": "(30377, 'p025')",
         "rawType": "int64",
         "type": "integer"
        },
        {
         "name": "(30377, 'p975')",
         "rawType": "int64",
         "type": "integer"
        },
        {
         "name": "(30378, 'mean')",
         "rawType": "int64",
         "type": "integer"
        },
        {
         "name": "(30378, 'p025')",
         "rawType": "int64",
         "type": "integer"
        },
        {
         "name": "(30378, 'p975')",
         "rawType": "int64",
         "type": "integer"
        },
        {
         "name": "(30381, 'mean')",
         "rawType": "float64",
         "type": "float"
        },
        {
         "name": "(30381, 'p025')",
         "rawType": "float64",
         "type": "float"
        },
        {
         "name": "(30381, 'p975')",
         "rawType": "float64",
         "type": "float"
        },
        {
         "name": "(30382, 'mean')",
         "rawType": "int64",
         "type": "integer"
        },
        {
         "name": "(30382, 'p025')",
         "rawType": "int64",
         "type": "integer"
        },
        {
         "name": "(30382, 'p975')",
         "rawType": "int64",
         "type": "integer"
        },
        {
         "name": "(30384, 'mean')",
         "rawType": "int64",
         "type": "integer"
        },
        {
         "name": "(30384, 'p025')",
         "rawType": "int64",
         "type": "integer"
        },
        {
         "name": "(30384, 'p975')",
         "rawType": "int64",
         "type": "integer"
        },
        {
         "name": "(30410, 'mean')",
         "rawType": "int64",
         "type": "integer"
        },
        {
         "name": "(30410, 'p025')",
         "rawType": "int64",
         "type": "integer"
        },
        {
         "name": "(30410, 'p975')",
         "rawType": "int64",
         "type": "integer"
        },
        {
         "name": "(30421, 'mean')",
         "rawType": "int64",
         "type": "integer"
        },
        {
         "name": "(30421, 'p025')",
         "rawType": "int64",
         "type": "integer"
        },
        {
         "name": "(30421, 'p975')",
         "rawType": "int64",
         "type": "integer"
        },
        {
         "name": "(30441, 'mean')",
         "rawType": "int64",
         "type": "integer"
        },
        {
         "name": "(30441, 'p025')",
         "rawType": "int64",
         "type": "integer"
        },
        {
         "name": "(30441, 'p975')",
         "rawType": "int64",
         "type": "integer"
        },
        {
         "name": "(30443, 'mean')",
         "rawType": "int64",
         "type": "integer"
        },
        {
         "name": "(30443, 'p025')",
         "rawType": "int64",
         "type": "integer"
        },
        {
         "name": "(30443, 'p975')",
         "rawType": "int64",
         "type": "integer"
        },
        {
         "name": "(30444, 'mean')",
         "rawType": "float64",
         "type": "float"
        },
        {
         "name": "(30444, 'p025')",
         "rawType": "float64",
         "type": "float"
        },
        {
         "name": "(30444, 'p975')",
         "rawType": "float64",
         "type": "float"
        },
        {
         "name": "(30445, 'mean')",
         "rawType": "int64",
         "type": "integer"
        },
        {
         "name": "(30445, 'p025')",
         "rawType": "int64",
         "type": "integer"
        },
        {
         "name": "(30445, 'p975')",
         "rawType": "int64",
         "type": "integer"
        },
        {
         "name": "(30447, 'mean')",
         "rawType": "int64",
         "type": "integer"
        },
        {
         "name": "(30447, 'p025')",
         "rawType": "int64",
         "type": "integer"
        },
        {
         "name": "(30447, 'p975')",
         "rawType": "int64",
         "type": "integer"
        },
        {
         "name": "(30448, 'mean')",
         "rawType": "int64",
         "type": "integer"
        },
        {
         "name": "(30448, 'p025')",
         "rawType": "int64",
         "type": "integer"
        },
        {
         "name": "(30448, 'p975')",
         "rawType": "int64",
         "type": "integer"
        },
        {
         "name": "(30452, 'mean')",
         "rawType": "int64",
         "type": "integer"
        },
        {
         "name": "(30452, 'p025')",
         "rawType": "int64",
         "type": "integer"
        },
        {
         "name": "(30452, 'p975')",
         "rawType": "int64",
         "type": "integer"
        },
        {
         "name": "(30453, 'mean')",
         "rawType": "int64",
         "type": "integer"
        },
        {
         "name": "(30453, 'p025')",
         "rawType": "int64",
         "type": "integer"
        },
        {
         "name": "(30453, 'p975')",
         "rawType": "int64",
         "type": "integer"
        },
        {
         "name": "(30454, 'mean')",
         "rawType": "int64",
         "type": "integer"
        },
        {
         "name": "(30454, 'p025')",
         "rawType": "int64",
         "type": "integer"
        },
        {
         "name": "(30454, 'p975')",
         "rawType": "int64",
         "type": "integer"
        },
        {
         "name": "(30456, 'mean')",
         "rawType": "int64",
         "type": "integer"
        },
        {
         "name": "(30456, 'p025')",
         "rawType": "int64",
         "type": "integer"
        },
        {
         "name": "(30456, 'p975')",
         "rawType": "int64",
         "type": "integer"
        },
        {
         "name": "(30457, 'mean')",
         "rawType": "float64",
         "type": "float"
        },
        {
         "name": "(30457, 'p025')",
         "rawType": "float64",
         "type": "float"
        },
        {
         "name": "(30457, 'p975')",
         "rawType": "float64",
         "type": "float"
        },
        {
         "name": "(30471, 'mean')",
         "rawType": "float64",
         "type": "float"
        },
        {
         "name": "(30471, 'p025')",
         "rawType": "float64",
         "type": "float"
        },
        {
         "name": "(30471, 'p975')",
         "rawType": "float64",
         "type": "float"
        },
        {
         "name": "(30472, 'mean')",
         "rawType": "int64",
         "type": "integer"
        },
        {
         "name": "(30472, 'p025')",
         "rawType": "int64",
         "type": "integer"
        },
        {
         "name": "(30472, 'p975')",
         "rawType": "int64",
         "type": "integer"
        },
        {
         "name": "(30473, 'mean')",
         "rawType": "int64",
         "type": "integer"
        },
        {
         "name": "(30473, 'p025')",
         "rawType": "int64",
         "type": "integer"
        },
        {
         "name": "(30473, 'p975')",
         "rawType": "int64",
         "type": "integer"
        },
        {
         "name": "(30474, 'mean')",
         "rawType": "float64",
         "type": "float"
        },
        {
         "name": "(30474, 'p025')",
         "rawType": "float64",
         "type": "float"
        },
        {
         "name": "(30474, 'p975')",
         "rawType": "float64",
         "type": "float"
        },
        {
         "name": "(30479, 'mean')",
         "rawType": "float64",
         "type": "float"
        },
        {
         "name": "(30479, 'p025')",
         "rawType": "float64",
         "type": "float"
        },
        {
         "name": "(30479, 'p975')",
         "rawType": "float64",
         "type": "float"
        },
        {
         "name": "(30481, 'mean')",
         "rawType": "float64",
         "type": "float"
        },
        {
         "name": "(30481, 'p025')",
         "rawType": "float64",
         "type": "float"
        },
        {
         "name": "(30481, 'p975')",
         "rawType": "float64",
         "type": "float"
        },
        {
         "name": "(30483, 'mean')",
         "rawType": "float64",
         "type": "float"
        },
        {
         "name": "(30483, 'p025')",
         "rawType": "float64",
         "type": "float"
        },
        {
         "name": "(30483, 'p975')",
         "rawType": "float64",
         "type": "float"
        },
        {
         "name": "(30484, 'mean')",
         "rawType": "float64",
         "type": "float"
        },
        {
         "name": "(30484, 'p025')",
         "rawType": "float64",
         "type": "float"
        },
        {
         "name": "(30484, 'p975')",
         "rawType": "float64",
         "type": "float"
        },
        {
         "name": "(30486, 'mean')",
         "rawType": "float64",
         "type": "float"
        },
        {
         "name": "(30486, 'p025')",
         "rawType": "float64",
         "type": "float"
        },
        {
         "name": "(30486, 'p975')",
         "rawType": "float64",
         "type": "float"
        },
        {
         "name": "(30487, 'mean')",
         "rawType": "float64",
         "type": "float"
        },
        {
         "name": "(30487, 'p025')",
         "rawType": "float64",
         "type": "float"
        },
        {
         "name": "(30487, 'p975')",
         "rawType": "float64",
         "type": "float"
        },
        {
         "name": "(30488, 'mean')",
         "rawType": "int64",
         "type": "integer"
        },
        {
         "name": "(30488, 'p025')",
         "rawType": "int64",
         "type": "integer"
        },
        {
         "name": "(30488, 'p975')",
         "rawType": "int64",
         "type": "integer"
        },
        {
         "name": "(30491, 'mean')",
         "rawType": "float64",
         "type": "float"
        },
        {
         "name": "(30491, 'p025')",
         "rawType": "float64",
         "type": "float"
        },
        {
         "name": "(30491, 'p975')",
         "rawType": "float64",
         "type": "float"
        },
        {
         "name": "(30495, 'mean')",
         "rawType": "float64",
         "type": "float"
        },
        {
         "name": "(30495, 'p025')",
         "rawType": "float64",
         "type": "float"
        },
        {
         "name": "(30495, 'p975')",
         "rawType": "float64",
         "type": "float"
        },
        {
         "name": "(30496, 'mean')",
         "rawType": "float64",
         "type": "float"
        },
        {
         "name": "(30496, 'p025')",
         "rawType": "float64",
         "type": "float"
        },
        {
         "name": "(30496, 'p975')",
         "rawType": "float64",
         "type": "float"
        },
        {
         "name": "(30497, 'mean')",
         "rawType": "int64",
         "type": "integer"
        },
        {
         "name": "(30497, 'p025')",
         "rawType": "int64",
         "type": "integer"
        },
        {
         "name": "(30497, 'p975')",
         "rawType": "int64",
         "type": "integer"
        }
       ],
       "ref": "a890a728-5ce7-4afe-a815-ef9022ecf9b8",
       "rows": [
        [
         "Bangladesh",
         "0",
         "0",
         "0",
         "0",
         "0",
         "0",
         "0",
         "0",
         "0",
         "0",
         "0",
         "0",
         "0",
         "0",
         "0",
         "0",
         "0",
         "0",
         "0",
         "0",
         "0",
         "0",
         "0",
         "0",
         "0",
         "0",
         "0",
         "0",
         "0",
         "0",
         "0",
         "0",
         "0",
         "0",
         "0",
         "0",
         "0",
         "0",
         "0",
         "0",
         "0",
         "0",
         "0",
         "0",
         "0",
         "0.0",
         "0.0",
         "0.0",
         "0",
         "0",
         "0",
         "0.0",
         "0.0",
         "0.0",
         "0",
         "0",
         "0",
         "0",
         "0",
         "0",
         "0.0",
         "0.0",
         "0.0",
         "0.0",
         "0.0",
         "0.0",
         "0",
         "0",
         "0",
         "0",
         "0",
         "0",
         "0",
         "0",
         "0",
         "0",
         "0",
         "0",
         "0",
         "0",
         "0",
         "0",
         "0",
         "0",
         "0",
         "0",
         "0",
         "0.0",
         "0.0",
         "0.0",
         "0",
         "0",
         "0",
         "0",
         "0",
         "0",
         "0",
         "0",
         "0",
         "0",
         "0",
         "0",
         "0",
         "0",
         "0",
         "0",
         "0",
         "0",
         "0",
         "0",
         "0",
         "0",
         "0",
         "0",
         "0",
         "0",
         "0",
         "0",
         "0",
         "0",
         "0",
         "0",
         "0",
         "0",
         "0",
         "0",
         "0.0",
         "0.0",
         "0.0",
         "0",
         "0",
         "0",
         "0",
         "0",
         "0",
         "0",
         "0",
         "0",
         "0",
         "0",
         "0",
         "0.0",
         "0.0",
         "0.0",
         "0",
         "0",
         "0",
         "0",
         "0",
         "0",
         "0",
         "0",
         "0",
         "0.0",
         "0.0",
         "0.0",
         "0",
         "0",
         "0",
         "0",
         "0",
         "0",
         "0",
         "0",
         "0",
         "0",
         "0",
         "0",
         "0.0",
         "0.0",
         "0.0",
         "0",
         "0",
         "0",
         "0.0",
         "0.0",
         "0.0",
         "0",
         "0",
         "0",
         "0.0",
         "0.0",
         "0.0",
         "0",
         "0",
         "0",
         "0.0",
         "0.0",
         "0.0",
         "0.0",
         "0.0",
         "0.0",
         "0",
         "0",
         "0",
         "0",
         "0",
         "0",
         "0",
         "0",
         "0",
         "0",
         "0",
         "0",
         "0",
         "0",
         "0",
         "0.0",
         "0.0",
         "0.0",
         "0",
         "0",
         "0",
         "0",
         "0",
         "0",
         "0",
         "0",
         "0",
         "0.0",
         "0.0",
         "0.0",
         "0",
         "0",
         "0",
         "0",
         "0",
         "0",
         "0",
         "0",
         "0",
         "0",
         "0",
         "0",
         "0",
         "0",
         "0",
         "0",
         "0",
         "0",
         "0.0",
         "0.0",
         "0.0",
         "0",
         "0",
         "0",
         "0",
         "0",
         "0",
         "0",
         "0",
         "0",
         "0",
         "0",
         "0",
         "0",
         "0",
         "0",
         "0",
         "0",
         "0",
         "0.0",
         "0.0",
         "0.0",
         "0",
         "0",
         "0",
         "0",
         "0",
         "0",
         "0",
         "0",
         "0",
         "0",
         "0",
         "0",
         "0",
         "0",
         "0",
         "0",
         "0",
         "0",
         "0",
         "0",
         "0",
         "0.0",
         "0.0",
         "0.0",
         "0.0",
         "0.0",
         "0.0",
         "0",
         "0",
         "0",
         "0",
         "0",
         "0",
         "0.0",
         "0.0",
         "0.0",
         "0.0",
         "0.0",
         "0.0",
         "0.0",
         "0.0",
         "0.0",
         "0.0",
         "0.0",
         "0.0",
         "0.0",
         "0.0",
         "0.0",
         "0.0",
         "0.0",
         "0.0",
         "0.0",
         "0.0",
         "0.0",
         "0",
         "0",
         "0",
         "0.0",
         "0.0",
         "0.0",
         "0.0",
         "0.0",
         "0.0",
         "0.0",
         "0.0",
         "0.0",
         "0",
         "0",
         "0"
        ],
        [
         "Brazil",
         "0",
         "0",
         "0",
         "0",
         "0",
         "0",
         "0",
         "0",
         "0",
         "0",
         "0",
         "0",
         "0",
         "0",
         "0",
         "0",
         "0",
         "0",
         "0",
         "0",
         "0",
         "0",
         "0",
         "0",
         "0",
         "0",
         "0",
         "0",
         "0",
         "0",
         "0",
         "0",
         "0",
         "0",
         "0",
         "0",
         "0",
         "0",
         "0",
         "0",
         "0",
         "0",
         "0",
         "0",
         "0",
         "0.0",
         "0.0",
         "0.0",
         "0",
         "0",
         "0",
         "0.0",
         "0.0",
         "0.0",
         "0",
         "0",
         "0",
         "0",
         "0",
         "0",
         "0.0",
         "0.0",
         "0.0",
         "0.0",
         "0.0",
         "0.0",
         "0",
         "0",
         "0",
         "0",
         "0",
         "0",
         "0",
         "0",
         "0",
         "0",
         "0",
         "0",
         "0",
         "0",
         "0",
         "0",
         "0",
         "0",
         "0",
         "0",
         "0",
         "0.0",
         "0.0",
         "0.0",
         "0",
         "0",
         "0",
         "0",
         "0",
         "0",
         "0",
         "0",
         "0",
         "0",
         "0",
         "0",
         "0",
         "0",
         "0",
         "0",
         "0",
         "0",
         "0",
         "0",
         "0",
         "0",
         "0",
         "0",
         "0",
         "0",
         "0",
         "0",
         "0",
         "0",
         "0",
         "0",
         "0",
         "0",
         "0",
         "0",
         "0.0",
         "0.0",
         "0.0",
         "0",
         "0",
         "0",
         "0",
         "0",
         "0",
         "0",
         "0",
         "0",
         "0",
         "0",
         "0",
         "0.0",
         "0.0",
         "0.0",
         "0",
         "0",
         "0",
         "0",
         "0",
         "0",
         "0",
         "0",
         "0",
         "0.0",
         "0.0",
         "0.0",
         "0",
         "0",
         "0",
         "0",
         "0",
         "0",
         "0",
         "0",
         "0",
         "0",
         "0",
         "0",
         "0.0",
         "0.0",
         "0.0",
         "0",
         "0",
         "0",
         "0.0",
         "0.0",
         "0.0",
         "0",
         "0",
         "0",
         "0.0",
         "0.0",
         "0.0",
         "0",
         "0",
         "0",
         "0.0",
         "0.0",
         "0.0",
         "0.0",
         "0.0",
         "0.0",
         "0",
         "0",
         "0",
         "0",
         "0",
         "0",
         "0",
         "0",
         "0",
         "0",
         "0",
         "0",
         "0",
         "0",
         "0",
         "0.0",
         "0.0",
         "0.0",
         "0",
         "0",
         "0",
         "0",
         "0",
         "0",
         "0",
         "0",
         "0",
         "0.0",
         "0.0",
         "0.0",
         "0",
         "0",
         "0",
         "0",
         "0",
         "0",
         "0",
         "0",
         "0",
         "0",
         "0",
         "0",
         "0",
         "0",
         "0",
         "0",
         "0",
         "0",
         "0.0",
         "0.0",
         "0.0",
         "0",
         "0",
         "0",
         "0",
         "0",
         "0",
         "0",
         "0",
         "0",
         "0",
         "0",
         "0",
         "0",
         "0",
         "0",
         "0",
         "0",
         "0",
         "0.0",
         "0.0",
         "0.0",
         "0",
         "0",
         "0",
         "0",
         "0",
         "0",
         "0",
         "0",
         "0",
         "0",
         "0",
         "0",
         "0",
         "0",
         "0",
         "0",
         "0",
         "0",
         "0",
         "0",
         "0",
         "0.0",
         "0.0",
         "0.0",
         "0.0",
         "0.0",
         "0.0",
         "0",
         "0",
         "0",
         "0",
         "0",
         "0",
         "0.0",
         "0.0",
         "0.0",
         "0.0",
         "0.0",
         "0.0",
         "0.0",
         "0.0",
         "0.0",
         "0.0",
         "0.0",
         "0.0",
         "0.0",
         "0.0",
         "0.0",
         "0.0",
         "0.0",
         "0.0",
         "0.0",
         "0.0",
         "0.0",
         "0",
         "0",
         "0",
         "0.0",
         "0.0",
         "0.0",
         "0.0",
         "0.0",
         "0.0",
         "0.0",
         "0.0",
         "0.0",
         "0",
         "0",
         "0"
        ],
        [
         "Canada",
         "0",
         "0",
         "0",
         "0",
         "0",
         "0",
         "0",
         "0",
         "0",
         "0",
         "0",
         "0",
         "0",
         "0",
         "0",
         "0",
         "0",
         "0",
         "0",
         "0",
         "0",
         "0",
         "0",
         "0",
         "0",
         "0",
         "0",
         "0",
         "0",
         "0",
         "0",
         "0",
         "0",
         "0",
         "0",
         "0",
         "0",
         "0",
         "0",
         "0",
         "0",
         "0",
         "0",
         "0",
         "0",
         "0.0",
         "0.0",
         "0.0",
         "0",
         "0",
         "0",
         "0.0",
         "0.0",
         "0.0",
         "0",
         "0",
         "0",
         "0",
         "0",
         "0",
         "0.0",
         "0.0",
         "0.0",
         "0.0",
         "0.0",
         "0.0",
         "0",
         "0",
         "0",
         "0",
         "0",
         "0",
         "0",
         "0",
         "0",
         "0",
         "0",
         "0",
         "0",
         "0",
         "0",
         "0",
         "0",
         "0",
         "0",
         "0",
         "0",
         "0.0",
         "0.0",
         "0.0",
         "0",
         "0",
         "0",
         "0",
         "0",
         "0",
         "0",
         "0",
         "0",
         "0",
         "0",
         "0",
         "0",
         "0",
         "0",
         "0",
         "0",
         "0",
         "0",
         "0",
         "0",
         "0",
         "0",
         "0",
         "0",
         "0",
         "0",
         "0",
         "0",
         "0",
         "0",
         "0",
         "0",
         "0",
         "0",
         "0",
         "2804190.874931581",
         "2669890.169885897",
         "2935977.872797436",
         "0",
         "0",
         "0",
         "0",
         "0",
         "0",
         "0",
         "0",
         "0",
         "0",
         "0",
         "0",
         "0.0",
         "0.0",
         "0.0",
         "0",
         "0",
         "0",
         "0",
         "0",
         "0",
         "0",
         "0",
         "0",
         "0.0",
         "0.0",
         "0.0",
         "0",
         "0",
         "0",
         "0",
         "0",
         "0",
         "0",
         "0",
         "0",
         "0",
         "0",
         "0",
         "0.0",
         "0.0",
         "0.0",
         "0",
         "0",
         "0",
         "0.0",
         "0.0",
         "0.0",
         "0",
         "0",
         "0",
         "0.0",
         "0.0",
         "0.0",
         "0",
         "0",
         "0",
         "0.0",
         "0.0",
         "0.0",
         "0.0",
         "0.0",
         "0.0",
         "0",
         "0",
         "0",
         "0",
         "0",
         "0",
         "0",
         "0",
         "0",
         "0",
         "0",
         "0",
         "0",
         "0",
         "0",
         "0.0",
         "0.0",
         "0.0",
         "0",
         "0",
         "0",
         "0",
         "0",
         "0",
         "0",
         "0",
         "0",
         "0.0",
         "0.0",
         "0.0",
         "0",
         "0",
         "0",
         "0",
         "0",
         "0",
         "0",
         "0",
         "0",
         "0",
         "0",
         "0",
         "0",
         "0",
         "0",
         "0",
         "0",
         "0",
         "0.0",
         "0.0",
         "0.0",
         "0",
         "0",
         "0",
         "0",
         "0",
         "0",
         "0",
         "0",
         "0",
         "0",
         "0",
         "0",
         "0",
         "0",
         "0",
         "0",
         "0",
         "0",
         "0.0",
         "0.0",
         "0.0",
         "0",
         "0",
         "0",
         "0",
         "0",
         "0",
         "0",
         "0",
         "0",
         "0",
         "0",
         "0",
         "0",
         "0",
         "0",
         "0",
         "0",
         "0",
         "0",
         "0",
         "0",
         "0.0",
         "0.0",
         "0.0",
         "0.0",
         "0.0",
         "0.0",
         "0",
         "0",
         "0",
         "0",
         "0",
         "0",
         "0.0",
         "0.0",
         "0.0",
         "0.0",
         "0.0",
         "0.0",
         "692833.8566553531",
         "672182.2855937448",
         "713130.5254033328",
         "0.0",
         "0.0",
         "0.0",
         "0.0",
         "0.0",
         "0.0",
         "0.0",
         "0.0",
         "0.0",
         "0.0",
         "0.0",
         "0.0",
         "0",
         "0",
         "0",
         "0.0",
         "0.0",
         "0.0",
         "0.0",
         "0.0",
         "0.0",
         "0.0",
         "0.0",
         "0.0",
         "0",
         "0",
         "0"
        ],
        [
         "China",
         "0",
         "0",
         "0",
         "0",
         "0",
         "0",
         "0",
         "0",
         "0",
         "0",
         "0",
         "0",
         "0",
         "0",
         "0",
         "0",
         "0",
         "0",
         "0",
         "0",
         "0",
         "0",
         "0",
         "0",
         "0",
         "0",
         "0",
         "0",
         "0",
         "0",
         "0",
         "0",
         "0",
         "0",
         "0",
         "0",
         "0",
         "0",
         "0",
         "0",
         "0",
         "0",
         "0",
         "0",
         "0",
         "0.0",
         "0.0",
         "0.0",
         "0",
         "0",
         "0",
         "0.0",
         "0.0",
         "0.0",
         "0",
         "0",
         "0",
         "0",
         "0",
         "0",
         "0.0",
         "0.0",
         "0.0",
         "4110975.057057782",
         "3806071.98651742",
         "4421488.93541684",
         "0",
         "0",
         "0",
         "0",
         "0",
         "0",
         "0",
         "0",
         "0",
         "0",
         "0",
         "0",
         "0",
         "0",
         "0",
         "0",
         "0",
         "0",
         "0",
         "0",
         "0",
         "0.0",
         "0.0",
         "0.0",
         "0",
         "0",
         "0",
         "0",
         "0",
         "0",
         "0",
         "0",
         "0",
         "0",
         "0",
         "0",
         "0",
         "0",
         "0",
         "0",
         "0",
         "0",
         "0",
         "0",
         "0",
         "0",
         "0",
         "0",
         "0",
         "0",
         "0",
         "0",
         "0",
         "0",
         "0",
         "0",
         "0",
         "0",
         "0",
         "0",
         "0.0",
         "0.0",
         "0.0",
         "0",
         "0",
         "0",
         "0",
         "0",
         "0",
         "0",
         "0",
         "0",
         "0",
         "0",
         "0",
         "0.0",
         "0.0",
         "0.0",
         "0",
         "0",
         "0",
         "0",
         "0",
         "0",
         "0",
         "0",
         "0",
         "133746.6549682152",
         "130067.4890702941",
         "137363.8407155609",
         "0",
         "0",
         "0",
         "0",
         "0",
         "0",
         "0",
         "0",
         "0",
         "0",
         "0",
         "0",
         "0.0",
         "0.0",
         "0.0",
         "0",
         "0",
         "0",
         "0.0",
         "0.0",
         "0.0",
         "0",
         "0",
         "0",
         "0.0",
         "0.0",
         "0.0",
         "0",
         "0",
         "0",
         "652305.6331720741",
         "603925.3857309023",
         "701576.1709935042",
         "38050653.63044417",
         "36228299.22170241",
         "39838899.02422288",
         "0",
         "0",
         "0",
         "0",
         "0",
         "0",
         "0",
         "0",
         "0",
         "0",
         "0",
         "0",
         "0",
         "0",
         "0",
         "1843933.662171537",
         "1793209.867625031",
         "1893802.95096566",
         "0",
         "0",
         "0",
         "0",
         "0",
         "0",
         "0",
         "0",
         "0",
         "0.0",
         "0.0",
         "0.0",
         "0",
         "0",
         "0",
         "0",
         "0",
         "0",
         "0",
         "0",
         "0",
         "0",
         "0",
         "0",
         "0",
         "0",
         "0",
         "0",
         "0",
         "0",
         "190299.2937948039",
         "185064.4512803341",
         "195445.9487759888",
         "0",
         "0",
         "0",
         "0",
         "0",
         "0",
         "0",
         "0",
         "0",
         "0",
         "0",
         "0",
         "0",
         "0",
         "0",
         "0",
         "0",
         "0",
         "0.0",
         "0.0",
         "0.0",
         "0",
         "0",
         "0",
         "0",
         "0",
         "0",
         "0",
         "0",
         "0",
         "0",
         "0",
         "0",
         "0",
         "0",
         "0",
         "0",
         "0",
         "0",
         "0",
         "0",
         "0",
         "0.0",
         "0.0",
         "0.0",
         "86175297.24660389",
         "83804746.63396795",
         "88505912.96964964",
         "0",
         "0",
         "0",
         "0",
         "0",
         "0",
         "0.0",
         "0.0",
         "0.0",
         "86835138.66353607",
         "84446436.82282051",
         "89183599.8345252",
         "0.0",
         "0.0",
         "0.0",
         "0.0",
         "0.0",
         "0.0",
         "0.0",
         "0.0",
         "0.0",
         "0.0",
         "0.0",
         "0.0",
         "0.0",
         "0.0",
         "0.0",
         "0",
         "0",
         "0",
         "0.0",
         "0.0",
         "0.0",
         "30367538.60078502",
         "29532174.06437579",
         "31188830.37690335",
         "0.0",
         "0.0",
         "0.0",
         "0",
         "0",
         "0"
        ],
        [
         "Colombia",
         "0",
         "0",
         "0",
         "0",
         "0",
         "0",
         "0",
         "0",
         "0",
         "0",
         "0",
         "0",
         "0",
         "0",
         "0",
         "0",
         "0",
         "0",
         "0",
         "0",
         "0",
         "0",
         "0",
         "0",
         "0",
         "0",
         "0",
         "0",
         "0",
         "0",
         "0",
         "0",
         "0",
         "0",
         "0",
         "0",
         "0",
         "0",
         "0",
         "0",
         "0",
         "0",
         "0",
         "0",
         "0",
         "0.0",
         "0.0",
         "0.0",
         "0",
         "0",
         "0",
         "0.0",
         "0.0",
         "0.0",
         "0",
         "0",
         "0",
         "0",
         "0",
         "0",
         "0.0",
         "0.0",
         "0.0",
         "0.0",
         "0.0",
         "0.0",
         "0",
         "0",
         "0",
         "0",
         "0",
         "0",
         "0",
         "0",
         "0",
         "0",
         "0",
         "0",
         "0",
         "0",
         "0",
         "0",
         "0",
         "0",
         "0",
         "0",
         "0",
         "0.0",
         "0.0",
         "0.0",
         "0",
         "0",
         "0",
         "0",
         "0",
         "0",
         "0",
         "0",
         "0",
         "0",
         "0",
         "0",
         "0",
         "0",
         "0",
         "0",
         "0",
         "0",
         "0",
         "0",
         "0",
         "0",
         "0",
         "0",
         "0",
         "0",
         "0",
         "0",
         "0",
         "0",
         "0",
         "0",
         "0",
         "0",
         "0",
         "0",
         "0.0",
         "0.0",
         "0.0",
         "0",
         "0",
         "0",
         "0",
         "0",
         "0",
         "0",
         "0",
         "0",
         "0",
         "0",
         "0",
         "0.0",
         "0.0",
         "0.0",
         "0",
         "0",
         "0",
         "0",
         "0",
         "0",
         "0",
         "0",
         "0",
         "0.0",
         "0.0",
         "0.0",
         "0",
         "0",
         "0",
         "0",
         "0",
         "0",
         "0",
         "0",
         "0",
         "0",
         "0",
         "0",
         "0.0",
         "0.0",
         "0.0",
         "0",
         "0",
         "0",
         "0.0",
         "0.0",
         "0.0",
         "0",
         "0",
         "0",
         "0.0",
         "0.0",
         "0.0",
         "0",
         "0",
         "0",
         "0.0",
         "0.0",
         "0.0",
         "0.0",
         "0.0",
         "0.0",
         "0",
         "0",
         "0",
         "0",
         "0",
         "0",
         "0",
         "0",
         "0",
         "0",
         "0",
         "0",
         "0",
         "0",
         "0",
         "0.0",
         "0.0",
         "0.0",
         "0",
         "0",
         "0",
         "0",
         "0",
         "0",
         "0",
         "0",
         "0",
         "0.0",
         "0.0",
         "0.0",
         "0",
         "0",
         "0",
         "0",
         "0",
         "0",
         "0",
         "0",
         "0",
         "0",
         "0",
         "0",
         "0",
         "0",
         "0",
         "0",
         "0",
         "0",
         "0.0",
         "0.0",
         "0.0",
         "0",
         "0",
         "0",
         "0",
         "0",
         "0",
         "0",
         "0",
         "0",
         "0",
         "0",
         "0",
         "0",
         "0",
         "0",
         "0",
         "0",
         "0",
         "0.0",
         "0.0",
         "0.0",
         "0",
         "0",
         "0",
         "0",
         "0",
         "0",
         "0",
         "0",
         "0",
         "0",
         "0",
         "0",
         "0",
         "0",
         "0",
         "0",
         "0",
         "0",
         "0",
         "0",
         "0",
         "0.0",
         "0.0",
         "0.0",
         "0.0",
         "0.0",
         "0.0",
         "0",
         "0",
         "0",
         "0",
         "0",
         "0",
         "0.0",
         "0.0",
         "0.0",
         "0.0",
         "0.0",
         "0.0",
         "0.0",
         "0.0",
         "0.0",
         "0.0",
         "0.0",
         "0.0",
         "0.0",
         "0.0",
         "0.0",
         "0.0",
         "0.0",
         "0.0",
         "0.0",
         "0.0",
         "0.0",
         "0",
         "0",
         "0",
         "0.0",
         "0.0",
         "0.0",
         "0.0",
         "0.0",
         "0.0",
         "0.0",
         "0.0",
         "0.0",
         "0",
         "0",
         "0"
        ]
       ],
       "shape": {
        "columns": 333,
        "rows": 5
       }
      },
      "text/html": [
       "<div>\n",
       "<style scoped>\n",
       "    .dataframe tbody tr th:only-of-type {\n",
       "        vertical-align: middle;\n",
       "    }\n",
       "\n",
       "    .dataframe tbody tr th {\n",
       "        vertical-align: top;\n",
       "    }\n",
       "\n",
       "    .dataframe thead tr th {\n",
       "        text-align: left;\n",
       "    }\n",
       "</style>\n",
       "<table border=\"1\" class=\"dataframe\">\n",
       "  <thead>\n",
       "    <tr>\n",
       "      <th></th>\n",
       "      <th colspan=\"3\" halign=\"left\">30194</th>\n",
       "      <th colspan=\"3\" halign=\"left\">30195</th>\n",
       "      <th colspan=\"3\" halign=\"left\">30212</th>\n",
       "      <th>30213</th>\n",
       "      <th>...</th>\n",
       "      <th>30491</th>\n",
       "      <th colspan=\"3\" halign=\"left\">30495</th>\n",
       "      <th colspan=\"3\" halign=\"left\">30496</th>\n",
       "      <th colspan=\"3\" halign=\"left\">30497</th>\n",
       "    </tr>\n",
       "    <tr>\n",
       "      <th></th>\n",
       "      <th>mean</th>\n",
       "      <th>p025</th>\n",
       "      <th>p975</th>\n",
       "      <th>mean</th>\n",
       "      <th>p025</th>\n",
       "      <th>p975</th>\n",
       "      <th>mean</th>\n",
       "      <th>p025</th>\n",
       "      <th>p975</th>\n",
       "      <th>mean</th>\n",
       "      <th>...</th>\n",
       "      <th>p975</th>\n",
       "      <th>mean</th>\n",
       "      <th>p025</th>\n",
       "      <th>p975</th>\n",
       "      <th>mean</th>\n",
       "      <th>p025</th>\n",
       "      <th>p975</th>\n",
       "      <th>mean</th>\n",
       "      <th>p025</th>\n",
       "      <th>p975</th>\n",
       "    </tr>\n",
       "  </thead>\n",
       "  <tbody>\n",
       "    <tr>\n",
       "      <th>Bangladesh</th>\n",
       "      <td>0</td>\n",
       "      <td>0</td>\n",
       "      <td>0</td>\n",
       "      <td>0</td>\n",
       "      <td>0</td>\n",
       "      <td>0</td>\n",
       "      <td>0</td>\n",
       "      <td>0</td>\n",
       "      <td>0</td>\n",
       "      <td>0</td>\n",
       "      <td>...</td>\n",
       "      <td>0.0</td>\n",
       "      <td>0.000000e+00</td>\n",
       "      <td>0.000000e+00</td>\n",
       "      <td>0.000000e+00</td>\n",
       "      <td>0.0</td>\n",
       "      <td>0.0</td>\n",
       "      <td>0.0</td>\n",
       "      <td>0</td>\n",
       "      <td>0</td>\n",
       "      <td>0</td>\n",
       "    </tr>\n",
       "    <tr>\n",
       "      <th>Brazil</th>\n",
       "      <td>0</td>\n",
       "      <td>0</td>\n",
       "      <td>0</td>\n",
       "      <td>0</td>\n",
       "      <td>0</td>\n",
       "      <td>0</td>\n",
       "      <td>0</td>\n",
       "      <td>0</td>\n",
       "      <td>0</td>\n",
       "      <td>0</td>\n",
       "      <td>...</td>\n",
       "      <td>0.0</td>\n",
       "      <td>0.000000e+00</td>\n",
       "      <td>0.000000e+00</td>\n",
       "      <td>0.000000e+00</td>\n",
       "      <td>0.0</td>\n",
       "      <td>0.0</td>\n",
       "      <td>0.0</td>\n",
       "      <td>0</td>\n",
       "      <td>0</td>\n",
       "      <td>0</td>\n",
       "    </tr>\n",
       "    <tr>\n",
       "      <th>Canada</th>\n",
       "      <td>0</td>\n",
       "      <td>0</td>\n",
       "      <td>0</td>\n",
       "      <td>0</td>\n",
       "      <td>0</td>\n",
       "      <td>0</td>\n",
       "      <td>0</td>\n",
       "      <td>0</td>\n",
       "      <td>0</td>\n",
       "      <td>0</td>\n",
       "      <td>...</td>\n",
       "      <td>0.0</td>\n",
       "      <td>0.000000e+00</td>\n",
       "      <td>0.000000e+00</td>\n",
       "      <td>0.000000e+00</td>\n",
       "      <td>0.0</td>\n",
       "      <td>0.0</td>\n",
       "      <td>0.0</td>\n",
       "      <td>0</td>\n",
       "      <td>0</td>\n",
       "      <td>0</td>\n",
       "    </tr>\n",
       "    <tr>\n",
       "      <th>China</th>\n",
       "      <td>0</td>\n",
       "      <td>0</td>\n",
       "      <td>0</td>\n",
       "      <td>0</td>\n",
       "      <td>0</td>\n",
       "      <td>0</td>\n",
       "      <td>0</td>\n",
       "      <td>0</td>\n",
       "      <td>0</td>\n",
       "      <td>0</td>\n",
       "      <td>...</td>\n",
       "      <td>0.0</td>\n",
       "      <td>3.036754e+07</td>\n",
       "      <td>2.953217e+07</td>\n",
       "      <td>3.118883e+07</td>\n",
       "      <td>0.0</td>\n",
       "      <td>0.0</td>\n",
       "      <td>0.0</td>\n",
       "      <td>0</td>\n",
       "      <td>0</td>\n",
       "      <td>0</td>\n",
       "    </tr>\n",
       "    <tr>\n",
       "      <th>Colombia</th>\n",
       "      <td>0</td>\n",
       "      <td>0</td>\n",
       "      <td>0</td>\n",
       "      <td>0</td>\n",
       "      <td>0</td>\n",
       "      <td>0</td>\n",
       "      <td>0</td>\n",
       "      <td>0</td>\n",
       "      <td>0</td>\n",
       "      <td>0</td>\n",
       "      <td>...</td>\n",
       "      <td>0.0</td>\n",
       "      <td>0.000000e+00</td>\n",
       "      <td>0.000000e+00</td>\n",
       "      <td>0.000000e+00</td>\n",
       "      <td>0.0</td>\n",
       "      <td>0.0</td>\n",
       "      <td>0.0</td>\n",
       "      <td>0</td>\n",
       "      <td>0</td>\n",
       "      <td>0</td>\n",
       "    </tr>\n",
       "  </tbody>\n",
       "</table>\n",
       "<p>5 rows × 333 columns</p>\n",
       "</div>"
      ],
      "text/plain": [
       "           30194           30195           30212           30213  ... 30491  \\\n",
       "            mean p025 p975  mean p025 p975  mean p025 p975  mean  ...  p975   \n",
       "Bangladesh     0    0    0     0    0    0     0    0    0     0  ...   0.0   \n",
       "Brazil         0    0    0     0    0    0     0    0    0     0  ...   0.0   \n",
       "Canada         0    0    0     0    0    0     0    0    0     0  ...   0.0   \n",
       "China          0    0    0     0    0    0     0    0    0     0  ...   0.0   \n",
       "Colombia       0    0    0     0    0    0     0    0    0     0  ...   0.0   \n",
       "\n",
       "                   30495                             30496           30497  \\\n",
       "                    mean          p025          p975  mean p025 p975  mean   \n",
       "Bangladesh  0.000000e+00  0.000000e+00  0.000000e+00   0.0  0.0  0.0     0   \n",
       "Brazil      0.000000e+00  0.000000e+00  0.000000e+00   0.0  0.0  0.0     0   \n",
       "Canada      0.000000e+00  0.000000e+00  0.000000e+00   0.0  0.0  0.0     0   \n",
       "China       3.036754e+07  2.953217e+07  3.118883e+07   0.0  0.0  0.0     0   \n",
       "Colombia    0.000000e+00  0.000000e+00  0.000000e+00   0.0  0.0  0.0     0   \n",
       "\n",
       "                      \n",
       "           p025 p975  \n",
       "Bangladesh    0    0  \n",
       "Brazil        0    0  \n",
       "Canada        0    0  \n",
       "China         0    0  \n",
       "Colombia      0    0  \n",
       "\n",
       "[5 rows x 333 columns]"
      ]
     },
     "execution_count": 30,
     "metadata": {},
     "output_type": "execute_result"
    }
   ],
   "source": [
    "_chem = 'PFOS'\n",
    "W_c_A_Import_df = pd.read_excel(f'Import-Weight-{_chem}.xlsx',\n",
    "                                index_col=0,header=[0,1])\n",
    "W_c_A_Import_df.head()"
   ]
  },
  {
   "cell_type": "code",
   "execution_count": 31,
   "metadata": {},
   "outputs": [
    {
     "data": {
      "application/vnd.microsoft.datawrangler.viewer.v0+json": {
       "columns": [
        {
         "name": "index",
         "rawType": "object",
         "type": "string"
        },
        {
         "name": "pop",
         "rawType": "int64",
         "type": "integer"
        }
       ],
       "ref": "9fc0cc32-a4a4-4a71-92c4-3e7ade9952e5",
       "rows": [
        [
         "Australia",
         "25357170"
        ],
        [
         "Bangladesh",
         "165516220"
        ],
        [
         "Brazil",
         "211782880"
        ],
        [
         "Canada",
         "37522580"
        ],
        [
         "China",
         "1421864030"
        ]
       ],
       "shape": {
        "columns": 1,
        "rows": 5
       }
      },
      "text/html": [
       "<div>\n",
       "<style scoped>\n",
       "    .dataframe tbody tr th:only-of-type {\n",
       "        vertical-align: middle;\n",
       "    }\n",
       "\n",
       "    .dataframe tbody tr th {\n",
       "        vertical-align: top;\n",
       "    }\n",
       "\n",
       "    .dataframe thead th {\n",
       "        text-align: right;\n",
       "    }\n",
       "</style>\n",
       "<table border=\"1\" class=\"dataframe\">\n",
       "  <thead>\n",
       "    <tr style=\"text-align: right;\">\n",
       "      <th></th>\n",
       "      <th>pop</th>\n",
       "    </tr>\n",
       "  </thead>\n",
       "  <tbody>\n",
       "    <tr>\n",
       "      <th>Australia</th>\n",
       "      <td>25357170</td>\n",
       "    </tr>\n",
       "    <tr>\n",
       "      <th>Bangladesh</th>\n",
       "      <td>165516220</td>\n",
       "    </tr>\n",
       "    <tr>\n",
       "      <th>Brazil</th>\n",
       "      <td>211782880</td>\n",
       "    </tr>\n",
       "    <tr>\n",
       "      <th>Canada</th>\n",
       "      <td>37522580</td>\n",
       "    </tr>\n",
       "    <tr>\n",
       "      <th>China</th>\n",
       "      <td>1421864030</td>\n",
       "    </tr>\n",
       "  </tbody>\n",
       "</table>\n",
       "</div>"
      ],
      "text/plain": [
       "                   pop\n",
       "Australia     25357170\n",
       "Bangladesh   165516220\n",
       "Brazil       211782880\n",
       "Canada        37522580\n",
       "China       1421864030"
      ]
     },
     "execution_count": 31,
     "metadata": {},
     "output_type": "execute_result"
    }
   ],
   "source": [
    "pop_df = pd.read_excel(\"data\\Population.xlsx\",index_col=0,names=['pop'])\n",
    "pop_df.head()"
   ]
  },
  {
   "cell_type": "code",
   "execution_count": 32,
   "metadata": {},
   "outputs": [
    {
     "data": {
      "application/vnd.microsoft.datawrangler.viewer.v0+json": {
       "columns": [
        {
         "name": "index",
         "rawType": "int64",
         "type": "integer"
        },
        {
         "name": "Anchovies",
         "rawType": "float64",
         "type": "float"
        },
        {
         "name": "Cod-likes",
         "rawType": "float64",
         "type": "float"
        },
        {
         "name": "Flatfishes",
         "rawType": "float64",
         "type": "float"
        },
        {
         "name": "Herring-likes",
         "rawType": "float64",
         "type": "float"
        },
        {
         "name": "Perch-likes",
         "rawType": "float64",
         "type": "float"
        },
        {
         "name": "Salmon, smelts, etc",
         "rawType": "float64",
         "type": "float"
        },
        {
         "name": "Scorpionfishes",
         "rawType": "float64",
         "type": "float"
        },
        {
         "name": "Sharks & rays",
         "rawType": "float64",
         "type": "float"
        },
        {
         "name": "Tuna & billfishes",
         "rawType": "int64",
         "type": "integer"
        },
        {
         "name": "Other fishes & inverts",
         "rawType": "float64",
         "type": "float"
        }
       ],
       "ref": "1fbc85eb-a166-4fb1-96d8-e6a4c8676383",
       "rows": [
        [
         "0",
         "30242.0",
         "30250.0",
         "30221.0",
         "30240.0",
         "30244.0",
         "30212.0",
         null,
         "30265.0",
         "30194",
         null
        ],
        [
         "1",
         null,
         "30251.0",
         "30222.0",
         "30241.0",
         "30245.0",
         "30213.0",
         null,
         "30281.0",
         "30195",
         null
        ],
        [
         "2",
         null,
         "30252.0",
         "30223.0",
         "30243.0",
         "30246.0",
         "30214.0",
         null,
         "30282.0",
         "30231",
         null
        ],
        [
         "3",
         null,
         "30253.0",
         "30224.0",
         "30261.0",
         "30264.0",
         "30219.0",
         null,
         "30375.0",
         "30232",
         null
        ],
        [
         "4",
         null,
         "30254.0",
         "30229.0",
         "30350.0",
         "30284.0",
         "30310.0",
         null,
         "30381.0",
         "30233",
         null
        ]
       ],
       "shape": {
        "columns": 10,
        "rows": 5
       }
      },
      "text/html": [
       "<div>\n",
       "<style scoped>\n",
       "    .dataframe tbody tr th:only-of-type {\n",
       "        vertical-align: middle;\n",
       "    }\n",
       "\n",
       "    .dataframe tbody tr th {\n",
       "        vertical-align: top;\n",
       "    }\n",
       "\n",
       "    .dataframe thead th {\n",
       "        text-align: right;\n",
       "    }\n",
       "</style>\n",
       "<table border=\"1\" class=\"dataframe\">\n",
       "  <thead>\n",
       "    <tr style=\"text-align: right;\">\n",
       "      <th></th>\n",
       "      <th>Anchovies</th>\n",
       "      <th>Cod-likes</th>\n",
       "      <th>Flatfishes</th>\n",
       "      <th>Herring-likes</th>\n",
       "      <th>Perch-likes</th>\n",
       "      <th>Salmon, smelts, etc</th>\n",
       "      <th>Scorpionfishes</th>\n",
       "      <th>Sharks &amp; rays</th>\n",
       "      <th>Tuna &amp; billfishes</th>\n",
       "      <th>Other fishes &amp; inverts</th>\n",
       "    </tr>\n",
       "  </thead>\n",
       "  <tbody>\n",
       "    <tr>\n",
       "      <th>0</th>\n",
       "      <td>30242.0</td>\n",
       "      <td>30250.0</td>\n",
       "      <td>30221.0</td>\n",
       "      <td>30240.0</td>\n",
       "      <td>30244.0</td>\n",
       "      <td>30212.0</td>\n",
       "      <td>NaN</td>\n",
       "      <td>30265.0</td>\n",
       "      <td>30194</td>\n",
       "      <td>NaN</td>\n",
       "    </tr>\n",
       "    <tr>\n",
       "      <th>1</th>\n",
       "      <td>NaN</td>\n",
       "      <td>30251.0</td>\n",
       "      <td>30222.0</td>\n",
       "      <td>30241.0</td>\n",
       "      <td>30245.0</td>\n",
       "      <td>30213.0</td>\n",
       "      <td>NaN</td>\n",
       "      <td>30281.0</td>\n",
       "      <td>30195</td>\n",
       "      <td>NaN</td>\n",
       "    </tr>\n",
       "    <tr>\n",
       "      <th>2</th>\n",
       "      <td>NaN</td>\n",
       "      <td>30252.0</td>\n",
       "      <td>30223.0</td>\n",
       "      <td>30243.0</td>\n",
       "      <td>30246.0</td>\n",
       "      <td>30214.0</td>\n",
       "      <td>NaN</td>\n",
       "      <td>30282.0</td>\n",
       "      <td>30231</td>\n",
       "      <td>NaN</td>\n",
       "    </tr>\n",
       "    <tr>\n",
       "      <th>3</th>\n",
       "      <td>NaN</td>\n",
       "      <td>30253.0</td>\n",
       "      <td>30224.0</td>\n",
       "      <td>30261.0</td>\n",
       "      <td>30264.0</td>\n",
       "      <td>30219.0</td>\n",
       "      <td>NaN</td>\n",
       "      <td>30375.0</td>\n",
       "      <td>30232</td>\n",
       "      <td>NaN</td>\n",
       "    </tr>\n",
       "    <tr>\n",
       "      <th>4</th>\n",
       "      <td>NaN</td>\n",
       "      <td>30254.0</td>\n",
       "      <td>30229.0</td>\n",
       "      <td>30350.0</td>\n",
       "      <td>30284.0</td>\n",
       "      <td>30310.0</td>\n",
       "      <td>NaN</td>\n",
       "      <td>30381.0</td>\n",
       "      <td>30233</td>\n",
       "      <td>NaN</td>\n",
       "    </tr>\n",
       "  </tbody>\n",
       "</table>\n",
       "</div>"
      ],
      "text/plain": [
       "   Anchovies  Cod-likes  Flatfishes  Herring-likes  Perch-likes  \\\n",
       "0    30242.0    30250.0     30221.0        30240.0      30244.0   \n",
       "1        NaN    30251.0     30222.0        30241.0      30245.0   \n",
       "2        NaN    30252.0     30223.0        30243.0      30246.0   \n",
       "3        NaN    30253.0     30224.0        30261.0      30264.0   \n",
       "4        NaN    30254.0     30229.0        30350.0      30284.0   \n",
       "\n",
       "   Salmon, smelts, etc  Scorpionfishes  Sharks & rays  Tuna & billfishes  \\\n",
       "0              30212.0             NaN        30265.0              30194   \n",
       "1              30213.0             NaN        30281.0              30195   \n",
       "2              30214.0             NaN        30282.0              30231   \n",
       "3              30219.0             NaN        30375.0              30232   \n",
       "4              30310.0             NaN        30381.0              30233   \n",
       "\n",
       "   Other fishes & inverts  \n",
       "0                     NaN  \n",
       "1                     NaN  \n",
       "2                     NaN  \n",
       "3                     NaN  \n",
       "4                     NaN  "
      ]
     },
     "execution_count": 32,
     "metadata": {},
     "output_type": "execute_result"
    }
   ],
   "source": [
    "code_family = pd.read_excel(\"data\\Code-Family.xlsx\")\n",
    "str(int(code_family.iloc[0,0]))\n",
    "code_family.head()"
   ]
  },
  {
   "cell_type": "code",
   "execution_count": 33,
   "metadata": {},
   "outputs": [
    {
     "data": {
      "text/plain": [
       "array(['Anchovies', 'Cod-likes', 'Flatfishes', 'Herring-likes',\n",
       "       'Other fishes & inverts', 'Perch-likes', 'Salmon, smelts, etc',\n",
       "       'Scorpionfishes', 'Sharks & rays', 'Tuna & billfishes'],\n",
       "      dtype='<U22')"
      ]
     },
     "execution_count": 33,
     "metadata": {},
     "output_type": "execute_result"
    }
   ],
   "source": [
    "W_c_df =pd.read_excel('Country-Family-Weight.xlsx',index_col=0,header=[0,1],\n",
    "                        sheet_name=_chem)\n",
    "np.unique(W_c_df.columns.get_level_values(0).to_list())"
   ]
  },
  {
   "cell_type": "code",
   "execution_count": null,
   "metadata": {},
   "outputs": [],
   "source": []
  },
  {
   "cell_type": "code",
   "execution_count": 34,
   "metadata": {},
   "outputs": [
    {
     "name": "stderr",
     "output_type": "stream",
     "text": [
      "100%|██████████| 10/10 [02:22<00:00, 14.21s/it]\n",
      "100%|██████████| 10/10 [02:22<00:00, 14.21s/it]\n",
      "100%|██████████| 10/10 [02:21<00:00, 14.15s/it]\n",
      "100%|██████████| 10/10 [02:21<00:00, 14.16s/it]\n",
      "100%|██████████| 10/10 [02:21<00:00, 14.14s/it]\n",
      "100%|██████████| 10/10 [02:21<00:00, 14.13s/it]\n",
      "100%|██████████| 10/10 [02:21<00:00, 14.15s/it]\n",
      "100%|██████████| 10/10 [02:21<00:00, 14.14s/it]\n",
      "100%|██████████| 10/10 [03:23<00:00, 20.33s/it]\n"
     ]
    }
   ],
   "source": [
    "from tqdm import tqdm\n",
    "excel_writer = pd.ExcelWriter('EDI-Family.xlsx', engine='xlsxwriter')\n",
    "for _chem in chem_lis: \n",
    "    code_family = pd.read_excel(\"data\\Code-Family.xlsx\")\n",
    "    W_c_df =pd.read_excel('Country-Family-Weight.xlsx',index_col=0,header=[0,1],\n",
    "                        sheet_name=_chem)\n",
    "    W_c_E_code_df = pd.read_excel('Export-Weight.xlsx',index_col=0,header=[0,1],\n",
    "                                sheet_name=_chem)\n",
    "    pop_df = pd.read_excel(\"data\\Population.xlsx\",index_col=0,names=['pop'])\n",
    "\n",
    "    _df = W_c_df.copy()\n",
    "    for _family in tqdm(np.unique(W_c_df.columns.get_level_values(0).to_list())):\n",
    "        code_in_family = code_family[_family]\n",
    "        for _c_type in C_fami:\n",
    "            _W_c_arr = W_c_df[(_family,_c_type)]\n",
    "            _lis = []\n",
    "            \n",
    "            for i in range(len(_df.index)):\n",
    "                _W_c = _W_c_arr[i]\n",
    "                \n",
    "                if _family =='Salmonidae 鲑科' and _df.index[i] =='Canada' and _chem =='PFOA':\n",
    "                    print(f'W_C_{_c_type} = {_W_c}')\n",
    "                    \n",
    "                for _code in code_in_family:\n",
    "                    if np.isnan(_code):\n",
    "                        continue\n",
    "                    #_code = '0'+str(int(_code))\n",
    "                    _we = W_c_E_code_df.loc[(_df.index[i],(_code,_c_type))]\n",
    "                    _W_c -= _we\n",
    "                    if _family =='Salmonidae 鲑科' and _df.index[i] =='Canada' \\\n",
    "                        and _chem =='PFOS' and _we!=0 and _c_type == C_fami[2]:\n",
    "                        print(_code)\n",
    "                        print(f'W_C_{_c_type}- {_we}  ={_W_c}')\n",
    "                \n",
    "                W_c_A_Import_df = pd.read_excel(f'Import-Weight-{_chem}.xlsx',\n",
    "                        index_col=0,header=[0,1],\n",
    "                        sheet_name=_df.index[i])\n",
    "                \n",
    "                for _code in code_in_family:\n",
    "                    if np.isnan(_code):\n",
    "                        continue\n",
    "                    #_code = '0'+str(int(_code))\n",
    "                    # print(_code)\n",
    "                    for _x in W_c_A_Import_df[(_code,_c_type)]:\n",
    "                        _W_c+=_x\n",
    "                        if _family =='Salmonidae 鲑科' and \\\n",
    "                            _df.index[i] =='Canada' and _chem =='PFOA' and _x!=0 and _c_type == C_fami[2]:\n",
    "                            print(_x)\n",
    "                            print(f'W_C_{_c_type}+ {_x}  ={_W_c}')\n",
    "                _pop= pop_df.loc[_df.index[i],'pop']\n",
    "                \n",
    "                Weight = 65 # 成年人体重kg\n",
    "                if _family =='Salmonidae 鲑科' and \\\n",
    "                    _df.index[i] =='Canada' and _chem =='PFOA' and _c_type == C_fami[2]:\n",
    "                    print(f'W_C_{_c_type}={_W_c} / {356}/65/{_pop} = {(_W_c)/(365*_pop*Weight)}')\n",
    "                    \n",
    "                _lis.append((_W_c)/(365*_pop*Weight))\n",
    "                \n",
    "            _df[(_family,_c_type)] = _lis\n",
    "    \n",
    "    _df.to_excel(excel_writer,sheet_name=_chem,index=True)\n",
    "excel_writer.close()"
   ]
  },
  {
   "cell_type": "code",
   "execution_count": 35,
   "metadata": {},
   "outputs": [],
   "source": [
    "#####################################\n",
    "#####################################"
   ]
  },
  {
   "cell_type": "code",
   "execution_count": null,
   "metadata": {},
   "outputs": [],
   "source": []
  },
  {
   "cell_type": "code",
   "execution_count": null,
   "metadata": {},
   "outputs": [],
   "source": []
  }
 ],
 "metadata": {
  "kernelspec": {
   "display_name": "Python 3",
   "language": "python",
   "name": "python3"
  },
  "language_info": {
   "codemirror_mode": {
    "name": "ipython",
    "version": 3
   },
   "file_extension": ".py",
   "mimetype": "text/x-python",
   "name": "python",
   "nbconvert_exporter": "python",
   "pygments_lexer": "ipython3",
   "version": "3.12.4"
  },
  "orig_nbformat": 4
 },
 "nbformat": 4,
 "nbformat_minor": 2
}
